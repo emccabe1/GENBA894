{
 "cells": [
  {
   "cell_type": "markdown",
   "metadata": {},
   "source": [
    "# Esther McCabe\n",
    "### GENBA 894"
   ]
  },
  {
   "cell_type": "markdown",
   "metadata": {},
   "source": [
    "## Factors that influence the sale price of lots of beef calves and feeder cattle sold via summer video auction from 1995 through 2018"
   ]
  },
  {
   "cell_type": "code",
   "execution_count": 809,
   "metadata": {},
   "outputs": [],
   "source": [
    "# import python packages\n",
    "import pandas as pd\n",
    "import numpy as np\n",
    "import seaborn as sns\n",
    "from scipy import stats\n",
    "from pandas.tools import plotting\n",
    "import matplotlib.pyplot as plt\n",
    "%matplotlib inline"
   ]
  },
  {
   "cell_type": "markdown",
   "metadata": {},
   "source": [
    "## Lots of Beef Calves"
   ]
  },
  {
   "cell_type": "code",
   "execution_count": 810,
   "metadata": {},
   "outputs": [
    {
     "data": {
      "text/html": [
       "<img src=\"https://www.beefmagazine.com/sites/beefmagazine.com/files/styles/article_featured_standard/public/baby-beef-calves-weaned20070718dab48.jpg?itok=-978nEuZ\"/>"
      ],
      "text/plain": [
       "<IPython.core.display.Image object>"
      ]
     },
     "execution_count": 810,
     "metadata": {},
     "output_type": "execute_result"
    }
   ],
   "source": [
    "from IPython.display import Image\n",
    "from IPython.core.display import HTML \n",
    "Image(url= \"https://www.beefmagazine.com/sites/beefmagazine.com/files/styles/article_featured_standard/public/baby-beef-calves-weaned20070718dab48.jpg?itok=-978nEuZ\")"
   ]
  },
  {
   "cell_type": "markdown",
   "metadata": {},
   "source": [
    "## Data Description"
   ]
  },
  {
   "cell_type": "markdown",
   "metadata": {},
   "source": [
    "#### This observational dataset has been collected since 1995 through 2018 from one video auction company. Over the last 24 years, the same person has input all data into the database. The database is currently maintained in Access and updated throughout the year. There are 241,278 lots of cattle in the database, each with numerous variables collected such as sale date, weight, breed, etc. All the lot information is provided electronically by the video auction company. These 241,278 lots represent 26,435,097 head of cattle. \n",
    "\n",
    "#### For this project, only sold lots of beef calves and feeder cattle lots from the summer sales are included."
   ]
  },
  {
   "cell_type": "markdown",
   "metadata": {},
   "source": [
    "### We will start with lots of beef calves. \n",
    "\n",
    "#### Variables:\n",
    "- SYEAR: Sale Year 1995 - 2018\n",
    "- LOTID: Count of number of lots of beef calves\n",
    "- SMONTH: Sale Month 1=January, 12=December\n",
    "- SUMMER: Sold in a summer sale, all 1=Yes\n",
    "- HEAD: Number of calves in a lot\n",
    "- SEX: Gender of lot, 1=Steer, 2=Heifer\n",
    "- ATYPE: Animal Type, 0=Unweaned, 1=Weaned\n",
    "- WT: Average weight of the lot (total lot weight/# of head in lot)\n",
    "- PRICE: Sale Price of lot ($/cwt)\n",
    "- STATE: STate of origin of lot\n",
    "- STATECODE: Code of state, alphabetical order starting with 1\n",
    "- SAREA: Sale area, the states are divided into five areas or regions, 1=West Coast, 2=Rocky Mountain/North Central, 3=South Central, 4=Northeast, 5=Southeast\n",
    "- BREED: General breed of the lot, 1=English, English crossed, 3=English-Contenintal crossed, 4=Brahman-influenced\n",
    "- FRAME: Frame score of calves in lot, 3=Small, 4=Medium, 5=Large\n",
    "- FLESH: Amount of flesh (body condition) of calves in lot, 2=Light, 3=Light/Medium, 4=Medium, 5=Heavy\n",
    "- VAC: Vaccinations of lot, 0=vaccinated but not qualified for program, 1=vaccinated and qualify for program\n"
   ]
  },
  {
   "cell_type": "code",
   "execution_count": 811,
   "metadata": {},
   "outputs": [
    {
     "data": {
      "text/html": [
       "<div>\n",
       "<style scoped>\n",
       "    .dataframe tbody tr th:only-of-type {\n",
       "        vertical-align: middle;\n",
       "    }\n",
       "\n",
       "    .dataframe tbody tr th {\n",
       "        vertical-align: top;\n",
       "    }\n",
       "\n",
       "    .dataframe thead th {\n",
       "        text-align: right;\n",
       "    }\n",
       "</style>\n",
       "<table border=\"1\" class=\"dataframe\">\n",
       "  <thead>\n",
       "    <tr style=\"text-align: right;\">\n",
       "      <th></th>\n",
       "      <th>SYEAR</th>\n",
       "      <th>LOTID</th>\n",
       "      <th>SMONTH</th>\n",
       "      <th>SUMMER</th>\n",
       "      <th>HEAD</th>\n",
       "      <th>SEX</th>\n",
       "      <th>ATYPE</th>\n",
       "      <th>WT</th>\n",
       "      <th>PRICE</th>\n",
       "      <th>STATE</th>\n",
       "      <th>STATECODE</th>\n",
       "      <th>SAREA</th>\n",
       "      <th>BREED</th>\n",
       "      <th>FRAME</th>\n",
       "      <th>FLESH</th>\n",
       "      <th>VAC</th>\n",
       "    </tr>\n",
       "  </thead>\n",
       "  <tbody>\n",
       "    <tr>\n",
       "      <th>0</th>\n",
       "      <td>1995</td>\n",
       "      <td>1</td>\n",
       "      <td>6</td>\n",
       "      <td>1</td>\n",
       "      <td>115</td>\n",
       "      <td>1</td>\n",
       "      <td>1</td>\n",
       "      <td>425</td>\n",
       "      <td>81.25</td>\n",
       "      <td>OK</td>\n",
       "      <td>25</td>\n",
       "      <td>3</td>\n",
       "      <td>3</td>\n",
       "      <td>4</td>\n",
       "      <td>4</td>\n",
       "      <td>1</td>\n",
       "    </tr>\n",
       "    <tr>\n",
       "      <th>1</th>\n",
       "      <td>1995</td>\n",
       "      <td>2</td>\n",
       "      <td>6</td>\n",
       "      <td>1</td>\n",
       "      <td>220</td>\n",
       "      <td>1</td>\n",
       "      <td>1</td>\n",
       "      <td>460</td>\n",
       "      <td>80.00</td>\n",
       "      <td>OK</td>\n",
       "      <td>25</td>\n",
       "      <td>3</td>\n",
       "      <td>3</td>\n",
       "      <td>4</td>\n",
       "      <td>4</td>\n",
       "      <td>1</td>\n",
       "    </tr>\n",
       "    <tr>\n",
       "      <th>2</th>\n",
       "      <td>1995</td>\n",
       "      <td>3</td>\n",
       "      <td>6</td>\n",
       "      <td>1</td>\n",
       "      <td>84</td>\n",
       "      <td>1</td>\n",
       "      <td>1</td>\n",
       "      <td>570</td>\n",
       "      <td>77.00</td>\n",
       "      <td>MO</td>\n",
       "      <td>23</td>\n",
       "      <td>3</td>\n",
       "      <td>1</td>\n",
       "      <td>4</td>\n",
       "      <td>4</td>\n",
       "      <td>1</td>\n",
       "    </tr>\n",
       "    <tr>\n",
       "      <th>3</th>\n",
       "      <td>1995</td>\n",
       "      <td>4</td>\n",
       "      <td>6</td>\n",
       "      <td>1</td>\n",
       "      <td>83</td>\n",
       "      <td>1</td>\n",
       "      <td>1</td>\n",
       "      <td>610</td>\n",
       "      <td>74.50</td>\n",
       "      <td>KS</td>\n",
       "      <td>22</td>\n",
       "      <td>3</td>\n",
       "      <td>3</td>\n",
       "      <td>5</td>\n",
       "      <td>4</td>\n",
       "      <td>0</td>\n",
       "    </tr>\n",
       "    <tr>\n",
       "      <th>4</th>\n",
       "      <td>1995</td>\n",
       "      <td>5</td>\n",
       "      <td>6</td>\n",
       "      <td>1</td>\n",
       "      <td>155</td>\n",
       "      <td>1</td>\n",
       "      <td>1</td>\n",
       "      <td>625</td>\n",
       "      <td>68.10</td>\n",
       "      <td>MS</td>\n",
       "      <td>46</td>\n",
       "      <td>5</td>\n",
       "      <td>4</td>\n",
       "      <td>3</td>\n",
       "      <td>4</td>\n",
       "      <td>0</td>\n",
       "    </tr>\n",
       "  </tbody>\n",
       "</table>\n",
       "</div>"
      ],
      "text/plain": [
       "   SYEAR  LOTID  SMONTH  SUMMER  HEAD  SEX  ATYPE   WT  PRICE STATE  \\\n",
       "0   1995      1       6       1   115    1      1  425  81.25    OK   \n",
       "1   1995      2       6       1   220    1      1  460  80.00    OK   \n",
       "2   1995      3       6       1    84    1      1  570  77.00    MO   \n",
       "3   1995      4       6       1    83    1      1  610  74.50    KS   \n",
       "4   1995      5       6       1   155    1      1  625  68.10    MS   \n",
       "\n",
       "   STATECODE  SAREA  BREED  FRAME  FLESH  VAC  \n",
       "0         25      3      3      4      4    1  \n",
       "1         25      3      3      4      4    1  \n",
       "2         23      3      1      4      4    1  \n",
       "3         22      3      3      5      4    0  \n",
       "4         46      5      4      3      4    0  "
      ]
     },
     "execution_count": 811,
     "metadata": {},
     "output_type": "execute_result"
    }
   ],
   "source": [
    "# import dataset\n",
    "SLA=pd.read_csv(\"DATA/DATAR.csv\")\n",
    "SLA.head()"
   ]
  },
  {
   "cell_type": "markdown",
   "metadata": {},
   "source": [
    "## Data Tranformation"
   ]
  },
  {
   "cell_type": "code",
   "execution_count": 812,
   "metadata": {},
   "outputs": [
    {
     "name": "stdout",
     "output_type": "stream",
     "text": [
      "<class 'pandas.core.frame.DataFrame'>\n",
      "RangeIndex: 94872 entries, 0 to 94871\n",
      "Data columns (total 16 columns):\n",
      "SYEAR        94872 non-null int64\n",
      "LOTID        94872 non-null int64\n",
      "SMONTH       94872 non-null int64\n",
      "SUMMER       94872 non-null int64\n",
      "HEAD         94872 non-null int64\n",
      "SEX          94872 non-null int64\n",
      "ATYPE        94872 non-null int64\n",
      "WT           94872 non-null int64\n",
      "PRICE        94872 non-null float64\n",
      "STATE        94872 non-null object\n",
      "STATECODE    94872 non-null int64\n",
      "SAREA        94872 non-null int64\n",
      "BREED        94872 non-null int64\n",
      "FRAME        94872 non-null int64\n",
      "FLESH        94872 non-null int64\n",
      "VAC          94872 non-null int64\n",
      "dtypes: float64(1), int64(14), object(1)\n",
      "memory usage: 11.6+ MB\n"
     ]
    }
   ],
   "source": [
    "#data types & missing values\n",
    "SLA.info()"
   ]
  },
  {
   "cell_type": "markdown",
   "metadata": {},
   "source": [
    "##### There are no missing data in this dataset."
   ]
  },
  {
   "cell_type": "code",
   "execution_count": 813,
   "metadata": {},
   "outputs": [
    {
     "data": {
      "text/html": [
       "<div>\n",
       "<style scoped>\n",
       "    .dataframe tbody tr th:only-of-type {\n",
       "        vertical-align: middle;\n",
       "    }\n",
       "\n",
       "    .dataframe tbody tr th {\n",
       "        vertical-align: top;\n",
       "    }\n",
       "\n",
       "    .dataframe thead th {\n",
       "        text-align: right;\n",
       "    }\n",
       "</style>\n",
       "<table border=\"1\" class=\"dataframe\">\n",
       "  <thead>\n",
       "    <tr style=\"text-align: right;\">\n",
       "      <th></th>\n",
       "      <th>SYEAR</th>\n",
       "      <th>LOTID</th>\n",
       "      <th>SMONTH</th>\n",
       "      <th>HEAD</th>\n",
       "      <th>SEX</th>\n",
       "      <th>WT</th>\n",
       "      <th>PRICE</th>\n",
       "      <th>STATE</th>\n",
       "      <th>STATECODE</th>\n",
       "      <th>SAREA</th>\n",
       "      <th>BREED</th>\n",
       "      <th>FRAME</th>\n",
       "      <th>FLESH</th>\n",
       "      <th>VAC</th>\n",
       "    </tr>\n",
       "  </thead>\n",
       "  <tbody>\n",
       "    <tr>\n",
       "      <th>0</th>\n",
       "      <td>1995</td>\n",
       "      <td>1</td>\n",
       "      <td>6</td>\n",
       "      <td>115</td>\n",
       "      <td>1</td>\n",
       "      <td>425</td>\n",
       "      <td>81.25</td>\n",
       "      <td>OK</td>\n",
       "      <td>25</td>\n",
       "      <td>3</td>\n",
       "      <td>3</td>\n",
       "      <td>4</td>\n",
       "      <td>4</td>\n",
       "      <td>1</td>\n",
       "    </tr>\n",
       "    <tr>\n",
       "      <th>1</th>\n",
       "      <td>1995</td>\n",
       "      <td>2</td>\n",
       "      <td>6</td>\n",
       "      <td>220</td>\n",
       "      <td>1</td>\n",
       "      <td>460</td>\n",
       "      <td>80.00</td>\n",
       "      <td>OK</td>\n",
       "      <td>25</td>\n",
       "      <td>3</td>\n",
       "      <td>3</td>\n",
       "      <td>4</td>\n",
       "      <td>4</td>\n",
       "      <td>1</td>\n",
       "    </tr>\n",
       "    <tr>\n",
       "      <th>2</th>\n",
       "      <td>1995</td>\n",
       "      <td>3</td>\n",
       "      <td>6</td>\n",
       "      <td>84</td>\n",
       "      <td>1</td>\n",
       "      <td>570</td>\n",
       "      <td>77.00</td>\n",
       "      <td>MO</td>\n",
       "      <td>23</td>\n",
       "      <td>3</td>\n",
       "      <td>1</td>\n",
       "      <td>4</td>\n",
       "      <td>4</td>\n",
       "      <td>1</td>\n",
       "    </tr>\n",
       "    <tr>\n",
       "      <th>3</th>\n",
       "      <td>1995</td>\n",
       "      <td>4</td>\n",
       "      <td>6</td>\n",
       "      <td>83</td>\n",
       "      <td>1</td>\n",
       "      <td>610</td>\n",
       "      <td>74.50</td>\n",
       "      <td>KS</td>\n",
       "      <td>22</td>\n",
       "      <td>3</td>\n",
       "      <td>3</td>\n",
       "      <td>5</td>\n",
       "      <td>4</td>\n",
       "      <td>0</td>\n",
       "    </tr>\n",
       "    <tr>\n",
       "      <th>4</th>\n",
       "      <td>1995</td>\n",
       "      <td>5</td>\n",
       "      <td>6</td>\n",
       "      <td>155</td>\n",
       "      <td>1</td>\n",
       "      <td>625</td>\n",
       "      <td>68.10</td>\n",
       "      <td>MS</td>\n",
       "      <td>46</td>\n",
       "      <td>5</td>\n",
       "      <td>4</td>\n",
       "      <td>3</td>\n",
       "      <td>4</td>\n",
       "      <td>0</td>\n",
       "    </tr>\n",
       "  </tbody>\n",
       "</table>\n",
       "</div>"
      ],
      "text/plain": [
       "   SYEAR  LOTID  SMONTH  HEAD  SEX   WT  PRICE STATE  STATECODE  SAREA  BREED  \\\n",
       "0   1995      1       6   115    1  425  81.25    OK         25      3      3   \n",
       "1   1995      2       6   220    1  460  80.00    OK         25      3      3   \n",
       "2   1995      3       6    84    1  570  77.00    MO         23      3      1   \n",
       "3   1995      4       6    83    1  610  74.50    KS         22      3      3   \n",
       "4   1995      5       6   155    1  625  68.10    MS         46      5      4   \n",
       "\n",
       "   FRAME  FLESH  VAC  \n",
       "0      4      4    1  \n",
       "1      4      4    1  \n",
       "2      4      4    1  \n",
       "3      5      4    0  \n",
       "4      3      4    0  "
      ]
     },
     "execution_count": 813,
     "metadata": {},
     "output_type": "execute_result"
    }
   ],
   "source": [
    "# remove unnecessary columnS\n",
    "SLA = SLA.drop(['SUMMER','ATYPE'], axis=1)\n",
    "SLA.head()"
   ]
  },
  {
   "cell_type": "code",
   "execution_count": 814,
   "metadata": {},
   "outputs": [
    {
     "data": {
      "text/plain": [
       "STATE\n",
       "AL      143\n",
       "AR      319\n",
       "AZ      863\n",
       "CA      248\n",
       "CO    10771\n",
       "FL     3491\n",
       "GA      244\n",
       "IA      460\n",
       "ID     6710\n",
       "IL      222\n",
       "IN       29\n",
       "KS     3326\n",
       "KY       25\n",
       "LA     1689\n",
       "ME        1\n",
       "MI      157\n",
       "MN      166\n",
       "MO      948\n",
       "MS      167\n",
       "MT    13267\n",
       "NC      385\n",
       "ND     2032\n",
       "NE     4940\n",
       "NM     3726\n",
       "NV     3924\n",
       "OH       20\n",
       "OK     2346\n",
       "OR     5679\n",
       "SC       12\n",
       "SD     3565\n",
       "TN       49\n",
       "TX    10116\n",
       "UT     5994\n",
       "VA       41\n",
       "WA      511\n",
       "WI       82\n",
       "WY     8204\n",
       "dtype: int64"
      ]
     },
     "execution_count": 814,
     "metadata": {},
     "output_type": "execute_result"
    }
   ],
   "source": [
    "# value count but using describe \n",
    "SLA.groupby('STATE').size()"
   ]
  },
  {
   "cell_type": "markdown",
   "metadata": {},
   "source": [
    "#### While SAREA not STATE will be included in the model, it is interesting to investiagte which states are represented in the dataset. The states of Colorado, Montana, and Texas are the three largest states represented."
   ]
  },
  {
   "cell_type": "code",
   "execution_count": 815,
   "metadata": {},
   "outputs": [
    {
     "data": {
      "text/plain": [
       "VAC\n",
       "0    25661\n",
       "1    69211\n",
       "dtype: int64"
      ]
     },
     "execution_count": 815,
     "metadata": {},
     "output_type": "execute_result"
    }
   ],
   "source": [
    "# value count but using describe \n",
    "SLA.groupby('VAC').size()"
   ]
  },
  {
   "cell_type": "markdown",
   "metadata": {},
   "source": [
    "#### There were 25,661 lots not qualifed for a vaccination program and 69,211 lots qualified for a vaccination program"
   ]
  },
  {
   "cell_type": "code",
   "execution_count": 816,
   "metadata": {},
   "outputs": [
    {
     "data": {
      "text/plain": [
       "BREED\n",
       "1    39396\n",
       "3    37558\n",
       "4    17918\n",
       "dtype: int64"
      ]
     },
     "execution_count": 816,
     "metadata": {},
     "output_type": "execute_result"
    }
   ],
   "source": [
    "# value count but using describe \n",
    "SLA.groupby('BREED').size()"
   ]
  },
  {
   "cell_type": "markdown",
   "metadata": {},
   "source": [
    "#### The breed distributions included 39,396 lots of English, English crossed, 37,558 lots of English-Continental crossed, and 17,918 lots of Brahman-influenced."
   ]
  },
  {
   "cell_type": "code",
   "execution_count": 817,
   "metadata": {},
   "outputs": [
    {
     "data": {
      "text/plain": [
       "SMONTH\n",
       "4       568\n",
       "5      1653\n",
       "6     12535\n",
       "7     33883\n",
       "8     32043\n",
       "9     12591\n",
       "10     1239\n",
       "11      360\n",
       "dtype: int64"
      ]
     },
     "execution_count": 817,
     "metadata": {},
     "output_type": "execute_result"
    }
   ],
   "source": [
    "# value count but using describe \n",
    "SLA.groupby('SMONTH').size()"
   ]
  },
  {
   "cell_type": "markdown",
   "metadata": {},
   "source": [
    "#### The \"summer\" sale months are from April through November, with the largest months being July and August."
   ]
  },
  {
   "cell_type": "code",
   "execution_count": 818,
   "metadata": {},
   "outputs": [
    {
     "data": {
      "text/plain": [
       "SEX\n",
       "1    57647\n",
       "2    37225\n",
       "dtype: int64"
      ]
     },
     "execution_count": 818,
     "metadata": {},
     "output_type": "execute_result"
    }
   ],
   "source": [
    "# value count but using describe \n",
    "SLA.groupby('SEX').size()"
   ]
  },
  {
   "cell_type": "markdown",
   "metadata": {},
   "source": [
    "#### There were 57,647 lots of steer calves and 37,225 lots of heifer calves."
   ]
  },
  {
   "cell_type": "code",
   "execution_count": 819,
   "metadata": {},
   "outputs": [
    {
     "data": {
      "text/plain": [
       "SYEAR\n",
       "1995    1823\n",
       "1996    2161\n",
       "1997    2205\n",
       "1998    2108\n",
       "1999    2985\n",
       "2000    3342\n",
       "2001    3119\n",
       "2002    3170\n",
       "2003    3904\n",
       "2004    4231\n",
       "2005    4313\n",
       "2006    3869\n",
       "2007    4605\n",
       "2008    4164\n",
       "2009    4199\n",
       "2010    5832\n",
       "2011    5512\n",
       "2012    4400\n",
       "2013    5292\n",
       "2014    4503\n",
       "2015    4572\n",
       "2016    4695\n",
       "2017    5122\n",
       "2018    4746\n",
       "dtype: int64"
      ]
     },
     "execution_count": 819,
     "metadata": {},
     "output_type": "execute_result"
    }
   ],
   "source": [
    "# value count but using describe \n",
    "SLA.groupby('SYEAR').size()"
   ]
  },
  {
   "cell_type": "markdown",
   "metadata": {},
   "source": [
    "#### The years in the dataset are 1995 through 2018. There are year to year variations in the number of lots sold."
   ]
  },
  {
   "cell_type": "markdown",
   "metadata": {},
   "source": [
    "### Combining Groups"
   ]
  },
  {
   "cell_type": "markdown",
   "metadata": {},
   "source": [
    "#### Frame"
   ]
  },
  {
   "cell_type": "code",
   "execution_count": 820,
   "metadata": {},
   "outputs": [
    {
     "data": {
      "text/plain": [
       "FRAME\n",
       "1       14\n",
       "2      191\n",
       "3    40262\n",
       "4    41811\n",
       "5    11102\n",
       "6     1349\n",
       "7      143\n",
       "dtype: int64"
      ]
     },
     "execution_count": 820,
     "metadata": {},
     "output_type": "execute_result"
    }
   ],
   "source": [
    "SLA.groupby('FRAME').size()"
   ]
  },
  {
   "cell_type": "code",
   "execution_count": 821,
   "metadata": {},
   "outputs": [],
   "source": [
    "SLA = SLA.replace({'FRAME': 1}, {'FRAME': 3})"
   ]
  },
  {
   "cell_type": "code",
   "execution_count": 822,
   "metadata": {},
   "outputs": [],
   "source": [
    "SLA = SLA.replace({'FRAME': 2}, {'FRAME': 3})"
   ]
  },
  {
   "cell_type": "code",
   "execution_count": 823,
   "metadata": {},
   "outputs": [],
   "source": [
    "SLA = SLA.replace({'FRAME': 7}, {'FRAME': 5})"
   ]
  },
  {
   "cell_type": "code",
   "execution_count": 824,
   "metadata": {},
   "outputs": [],
   "source": [
    "SLA = SLA.replace({'FRAME': 6}, {'FRAME': 5})"
   ]
  },
  {
   "cell_type": "code",
   "execution_count": 825,
   "metadata": {},
   "outputs": [
    {
     "data": {
      "text/plain": [
       "FRAME\n",
       "3    40467\n",
       "4    41811\n",
       "5    12594\n",
       "dtype: int64"
      ]
     },
     "execution_count": 825,
     "metadata": {},
     "output_type": "execute_result"
    }
   ],
   "source": [
    "SLA.groupby('FRAME').size()"
   ]
  },
  {
   "cell_type": "markdown",
   "metadata": {},
   "source": [
    "#### Frame scores 1 and 2 were small and combined with group 3. Frame score 6 and 7 were small and combined with 5. This resulted in three groups of frame scores, 3=small, 4=medium, 5=large."
   ]
  },
  {
   "cell_type": "markdown",
   "metadata": {},
   "source": [
    "#### Flesh"
   ]
  },
  {
   "cell_type": "code",
   "execution_count": 826,
   "metadata": {},
   "outputs": [
    {
     "data": {
      "text/plain": [
       "FLESH\n",
       "1      107\n",
       "2     4104\n",
       "3     6466\n",
       "4    80780\n",
       "5     2460\n",
       "6      942\n",
       "7       13\n",
       "dtype: int64"
      ]
     },
     "execution_count": 826,
     "metadata": {},
     "output_type": "execute_result"
    }
   ],
   "source": [
    "SLA.groupby('FLESH').size()"
   ]
  },
  {
   "cell_type": "code",
   "execution_count": 827,
   "metadata": {},
   "outputs": [],
   "source": [
    "SLA = SLA.replace({'FLESH': 1}, {'FLESH': 2})"
   ]
  },
  {
   "cell_type": "code",
   "execution_count": 828,
   "metadata": {},
   "outputs": [],
   "source": [
    "SLA = SLA.replace({'FLESH': 7}, {'FLESH': 5})"
   ]
  },
  {
   "cell_type": "code",
   "execution_count": 829,
   "metadata": {},
   "outputs": [],
   "source": [
    "SLA = SLA.replace({'FLESH': 6}, {'FLESH': 5})"
   ]
  },
  {
   "cell_type": "code",
   "execution_count": 830,
   "metadata": {},
   "outputs": [
    {
     "data": {
      "text/plain": [
       "FLESH\n",
       "2     4211\n",
       "3     6466\n",
       "4    80780\n",
       "5     3415\n",
       "dtype: int64"
      ]
     },
     "execution_count": 830,
     "metadata": {},
     "output_type": "execute_result"
    }
   ],
   "source": [
    "SLA.groupby('FLESH').size()"
   ]
  },
  {
   "cell_type": "markdown",
   "metadata": {},
   "source": [
    "#### Flesh score 1 was a small group and combined with score 2. Scores 6 and 7 were small groups as well and combined with group 5. The final flesh score groups are 2=light, 3=light/medium, 4=medium, and 5=heavy."
   ]
  },
  {
   "cell_type": "markdown",
   "metadata": {},
   "source": [
    "#### SAREA"
   ]
  },
  {
   "cell_type": "code",
   "execution_count": 831,
   "metadata": {},
   "outputs": [
    {
     "data": {
      "text/plain": [
       "SAREA\n",
       "1    23066\n",
       "2    43895\n",
       "3    21325\n",
       "4       21\n",
       "5     6565\n",
       "dtype: int64"
      ]
     },
     "execution_count": 831,
     "metadata": {},
     "output_type": "execute_result"
    }
   ],
   "source": [
    "SLA.groupby('SAREA').size()"
   ]
  },
  {
   "cell_type": "code",
   "execution_count": 832,
   "metadata": {},
   "outputs": [],
   "source": [
    "SLA = SLA.replace({'SAREA': 4}, {'SAREA': 5})"
   ]
  },
  {
   "cell_type": "code",
   "execution_count": 833,
   "metadata": {},
   "outputs": [
    {
     "data": {
      "text/plain": [
       "SAREA\n",
       "1    23066\n",
       "2    43895\n",
       "3    21325\n",
       "5     6586\n",
       "dtype: int64"
      ]
     },
     "execution_count": 833,
     "metadata": {},
     "output_type": "execute_result"
    }
   ],
   "source": [
    "SLA.groupby('SAREA').size()"
   ]
  },
  {
   "cell_type": "markdown",
   "metadata": {},
   "source": [
    "#### SAREA 4 was small, thus combined with SAREA 5."
   ]
  },
  {
   "cell_type": "markdown",
   "metadata": {},
   "source": [
    "## Exploratory Data Analysis and Data Visualization"
   ]
  },
  {
   "cell_type": "code",
   "execution_count": 834,
   "metadata": {},
   "outputs": [
    {
     "data": {
      "text/html": [
       "<div>\n",
       "<style scoped>\n",
       "    .dataframe tbody tr th:only-of-type {\n",
       "        vertical-align: middle;\n",
       "    }\n",
       "\n",
       "    .dataframe tbody tr th {\n",
       "        vertical-align: top;\n",
       "    }\n",
       "\n",
       "    .dataframe thead th {\n",
       "        text-align: right;\n",
       "    }\n",
       "</style>\n",
       "<table border=\"1\" class=\"dataframe\">\n",
       "  <thead>\n",
       "    <tr style=\"text-align: right;\">\n",
       "      <th></th>\n",
       "      <th>SYEAR</th>\n",
       "      <th>LOTID</th>\n",
       "      <th>SMONTH</th>\n",
       "      <th>HEAD</th>\n",
       "      <th>SEX</th>\n",
       "      <th>WT</th>\n",
       "      <th>PRICE</th>\n",
       "      <th>STATECODE</th>\n",
       "      <th>SAREA</th>\n",
       "      <th>BREED</th>\n",
       "      <th>FRAME</th>\n",
       "      <th>FLESH</th>\n",
       "      <th>VAC</th>\n",
       "    </tr>\n",
       "  </thead>\n",
       "  <tbody>\n",
       "    <tr>\n",
       "      <th>count</th>\n",
       "      <td>94872.000000</td>\n",
       "      <td>94872.000000</td>\n",
       "      <td>94872.000000</td>\n",
       "      <td>94872.000000</td>\n",
       "      <td>94872.000000</td>\n",
       "      <td>94872.000000</td>\n",
       "      <td>94872.000000</td>\n",
       "      <td>94872.000000</td>\n",
       "      <td>94872.000000</td>\n",
       "      <td>94872.000000</td>\n",
       "      <td>94872.000000</td>\n",
       "      <td>94872.000000</td>\n",
       "      <td>94872.00000</td>\n",
       "    </tr>\n",
       "    <tr>\n",
       "      <th>mean</th>\n",
       "      <td>2008.162883</td>\n",
       "      <td>115776.113606</td>\n",
       "      <td>7.472605</td>\n",
       "      <td>111.481154</td>\n",
       "      <td>1.392371</td>\n",
       "      <td>560.953021</td>\n",
       "      <td>134.750527</td>\n",
       "      <td>15.956742</td>\n",
       "      <td>2.189909</td>\n",
       "      <td>2.358357</td>\n",
       "      <td>3.706204</td>\n",
       "      <td>3.879069</td>\n",
       "      <td>0.72952</td>\n",
       "    </tr>\n",
       "    <tr>\n",
       "      <th>std</th>\n",
       "      <td>6.409211</td>\n",
       "      <td>66999.030234</td>\n",
       "      <td>1.038856</td>\n",
       "      <td>71.953652</td>\n",
       "      <td>0.488281</td>\n",
       "      <td>79.046282</td>\n",
       "      <td>48.860322</td>\n",
       "      <td>10.544034</td>\n",
       "      <td>1.027924</td>\n",
       "      <td>1.199246</td>\n",
       "      <td>0.687735</td>\n",
       "      <td>0.516792</td>\n",
       "      <td>0.44421</td>\n",
       "    </tr>\n",
       "    <tr>\n",
       "      <th>min</th>\n",
       "      <td>1995.000000</td>\n",
       "      <td>1.000000</td>\n",
       "      <td>4.000000</td>\n",
       "      <td>5.000000</td>\n",
       "      <td>1.000000</td>\n",
       "      <td>235.000000</td>\n",
       "      <td>41.250000</td>\n",
       "      <td>0.000000</td>\n",
       "      <td>1.000000</td>\n",
       "      <td>1.000000</td>\n",
       "      <td>3.000000</td>\n",
       "      <td>2.000000</td>\n",
       "      <td>0.00000</td>\n",
       "    </tr>\n",
       "    <tr>\n",
       "      <th>25%</th>\n",
       "      <td>2003.000000</td>\n",
       "      <td>63342.750000</td>\n",
       "      <td>7.000000</td>\n",
       "      <td>79.000000</td>\n",
       "      <td>1.000000</td>\n",
       "      <td>500.000000</td>\n",
       "      <td>103.000000</td>\n",
       "      <td>7.000000</td>\n",
       "      <td>2.000000</td>\n",
       "      <td>1.000000</td>\n",
       "      <td>3.000000</td>\n",
       "      <td>4.000000</td>\n",
       "      <td>0.00000</td>\n",
       "    </tr>\n",
       "    <tr>\n",
       "      <th>50%</th>\n",
       "      <td>2009.000000</td>\n",
       "      <td>104860.500000</td>\n",
       "      <td>7.000000</td>\n",
       "      <td>90.000000</td>\n",
       "      <td>1.000000</td>\n",
       "      <td>550.000000</td>\n",
       "      <td>124.000000</td>\n",
       "      <td>15.000000</td>\n",
       "      <td>2.000000</td>\n",
       "      <td>3.000000</td>\n",
       "      <td>4.000000</td>\n",
       "      <td>4.000000</td>\n",
       "      <td>1.00000</td>\n",
       "    </tr>\n",
       "    <tr>\n",
       "      <th>75%</th>\n",
       "      <td>2013.000000</td>\n",
       "      <td>172941.250000</td>\n",
       "      <td>8.000000</td>\n",
       "      <td>110.000000</td>\n",
       "      <td>2.000000</td>\n",
       "      <td>610.000000</td>\n",
       "      <td>155.000000</td>\n",
       "      <td>22.000000</td>\n",
       "      <td>3.000000</td>\n",
       "      <td>3.000000</td>\n",
       "      <td>4.000000</td>\n",
       "      <td>4.000000</td>\n",
       "      <td>1.00000</td>\n",
       "    </tr>\n",
       "    <tr>\n",
       "      <th>max</th>\n",
       "      <td>2018.000000</td>\n",
       "      <td>239006.000000</td>\n",
       "      <td>11.000000</td>\n",
       "      <td>1380.000000</td>\n",
       "      <td>2.000000</td>\n",
       "      <td>960.000000</td>\n",
       "      <td>422.000000</td>\n",
       "      <td>50.000000</td>\n",
       "      <td>5.000000</td>\n",
       "      <td>4.000000</td>\n",
       "      <td>5.000000</td>\n",
       "      <td>5.000000</td>\n",
       "      <td>1.00000</td>\n",
       "    </tr>\n",
       "  </tbody>\n",
       "</table>\n",
       "</div>"
      ],
      "text/plain": [
       "              SYEAR          LOTID        SMONTH          HEAD           SEX  \\\n",
       "count  94872.000000   94872.000000  94872.000000  94872.000000  94872.000000   \n",
       "mean    2008.162883  115776.113606      7.472605    111.481154      1.392371   \n",
       "std        6.409211   66999.030234      1.038856     71.953652      0.488281   \n",
       "min     1995.000000       1.000000      4.000000      5.000000      1.000000   \n",
       "25%     2003.000000   63342.750000      7.000000     79.000000      1.000000   \n",
       "50%     2009.000000  104860.500000      7.000000     90.000000      1.000000   \n",
       "75%     2013.000000  172941.250000      8.000000    110.000000      2.000000   \n",
       "max     2018.000000  239006.000000     11.000000   1380.000000      2.000000   \n",
       "\n",
       "                 WT         PRICE     STATECODE         SAREA         BREED  \\\n",
       "count  94872.000000  94872.000000  94872.000000  94872.000000  94872.000000   \n",
       "mean     560.953021    134.750527     15.956742      2.189909      2.358357   \n",
       "std       79.046282     48.860322     10.544034      1.027924      1.199246   \n",
       "min      235.000000     41.250000      0.000000      1.000000      1.000000   \n",
       "25%      500.000000    103.000000      7.000000      2.000000      1.000000   \n",
       "50%      550.000000    124.000000     15.000000      2.000000      3.000000   \n",
       "75%      610.000000    155.000000     22.000000      3.000000      3.000000   \n",
       "max      960.000000    422.000000     50.000000      5.000000      4.000000   \n",
       "\n",
       "              FRAME         FLESH          VAC  \n",
       "count  94872.000000  94872.000000  94872.00000  \n",
       "mean       3.706204      3.879069      0.72952  \n",
       "std        0.687735      0.516792      0.44421  \n",
       "min        3.000000      2.000000      0.00000  \n",
       "25%        3.000000      4.000000      0.00000  \n",
       "50%        4.000000      4.000000      1.00000  \n",
       "75%        4.000000      4.000000      1.00000  \n",
       "max        5.000000      5.000000      1.00000  "
      ]
     },
     "execution_count": 834,
     "metadata": {},
     "output_type": "execute_result"
    }
   ],
   "source": [
    "#Describe shows a quick statistic summary of your data\n",
    "#this is a good way to examine the numerical columns\n",
    "SLA.describe()"
   ]
  },
  {
   "cell_type": "markdown",
   "metadata": {},
   "source": [
    "#### Of all variables, the only continuous variables are price and weight. Those two variables are the focus. \n",
    "#### The average weight of these lots were 560.95 pounds, ranging from 235.0 pounds to 960.0 pounds. \n",
    "#### The average price was $134.75/cwt, ranging from 41.25/cwt to 422.00/cwt.\n"
   ]
  },
  {
   "cell_type": "code",
   "execution_count": 835,
   "metadata": {},
   "outputs": [
    {
     "data": {
      "text/plain": [
       "array([[<matplotlib.axes._subplots.AxesSubplot object at 0x00000000643BB358>,\n",
       "        <matplotlib.axes._subplots.AxesSubplot object at 0x0000000066B24E80>,\n",
       "        <matplotlib.axes._subplots.AxesSubplot object at 0x0000000066B492B0>,\n",
       "        <matplotlib.axes._subplots.AxesSubplot object at 0x000000005C5C46A0>],\n",
       "       [<matplotlib.axes._subplots.AxesSubplot object at 0x0000000066C6BA90>,\n",
       "        <matplotlib.axes._subplots.AxesSubplot object at 0x0000000066CA2E10>,\n",
       "        <matplotlib.axes._subplots.AxesSubplot object at 0x0000000066D69240>,\n",
       "        <matplotlib.axes._subplots.AxesSubplot object at 0x0000000064D05630>],\n",
       "       [<matplotlib.axes._subplots.AxesSubplot object at 0x0000000064D3AA20>,\n",
       "        <matplotlib.axes._subplots.AxesSubplot object at 0x0000000064BF0E10>,\n",
       "        <matplotlib.axes._subplots.AxesSubplot object at 0x0000000066993240>,\n",
       "        <matplotlib.axes._subplots.AxesSubplot object at 0x00000000669C8630>],\n",
       "       [<matplotlib.axes._subplots.AxesSubplot object at 0x000000006679FA20>,\n",
       "        <matplotlib.axes._subplots.AxesSubplot object at 0x000000006681AE10>,\n",
       "        <matplotlib.axes._subplots.AxesSubplot object at 0x000000006669E240>,\n",
       "        <matplotlib.axes._subplots.AxesSubplot object at 0x0000000066595630>]],\n",
       "      dtype=object)"
      ]
     },
     "execution_count": 835,
     "metadata": {},
     "output_type": "execute_result"
    },
    {
     "data": {
      "image/png": "[encoded data removed]",
      "text/plain": [
       "<Figure size 864x864 with 16 Axes>"
      ]
     },
     "metadata": {},
     "output_type": "display_data"
    }
   ],
   "source": [
    "SLA.hist(figsize=(12,12))"
   ]
  },
  {
   "cell_type": "code",
   "execution_count": 836,
   "metadata": {},
   "outputs": [
    {
     "data": {
      "text/html": [
       "<div>\n",
       "<style scoped>\n",
       "    .dataframe tbody tr th:only-of-type {\n",
       "        vertical-align: middle;\n",
       "    }\n",
       "\n",
       "    .dataframe tbody tr th {\n",
       "        vertical-align: top;\n",
       "    }\n",
       "\n",
       "    .dataframe thead th {\n",
       "        text-align: right;\n",
       "    }\n",
       "</style>\n",
       "<table border=\"1\" class=\"dataframe\">\n",
       "  <thead>\n",
       "    <tr style=\"text-align: right;\">\n",
       "      <th></th>\n",
       "      <th>SYEAR</th>\n",
       "      <th>LOTID</th>\n",
       "      <th>SMONTH</th>\n",
       "      <th>HEAD</th>\n",
       "      <th>SEX</th>\n",
       "      <th>WT</th>\n",
       "      <th>PRICE</th>\n",
       "      <th>STATECODE</th>\n",
       "      <th>SAREA</th>\n",
       "      <th>BREED</th>\n",
       "      <th>FRAME</th>\n",
       "      <th>FLESH</th>\n",
       "      <th>VAC</th>\n",
       "    </tr>\n",
       "  </thead>\n",
       "  <tbody>\n",
       "    <tr>\n",
       "      <th>SYEAR</th>\n",
       "      <td>1.000000</td>\n",
       "      <td>0.971616</td>\n",
       "      <td>-0.088036</td>\n",
       "      <td>-0.112701</td>\n",
       "      <td>-0.003453</td>\n",
       "      <td>0.125283</td>\n",
       "      <td>0.732215</td>\n",
       "      <td>-0.167889</td>\n",
       "      <td>-0.041601</td>\n",
       "      <td>-0.185266</td>\n",
       "      <td>-0.001793</td>\n",
       "      <td>-0.036868</td>\n",
       "      <td>0.432266</td>\n",
       "    </tr>\n",
       "    <tr>\n",
       "      <th>LOTID</th>\n",
       "      <td>0.971616</td>\n",
       "      <td>1.000000</td>\n",
       "      <td>-0.047674</td>\n",
       "      <td>-0.107917</td>\n",
       "      <td>-0.002026</td>\n",
       "      <td>0.116331</td>\n",
       "      <td>0.723935</td>\n",
       "      <td>-0.184238</td>\n",
       "      <td>-0.040155</td>\n",
       "      <td>-0.166417</td>\n",
       "      <td>0.007888</td>\n",
       "      <td>-0.038818</td>\n",
       "      <td>0.368652</td>\n",
       "    </tr>\n",
       "    <tr>\n",
       "      <th>SMONTH</th>\n",
       "      <td>-0.088036</td>\n",
       "      <td>-0.047674</td>\n",
       "      <td>1.000000</td>\n",
       "      <td>-0.016740</td>\n",
       "      <td>-0.001158</td>\n",
       "      <td>-0.085901</td>\n",
       "      <td>-0.083700</td>\n",
       "      <td>0.006256</td>\n",
       "      <td>-0.000927</td>\n",
       "      <td>0.042095</td>\n",
       "      <td>0.032692</td>\n",
       "      <td>-0.014937</td>\n",
       "      <td>-0.103688</td>\n",
       "    </tr>\n",
       "    <tr>\n",
       "      <th>HEAD</th>\n",
       "      <td>-0.112701</td>\n",
       "      <td>-0.107917</td>\n",
       "      <td>-0.016740</td>\n",
       "      <td>1.000000</td>\n",
       "      <td>-0.083927</td>\n",
       "      <td>-0.133153</td>\n",
       "      <td>-0.029359</td>\n",
       "      <td>-0.006816</td>\n",
       "      <td>-0.040767</td>\n",
       "      <td>-0.046834</td>\n",
       "      <td>-0.008735</td>\n",
       "      <td>-0.096600</td>\n",
       "      <td>-0.037788</td>\n",
       "    </tr>\n",
       "    <tr>\n",
       "      <th>SEX</th>\n",
       "      <td>-0.003453</td>\n",
       "      <td>-0.002026</td>\n",
       "      <td>-0.001158</td>\n",
       "      <td>-0.083927</td>\n",
       "      <td>1.000000</td>\n",
       "      <td>-0.233292</td>\n",
       "      <td>-0.089740</td>\n",
       "      <td>0.010311</td>\n",
       "      <td>0.015743</td>\n",
       "      <td>0.044483</td>\n",
       "      <td>-0.012067</td>\n",
       "      <td>-0.015052</td>\n",
       "      <td>-0.012702</td>\n",
       "    </tr>\n",
       "    <tr>\n",
       "      <th>WT</th>\n",
       "      <td>0.125283</td>\n",
       "      <td>0.116331</td>\n",
       "      <td>-0.085901</td>\n",
       "      <td>-0.133153</td>\n",
       "      <td>-0.233292</td>\n",
       "      <td>1.000000</td>\n",
       "      <td>-0.053411</td>\n",
       "      <td>-0.037952</td>\n",
       "      <td>-0.024189</td>\n",
       "      <td>-0.040775</td>\n",
       "      <td>0.216679</td>\n",
       "      <td>0.226646</td>\n",
       "      <td>0.091223</td>\n",
       "    </tr>\n",
       "    <tr>\n",
       "      <th>PRICE</th>\n",
       "      <td>0.732215</td>\n",
       "      <td>0.723935</td>\n",
       "      <td>-0.083700</td>\n",
       "      <td>-0.029359</td>\n",
       "      <td>-0.089740</td>\n",
       "      <td>-0.053411</td>\n",
       "      <td>1.000000</td>\n",
       "      <td>-0.123237</td>\n",
       "      <td>-0.075940</td>\n",
       "      <td>-0.177306</td>\n",
       "      <td>-0.017083</td>\n",
       "      <td>-0.073875</td>\n",
       "      <td>0.306816</td>\n",
       "    </tr>\n",
       "    <tr>\n",
       "      <th>STATECODE</th>\n",
       "      <td>-0.167889</td>\n",
       "      <td>-0.184238</td>\n",
       "      <td>0.006256</td>\n",
       "      <td>-0.006816</td>\n",
       "      <td>0.010311</td>\n",
       "      <td>-0.037952</td>\n",
       "      <td>-0.123237</td>\n",
       "      <td>1.000000</td>\n",
       "      <td>0.880773</td>\n",
       "      <td>0.362120</td>\n",
       "      <td>-0.138771</td>\n",
       "      <td>0.012126</td>\n",
       "      <td>-0.133954</td>\n",
       "    </tr>\n",
       "    <tr>\n",
       "      <th>SAREA</th>\n",
       "      <td>-0.041601</td>\n",
       "      <td>-0.040155</td>\n",
       "      <td>-0.000927</td>\n",
       "      <td>-0.040767</td>\n",
       "      <td>0.015743</td>\n",
       "      <td>-0.024189</td>\n",
       "      <td>-0.075940</td>\n",
       "      <td>0.880773</td>\n",
       "      <td>1.000000</td>\n",
       "      <td>0.407920</td>\n",
       "      <td>-0.161950</td>\n",
       "      <td>0.010374</td>\n",
       "      <td>-0.106852</td>\n",
       "    </tr>\n",
       "    <tr>\n",
       "      <th>BREED</th>\n",
       "      <td>-0.185266</td>\n",
       "      <td>-0.166417</td>\n",
       "      <td>0.042095</td>\n",
       "      <td>-0.046834</td>\n",
       "      <td>0.044483</td>\n",
       "      <td>-0.040775</td>\n",
       "      <td>-0.177306</td>\n",
       "      <td>0.362120</td>\n",
       "      <td>0.407920</td>\n",
       "      <td>1.000000</td>\n",
       "      <td>0.029630</td>\n",
       "      <td>-0.023344</td>\n",
       "      <td>-0.184929</td>\n",
       "    </tr>\n",
       "    <tr>\n",
       "      <th>FRAME</th>\n",
       "      <td>-0.001793</td>\n",
       "      <td>0.007888</td>\n",
       "      <td>0.032692</td>\n",
       "      <td>-0.008735</td>\n",
       "      <td>-0.012067</td>\n",
       "      <td>0.216679</td>\n",
       "      <td>-0.017083</td>\n",
       "      <td>-0.138771</td>\n",
       "      <td>-0.161950</td>\n",
       "      <td>0.029630</td>\n",
       "      <td>1.000000</td>\n",
       "      <td>0.032364</td>\n",
       "      <td>-0.008353</td>\n",
       "    </tr>\n",
       "    <tr>\n",
       "      <th>FLESH</th>\n",
       "      <td>-0.036868</td>\n",
       "      <td>-0.038818</td>\n",
       "      <td>-0.014937</td>\n",
       "      <td>-0.096600</td>\n",
       "      <td>-0.015052</td>\n",
       "      <td>0.226646</td>\n",
       "      <td>-0.073875</td>\n",
       "      <td>0.012126</td>\n",
       "      <td>0.010374</td>\n",
       "      <td>-0.023344</td>\n",
       "      <td>0.032364</td>\n",
       "      <td>1.000000</td>\n",
       "      <td>0.040442</td>\n",
       "    </tr>\n",
       "    <tr>\n",
       "      <th>VAC</th>\n",
       "      <td>0.432266</td>\n",
       "      <td>0.368652</td>\n",
       "      <td>-0.103688</td>\n",
       "      <td>-0.037788</td>\n",
       "      <td>-0.012702</td>\n",
       "      <td>0.091223</td>\n",
       "      <td>0.306816</td>\n",
       "      <td>-0.133954</td>\n",
       "      <td>-0.106852</td>\n",
       "      <td>-0.184929</td>\n",
       "      <td>-0.008353</td>\n",
       "      <td>0.040442</td>\n",
       "      <td>1.000000</td>\n",
       "    </tr>\n",
       "  </tbody>\n",
       "</table>\n",
       "</div>"
      ],
      "text/plain": [
       "              SYEAR     LOTID    SMONTH      HEAD       SEX        WT  \\\n",
       "SYEAR      1.000000  0.971616 -0.088036 -0.112701 -0.003453  0.125283   \n",
       "LOTID      0.971616  1.000000 -0.047674 -0.107917 -0.002026  0.116331   \n",
       "SMONTH    -0.088036 -0.047674  1.000000 -0.016740 -0.001158 -0.085901   \n",
       "HEAD      -0.112701 -0.107917 -0.016740  1.000000 -0.083927 -0.133153   \n",
       "SEX       -0.003453 -0.002026 -0.001158 -0.083927  1.000000 -0.233292   \n",
       "WT         0.125283  0.116331 -0.085901 -0.133153 -0.233292  1.000000   \n",
       "PRICE      0.732215  0.723935 -0.083700 -0.029359 -0.089740 -0.053411   \n",
       "STATECODE -0.167889 -0.184238  0.006256 -0.006816  0.010311 -0.037952   \n",
       "SAREA     -0.041601 -0.040155 -0.000927 -0.040767  0.015743 -0.024189   \n",
       "BREED     -0.185266 -0.166417  0.042095 -0.046834  0.044483 -0.040775   \n",
       "FRAME     -0.001793  0.007888  0.032692 -0.008735 -0.012067  0.216679   \n",
       "FLESH     -0.036868 -0.038818 -0.014937 -0.096600 -0.015052  0.226646   \n",
       "VAC        0.432266  0.368652 -0.103688 -0.037788 -0.012702  0.091223   \n",
       "\n",
       "              PRICE  STATECODE     SAREA     BREED     FRAME     FLESH  \\\n",
       "SYEAR      0.732215  -0.167889 -0.041601 -0.185266 -0.001793 -0.036868   \n",
       "LOTID      0.723935  -0.184238 -0.040155 -0.166417  0.007888 -0.038818   \n",
       "SMONTH    -0.083700   0.006256 -0.000927  0.042095  0.032692 -0.014937   \n",
       "HEAD      -0.029359  -0.006816 -0.040767 -0.046834 -0.008735 -0.096600   \n",
       "SEX       -0.089740   0.010311  0.015743  0.044483 -0.012067 -0.015052   \n",
       "WT        -0.053411  -0.037952 -0.024189 -0.040775  0.216679  0.226646   \n",
       "PRICE      1.000000  -0.123237 -0.075940 -0.177306 -0.017083 -0.073875   \n",
       "STATECODE -0.123237   1.000000  0.880773  0.362120 -0.138771  0.012126   \n",
       "SAREA     -0.075940   0.880773  1.000000  0.407920 -0.161950  0.010374   \n",
       "BREED     -0.177306   0.362120  0.407920  1.000000  0.029630 -0.023344   \n",
       "FRAME     -0.017083  -0.138771 -0.161950  0.029630  1.000000  0.032364   \n",
       "FLESH     -0.073875   0.012126  0.010374 -0.023344  0.032364  1.000000   \n",
       "VAC        0.306816  -0.133954 -0.106852 -0.184929 -0.008353  0.040442   \n",
       "\n",
       "                VAC  \n",
       "SYEAR      0.432266  \n",
       "LOTID      0.368652  \n",
       "SMONTH    -0.103688  \n",
       "HEAD      -0.037788  \n",
       "SEX       -0.012702  \n",
       "WT         0.091223  \n",
       "PRICE      0.306816  \n",
       "STATECODE -0.133954  \n",
       "SAREA     -0.106852  \n",
       "BREED     -0.184929  \n",
       "FRAME     -0.008353  \n",
       "FLESH      0.040442  \n",
       "VAC        1.000000  "
      ]
     },
     "execution_count": 836,
     "metadata": {},
     "output_type": "execute_result"
    }
   ],
   "source": [
    "SLA.corr()"
   ]
  },
  {
   "cell_type": "code",
   "execution_count": 845,
   "metadata": {},
   "outputs": [
    {
     "data": {
      "text/plain": [
       "<matplotlib.axes._subplots.AxesSubplot at 0x67eb22e8>"
      ]
     },
     "execution_count": 845,
     "metadata": {},
     "output_type": "execute_result"
    },
    {
     "data": {
      "image/png": "[encoded data removed]",
      "text/plain": [
       "<Figure size 864x864 with 2 Axes>"
      ]
     },
     "metadata": {},
     "output_type": "display_data"
    }
   ],
   "source": [
    "# heat map of correlation\n",
    "plt.figure(figsize=(12,12))\n",
    "sns.heatmap(SLA.corr())"
   ]
  },
  {
   "cell_type": "markdown",
   "metadata": {},
   "source": [
    "Because of the large number of categorical variables in this dataset, correctly interpreting a correlation has limitations. "
   ]
  },
  {
   "cell_type": "code",
   "execution_count": 876,
   "metadata": {},
   "outputs": [],
   "source": [
    "#Exporting Data to CSV to use in Tableau for Data Visulaization\n",
    "#Tableau charts shared in a PowerPoint File \n",
    "SLA.to_csv(\"data/SLA.csv\")"
   ]
  },
  {
   "cell_type": "markdown",
   "metadata": {},
   "source": [
    "# Lots of Feeder Cattle"
   ]
  },
  {
   "cell_type": "markdown",
   "metadata": {},
   "source": [
    "Lots of feeder cattle are included in the dataset as well, however, feeder cattle lots are not as frequent and do not appear every year (present 1996 - 2018).  \n",
    "\n",
    "#### Variables:\n",
    "- SYEAR: Sale Year 1995 - 2018\n",
    "- LOTID: Count of number of lots of beef calves\n",
    "- SMONTH: Sale Month 1=January, 12=December\n",
    "- SUMMER: Sold in a summer sale, all 1=Yes (Will remove, all are summer)\n",
    "- HEAD: Number of calves in a lot\n",
    "- SEX: Gender of lot, 1=Steer, 2=Heifer\n",
    "- ATYPE: Animal Type, 2 = Feeder (Will removed column, all are feeders)\n",
    "- WT: Average weight of the lot (total lot weight/# of head in lot)\n",
    "- PRICE: Sale Price of lot ($/cwt)\n",
    "- STATE: STate of origin of lot\n",
    "- STATECODE: Code of state, alphabetical order starting with 1\n",
    "- SAREA: Sale area, the states are divided into five areas or regions, 1=West Coast, 2=Rocky Mountain/North Central, 3=South Central, 4=Northeast, 5=Southeast\n",
    "- BREED: General breed of the lot, 1=English, English crossed, 3=English-Contenintal crossed, 4=Brahman-influenced\n",
    "- FRAME: Frame score of calves in lot, 3=Small, 4=Medium, 5=Large\n",
    "- FLESH: Amount of flesh (body condition) of calves in lot, 2=Light, 3=Light/Medium, 4=Medium, 5=Heavy\n",
    "- VAC: Vaccinations of lot, 0=vaccinated but not qualified for program, 1=vaccinated and qualify for program"
   ]
  },
  {
   "cell_type": "code",
   "execution_count": 848,
   "metadata": {},
   "outputs": [
    {
     "data": {
      "text/html": [
       "<img src=\"http://www.amscattle.com/wp-content/uploads/2013/02/DSCN7633.jpg\"/>"
      ],
      "text/plain": [
       "<IPython.core.display.Image object>"
      ]
     },
     "execution_count": 848,
     "metadata": {},
     "output_type": "execute_result"
    }
   ],
   "source": [
    "from IPython.display import Image\n",
    "from IPython.core.display import HTML \n",
    "Image(url= \"http://www.amscattle.com/wp-content/uploads/2013/02/DSCN7633.jpg\")"
   ]
  },
  {
   "cell_type": "code",
   "execution_count": 849,
   "metadata": {},
   "outputs": [
    {
     "data": {
      "text/html": [
       "<div>\n",
       "<style scoped>\n",
       "    .dataframe tbody tr th:only-of-type {\n",
       "        vertical-align: middle;\n",
       "    }\n",
       "\n",
       "    .dataframe tbody tr th {\n",
       "        vertical-align: top;\n",
       "    }\n",
       "\n",
       "    .dataframe thead th {\n",
       "        text-align: right;\n",
       "    }\n",
       "</style>\n",
       "<table border=\"1\" class=\"dataframe\">\n",
       "  <thead>\n",
       "    <tr style=\"text-align: right;\">\n",
       "      <th></th>\n",
       "      <th>SYEAR</th>\n",
       "      <th>LOTID</th>\n",
       "      <th>SUMMER</th>\n",
       "      <th>SMONTH</th>\n",
       "      <th>HEAD</th>\n",
       "      <th>SEX</th>\n",
       "      <th>ATYPE</th>\n",
       "      <th>WT</th>\n",
       "      <th>PRICE</th>\n",
       "      <th>STATE</th>\n",
       "      <th>STATECODE</th>\n",
       "      <th>SAREA</th>\n",
       "      <th>BREED</th>\n",
       "      <th>FRAME</th>\n",
       "      <th>FLESH</th>\n",
       "      <th>VAC</th>\n",
       "    </tr>\n",
       "  </thead>\n",
       "  <tbody>\n",
       "    <tr>\n",
       "      <th>0</th>\n",
       "      <td>2010</td>\n",
       "      <td>111922</td>\n",
       "      <td>1</td>\n",
       "      <td>6</td>\n",
       "      <td>39</td>\n",
       "      <td>1</td>\n",
       "      <td>2</td>\n",
       "      <td>640</td>\n",
       "      <td>105.25</td>\n",
       "      <td>TX</td>\n",
       "      <td>26</td>\n",
       "      <td>3</td>\n",
       "      <td>4</td>\n",
       "      <td>4</td>\n",
       "      <td>4</td>\n",
       "      <td>0</td>\n",
       "    </tr>\n",
       "    <tr>\n",
       "      <th>1</th>\n",
       "      <td>2010</td>\n",
       "      <td>111923</td>\n",
       "      <td>1</td>\n",
       "      <td>6</td>\n",
       "      <td>39</td>\n",
       "      <td>2</td>\n",
       "      <td>2</td>\n",
       "      <td>640</td>\n",
       "      <td>98.25</td>\n",
       "      <td>TX</td>\n",
       "      <td>26</td>\n",
       "      <td>3</td>\n",
       "      <td>4</td>\n",
       "      <td>4</td>\n",
       "      <td>4</td>\n",
       "      <td>0</td>\n",
       "    </tr>\n",
       "    <tr>\n",
       "      <th>2</th>\n",
       "      <td>2010</td>\n",
       "      <td>111924</td>\n",
       "      <td>1</td>\n",
       "      <td>6</td>\n",
       "      <td>35</td>\n",
       "      <td>1</td>\n",
       "      <td>2</td>\n",
       "      <td>700</td>\n",
       "      <td>105.50</td>\n",
       "      <td>LA</td>\n",
       "      <td>45</td>\n",
       "      <td>5</td>\n",
       "      <td>4</td>\n",
       "      <td>3</td>\n",
       "      <td>2</td>\n",
       "      <td>0</td>\n",
       "    </tr>\n",
       "    <tr>\n",
       "      <th>3</th>\n",
       "      <td>2010</td>\n",
       "      <td>111925</td>\n",
       "      <td>1</td>\n",
       "      <td>6</td>\n",
       "      <td>35</td>\n",
       "      <td>2</td>\n",
       "      <td>2</td>\n",
       "      <td>700</td>\n",
       "      <td>99.50</td>\n",
       "      <td>LA</td>\n",
       "      <td>45</td>\n",
       "      <td>5</td>\n",
       "      <td>4</td>\n",
       "      <td>3</td>\n",
       "      <td>2</td>\n",
       "      <td>0</td>\n",
       "    </tr>\n",
       "    <tr>\n",
       "      <th>4</th>\n",
       "      <td>2010</td>\n",
       "      <td>111926</td>\n",
       "      <td>1</td>\n",
       "      <td>6</td>\n",
       "      <td>32</td>\n",
       "      <td>1</td>\n",
       "      <td>2</td>\n",
       "      <td>735</td>\n",
       "      <td>105.25</td>\n",
       "      <td>TX</td>\n",
       "      <td>26</td>\n",
       "      <td>3</td>\n",
       "      <td>4</td>\n",
       "      <td>4</td>\n",
       "      <td>4</td>\n",
       "      <td>1</td>\n",
       "    </tr>\n",
       "  </tbody>\n",
       "</table>\n",
       "</div>"
      ],
      "text/plain": [
       "   SYEAR   LOTID  SUMMER  SMONTH  HEAD  SEX  ATYPE   WT   PRICE STATE  \\\n",
       "0   2010  111922       1       6    39    1      2  640  105.25    TX   \n",
       "1   2010  111923       1       6    39    2      2  640   98.25    TX   \n",
       "2   2010  111924       1       6    35    1      2  700  105.50    LA   \n",
       "3   2010  111925       1       6    35    2      2  700   99.50    LA   \n",
       "4   2010  111926       1       6    32    1      2  735  105.25    TX   \n",
       "\n",
       "   STATECODE  SAREA  BREED  FRAME  FLESH  VAC  \n",
       "0         26      3      4      4      4    0  \n",
       "1         26      3      4      4      4    0  \n",
       "2         45      5      4      3      2    0  \n",
       "3         45      5      4      3      2    0  \n",
       "4         26      3      4      4      4    1  "
      ]
     },
     "execution_count": 849,
     "metadata": {},
     "output_type": "execute_result"
    }
   ],
   "source": [
    "# import dataset\n",
    "FEEDER=pd.read_csv(\"DATA/FEEDER.csv\")\n",
    "FEEDER.head()"
   ]
  },
  {
   "cell_type": "markdown",
   "metadata": {},
   "source": [
    "## Data Transformation"
   ]
  },
  {
   "cell_type": "code",
   "execution_count": 850,
   "metadata": {},
   "outputs": [
    {
     "name": "stdout",
     "output_type": "stream",
     "text": [
      "<class 'pandas.core.frame.DataFrame'>\n",
      "RangeIndex: 23862 entries, 0 to 23861\n",
      "Data columns (total 16 columns):\n",
      "SYEAR        23862 non-null int64\n",
      "LOTID        23862 non-null int64\n",
      "SUMMER       23862 non-null int64\n",
      "SMONTH       23862 non-null int64\n",
      "HEAD         23862 non-null int64\n",
      "SEX          23862 non-null int64\n",
      "ATYPE        23862 non-null int64\n",
      "WT           23862 non-null int64\n",
      "PRICE        23862 non-null float64\n",
      "STATE        23862 non-null object\n",
      "STATECODE    23862 non-null int64\n",
      "SAREA        23862 non-null int64\n",
      "BREED        23862 non-null int64\n",
      "FRAME        23862 non-null int64\n",
      "FLESH        23862 non-null int64\n",
      "VAC          23862 non-null int64\n",
      "dtypes: float64(1), int64(14), object(1)\n",
      "memory usage: 2.9+ MB\n"
     ]
    }
   ],
   "source": [
    "#data types & missing values\n",
    "FEEDER.info()"
   ]
  },
  {
   "cell_type": "markdown",
   "metadata": {},
   "source": [
    "#### There are no missing values."
   ]
  },
  {
   "cell_type": "code",
   "execution_count": 851,
   "metadata": {},
   "outputs": [
    {
     "data": {
      "text/html": [
       "<div>\n",
       "<style scoped>\n",
       "    .dataframe tbody tr th:only-of-type {\n",
       "        vertical-align: middle;\n",
       "    }\n",
       "\n",
       "    .dataframe tbody tr th {\n",
       "        vertical-align: top;\n",
       "    }\n",
       "\n",
       "    .dataframe thead th {\n",
       "        text-align: right;\n",
       "    }\n",
       "</style>\n",
       "<table border=\"1\" class=\"dataframe\">\n",
       "  <thead>\n",
       "    <tr style=\"text-align: right;\">\n",
       "      <th></th>\n",
       "      <th>SYEAR</th>\n",
       "      <th>LOTID</th>\n",
       "      <th>SMONTH</th>\n",
       "      <th>HEAD</th>\n",
       "      <th>SEX</th>\n",
       "      <th>WT</th>\n",
       "      <th>PRICE</th>\n",
       "      <th>STATE</th>\n",
       "      <th>STATECODE</th>\n",
       "      <th>SAREA</th>\n",
       "      <th>BREED</th>\n",
       "      <th>FRAME</th>\n",
       "      <th>FLESH</th>\n",
       "      <th>VAC</th>\n",
       "    </tr>\n",
       "  </thead>\n",
       "  <tbody>\n",
       "    <tr>\n",
       "      <th>0</th>\n",
       "      <td>2010</td>\n",
       "      <td>111922</td>\n",
       "      <td>6</td>\n",
       "      <td>39</td>\n",
       "      <td>1</td>\n",
       "      <td>640</td>\n",
       "      <td>105.25</td>\n",
       "      <td>TX</td>\n",
       "      <td>26</td>\n",
       "      <td>3</td>\n",
       "      <td>4</td>\n",
       "      <td>4</td>\n",
       "      <td>4</td>\n",
       "      <td>0</td>\n",
       "    </tr>\n",
       "    <tr>\n",
       "      <th>1</th>\n",
       "      <td>2010</td>\n",
       "      <td>111923</td>\n",
       "      <td>6</td>\n",
       "      <td>39</td>\n",
       "      <td>2</td>\n",
       "      <td>640</td>\n",
       "      <td>98.25</td>\n",
       "      <td>TX</td>\n",
       "      <td>26</td>\n",
       "      <td>3</td>\n",
       "      <td>4</td>\n",
       "      <td>4</td>\n",
       "      <td>4</td>\n",
       "      <td>0</td>\n",
       "    </tr>\n",
       "    <tr>\n",
       "      <th>2</th>\n",
       "      <td>2010</td>\n",
       "      <td>111924</td>\n",
       "      <td>6</td>\n",
       "      <td>35</td>\n",
       "      <td>1</td>\n",
       "      <td>700</td>\n",
       "      <td>105.50</td>\n",
       "      <td>LA</td>\n",
       "      <td>45</td>\n",
       "      <td>5</td>\n",
       "      <td>4</td>\n",
       "      <td>3</td>\n",
       "      <td>2</td>\n",
       "      <td>0</td>\n",
       "    </tr>\n",
       "    <tr>\n",
       "      <th>3</th>\n",
       "      <td>2010</td>\n",
       "      <td>111925</td>\n",
       "      <td>6</td>\n",
       "      <td>35</td>\n",
       "      <td>2</td>\n",
       "      <td>700</td>\n",
       "      <td>99.50</td>\n",
       "      <td>LA</td>\n",
       "      <td>45</td>\n",
       "      <td>5</td>\n",
       "      <td>4</td>\n",
       "      <td>3</td>\n",
       "      <td>2</td>\n",
       "      <td>0</td>\n",
       "    </tr>\n",
       "    <tr>\n",
       "      <th>4</th>\n",
       "      <td>2010</td>\n",
       "      <td>111926</td>\n",
       "      <td>6</td>\n",
       "      <td>32</td>\n",
       "      <td>1</td>\n",
       "      <td>735</td>\n",
       "      <td>105.25</td>\n",
       "      <td>TX</td>\n",
       "      <td>26</td>\n",
       "      <td>3</td>\n",
       "      <td>4</td>\n",
       "      <td>4</td>\n",
       "      <td>4</td>\n",
       "      <td>1</td>\n",
       "    </tr>\n",
       "  </tbody>\n",
       "</table>\n",
       "</div>"
      ],
      "text/plain": [
       "   SYEAR   LOTID  SMONTH  HEAD  SEX   WT   PRICE STATE  STATECODE  SAREA  \\\n",
       "0   2010  111922       6    39    1  640  105.25    TX         26      3   \n",
       "1   2010  111923       6    39    2  640   98.25    TX         26      3   \n",
       "2   2010  111924       6    35    1  700  105.50    LA         45      5   \n",
       "3   2010  111925       6    35    2  700   99.50    LA         45      5   \n",
       "4   2010  111926       6    32    1  735  105.25    TX         26      3   \n",
       "\n",
       "   BREED  FRAME  FLESH  VAC  \n",
       "0      4      4      4    0  \n",
       "1      4      4      4    0  \n",
       "2      4      3      2    0  \n",
       "3      4      3      2    0  \n",
       "4      4      4      4    1  "
      ]
     },
     "execution_count": 851,
     "metadata": {},
     "output_type": "execute_result"
    }
   ],
   "source": [
    "# remove unnecessary columnS\n",
    "FEEDER = FEEDER.drop(['SUMMER','ATYPE'], axis=1)\n",
    "FEEDER.head()"
   ]
  },
  {
   "cell_type": "code",
   "execution_count": 852,
   "metadata": {},
   "outputs": [
    {
     "data": {
      "text/plain": [
       "STATE\n",
       "AL     176\n",
       "AR    1401\n",
       "AZ     231\n",
       "CA     219\n",
       "CO    1657\n",
       "FL      76\n",
       "GA     245\n",
       "IA     433\n",
       "ID     671\n",
       "IL      91\n",
       "IN       6\n",
       "KS    4203\n",
       "KY      61\n",
       "LA     294\n",
       "ME       1\n",
       "MI      74\n",
       "MN      37\n",
       "MO     745\n",
       "MS     120\n",
       "MT     740\n",
       "NC     180\n",
       "ND     136\n",
       "NE    1025\n",
       "NM     509\n",
       "NV     882\n",
       "NY       6\n",
       "OH       7\n",
       "OK    2232\n",
       "OR    1053\n",
       "PA       1\n",
       "SC      23\n",
       "SD     251\n",
       "TN      59\n",
       "TX    4389\n",
       "UT     520\n",
       "VA      26\n",
       "WA      83\n",
       "WI      89\n",
       "WV      22\n",
       "WY     871\n",
       "ar       2\n",
       "ok       5\n",
       "tx      10\n",
       "dtype: int64"
      ]
     },
     "execution_count": 852,
     "metadata": {},
     "output_type": "execute_result"
    }
   ],
   "source": [
    "# value count but using describe \n",
    "FEEDER.groupby('STATE').size()"
   ]
  },
  {
   "cell_type": "code",
   "execution_count": 853,
   "metadata": {},
   "outputs": [],
   "source": [
    "FEEDER = FEEDER.replace({'STATE': 'ar'}, {'STATE': 'AR'})"
   ]
  },
  {
   "cell_type": "code",
   "execution_count": 854,
   "metadata": {},
   "outputs": [],
   "source": [
    "FEEDER = FEEDER.replace({'STATE': 'ok'}, {'STATE': 'OK'})"
   ]
  },
  {
   "cell_type": "code",
   "execution_count": 855,
   "metadata": {},
   "outputs": [],
   "source": [
    "FEEDER = FEEDER.replace({'STATE': 'tx'}, {'STATE': 'TX'})"
   ]
  },
  {
   "cell_type": "markdown",
   "metadata": {},
   "source": [
    "### Combining Groups"
   ]
  },
  {
   "cell_type": "markdown",
   "metadata": {},
   "source": [
    "#### VAC"
   ]
  },
  {
   "cell_type": "code",
   "execution_count": 856,
   "metadata": {},
   "outputs": [
    {
     "data": {
      "text/plain": [
       "VAC\n",
       "0    19841\n",
       "1     4021\n",
       "dtype: int64"
      ]
     },
     "execution_count": 856,
     "metadata": {},
     "output_type": "execute_result"
    }
   ],
   "source": [
    "# value count but using describe \n",
    "FEEDER.groupby('VAC').size()"
   ]
  },
  {
   "cell_type": "markdown",
   "metadata": {},
   "source": [
    "#### There were 19,841 lots not qualifed for a vaccination program and 4,021 lots qualifed for a vaccination program."
   ]
  },
  {
   "cell_type": "markdown",
   "metadata": {},
   "source": [
    "#### FRAME"
   ]
  },
  {
   "cell_type": "code",
   "execution_count": 857,
   "metadata": {},
   "outputs": [
    {
     "data": {
      "text/plain": [
       "FRAME\n",
       "1       13\n",
       "2      149\n",
       "3     7890\n",
       "4    11727\n",
       "5     3549\n",
       "6      479\n",
       "7       55\n",
       "dtype: int64"
      ]
     },
     "execution_count": 857,
     "metadata": {},
     "output_type": "execute_result"
    }
   ],
   "source": [
    "# value count but using describe \n",
    "FEEDER.groupby('FRAME').size()"
   ]
  },
  {
   "cell_type": "code",
   "execution_count": 858,
   "metadata": {},
   "outputs": [],
   "source": [
    "FEEDER = FEEDER.replace({'FRAME': 1}, {'FRAME': 3})"
   ]
  },
  {
   "cell_type": "code",
   "execution_count": 859,
   "metadata": {},
   "outputs": [],
   "source": [
    "FEEDER = FEEDER.replace({'FRAME': 2}, {'FRAME': 3})"
   ]
  },
  {
   "cell_type": "code",
   "execution_count": 860,
   "metadata": {},
   "outputs": [],
   "source": [
    "FEEDER = FEEDER.replace({'FRAME': 7}, {'FRAME': 5})"
   ]
  },
  {
   "cell_type": "code",
   "execution_count": 861,
   "metadata": {},
   "outputs": [],
   "source": [
    "FEEDER = FEEDER.replace({'FRAME': 6}, {'FRAME': 5})"
   ]
  },
  {
   "cell_type": "code",
   "execution_count": 862,
   "metadata": {},
   "outputs": [
    {
     "data": {
      "text/plain": [
       "FRAME\n",
       "3     8052\n",
       "4    11727\n",
       "5     4083\n",
       "dtype: int64"
      ]
     },
     "execution_count": 862,
     "metadata": {},
     "output_type": "execute_result"
    }
   ],
   "source": [
    "# value count but using describe \n",
    "FEEDER.groupby('FRAME').size()"
   ]
  },
  {
   "cell_type": "markdown",
   "metadata": {},
   "source": [
    "#### Frame scores 1 and two were small and combined with group 3. Frame scores 6 and 7 were small and combined with 5. This leaves group 3=small, 4=medium, and 5=large."
   ]
  },
  {
   "cell_type": "markdown",
   "metadata": {},
   "source": [
    "#### FLESH"
   ]
  },
  {
   "cell_type": "code",
   "execution_count": 863,
   "metadata": {},
   "outputs": [
    {
     "data": {
      "text/plain": [
       "FLESH\n",
       "1       26\n",
       "2     1029\n",
       "3     1668\n",
       "4    19979\n",
       "5      796\n",
       "6      362\n",
       "7        2\n",
       "dtype: int64"
      ]
     },
     "execution_count": 863,
     "metadata": {},
     "output_type": "execute_result"
    }
   ],
   "source": [
    "# value count but using describe \n",
    "FEEDER.groupby('FLESH').size()"
   ]
  },
  {
   "cell_type": "code",
   "execution_count": 864,
   "metadata": {},
   "outputs": [],
   "source": [
    "FEEDER = FEEDER.replace({'FLESH': 1}, {'FLESH': 2})"
   ]
  },
  {
   "cell_type": "code",
   "execution_count": 865,
   "metadata": {},
   "outputs": [],
   "source": [
    "FEEDER = FEEDER.replace({'FLESH': 7}, {'FLESH': 5})"
   ]
  },
  {
   "cell_type": "code",
   "execution_count": 866,
   "metadata": {},
   "outputs": [],
   "source": [
    "FEEDER = FEEDER.replace({'FLESH': 6}, {'FLESH': 5})"
   ]
  },
  {
   "cell_type": "code",
   "execution_count": 867,
   "metadata": {},
   "outputs": [
    {
     "data": {
      "text/plain": [
       "FLESH\n",
       "2     1055\n",
       "3     1668\n",
       "4    19979\n",
       "5     1160\n",
       "dtype: int64"
      ]
     },
     "execution_count": 867,
     "metadata": {},
     "output_type": "execute_result"
    }
   ],
   "source": [
    "# value count but using describe \n",
    "FEEDER.groupby('FLESH').size()"
   ]
  },
  {
   "cell_type": "markdown",
   "metadata": {},
   "source": [
    "#### Flesh score 1 was small and combined with group 2. Flesh scores 6 and 7 were small and combined with 5. This leaves the final groups of 2=light, 3=light/medium, 4=medium, and 5=heavy."
   ]
  },
  {
   "cell_type": "markdown",
   "metadata": {},
   "source": [
    "#### BREED"
   ]
  },
  {
   "cell_type": "code",
   "execution_count": 868,
   "metadata": {},
   "outputs": [
    {
     "data": {
      "text/plain": [
       "BREED\n",
       "1    5263\n",
       "3    9095\n",
       "4    9504\n",
       "dtype: int64"
      ]
     },
     "execution_count": 868,
     "metadata": {},
     "output_type": "execute_result"
    }
   ],
   "source": [
    "# value count but using describe \n",
    "FEEDER.groupby('BREED').size()"
   ]
  },
  {
   "cell_type": "markdown",
   "metadata": {},
   "source": [
    "#### The breed composition of lots of feeder cattle were 5,263 lots of English, English crossed, 9,095 lots of English-Continental crossed, and 9,504 lots of Brahman-influenced."
   ]
  },
  {
   "cell_type": "markdown",
   "metadata": {},
   "source": [
    "#### SAREA"
   ]
  },
  {
   "cell_type": "code",
   "execution_count": 869,
   "metadata": {},
   "outputs": [
    {
     "data": {
      "text/plain": [
       "SAREA\n",
       "1     3428\n",
       "2     5410\n",
       "3    12324\n",
       "4       37\n",
       "5     2663\n",
       "dtype: int64"
      ]
     },
     "execution_count": 869,
     "metadata": {},
     "output_type": "execute_result"
    }
   ],
   "source": [
    "FEEDER.groupby('SAREA').size()"
   ]
  },
  {
   "cell_type": "code",
   "execution_count": 870,
   "metadata": {},
   "outputs": [],
   "source": [
    "FEEDER = FEEDER.replace({'SAREA': 4}, {'SAREA': 5})"
   ]
  },
  {
   "cell_type": "code",
   "execution_count": 871,
   "metadata": {},
   "outputs": [
    {
     "data": {
      "text/plain": [
       "SAREA\n",
       "1     3428\n",
       "2     5410\n",
       "3    12324\n",
       "5     2700\n",
       "dtype: int64"
      ]
     },
     "execution_count": 871,
     "metadata": {},
     "output_type": "execute_result"
    }
   ],
   "source": [
    "# value count but using describe \n",
    "FEEDER.groupby('SAREA').size()"
   ]
  },
  {
   "cell_type": "markdown",
   "metadata": {},
   "source": [
    "#### SAREA 4 was small and combined with SAREA 5."
   ]
  },
  {
   "cell_type": "markdown",
   "metadata": {},
   "source": [
    "## Exploratory Data Analysis"
   ]
  },
  {
   "cell_type": "code",
   "execution_count": 872,
   "metadata": {},
   "outputs": [
    {
     "data": {
      "text/html": [
       "<div>\n",
       "<style scoped>\n",
       "    .dataframe tbody tr th:only-of-type {\n",
       "        vertical-align: middle;\n",
       "    }\n",
       "\n",
       "    .dataframe tbody tr th {\n",
       "        vertical-align: top;\n",
       "    }\n",
       "\n",
       "    .dataframe thead th {\n",
       "        text-align: right;\n",
       "    }\n",
       "</style>\n",
       "<table border=\"1\" class=\"dataframe\">\n",
       "  <thead>\n",
       "    <tr style=\"text-align: right;\">\n",
       "      <th></th>\n",
       "      <th>SYEAR</th>\n",
       "      <th>LOTID</th>\n",
       "      <th>SMONTH</th>\n",
       "      <th>HEAD</th>\n",
       "      <th>SEX</th>\n",
       "      <th>WT</th>\n",
       "      <th>PRICE</th>\n",
       "      <th>STATECODE</th>\n",
       "      <th>SAREA</th>\n",
       "      <th>BREED</th>\n",
       "      <th>FRAME</th>\n",
       "      <th>FLESH</th>\n",
       "      <th>VAC</th>\n",
       "    </tr>\n",
       "  </thead>\n",
       "  <tbody>\n",
       "    <tr>\n",
       "      <th>count</th>\n",
       "      <td>23862.000000</td>\n",
       "      <td>23862.000000</td>\n",
       "      <td>23862.000000</td>\n",
       "      <td>23862.000000</td>\n",
       "      <td>23862.000000</td>\n",
       "      <td>23862.000000</td>\n",
       "      <td>23862.000000</td>\n",
       "      <td>23862.000000</td>\n",
       "      <td>23862.000000</td>\n",
       "      <td>23862.000000</td>\n",
       "      <td>23862.000000</td>\n",
       "      <td>23862.000000</td>\n",
       "      <td>23862.000000</td>\n",
       "    </tr>\n",
       "    <tr>\n",
       "      <th>mean</th>\n",
       "      <td>2006.862794</td>\n",
       "      <td>102383.966181</td>\n",
       "      <td>7.381779</td>\n",
       "      <td>125.887646</td>\n",
       "      <td>1.387436</td>\n",
       "      <td>783.060096</td>\n",
       "      <td>114.905306</td>\n",
       "      <td>20.295658</td>\n",
       "      <td>2.712262</td>\n",
       "      <td>2.957170</td>\n",
       "      <td>3.833669</td>\n",
       "      <td>3.890286</td>\n",
       "      <td>0.168511</td>\n",
       "    </tr>\n",
       "    <tr>\n",
       "      <th>std</th>\n",
       "      <td>6.809251</td>\n",
       "      <td>68804.910226</td>\n",
       "      <td>1.265613</td>\n",
       "      <td>115.485876</td>\n",
       "      <td>0.487175</td>\n",
       "      <td>84.878691</td>\n",
       "      <td>40.284065</td>\n",
       "      <td>11.163846</td>\n",
       "      <td>1.082227</td>\n",
       "      <td>1.130818</td>\n",
       "      <td>0.693472</td>\n",
       "      <td>0.532297</td>\n",
       "      <td>0.374327</td>\n",
       "    </tr>\n",
       "    <tr>\n",
       "      <th>min</th>\n",
       "      <td>1996.000000</td>\n",
       "      <td>2935.000000</td>\n",
       "      <td>4.000000</td>\n",
       "      <td>4.000000</td>\n",
       "      <td>1.000000</td>\n",
       "      <td>420.000000</td>\n",
       "      <td>45.000000</td>\n",
       "      <td>0.000000</td>\n",
       "      <td>1.000000</td>\n",
       "      <td>1.000000</td>\n",
       "      <td>3.000000</td>\n",
       "      <td>2.000000</td>\n",
       "      <td>0.000000</td>\n",
       "    </tr>\n",
       "    <tr>\n",
       "      <th>25%</th>\n",
       "      <td>2001.000000</td>\n",
       "      <td>41040.500000</td>\n",
       "      <td>7.000000</td>\n",
       "      <td>63.000000</td>\n",
       "      <td>1.000000</td>\n",
       "      <td>725.000000</td>\n",
       "      <td>82.500000</td>\n",
       "      <td>10.000000</td>\n",
       "      <td>2.000000</td>\n",
       "      <td>3.000000</td>\n",
       "      <td>3.000000</td>\n",
       "      <td>4.000000</td>\n",
       "      <td>0.000000</td>\n",
       "    </tr>\n",
       "    <tr>\n",
       "      <th>50%</th>\n",
       "      <td>2005.000000</td>\n",
       "      <td>85380.500000</td>\n",
       "      <td>7.000000</td>\n",
       "      <td>74.000000</td>\n",
       "      <td>1.000000</td>\n",
       "      <td>780.000000</td>\n",
       "      <td>108.000000</td>\n",
       "      <td>22.000000</td>\n",
       "      <td>3.000000</td>\n",
       "      <td>3.000000</td>\n",
       "      <td>4.000000</td>\n",
       "      <td>4.000000</td>\n",
       "      <td>0.000000</td>\n",
       "    </tr>\n",
       "    <tr>\n",
       "      <th>75%</th>\n",
       "      <td>2013.000000</td>\n",
       "      <td>159297.750000</td>\n",
       "      <td>8.000000</td>\n",
       "      <td>140.000000</td>\n",
       "      <td>2.000000</td>\n",
       "      <td>840.000000</td>\n",
       "      <td>137.825000</td>\n",
       "      <td>26.000000</td>\n",
       "      <td>3.000000</td>\n",
       "      <td>4.000000</td>\n",
       "      <td>4.000000</td>\n",
       "      <td>4.000000</td>\n",
       "      <td>0.000000</td>\n",
       "    </tr>\n",
       "    <tr>\n",
       "      <th>max</th>\n",
       "      <td>2018.000000</td>\n",
       "      <td>238997.000000</td>\n",
       "      <td>11.000000</td>\n",
       "      <td>1800.000000</td>\n",
       "      <td>2.000000</td>\n",
       "      <td>1125.000000</td>\n",
       "      <td>267.000000</td>\n",
       "      <td>50.000000</td>\n",
       "      <td>5.000000</td>\n",
       "      <td>4.000000</td>\n",
       "      <td>5.000000</td>\n",
       "      <td>5.000000</td>\n",
       "      <td>1.000000</td>\n",
       "    </tr>\n",
       "  </tbody>\n",
       "</table>\n",
       "</div>"
      ],
      "text/plain": [
       "              SYEAR          LOTID        SMONTH          HEAD           SEX  \\\n",
       "count  23862.000000   23862.000000  23862.000000  23862.000000  23862.000000   \n",
       "mean    2006.862794  102383.966181      7.381779    125.887646      1.387436   \n",
       "std        6.809251   68804.910226      1.265613    115.485876      0.487175   \n",
       "min     1996.000000    2935.000000      4.000000      4.000000      1.000000   \n",
       "25%     2001.000000   41040.500000      7.000000     63.000000      1.000000   \n",
       "50%     2005.000000   85380.500000      7.000000     74.000000      1.000000   \n",
       "75%     2013.000000  159297.750000      8.000000    140.000000      2.000000   \n",
       "max     2018.000000  238997.000000     11.000000   1800.000000      2.000000   \n",
       "\n",
       "                 WT         PRICE     STATECODE         SAREA         BREED  \\\n",
       "count  23862.000000  23862.000000  23862.000000  23862.000000  23862.000000   \n",
       "mean     783.060096    114.905306     20.295658      2.712262      2.957170   \n",
       "std       84.878691     40.284065     11.163846      1.082227      1.130818   \n",
       "min      420.000000     45.000000      0.000000      1.000000      1.000000   \n",
       "25%      725.000000     82.500000     10.000000      2.000000      3.000000   \n",
       "50%      780.000000    108.000000     22.000000      3.000000      3.000000   \n",
       "75%      840.000000    137.825000     26.000000      3.000000      4.000000   \n",
       "max     1125.000000    267.000000     50.000000      5.000000      4.000000   \n",
       "\n",
       "              FRAME         FLESH           VAC  \n",
       "count  23862.000000  23862.000000  23862.000000  \n",
       "mean       3.833669      3.890286      0.168511  \n",
       "std        0.693472      0.532297      0.374327  \n",
       "min        3.000000      2.000000      0.000000  \n",
       "25%        3.000000      4.000000      0.000000  \n",
       "50%        4.000000      4.000000      0.000000  \n",
       "75%        4.000000      4.000000      0.000000  \n",
       "max        5.000000      5.000000      1.000000  "
      ]
     },
     "execution_count": 872,
     "metadata": {},
     "output_type": "execute_result"
    }
   ],
   "source": [
    "#Describe shows a quick statistic summary of your data\n",
    "#this is a good way to examine the numerical columns\n",
    "FEEDER.describe()"
   ]
  },
  {
   "cell_type": "code",
   "execution_count": 873,
   "metadata": {
    "scrolled": false
   },
   "outputs": [
    {
     "data": {
      "text/plain": [
       "array([[<matplotlib.axes._subplots.AxesSubplot object at 0x0000000068AFAE80>,\n",
       "        <matplotlib.axes._subplots.AxesSubplot object at 0x0000000068BED198>,\n",
       "        <matplotlib.axes._subplots.AxesSubplot object at 0x0000000068822588>,\n",
       "        <matplotlib.axes._subplots.AxesSubplot object at 0x00000000686B7978>],\n",
       "       [<matplotlib.axes._subplots.AxesSubplot object at 0x00000000686EBCF8>,\n",
       "        <matplotlib.axes._subplots.AxesSubplot object at 0x00000000685F2080>,\n",
       "        <matplotlib.axes._subplots.AxesSubplot object at 0x0000000068A08470>,\n",
       "        <matplotlib.axes._subplots.AxesSubplot object at 0x0000000068A3D860>],\n",
       "       [<matplotlib.axes._subplots.AxesSubplot object at 0x0000000068C71C50>,\n",
       "        <matplotlib.axes._subplots.AxesSubplot object at 0x0000000068D88080>,\n",
       "        <matplotlib.axes._subplots.AxesSubplot object at 0x0000000068E44470>,\n",
       "        <matplotlib.axes._subplots.AxesSubplot object at 0x0000000068E7C860>],\n",
       "       [<matplotlib.axes._subplots.AxesSubplot object at 0x0000000068F36C50>,\n",
       "        <matplotlib.axes._subplots.AxesSubplot object at 0x0000000068FBC080>,\n",
       "        <matplotlib.axes._subplots.AxesSubplot object at 0x0000000069035470>,\n",
       "        <matplotlib.axes._subplots.AxesSubplot object at 0x00000000690F0860>]],\n",
       "      dtype=object)"
      ]
     },
     "execution_count": 873,
     "metadata": {},
     "output_type": "execute_result"
    },
    {
     "data": {
      "image/png": "[encoded data removed]",
      "text/plain": [
       "<Figure size 864x864 with 16 Axes>"
      ]
     },
     "metadata": {},
     "output_type": "display_data"
    }
   ],
   "source": [
    "FEEDER.hist(figsize=(12,12))"
   ]
  },
  {
   "cell_type": "code",
   "execution_count": 877,
   "metadata": {},
   "outputs": [
    {
     "data": {
      "text/html": [
       "<div>\n",
       "<style scoped>\n",
       "    .dataframe tbody tr th:only-of-type {\n",
       "        vertical-align: middle;\n",
       "    }\n",
       "\n",
       "    .dataframe tbody tr th {\n",
       "        vertical-align: top;\n",
       "    }\n",
       "\n",
       "    .dataframe thead th {\n",
       "        text-align: right;\n",
       "    }\n",
       "</style>\n",
       "<table border=\"1\" class=\"dataframe\">\n",
       "  <thead>\n",
       "    <tr style=\"text-align: right;\">\n",
       "      <th></th>\n",
       "      <th>SYEAR</th>\n",
       "      <th>LOTID</th>\n",
       "      <th>SMONTH</th>\n",
       "      <th>HEAD</th>\n",
       "      <th>SEX</th>\n",
       "      <th>WT</th>\n",
       "      <th>PRICE</th>\n",
       "      <th>STATECODE</th>\n",
       "      <th>SAREA</th>\n",
       "      <th>BREED</th>\n",
       "      <th>FRAME</th>\n",
       "      <th>FLESH</th>\n",
       "      <th>VAC</th>\n",
       "    </tr>\n",
       "  </thead>\n",
       "  <tbody>\n",
       "    <tr>\n",
       "      <th>SYEAR</th>\n",
       "      <td>1.000000</td>\n",
       "      <td>0.990944</td>\n",
       "      <td>-0.103676</td>\n",
       "      <td>-0.041727</td>\n",
       "      <td>-0.057300</td>\n",
       "      <td>0.246894</td>\n",
       "      <td>0.835596</td>\n",
       "      <td>-0.168724</td>\n",
       "      <td>-0.039077</td>\n",
       "      <td>-0.225968</td>\n",
       "      <td>0.138352</td>\n",
       "      <td>-0.035072</td>\n",
       "      <td>0.365210</td>\n",
       "    </tr>\n",
       "    <tr>\n",
       "      <th>LOTID</th>\n",
       "      <td>0.990944</td>\n",
       "      <td>1.000000</td>\n",
       "      <td>-0.064766</td>\n",
       "      <td>-0.042079</td>\n",
       "      <td>-0.053624</td>\n",
       "      <td>0.241405</td>\n",
       "      <td>0.832601</td>\n",
       "      <td>-0.193013</td>\n",
       "      <td>-0.040503</td>\n",
       "      <td>-0.226524</td>\n",
       "      <td>0.145319</td>\n",
       "      <td>-0.032461</td>\n",
       "      <td>0.366607</td>\n",
       "    </tr>\n",
       "    <tr>\n",
       "      <th>SMONTH</th>\n",
       "      <td>-0.103676</td>\n",
       "      <td>-0.064766</td>\n",
       "      <td>1.000000</td>\n",
       "      <td>-0.023245</td>\n",
       "      <td>0.002478</td>\n",
       "      <td>-0.106987</td>\n",
       "      <td>-0.081078</td>\n",
       "      <td>-0.005845</td>\n",
       "      <td>-0.012720</td>\n",
       "      <td>0.013944</td>\n",
       "      <td>-0.029735</td>\n",
       "      <td>-0.007994</td>\n",
       "      <td>-0.009123</td>\n",
       "    </tr>\n",
       "    <tr>\n",
       "      <th>HEAD</th>\n",
       "      <td>-0.041727</td>\n",
       "      <td>-0.042079</td>\n",
       "      <td>-0.023245</td>\n",
       "      <td>1.000000</td>\n",
       "      <td>-0.067081</td>\n",
       "      <td>0.083327</td>\n",
       "      <td>-0.025014</td>\n",
       "      <td>-0.087257</td>\n",
       "      <td>-0.105415</td>\n",
       "      <td>0.022269</td>\n",
       "      <td>-0.000113</td>\n",
       "      <td>-0.005740</td>\n",
       "      <td>-0.067963</td>\n",
       "    </tr>\n",
       "    <tr>\n",
       "      <th>SEX</th>\n",
       "      <td>-0.057300</td>\n",
       "      <td>-0.053624</td>\n",
       "      <td>0.002478</td>\n",
       "      <td>-0.067081</td>\n",
       "      <td>1.000000</td>\n",
       "      <td>-0.369070</td>\n",
       "      <td>-0.100595</td>\n",
       "      <td>0.060387</td>\n",
       "      <td>0.069802</td>\n",
       "      <td>0.043131</td>\n",
       "      <td>-0.078557</td>\n",
       "      <td>0.001504</td>\n",
       "      <td>-0.012612</td>\n",
       "    </tr>\n",
       "    <tr>\n",
       "      <th>WT</th>\n",
       "      <td>0.246894</td>\n",
       "      <td>0.241405</td>\n",
       "      <td>-0.106987</td>\n",
       "      <td>0.083327</td>\n",
       "      <td>-0.369070</td>\n",
       "      <td>1.000000</td>\n",
       "      <td>0.181884</td>\n",
       "      <td>-0.250077</td>\n",
       "      <td>-0.256010</td>\n",
       "      <td>-0.318067</td>\n",
       "      <td>0.179771</td>\n",
       "      <td>0.172594</td>\n",
       "      <td>0.032489</td>\n",
       "    </tr>\n",
       "    <tr>\n",
       "      <th>PRICE</th>\n",
       "      <td>0.835596</td>\n",
       "      <td>0.832601</td>\n",
       "      <td>-0.081078</td>\n",
       "      <td>-0.025014</td>\n",
       "      <td>-0.100595</td>\n",
       "      <td>0.181884</td>\n",
       "      <td>1.000000</td>\n",
       "      <td>-0.106882</td>\n",
       "      <td>-0.050853</td>\n",
       "      <td>-0.206481</td>\n",
       "      <td>0.129784</td>\n",
       "      <td>-0.039477</td>\n",
       "      <td>0.302515</td>\n",
       "    </tr>\n",
       "    <tr>\n",
       "      <th>STATECODE</th>\n",
       "      <td>-0.168724</td>\n",
       "      <td>-0.193013</td>\n",
       "      <td>-0.005845</td>\n",
       "      <td>-0.087257</td>\n",
       "      <td>0.060387</td>\n",
       "      <td>-0.250077</td>\n",
       "      <td>-0.106882</td>\n",
       "      <td>1.000000</td>\n",
       "      <td>0.876676</td>\n",
       "      <td>0.392879</td>\n",
       "      <td>-0.058890</td>\n",
       "      <td>-0.087592</td>\n",
       "      <td>-0.013126</td>\n",
       "    </tr>\n",
       "    <tr>\n",
       "      <th>SAREA</th>\n",
       "      <td>-0.039077</td>\n",
       "      <td>-0.040503</td>\n",
       "      <td>-0.012720</td>\n",
       "      <td>-0.105415</td>\n",
       "      <td>0.069802</td>\n",
       "      <td>-0.256010</td>\n",
       "      <td>-0.050853</td>\n",
       "      <td>0.876676</td>\n",
       "      <td>1.000000</td>\n",
       "      <td>0.406660</td>\n",
       "      <td>-0.021669</td>\n",
       "      <td>-0.082012</td>\n",
       "      <td>0.040139</td>\n",
       "    </tr>\n",
       "    <tr>\n",
       "      <th>BREED</th>\n",
       "      <td>-0.225968</td>\n",
       "      <td>-0.226524</td>\n",
       "      <td>0.013944</td>\n",
       "      <td>0.022269</td>\n",
       "      <td>0.043131</td>\n",
       "      <td>-0.318067</td>\n",
       "      <td>-0.206481</td>\n",
       "      <td>0.392879</td>\n",
       "      <td>0.406660</td>\n",
       "      <td>1.000000</td>\n",
       "      <td>0.009941</td>\n",
       "      <td>-0.059608</td>\n",
       "      <td>-0.113540</td>\n",
       "    </tr>\n",
       "    <tr>\n",
       "      <th>FRAME</th>\n",
       "      <td>0.138352</td>\n",
       "      <td>0.145319</td>\n",
       "      <td>-0.029735</td>\n",
       "      <td>-0.000113</td>\n",
       "      <td>-0.078557</td>\n",
       "      <td>0.179771</td>\n",
       "      <td>0.129784</td>\n",
       "      <td>-0.058890</td>\n",
       "      <td>-0.021669</td>\n",
       "      <td>0.009941</td>\n",
       "      <td>1.000000</td>\n",
       "      <td>0.019022</td>\n",
       "      <td>0.041786</td>\n",
       "    </tr>\n",
       "    <tr>\n",
       "      <th>FLESH</th>\n",
       "      <td>-0.035072</td>\n",
       "      <td>-0.032461</td>\n",
       "      <td>-0.007994</td>\n",
       "      <td>-0.005740</td>\n",
       "      <td>0.001504</td>\n",
       "      <td>0.172594</td>\n",
       "      <td>-0.039477</td>\n",
       "      <td>-0.087592</td>\n",
       "      <td>-0.082012</td>\n",
       "      <td>-0.059608</td>\n",
       "      <td>0.019022</td>\n",
       "      <td>1.000000</td>\n",
       "      <td>0.026325</td>\n",
       "    </tr>\n",
       "    <tr>\n",
       "      <th>VAC</th>\n",
       "      <td>0.365210</td>\n",
       "      <td>0.366607</td>\n",
       "      <td>-0.009123</td>\n",
       "      <td>-0.067963</td>\n",
       "      <td>-0.012612</td>\n",
       "      <td>0.032489</td>\n",
       "      <td>0.302515</td>\n",
       "      <td>-0.013126</td>\n",
       "      <td>0.040139</td>\n",
       "      <td>-0.113540</td>\n",
       "      <td>0.041786</td>\n",
       "      <td>0.026325</td>\n",
       "      <td>1.000000</td>\n",
       "    </tr>\n",
       "  </tbody>\n",
       "</table>\n",
       "</div>"
      ],
      "text/plain": [
       "              SYEAR     LOTID    SMONTH      HEAD       SEX        WT  \\\n",
       "SYEAR      1.000000  0.990944 -0.103676 -0.041727 -0.057300  0.246894   \n",
       "LOTID      0.990944  1.000000 -0.064766 -0.042079 -0.053624  0.241405   \n",
       "SMONTH    -0.103676 -0.064766  1.000000 -0.023245  0.002478 -0.106987   \n",
       "HEAD      -0.041727 -0.042079 -0.023245  1.000000 -0.067081  0.083327   \n",
       "SEX       -0.057300 -0.053624  0.002478 -0.067081  1.000000 -0.369070   \n",
       "WT         0.246894  0.241405 -0.106987  0.083327 -0.369070  1.000000   \n",
       "PRICE      0.835596  0.832601 -0.081078 -0.025014 -0.100595  0.181884   \n",
       "STATECODE -0.168724 -0.193013 -0.005845 -0.087257  0.060387 -0.250077   \n",
       "SAREA     -0.039077 -0.040503 -0.012720 -0.105415  0.069802 -0.256010   \n",
       "BREED     -0.225968 -0.226524  0.013944  0.022269  0.043131 -0.318067   \n",
       "FRAME      0.138352  0.145319 -0.029735 -0.000113 -0.078557  0.179771   \n",
       "FLESH     -0.035072 -0.032461 -0.007994 -0.005740  0.001504  0.172594   \n",
       "VAC        0.365210  0.366607 -0.009123 -0.067963 -0.012612  0.032489   \n",
       "\n",
       "              PRICE  STATECODE     SAREA     BREED     FRAME     FLESH  \\\n",
       "SYEAR      0.835596  -0.168724 -0.039077 -0.225968  0.138352 -0.035072   \n",
       "LOTID      0.832601  -0.193013 -0.040503 -0.226524  0.145319 -0.032461   \n",
       "SMONTH    -0.081078  -0.005845 -0.012720  0.013944 -0.029735 -0.007994   \n",
       "HEAD      -0.025014  -0.087257 -0.105415  0.022269 -0.000113 -0.005740   \n",
       "SEX       -0.100595   0.060387  0.069802  0.043131 -0.078557  0.001504   \n",
       "WT         0.181884  -0.250077 -0.256010 -0.318067  0.179771  0.172594   \n",
       "PRICE      1.000000  -0.106882 -0.050853 -0.206481  0.129784 -0.039477   \n",
       "STATECODE -0.106882   1.000000  0.876676  0.392879 -0.058890 -0.087592   \n",
       "SAREA     -0.050853   0.876676  1.000000  0.406660 -0.021669 -0.082012   \n",
       "BREED     -0.206481   0.392879  0.406660  1.000000  0.009941 -0.059608   \n",
       "FRAME      0.129784  -0.058890 -0.021669  0.009941  1.000000  0.019022   \n",
       "FLESH     -0.039477  -0.087592 -0.082012 -0.059608  0.019022  1.000000   \n",
       "VAC        0.302515  -0.013126  0.040139 -0.113540  0.041786  0.026325   \n",
       "\n",
       "                VAC  \n",
       "SYEAR      0.365210  \n",
       "LOTID      0.366607  \n",
       "SMONTH    -0.009123  \n",
       "HEAD      -0.067963  \n",
       "SEX       -0.012612  \n",
       "WT         0.032489  \n",
       "PRICE      0.302515  \n",
       "STATECODE -0.013126  \n",
       "SAREA      0.040139  \n",
       "BREED     -0.113540  \n",
       "FRAME      0.041786  \n",
       "FLESH      0.026325  \n",
       "VAC        1.000000  "
      ]
     },
     "execution_count": 877,
     "metadata": {},
     "output_type": "execute_result"
    }
   ],
   "source": [
    "FEEDER.corr()"
   ]
  },
  {
   "cell_type": "code",
   "execution_count": 875,
   "metadata": {},
   "outputs": [
    {
     "data": {
      "text/plain": [
       "<matplotlib.axes._subplots.AxesSubplot at 0x67eb2ac8>"
      ]
     },
     "execution_count": 875,
     "metadata": {},
     "output_type": "execute_result"
    },
    {
     "data": {
      "image/png": "[encoded data removed]",
      "text/plain": [
       "<Figure size 864x864 with 2 Axes>"
      ]
     },
     "metadata": {},
     "output_type": "display_data"
    }
   ],
   "source": [
    "# heat map of correlation\n",
    "plt.figure(figsize=(12,12))\n",
    "sns.heatmap(FEEDER.corr())"
   ]
  },
  {
   "cell_type": "markdown",
   "metadata": {},
   "source": [
    "Because of the large number of categorical variables in this dataset, correctly interpreting a correlation has limitations. "
   ]
  },
  {
   "cell_type": "code",
   "execution_count": 874,
   "metadata": {},
   "outputs": [],
   "source": [
    "#Exporting Data to CSV to use in Tableau for Data Visulaization \n",
    "#Tableau charts shared in a PowerPoint File \n",
    "FEEDER.to_csv(\"data/FEEDER1.csv\")"
   ]
  }
 ],
 "metadata": {
  "kernelspec": {
   "display_name": "Python 2",
   "language": "python",
   "name": "python2"
  },
  "language_info": {
   "codemirror_mode": {
    "name": "ipython",
    "version": 2
   },
   "file_extension": ".py",
   "mimetype": "text/x-python",
   "name": "python",
   "nbconvert_exporter": "python",
   "pygments_lexer": "ipython2",
   "version": "2.7.15"
  }
 },
 "nbformat": 4,
 "nbformat_minor": 2
}
