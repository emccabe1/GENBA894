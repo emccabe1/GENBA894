{
 "cells": [
  {
   "cell_type": "markdown",
   "metadata": {},
   "source": [
    "# Esther McCabe\n",
    "### June 24, 2019\n",
    "### GENBA 894"
   ]
  },
  {
   "cell_type": "markdown",
   "metadata": {},
   "source": [
    "## Factors that influence the sale price of lots of beef calves and feeder cattle sold via summer video auction from 1995 through 2018"
   ]
  },
  {
   "cell_type": "code",
   "execution_count": 200,
   "metadata": {},
   "outputs": [
    {
     "data": {
      "text/html": [
       "<img src=\"https://www.beefmagazine.com/sites/beefmagazine.com/files/styles/article_featured_standard/public/baby-beef-calves-weaned20070718dab48.jpg?itok=-978nEuZ\"/>"
      ],
      "text/plain": [
       "<IPython.core.display.Image object>"
      ]
     },
     "execution_count": 200,
     "metadata": {},
     "output_type": "execute_result"
    }
   ],
   "source": [
    "from IPython.display import Image\n",
    "from IPython.core.display import HTML \n",
    "Image(url= \"https://www.beefmagazine.com/sites/beefmagazine.com/files/styles/article_featured_standard/public/baby-beef-calves-weaned20070718dab48.jpg?itok=-978nEuZ\")"
   ]
  },
  {
   "cell_type": "markdown",
   "metadata": {},
   "source": [
    "## Data Description"
   ]
  },
  {
   "cell_type": "markdown",
   "metadata": {},
   "source": [
    "#### This observational dataset has been collected since 1995 through 2018 from one video auction company. Over the last 24 years, the same person has input all data into the database. The database is currently maintained in Access and updated throughout the year. There are 241,278 lots of cattle in the database, each with numerous variables collected such as sale date, weight, breed, etc. All the lot information is provided electronically by the video auction company. These 241,278 lots represent 26,435,097 head of cattle. \n",
    "\n",
    "#### For this project, only sold lots of beef calves from the summer sales are included, which includes 94,872 lots."
   ]
  },
  {
   "cell_type": "markdown",
   "metadata": {},
   "source": [
    "#### Variables:\n",
    "- SYEAR: Sale Year 1995 - 2018\n",
    "- LOTID: Count of number of lots of beef calves\n",
    "- SMONTH: Sale Month 1=January, 12=December\n",
    "- SUMMER: Sold in a summer sale, all 1=Yes\n",
    "- HEAD: Number of calves in a lot\n",
    "- SEX: Gender of lot, 1=Steer, 2=Heifer\n",
    "- ATYPE: Animal Type, 0=Unweaned, 1=Weaned\n",
    "- WT: Average weight of the lot (total lot weight/# of head in lot)\n",
    "- PRICE: Sale Price of lot ($/cwt)\n",
    "- STATE: STate of origin of lot\n",
    "- STATECODE: Code of state, alphabetical order starting with 1\n",
    "- SAREA: Sale area, the states are divided into five areas or regions, 1=West Coast, 2=Rocky Mountain/North Central, 3=South Central, 4=Northeast, 5=Southeast\n",
    "- BREED: General breed of the lot, 1=English, English crossed, 3=English-Contenintal crossed, 4=Brahman-influenced\n",
    "- FRAME: Frame score of calves in lot, 3=Small, 4=Medium, 5=Large\n",
    "- FLESH: Amount of flesh (body condition) of calves in lot, 2=Light, 3=Light/Medium, 4=Medium, 5=Heavy\n",
    "- VAC: Vaccinations of lot, 0=vaccinated but not qualified for program, 1=vaccinated and qualify for program\n"
   ]
  },
  {
   "cell_type": "markdown",
   "metadata": {},
   "source": [
    "### Feeder Cattle Lots\n",
    "\n",
    "Lots of feeder cattle are included in the dataset as well, however, feeder cattle lots are not as frequent and do not appear every year (present 1996 - 2018).  \n",
    "\n",
    "#### Variables:\n",
    "- SYEAR: Sale Year 1995 - 2018\n",
    "- LOTID: Count of number of lots of beef calves\n",
    "- SMONTH: Sale Month 1=January, 12=December\n",
    "- SUMMER: Sold in a summer sale, all 1=Yes\n",
    "- HEAD: Number of calves in a lot\n",
    "- SEX: Gender of lot, 1=Steer, 2=Heifer\n",
    "- ATYPE: Animal Type, 0=Unweaned, 1=Weaned\n",
    "- WT: Average weight of the lot (total lot weight/# of head in lot)\n",
    "- PRICE: Sale Price of lot ($/cwt)\n",
    "- STATE: STate of origin of lot\n",
    "- STATECODE: Code of state, alphabetical order starting with 1\n",
    "- SAREA: Sale area, the states are divided into five areas or regions, 1=West Coast, 2=Rocky Mountain/North Central, 3=South Central, 4=Northeast, 5=Southeast\n",
    "- BREED: General breed of the lot, 1=English, English crossed, 3=English-Contenintal crossed, 4=Brahman-influenced\n",
    "- FRAME: Frame score of calves in lot, 3=Small, 4=Medium, 5=Large\n",
    "- FLESH: Amount of flesh (body condition) of calves in lot, 2=Light, 3=Light/Medium, 4=Medium, 5=Heavy\n",
    "- VAC: Vaccinations of lot, 0=vaccinated but not qualified for program, 1=vaccinated and qualify for program"
   ]
  },
  {
   "cell_type": "code",
   "execution_count": 41,
   "metadata": {},
   "outputs": [],
   "source": [
    "# import python packages\n",
    "import pandas as pd\n",
    "import numpy as np\n",
    "import seaborn as sns\n",
    "from scipy import stats\n",
    "from pandas.tools import plotting\n",
    "import matplotlib.pyplot as plt\n",
    "%matplotlib inline"
   ]
  },
  {
   "cell_type": "markdown",
   "metadata": {},
   "source": [
    "## Lots of Beef Calves"
   ]
  },
  {
   "cell_type": "code",
   "execution_count": 159,
   "metadata": {},
   "outputs": [
    {
     "data": {
      "text/html": [
       "<div>\n",
       "<style scoped>\n",
       "    .dataframe tbody tr th:only-of-type {\n",
       "        vertical-align: middle;\n",
       "    }\n",
       "\n",
       "    .dataframe tbody tr th {\n",
       "        vertical-align: top;\n",
       "    }\n",
       "\n",
       "    .dataframe thead th {\n",
       "        text-align: right;\n",
       "    }\n",
       "</style>\n",
       "<table border=\"1\" class=\"dataframe\">\n",
       "  <thead>\n",
       "    <tr style=\"text-align: right;\">\n",
       "      <th></th>\n",
       "      <th>SYEAR</th>\n",
       "      <th>LOTID</th>\n",
       "      <th>SMONTH</th>\n",
       "      <th>SUMMER</th>\n",
       "      <th>HEAD</th>\n",
       "      <th>SEX</th>\n",
       "      <th>ATYPE</th>\n",
       "      <th>WT</th>\n",
       "      <th>PRICE</th>\n",
       "      <th>STATE</th>\n",
       "      <th>STATECODE</th>\n",
       "      <th>SAREA</th>\n",
       "      <th>BREED</th>\n",
       "      <th>FRAME</th>\n",
       "      <th>FLESH</th>\n",
       "      <th>VAC</th>\n",
       "    </tr>\n",
       "  </thead>\n",
       "  <tbody>\n",
       "    <tr>\n",
       "      <th>0</th>\n",
       "      <td>1995</td>\n",
       "      <td>1</td>\n",
       "      <td>6</td>\n",
       "      <td>1</td>\n",
       "      <td>115</td>\n",
       "      <td>1</td>\n",
       "      <td>1</td>\n",
       "      <td>425</td>\n",
       "      <td>81.25</td>\n",
       "      <td>OK</td>\n",
       "      <td>25</td>\n",
       "      <td>3</td>\n",
       "      <td>3</td>\n",
       "      <td>4</td>\n",
       "      <td>4</td>\n",
       "      <td>1</td>\n",
       "    </tr>\n",
       "    <tr>\n",
       "      <th>1</th>\n",
       "      <td>1995</td>\n",
       "      <td>2</td>\n",
       "      <td>6</td>\n",
       "      <td>1</td>\n",
       "      <td>220</td>\n",
       "      <td>1</td>\n",
       "      <td>1</td>\n",
       "      <td>460</td>\n",
       "      <td>80.00</td>\n",
       "      <td>OK</td>\n",
       "      <td>25</td>\n",
       "      <td>3</td>\n",
       "      <td>3</td>\n",
       "      <td>4</td>\n",
       "      <td>4</td>\n",
       "      <td>1</td>\n",
       "    </tr>\n",
       "    <tr>\n",
       "      <th>2</th>\n",
       "      <td>1995</td>\n",
       "      <td>3</td>\n",
       "      <td>6</td>\n",
       "      <td>1</td>\n",
       "      <td>84</td>\n",
       "      <td>1</td>\n",
       "      <td>1</td>\n",
       "      <td>570</td>\n",
       "      <td>77.00</td>\n",
       "      <td>MO</td>\n",
       "      <td>23</td>\n",
       "      <td>3</td>\n",
       "      <td>1</td>\n",
       "      <td>4</td>\n",
       "      <td>4</td>\n",
       "      <td>1</td>\n",
       "    </tr>\n",
       "    <tr>\n",
       "      <th>3</th>\n",
       "      <td>1995</td>\n",
       "      <td>4</td>\n",
       "      <td>6</td>\n",
       "      <td>1</td>\n",
       "      <td>83</td>\n",
       "      <td>1</td>\n",
       "      <td>1</td>\n",
       "      <td>610</td>\n",
       "      <td>74.50</td>\n",
       "      <td>KS</td>\n",
       "      <td>22</td>\n",
       "      <td>3</td>\n",
       "      <td>3</td>\n",
       "      <td>5</td>\n",
       "      <td>4</td>\n",
       "      <td>0</td>\n",
       "    </tr>\n",
       "    <tr>\n",
       "      <th>4</th>\n",
       "      <td>1995</td>\n",
       "      <td>5</td>\n",
       "      <td>6</td>\n",
       "      <td>1</td>\n",
       "      <td>155</td>\n",
       "      <td>1</td>\n",
       "      <td>1</td>\n",
       "      <td>625</td>\n",
       "      <td>68.10</td>\n",
       "      <td>MS</td>\n",
       "      <td>46</td>\n",
       "      <td>5</td>\n",
       "      <td>4</td>\n",
       "      <td>3</td>\n",
       "      <td>4</td>\n",
       "      <td>0</td>\n",
       "    </tr>\n",
       "  </tbody>\n",
       "</table>\n",
       "</div>"
      ],
      "text/plain": [
       "   SYEAR  LOTID  SMONTH  SUMMER  HEAD  SEX  ATYPE   WT  PRICE STATE  \\\n",
       "0   1995      1       6       1   115    1      1  425  81.25    OK   \n",
       "1   1995      2       6       1   220    1      1  460  80.00    OK   \n",
       "2   1995      3       6       1    84    1      1  570  77.00    MO   \n",
       "3   1995      4       6       1    83    1      1  610  74.50    KS   \n",
       "4   1995      5       6       1   155    1      1  625  68.10    MS   \n",
       "\n",
       "   STATECODE  SAREA  BREED  FRAME  FLESH  VAC  \n",
       "0         25      3      3      4      4    1  \n",
       "1         25      3      3      4      4    1  \n",
       "2         23      3      1      4      4    1  \n",
       "3         22      3      3      5      4    0  \n",
       "4         46      5      4      3      4    0  "
      ]
     },
     "execution_count": 159,
     "metadata": {},
     "output_type": "execute_result"
    }
   ],
   "source": [
    "# import dataset\n",
    "SLA=pd.read_csv(\"DATA/DATAR.csv\")\n",
    "SLA.head()"
   ]
  },
  {
   "cell_type": "code",
   "execution_count": 108,
   "metadata": {},
   "outputs": [
    {
     "name": "stdout",
     "output_type": "stream",
     "text": [
      "<class 'pandas.core.frame.DataFrame'>\n",
      "RangeIndex: 94872 entries, 0 to 94871\n",
      "Data columns (total 16 columns):\n",
      "SYEAR        94872 non-null int64\n",
      "LOTID        94872 non-null int64\n",
      "SMONTH       94872 non-null int64\n",
      "SUMMER       94872 non-null int64\n",
      "HEAD         94872 non-null int64\n",
      "SEX          94872 non-null int64\n",
      "ATYPE        94872 non-null int64\n",
      "WT           94872 non-null int64\n",
      "PRICE        94872 non-null float64\n",
      "STATE        94872 non-null object\n",
      "STATECODE    94872 non-null int64\n",
      "SAREA        94872 non-null int64\n",
      "BREED        94872 non-null int64\n",
      "FRAME        94872 non-null int64\n",
      "FLESH        94872 non-null int64\n",
      "VAC          94872 non-null int64\n",
      "dtypes: float64(1), int64(14), object(1)\n",
      "memory usage: 11.6+ MB\n"
     ]
    }
   ],
   "source": [
    "#data types & missing values\n",
    "SLA.info()"
   ]
  },
  {
   "cell_type": "markdown",
   "metadata": {},
   "source": [
    "##### There are no missing data in this dataset."
   ]
  },
  {
   "cell_type": "code",
   "execution_count": 109,
   "metadata": {},
   "outputs": [
    {
     "data": {
      "text/html": [
       "<div>\n",
       "<style scoped>\n",
       "    .dataframe tbody tr th:only-of-type {\n",
       "        vertical-align: middle;\n",
       "    }\n",
       "\n",
       "    .dataframe tbody tr th {\n",
       "        vertical-align: top;\n",
       "    }\n",
       "\n",
       "    .dataframe thead th {\n",
       "        text-align: right;\n",
       "    }\n",
       "</style>\n",
       "<table border=\"1\" class=\"dataframe\">\n",
       "  <thead>\n",
       "    <tr style=\"text-align: right;\">\n",
       "      <th></th>\n",
       "      <th>SYEAR</th>\n",
       "      <th>LOTID</th>\n",
       "      <th>SMONTH</th>\n",
       "      <th>SUMMER</th>\n",
       "      <th>HEAD</th>\n",
       "      <th>SEX</th>\n",
       "      <th>ATYPE</th>\n",
       "      <th>WT</th>\n",
       "      <th>PRICE</th>\n",
       "      <th>STATECODE</th>\n",
       "      <th>SAREA</th>\n",
       "      <th>BREED</th>\n",
       "      <th>FRAME</th>\n",
       "      <th>FLESH</th>\n",
       "      <th>VAC</th>\n",
       "    </tr>\n",
       "  </thead>\n",
       "  <tbody>\n",
       "    <tr>\n",
       "      <th>count</th>\n",
       "      <td>94872.000000</td>\n",
       "      <td>94872.000000</td>\n",
       "      <td>94872.000000</td>\n",
       "      <td>94872.0</td>\n",
       "      <td>94872.000000</td>\n",
       "      <td>94872.000000</td>\n",
       "      <td>94872.000000</td>\n",
       "      <td>94872.000000</td>\n",
       "      <td>94872.000000</td>\n",
       "      <td>94872.000000</td>\n",
       "      <td>94872.000000</td>\n",
       "      <td>94872.000000</td>\n",
       "      <td>94872.00000</td>\n",
       "      <td>94872.000000</td>\n",
       "      <td>94872.00000</td>\n",
       "    </tr>\n",
       "    <tr>\n",
       "      <th>mean</th>\n",
       "      <td>2008.162883</td>\n",
       "      <td>115776.113606</td>\n",
       "      <td>7.472605</td>\n",
       "      <td>1.0</td>\n",
       "      <td>111.481154</td>\n",
       "      <td>1.392371</td>\n",
       "      <td>0.334440</td>\n",
       "      <td>560.953021</td>\n",
       "      <td>134.750527</td>\n",
       "      <td>15.956742</td>\n",
       "      <td>2.189687</td>\n",
       "      <td>2.358357</td>\n",
       "      <td>3.72113</td>\n",
       "      <td>3.888144</td>\n",
       "      <td>0.72952</td>\n",
       "    </tr>\n",
       "    <tr>\n",
       "      <th>std</th>\n",
       "      <td>6.409211</td>\n",
       "      <td>66999.030234</td>\n",
       "      <td>1.038856</td>\n",
       "      <td>0.0</td>\n",
       "      <td>71.953652</td>\n",
       "      <td>0.488281</td>\n",
       "      <td>0.471797</td>\n",
       "      <td>79.046282</td>\n",
       "      <td>48.860322</td>\n",
       "      <td>10.544034</td>\n",
       "      <td>1.027427</td>\n",
       "      <td>1.199246</td>\n",
       "      <td>0.73720</td>\n",
       "      <td>0.552910</td>\n",
       "      <td>0.44421</td>\n",
       "    </tr>\n",
       "    <tr>\n",
       "      <th>min</th>\n",
       "      <td>1995.000000</td>\n",
       "      <td>1.000000</td>\n",
       "      <td>4.000000</td>\n",
       "      <td>1.0</td>\n",
       "      <td>5.000000</td>\n",
       "      <td>1.000000</td>\n",
       "      <td>0.000000</td>\n",
       "      <td>235.000000</td>\n",
       "      <td>41.250000</td>\n",
       "      <td>0.000000</td>\n",
       "      <td>1.000000</td>\n",
       "      <td>1.000000</td>\n",
       "      <td>1.00000</td>\n",
       "      <td>1.000000</td>\n",
       "      <td>0.00000</td>\n",
       "    </tr>\n",
       "    <tr>\n",
       "      <th>25%</th>\n",
       "      <td>2003.000000</td>\n",
       "      <td>63342.750000</td>\n",
       "      <td>7.000000</td>\n",
       "      <td>1.0</td>\n",
       "      <td>79.000000</td>\n",
       "      <td>1.000000</td>\n",
       "      <td>0.000000</td>\n",
       "      <td>500.000000</td>\n",
       "      <td>103.000000</td>\n",
       "      <td>7.000000</td>\n",
       "      <td>2.000000</td>\n",
       "      <td>1.000000</td>\n",
       "      <td>3.00000</td>\n",
       "      <td>4.000000</td>\n",
       "      <td>0.00000</td>\n",
       "    </tr>\n",
       "    <tr>\n",
       "      <th>50%</th>\n",
       "      <td>2009.000000</td>\n",
       "      <td>104860.500000</td>\n",
       "      <td>7.000000</td>\n",
       "      <td>1.0</td>\n",
       "      <td>90.000000</td>\n",
       "      <td>1.000000</td>\n",
       "      <td>0.000000</td>\n",
       "      <td>550.000000</td>\n",
       "      <td>124.000000</td>\n",
       "      <td>15.000000</td>\n",
       "      <td>2.000000</td>\n",
       "      <td>3.000000</td>\n",
       "      <td>4.00000</td>\n",
       "      <td>4.000000</td>\n",
       "      <td>1.00000</td>\n",
       "    </tr>\n",
       "    <tr>\n",
       "      <th>75%</th>\n",
       "      <td>2013.000000</td>\n",
       "      <td>172941.250000</td>\n",
       "      <td>8.000000</td>\n",
       "      <td>1.0</td>\n",
       "      <td>110.000000</td>\n",
       "      <td>2.000000</td>\n",
       "      <td>1.000000</td>\n",
       "      <td>610.000000</td>\n",
       "      <td>155.000000</td>\n",
       "      <td>22.000000</td>\n",
       "      <td>3.000000</td>\n",
       "      <td>3.000000</td>\n",
       "      <td>4.00000</td>\n",
       "      <td>4.000000</td>\n",
       "      <td>1.00000</td>\n",
       "    </tr>\n",
       "    <tr>\n",
       "      <th>max</th>\n",
       "      <td>2018.000000</td>\n",
       "      <td>239006.000000</td>\n",
       "      <td>11.000000</td>\n",
       "      <td>1.0</td>\n",
       "      <td>1380.000000</td>\n",
       "      <td>2.000000</td>\n",
       "      <td>1.000000</td>\n",
       "      <td>960.000000</td>\n",
       "      <td>422.000000</td>\n",
       "      <td>50.000000</td>\n",
       "      <td>5.000000</td>\n",
       "      <td>4.000000</td>\n",
       "      <td>7.00000</td>\n",
       "      <td>7.000000</td>\n",
       "      <td>1.00000</td>\n",
       "    </tr>\n",
       "  </tbody>\n",
       "</table>\n",
       "</div>"
      ],
      "text/plain": [
       "              SYEAR          LOTID        SMONTH   SUMMER          HEAD  \\\n",
       "count  94872.000000   94872.000000  94872.000000  94872.0  94872.000000   \n",
       "mean    2008.162883  115776.113606      7.472605      1.0    111.481154   \n",
       "std        6.409211   66999.030234      1.038856      0.0     71.953652   \n",
       "min     1995.000000       1.000000      4.000000      1.0      5.000000   \n",
       "25%     2003.000000   63342.750000      7.000000      1.0     79.000000   \n",
       "50%     2009.000000  104860.500000      7.000000      1.0     90.000000   \n",
       "75%     2013.000000  172941.250000      8.000000      1.0    110.000000   \n",
       "max     2018.000000  239006.000000     11.000000      1.0   1380.000000   \n",
       "\n",
       "                SEX         ATYPE            WT         PRICE     STATECODE  \\\n",
       "count  94872.000000  94872.000000  94872.000000  94872.000000  94872.000000   \n",
       "mean       1.392371      0.334440    560.953021    134.750527     15.956742   \n",
       "std        0.488281      0.471797     79.046282     48.860322     10.544034   \n",
       "min        1.000000      0.000000    235.000000     41.250000      0.000000   \n",
       "25%        1.000000      0.000000    500.000000    103.000000      7.000000   \n",
       "50%        1.000000      0.000000    550.000000    124.000000     15.000000   \n",
       "75%        2.000000      1.000000    610.000000    155.000000     22.000000   \n",
       "max        2.000000      1.000000    960.000000    422.000000     50.000000   \n",
       "\n",
       "              SAREA         BREED        FRAME         FLESH          VAC  \n",
       "count  94872.000000  94872.000000  94872.00000  94872.000000  94872.00000  \n",
       "mean       2.189687      2.358357      3.72113      3.888144      0.72952  \n",
       "std        1.027427      1.199246      0.73720      0.552910      0.44421  \n",
       "min        1.000000      1.000000      1.00000      1.000000      0.00000  \n",
       "25%        2.000000      1.000000      3.00000      4.000000      0.00000  \n",
       "50%        2.000000      3.000000      4.00000      4.000000      1.00000  \n",
       "75%        3.000000      3.000000      4.00000      4.000000      1.00000  \n",
       "max        5.000000      4.000000      7.00000      7.000000      1.00000  "
      ]
     },
     "execution_count": 109,
     "metadata": {},
     "output_type": "execute_result"
    }
   ],
   "source": [
    "#Describe shows a quick statistic summary of your data\n",
    "#this is a good way to examine the numerical columns\n",
    "SLA.describe()"
   ]
  },
  {
   "cell_type": "code",
   "execution_count": 110,
   "metadata": {},
   "outputs": [
    {
     "data": {
      "text/plain": [
       "array([[<matplotlib.axes._subplots.AxesSubplot object at 0x0000000028327AC8>,\n",
       "        <matplotlib.axes._subplots.AxesSubplot object at 0x0000000028306D30>,\n",
       "        <matplotlib.axes._subplots.AxesSubplot object at 0x0000000028361160>,\n",
       "        <matplotlib.axes._subplots.AxesSubplot object at 0x00000000282B0550>],\n",
       "       [<matplotlib.axes._subplots.AxesSubplot object at 0x000000002D9C1940>,\n",
       "        <matplotlib.axes._subplots.AxesSubplot object at 0x000000002D9F4D30>,\n",
       "        <matplotlib.axes._subplots.AxesSubplot object at 0x000000002D1D2160>,\n",
       "        <matplotlib.axes._subplots.AxesSubplot object at 0x000000002D207550>],\n",
       "       [<matplotlib.axes._subplots.AxesSubplot object at 0x000000002D23E940>,\n",
       "        <matplotlib.axes._subplots.AxesSubplot object at 0x000000002D524D30>,\n",
       "        <matplotlib.axes._subplots.AxesSubplot object at 0x000000002D5AA160>,\n",
       "        <matplotlib.axes._subplots.AxesSubplot object at 0x000000002D06A550>],\n",
       "       [<matplotlib.axes._subplots.AxesSubplot object at 0x000000002CF61940>,\n",
       "        <matplotlib.axes._subplots.AxesSubplot object at 0x000000002CFD9D30>,\n",
       "        <matplotlib.axes._subplots.AxesSubplot object at 0x000000002D44F160>,\n",
       "        <matplotlib.axes._subplots.AxesSubplot object at 0x000000002D482550>]],\n",
       "      dtype=object)"
      ]
     },
     "execution_count": 110,
     "metadata": {},
     "output_type": "execute_result"
    },
    {
     "data": {
      "image/png": "[encoded data removed]",
      "text/plain": [
       "<Figure size 864x864 with 16 Axes>"
      ]
     },
     "metadata": {},
     "output_type": "display_data"
    }
   ],
   "source": [
    "SLA.hist(figsize=(12,12))"
   ]
  },
  {
   "cell_type": "code",
   "execution_count": 111,
   "metadata": {},
   "outputs": [
    {
     "data": {
      "text/plain": [
       "STATE\n",
       "AL      143\n",
       "AR      319\n",
       "AZ      863\n",
       "CA      248\n",
       "CO    10771\n",
       "FL     3491\n",
       "GA      244\n",
       "IA      460\n",
       "ID     6710\n",
       "IL      222\n",
       "IN       29\n",
       "KS     3326\n",
       "KY       25\n",
       "LA     1689\n",
       "ME        1\n",
       "MI      157\n",
       "MN      166\n",
       "MO      948\n",
       "MS      167\n",
       "MT    13267\n",
       "NC      385\n",
       "ND     2032\n",
       "NE     4940\n",
       "NM     3726\n",
       "NV     3924\n",
       "OH       20\n",
       "OK     2346\n",
       "OR     5679\n",
       "SC       12\n",
       "SD     3565\n",
       "TN       49\n",
       "TX    10116\n",
       "UT     5994\n",
       "VA       41\n",
       "WA      511\n",
       "WI       82\n",
       "WY     8204\n",
       "dtype: int64"
      ]
     },
     "execution_count": 111,
     "metadata": {},
     "output_type": "execute_result"
    }
   ],
   "source": [
    "# value count but using describe \n",
    "SLA.groupby('STATE').size()"
   ]
  },
  {
   "cell_type": "code",
   "execution_count": 112,
   "metadata": {},
   "outputs": [
    {
     "data": {
      "text/plain": [
       "VAC\n",
       "0    25661\n",
       "1    69211\n",
       "dtype: int64"
      ]
     },
     "execution_count": 112,
     "metadata": {},
     "output_type": "execute_result"
    }
   ],
   "source": [
    "# value count but using describe \n",
    "SLA.groupby('VAC').size()"
   ]
  },
  {
   "cell_type": "code",
   "execution_count": 113,
   "metadata": {},
   "outputs": [
    {
     "data": {
      "text/plain": [
       "FLESH\n",
       "1      107\n",
       "2     4104\n",
       "3     6466\n",
       "4    80780\n",
       "5     2460\n",
       "6      942\n",
       "7       13\n",
       "dtype: int64"
      ]
     },
     "execution_count": 113,
     "metadata": {},
     "output_type": "execute_result"
    }
   ],
   "source": [
    "# value count but using describe \n",
    "SLA.groupby('FLESH').size()"
   ]
  },
  {
   "cell_type": "code",
   "execution_count": 114,
   "metadata": {},
   "outputs": [
    {
     "data": {
      "text/plain": [
       "FRAME\n",
       "1       14\n",
       "2      191\n",
       "3    40262\n",
       "4    41811\n",
       "5    11102\n",
       "6     1349\n",
       "7      143\n",
       "dtype: int64"
      ]
     },
     "execution_count": 114,
     "metadata": {},
     "output_type": "execute_result"
    }
   ],
   "source": [
    "# value count but using describe \n",
    "SLA.groupby('FRAME').size()"
   ]
  },
  {
   "cell_type": "code",
   "execution_count": 115,
   "metadata": {},
   "outputs": [
    {
     "data": {
      "text/plain": [
       "BREED\n",
       "1    39396\n",
       "3    37558\n",
       "4    17918\n",
       "dtype: int64"
      ]
     },
     "execution_count": 115,
     "metadata": {},
     "output_type": "execute_result"
    }
   ],
   "source": [
    "# value count but using describe \n",
    "SLA.groupby('BREED').size()"
   ]
  },
  {
   "cell_type": "code",
   "execution_count": 116,
   "metadata": {},
   "outputs": [
    {
     "data": {
      "text/plain": [
       "SAREA\n",
       "1    23066\n",
       "2    43895\n",
       "3    21325\n",
       "4       21\n",
       "5     6565\n",
       "dtype: int64"
      ]
     },
     "execution_count": 116,
     "metadata": {},
     "output_type": "execute_result"
    }
   ],
   "source": [
    "# value count but using describe \n",
    "SLA.groupby('SAREA').size()"
   ]
  },
  {
   "cell_type": "code",
   "execution_count": 117,
   "metadata": {},
   "outputs": [
    {
     "data": {
      "text/plain": [
       "SMONTH\n",
       "4       568\n",
       "5      1653\n",
       "6     12535\n",
       "7     33883\n",
       "8     32043\n",
       "9     12591\n",
       "10     1239\n",
       "11      360\n",
       "dtype: int64"
      ]
     },
     "execution_count": 117,
     "metadata": {},
     "output_type": "execute_result"
    }
   ],
   "source": [
    "# value count but using describe \n",
    "SLA.groupby('SMONTH').size()"
   ]
  },
  {
   "cell_type": "code",
   "execution_count": 118,
   "metadata": {},
   "outputs": [
    {
     "data": {
      "text/plain": [
       "SEX\n",
       "1    57647\n",
       "2    37225\n",
       "dtype: int64"
      ]
     },
     "execution_count": 118,
     "metadata": {},
     "output_type": "execute_result"
    }
   ],
   "source": [
    "# value count but using describe \n",
    "SLA.groupby('SEX').size()"
   ]
  },
  {
   "cell_type": "code",
   "execution_count": 119,
   "metadata": {},
   "outputs": [
    {
     "data": {
      "text/plain": [
       "SYEAR\n",
       "1995    1823\n",
       "1996    2161\n",
       "1997    2205\n",
       "1998    2108\n",
       "1999    2985\n",
       "2000    3342\n",
       "2001    3119\n",
       "2002    3170\n",
       "2003    3904\n",
       "2004    4231\n",
       "2005    4313\n",
       "2006    3869\n",
       "2007    4605\n",
       "2008    4164\n",
       "2009    4199\n",
       "2010    5832\n",
       "2011    5512\n",
       "2012    4400\n",
       "2013    5292\n",
       "2014    4503\n",
       "2015    4572\n",
       "2016    4695\n",
       "2017    5122\n",
       "2018    4746\n",
       "dtype: int64"
      ]
     },
     "execution_count": 119,
     "metadata": {},
     "output_type": "execute_result"
    }
   ],
   "source": [
    "# value count but using describe \n",
    "SLA.groupby('SYEAR').size()"
   ]
  },
  {
   "cell_type": "markdown",
   "metadata": {},
   "source": [
    "### Combining Groups"
   ]
  },
  {
   "cell_type": "markdown",
   "metadata": {},
   "source": [
    "#### Frame"
   ]
  },
  {
   "cell_type": "code",
   "execution_count": 152,
   "metadata": {},
   "outputs": [
    {
     "data": {
      "text/plain": [
       "FRAME\n",
       "3    40467\n",
       "4    41811\n",
       "5    12594\n",
       "dtype: int64"
      ]
     },
     "execution_count": 152,
     "metadata": {},
     "output_type": "execute_result"
    }
   ],
   "source": [
    "SLA.groupby('FRAME').size()"
   ]
  },
  {
   "cell_type": "code",
   "execution_count": 137,
   "metadata": {},
   "outputs": [],
   "source": [
    "SLA = SLA.replace({'FRAME': 1}, {'FRAME': 3})"
   ]
  },
  {
   "cell_type": "code",
   "execution_count": 138,
   "metadata": {},
   "outputs": [],
   "source": [
    "SLA = SLA.replace({'FRAME': 2}, {'FRAME': 3})"
   ]
  },
  {
   "cell_type": "code",
   "execution_count": 133,
   "metadata": {},
   "outputs": [],
   "source": [
    "SLA = SLA.replace({'FRAME': 7}, {'FRAME': 5})"
   ]
  },
  {
   "cell_type": "code",
   "execution_count": 134,
   "metadata": {},
   "outputs": [],
   "source": [
    "SLA = SLA.replace({'FRAME': 6}, {'FRAME': 5})"
   ]
  },
  {
   "cell_type": "code",
   "execution_count": 143,
   "metadata": {},
   "outputs": [
    {
     "data": {
      "text/plain": [
       "FRAME\n",
       "3    40467\n",
       "4    41811\n",
       "5    12594\n",
       "dtype: int64"
      ]
     },
     "execution_count": 143,
     "metadata": {},
     "output_type": "execute_result"
    }
   ],
   "source": [
    "SLA.groupby('FRAME').size()"
   ]
  },
  {
   "cell_type": "markdown",
   "metadata": {},
   "source": [
    "#### Flesh"
   ]
  },
  {
   "cell_type": "code",
   "execution_count": 144,
   "metadata": {},
   "outputs": [],
   "source": [
    "SLA = SLA.replace({'FLESH': 1}, {'FLESH': 2})"
   ]
  },
  {
   "cell_type": "code",
   "execution_count": 145,
   "metadata": {},
   "outputs": [],
   "source": [
    "SLA = SLA.replace({'FLESH': 7}, {'FLESH': 5})"
   ]
  },
  {
   "cell_type": "code",
   "execution_count": 146,
   "metadata": {},
   "outputs": [],
   "source": [
    "SLA = SLA.replace({'FLESH': 6}, {'FLESH': 5})"
   ]
  },
  {
   "cell_type": "code",
   "execution_count": 147,
   "metadata": {},
   "outputs": [
    {
     "data": {
      "text/plain": [
       "FLESH\n",
       "2     4211\n",
       "3     6466\n",
       "4    80780\n",
       "5     3415\n",
       "dtype: int64"
      ]
     },
     "execution_count": 147,
     "metadata": {},
     "output_type": "execute_result"
    }
   ],
   "source": [
    "SLA.groupby('FLESH').size()"
   ]
  },
  {
   "cell_type": "markdown",
   "metadata": {},
   "source": [
    "#### SAREA"
   ]
  },
  {
   "cell_type": "code",
   "execution_count": 150,
   "metadata": {},
   "outputs": [],
   "source": [
    "SLA = SLA.replace({'SAREA': 4}, {'SAREA': 5})"
   ]
  },
  {
   "cell_type": "code",
   "execution_count": 151,
   "metadata": {},
   "outputs": [
    {
     "data": {
      "text/plain": [
       "SAREA\n",
       "1    23066\n",
       "2    43895\n",
       "3    21325\n",
       "5     6586\n",
       "dtype: int64"
      ]
     },
     "execution_count": 151,
     "metadata": {},
     "output_type": "execute_result"
    }
   ],
   "source": [
    "SLA.groupby('SAREA').size()"
   ]
  },
  {
   "cell_type": "code",
   "execution_count": 153,
   "metadata": {},
   "outputs": [
    {
     "data": {
      "text/plain": [
       "VAC\n",
       "0    25661\n",
       "1    69211\n",
       "dtype: int64"
      ]
     },
     "execution_count": 153,
     "metadata": {},
     "output_type": "execute_result"
    }
   ],
   "source": [
    "SLA.groupby('VAC').size()"
   ]
  },
  {
   "cell_type": "markdown",
   "metadata": {},
   "source": [
    "## Lots of Feeder Cattle"
   ]
  },
  {
   "cell_type": "code",
   "execution_count": 199,
   "metadata": {},
   "outputs": [
    {
     "data": {
      "text/html": [
       "<img src=\"http://www.amscattle.com/wp-content/uploads/2013/02/DSCN7633.jpg\"/>"
      ],
      "text/plain": [
       "<IPython.core.display.Image object>"
      ]
     },
     "execution_count": 199,
     "metadata": {},
     "output_type": "execute_result"
    }
   ],
   "source": [
    "from IPython.display import Image\n",
    "from IPython.core.display import HTML \n",
    "Image(url= \"http://www.amscattle.com/wp-content/uploads/2013/02/DSCN7633.jpg\")"
   ]
  },
  {
   "cell_type": "code",
   "execution_count": 175,
   "metadata": {},
   "outputs": [
    {
     "data": {
      "text/html": [
       "<div>\n",
       "<style scoped>\n",
       "    .dataframe tbody tr th:only-of-type {\n",
       "        vertical-align: middle;\n",
       "    }\n",
       "\n",
       "    .dataframe tbody tr th {\n",
       "        vertical-align: top;\n",
       "    }\n",
       "\n",
       "    .dataframe thead th {\n",
       "        text-align: right;\n",
       "    }\n",
       "</style>\n",
       "<table border=\"1\" class=\"dataframe\">\n",
       "  <thead>\n",
       "    <tr style=\"text-align: right;\">\n",
       "      <th></th>\n",
       "      <th>SYEAR</th>\n",
       "      <th>LOTID</th>\n",
       "      <th>SUMMER</th>\n",
       "      <th>SMONTH</th>\n",
       "      <th>HEAD</th>\n",
       "      <th>SEX</th>\n",
       "      <th>ATYPE</th>\n",
       "      <th>WT</th>\n",
       "      <th>PRICE</th>\n",
       "      <th>STATE</th>\n",
       "      <th>STATECODE</th>\n",
       "      <th>SAREA</th>\n",
       "      <th>BREED</th>\n",
       "      <th>FRAME</th>\n",
       "      <th>FLESH</th>\n",
       "      <th>VAC</th>\n",
       "    </tr>\n",
       "  </thead>\n",
       "  <tbody>\n",
       "    <tr>\n",
       "      <th>0</th>\n",
       "      <td>2010</td>\n",
       "      <td>111922</td>\n",
       "      <td>1</td>\n",
       "      <td>6</td>\n",
       "      <td>39</td>\n",
       "      <td>1</td>\n",
       "      <td>2</td>\n",
       "      <td>640</td>\n",
       "      <td>105.25</td>\n",
       "      <td>TX</td>\n",
       "      <td>26</td>\n",
       "      <td>3</td>\n",
       "      <td>4</td>\n",
       "      <td>4</td>\n",
       "      <td>4</td>\n",
       "      <td>0</td>\n",
       "    </tr>\n",
       "    <tr>\n",
       "      <th>1</th>\n",
       "      <td>2010</td>\n",
       "      <td>111923</td>\n",
       "      <td>1</td>\n",
       "      <td>6</td>\n",
       "      <td>39</td>\n",
       "      <td>2</td>\n",
       "      <td>2</td>\n",
       "      <td>640</td>\n",
       "      <td>98.25</td>\n",
       "      <td>TX</td>\n",
       "      <td>26</td>\n",
       "      <td>3</td>\n",
       "      <td>4</td>\n",
       "      <td>4</td>\n",
       "      <td>4</td>\n",
       "      <td>0</td>\n",
       "    </tr>\n",
       "    <tr>\n",
       "      <th>2</th>\n",
       "      <td>2010</td>\n",
       "      <td>111924</td>\n",
       "      <td>1</td>\n",
       "      <td>6</td>\n",
       "      <td>35</td>\n",
       "      <td>1</td>\n",
       "      <td>2</td>\n",
       "      <td>700</td>\n",
       "      <td>105.50</td>\n",
       "      <td>LA</td>\n",
       "      <td>45</td>\n",
       "      <td>5</td>\n",
       "      <td>4</td>\n",
       "      <td>3</td>\n",
       "      <td>2</td>\n",
       "      <td>0</td>\n",
       "    </tr>\n",
       "    <tr>\n",
       "      <th>3</th>\n",
       "      <td>2010</td>\n",
       "      <td>111925</td>\n",
       "      <td>1</td>\n",
       "      <td>6</td>\n",
       "      <td>35</td>\n",
       "      <td>2</td>\n",
       "      <td>2</td>\n",
       "      <td>700</td>\n",
       "      <td>99.50</td>\n",
       "      <td>LA</td>\n",
       "      <td>45</td>\n",
       "      <td>5</td>\n",
       "      <td>4</td>\n",
       "      <td>3</td>\n",
       "      <td>2</td>\n",
       "      <td>0</td>\n",
       "    </tr>\n",
       "    <tr>\n",
       "      <th>4</th>\n",
       "      <td>2010</td>\n",
       "      <td>111926</td>\n",
       "      <td>1</td>\n",
       "      <td>6</td>\n",
       "      <td>32</td>\n",
       "      <td>1</td>\n",
       "      <td>2</td>\n",
       "      <td>735</td>\n",
       "      <td>105.25</td>\n",
       "      <td>TX</td>\n",
       "      <td>26</td>\n",
       "      <td>3</td>\n",
       "      <td>4</td>\n",
       "      <td>4</td>\n",
       "      <td>4</td>\n",
       "      <td>1</td>\n",
       "    </tr>\n",
       "  </tbody>\n",
       "</table>\n",
       "</div>"
      ],
      "text/plain": [
       "   SYEAR   LOTID  SUMMER  SMONTH  HEAD  SEX  ATYPE   WT   PRICE STATE  \\\n",
       "0   2010  111922       1       6    39    1      2  640  105.25    TX   \n",
       "1   2010  111923       1       6    39    2      2  640   98.25    TX   \n",
       "2   2010  111924       1       6    35    1      2  700  105.50    LA   \n",
       "3   2010  111925       1       6    35    2      2  700   99.50    LA   \n",
       "4   2010  111926       1       6    32    1      2  735  105.25    TX   \n",
       "\n",
       "   STATECODE  SAREA  BREED  FRAME  FLESH  VAC  \n",
       "0         26      3      4      4      4    0  \n",
       "1         26      3      4      4      4    0  \n",
       "2         45      5      4      3      2    0  \n",
       "3         45      5      4      3      2    0  \n",
       "4         26      3      4      4      4    1  "
      ]
     },
     "execution_count": 175,
     "metadata": {},
     "output_type": "execute_result"
    }
   ],
   "source": [
    "# import dataset\n",
    "FEEDER=pd.read_csv(\"DATA/FEEDER.csv\")\n",
    "FEEDER.head()"
   ]
  },
  {
   "cell_type": "code",
   "execution_count": 176,
   "metadata": {},
   "outputs": [
    {
     "name": "stdout",
     "output_type": "stream",
     "text": [
      "<class 'pandas.core.frame.DataFrame'>\n",
      "RangeIndex: 23862 entries, 0 to 23861\n",
      "Data columns (total 16 columns):\n",
      "SYEAR        23862 non-null int64\n",
      "LOTID        23862 non-null int64\n",
      "SUMMER       23862 non-null int64\n",
      "SMONTH       23862 non-null int64\n",
      "HEAD         23862 non-null int64\n",
      "SEX          23862 non-null int64\n",
      "ATYPE        23862 non-null int64\n",
      "WT           23862 non-null int64\n",
      "PRICE        23862 non-null float64\n",
      "STATE        23862 non-null object\n",
      "STATECODE    23862 non-null int64\n",
      "SAREA        23862 non-null int64\n",
      "BREED        23862 non-null int64\n",
      "FRAME        23862 non-null int64\n",
      "FLESH        23862 non-null int64\n",
      "VAC          23862 non-null int64\n",
      "dtypes: float64(1), int64(14), object(1)\n",
      "memory usage: 2.9+ MB\n"
     ]
    }
   ],
   "source": [
    "#data types & missing values\n",
    "FEEDER.info()"
   ]
  },
  {
   "cell_type": "markdown",
   "metadata": {},
   "source": [
    "There are no missing values."
   ]
  },
  {
   "cell_type": "code",
   "execution_count": 177,
   "metadata": {},
   "outputs": [
    {
     "data": {
      "text/html": [
       "<div>\n",
       "<style scoped>\n",
       "    .dataframe tbody tr th:only-of-type {\n",
       "        vertical-align: middle;\n",
       "    }\n",
       "\n",
       "    .dataframe tbody tr th {\n",
       "        vertical-align: top;\n",
       "    }\n",
       "\n",
       "    .dataframe thead th {\n",
       "        text-align: right;\n",
       "    }\n",
       "</style>\n",
       "<table border=\"1\" class=\"dataframe\">\n",
       "  <thead>\n",
       "    <tr style=\"text-align: right;\">\n",
       "      <th></th>\n",
       "      <th>SYEAR</th>\n",
       "      <th>LOTID</th>\n",
       "      <th>SUMMER</th>\n",
       "      <th>SMONTH</th>\n",
       "      <th>HEAD</th>\n",
       "      <th>SEX</th>\n",
       "      <th>ATYPE</th>\n",
       "      <th>WT</th>\n",
       "      <th>PRICE</th>\n",
       "      <th>STATECODE</th>\n",
       "      <th>SAREA</th>\n",
       "      <th>BREED</th>\n",
       "      <th>FRAME</th>\n",
       "      <th>FLESH</th>\n",
       "      <th>VAC</th>\n",
       "    </tr>\n",
       "  </thead>\n",
       "  <tbody>\n",
       "    <tr>\n",
       "      <th>count</th>\n",
       "      <td>23862.000000</td>\n",
       "      <td>23862.000000</td>\n",
       "      <td>23862.0</td>\n",
       "      <td>23862.000000</td>\n",
       "      <td>23862.000000</td>\n",
       "      <td>23862.000000</td>\n",
       "      <td>23862.0</td>\n",
       "      <td>23862.000000</td>\n",
       "      <td>23862.000000</td>\n",
       "      <td>23862.000000</td>\n",
       "      <td>23862.000000</td>\n",
       "      <td>23862.000000</td>\n",
       "      <td>23862.000000</td>\n",
       "      <td>23862.000000</td>\n",
       "      <td>23862.000000</td>\n",
       "    </tr>\n",
       "    <tr>\n",
       "      <th>mean</th>\n",
       "      <td>2006.862794</td>\n",
       "      <td>102383.966181</td>\n",
       "      <td>1.0</td>\n",
       "      <td>7.381779</td>\n",
       "      <td>125.887646</td>\n",
       "      <td>1.387436</td>\n",
       "      <td>2.0</td>\n",
       "      <td>783.060096</td>\n",
       "      <td>114.905306</td>\n",
       "      <td>20.295658</td>\n",
       "      <td>2.710712</td>\n",
       "      <td>2.957170</td>\n",
       "      <td>3.851018</td>\n",
       "      <td>3.904534</td>\n",
       "      <td>0.168511</td>\n",
       "    </tr>\n",
       "    <tr>\n",
       "      <th>std</th>\n",
       "      <td>6.809251</td>\n",
       "      <td>68804.910226</td>\n",
       "      <td>0.0</td>\n",
       "      <td>1.265613</td>\n",
       "      <td>115.485876</td>\n",
       "      <td>0.487175</td>\n",
       "      <td>0.0</td>\n",
       "      <td>84.878691</td>\n",
       "      <td>40.284065</td>\n",
       "      <td>11.163846</td>\n",
       "      <td>1.079662</td>\n",
       "      <td>1.130818</td>\n",
       "      <td>0.766896</td>\n",
       "      <td>0.581288</td>\n",
       "      <td>0.374327</td>\n",
       "    </tr>\n",
       "    <tr>\n",
       "      <th>min</th>\n",
       "      <td>1996.000000</td>\n",
       "      <td>2935.000000</td>\n",
       "      <td>1.0</td>\n",
       "      <td>4.000000</td>\n",
       "      <td>4.000000</td>\n",
       "      <td>1.000000</td>\n",
       "      <td>2.0</td>\n",
       "      <td>420.000000</td>\n",
       "      <td>45.000000</td>\n",
       "      <td>0.000000</td>\n",
       "      <td>1.000000</td>\n",
       "      <td>1.000000</td>\n",
       "      <td>1.000000</td>\n",
       "      <td>1.000000</td>\n",
       "      <td>0.000000</td>\n",
       "    </tr>\n",
       "    <tr>\n",
       "      <th>25%</th>\n",
       "      <td>2001.000000</td>\n",
       "      <td>41040.500000</td>\n",
       "      <td>1.0</td>\n",
       "      <td>7.000000</td>\n",
       "      <td>63.000000</td>\n",
       "      <td>1.000000</td>\n",
       "      <td>2.0</td>\n",
       "      <td>725.000000</td>\n",
       "      <td>82.500000</td>\n",
       "      <td>10.000000</td>\n",
       "      <td>2.000000</td>\n",
       "      <td>3.000000</td>\n",
       "      <td>3.000000</td>\n",
       "      <td>4.000000</td>\n",
       "      <td>0.000000</td>\n",
       "    </tr>\n",
       "    <tr>\n",
       "      <th>50%</th>\n",
       "      <td>2005.000000</td>\n",
       "      <td>85380.500000</td>\n",
       "      <td>1.0</td>\n",
       "      <td>7.000000</td>\n",
       "      <td>74.000000</td>\n",
       "      <td>1.000000</td>\n",
       "      <td>2.0</td>\n",
       "      <td>780.000000</td>\n",
       "      <td>108.000000</td>\n",
       "      <td>22.000000</td>\n",
       "      <td>3.000000</td>\n",
       "      <td>3.000000</td>\n",
       "      <td>4.000000</td>\n",
       "      <td>4.000000</td>\n",
       "      <td>0.000000</td>\n",
       "    </tr>\n",
       "    <tr>\n",
       "      <th>75%</th>\n",
       "      <td>2013.000000</td>\n",
       "      <td>159297.750000</td>\n",
       "      <td>1.0</td>\n",
       "      <td>8.000000</td>\n",
       "      <td>140.000000</td>\n",
       "      <td>2.000000</td>\n",
       "      <td>2.0</td>\n",
       "      <td>840.000000</td>\n",
       "      <td>137.825000</td>\n",
       "      <td>26.000000</td>\n",
       "      <td>3.000000</td>\n",
       "      <td>4.000000</td>\n",
       "      <td>4.000000</td>\n",
       "      <td>4.000000</td>\n",
       "      <td>0.000000</td>\n",
       "    </tr>\n",
       "    <tr>\n",
       "      <th>max</th>\n",
       "      <td>2018.000000</td>\n",
       "      <td>238997.000000</td>\n",
       "      <td>1.0</td>\n",
       "      <td>11.000000</td>\n",
       "      <td>1800.000000</td>\n",
       "      <td>2.000000</td>\n",
       "      <td>2.0</td>\n",
       "      <td>1125.000000</td>\n",
       "      <td>267.000000</td>\n",
       "      <td>50.000000</td>\n",
       "      <td>5.000000</td>\n",
       "      <td>4.000000</td>\n",
       "      <td>7.000000</td>\n",
       "      <td>7.000000</td>\n",
       "      <td>1.000000</td>\n",
       "    </tr>\n",
       "  </tbody>\n",
       "</table>\n",
       "</div>"
      ],
      "text/plain": [
       "              SYEAR          LOTID   SUMMER        SMONTH          HEAD  \\\n",
       "count  23862.000000   23862.000000  23862.0  23862.000000  23862.000000   \n",
       "mean    2006.862794  102383.966181      1.0      7.381779    125.887646   \n",
       "std        6.809251   68804.910226      0.0      1.265613    115.485876   \n",
       "min     1996.000000    2935.000000      1.0      4.000000      4.000000   \n",
       "25%     2001.000000   41040.500000      1.0      7.000000     63.000000   \n",
       "50%     2005.000000   85380.500000      1.0      7.000000     74.000000   \n",
       "75%     2013.000000  159297.750000      1.0      8.000000    140.000000   \n",
       "max     2018.000000  238997.000000      1.0     11.000000   1800.000000   \n",
       "\n",
       "                SEX    ATYPE            WT         PRICE     STATECODE  \\\n",
       "count  23862.000000  23862.0  23862.000000  23862.000000  23862.000000   \n",
       "mean       1.387436      2.0    783.060096    114.905306     20.295658   \n",
       "std        0.487175      0.0     84.878691     40.284065     11.163846   \n",
       "min        1.000000      2.0    420.000000     45.000000      0.000000   \n",
       "25%        1.000000      2.0    725.000000     82.500000     10.000000   \n",
       "50%        1.000000      2.0    780.000000    108.000000     22.000000   \n",
       "75%        2.000000      2.0    840.000000    137.825000     26.000000   \n",
       "max        2.000000      2.0   1125.000000    267.000000     50.000000   \n",
       "\n",
       "              SAREA         BREED         FRAME         FLESH           VAC  \n",
       "count  23862.000000  23862.000000  23862.000000  23862.000000  23862.000000  \n",
       "mean       2.710712      2.957170      3.851018      3.904534      0.168511  \n",
       "std        1.079662      1.130818      0.766896      0.581288      0.374327  \n",
       "min        1.000000      1.000000      1.000000      1.000000      0.000000  \n",
       "25%        2.000000      3.000000      3.000000      4.000000      0.000000  \n",
       "50%        3.000000      3.000000      4.000000      4.000000      0.000000  \n",
       "75%        3.000000      4.000000      4.000000      4.000000      0.000000  \n",
       "max        5.000000      4.000000      7.000000      7.000000      1.000000  "
      ]
     },
     "execution_count": 177,
     "metadata": {},
     "output_type": "execute_result"
    }
   ],
   "source": [
    "#Describe shows a quick statistic summary of your data\n",
    "#this is a good way to examine the numerical columns\n",
    "FEEDER.describe()"
   ]
  },
  {
   "cell_type": "code",
   "execution_count": 178,
   "metadata": {},
   "outputs": [
    {
     "data": {
      "text/plain": [
       "array([[<matplotlib.axes._subplots.AxesSubplot object at 0x0000000031617128>,\n",
       "        <matplotlib.axes._subplots.AxesSubplot object at 0x0000000031676320>,\n",
       "        <matplotlib.axes._subplots.AxesSubplot object at 0x0000000031694710>,\n",
       "        <matplotlib.axes._subplots.AxesSubplot object at 0x00000000280CFB00>],\n",
       "       [<matplotlib.axes._subplots.AxesSubplot object at 0x000000002CC78EF0>,\n",
       "        <matplotlib.axes._subplots.AxesSubplot object at 0x000000002CCC2320>,\n",
       "        <matplotlib.axes._subplots.AxesSubplot object at 0x00000000316B2710>,\n",
       "        <matplotlib.axes._subplots.AxesSubplot object at 0x0000000031881B00>],\n",
       "       [<matplotlib.axes._subplots.AxesSubplot object at 0x00000000318F9EF0>,\n",
       "        <matplotlib.axes._subplots.AxesSubplot object at 0x00000000319C1320>,\n",
       "        <matplotlib.axes._subplots.AxesSubplot object at 0x0000000031A38710>,\n",
       "        <matplotlib.axes._subplots.AxesSubplot object at 0x0000000031A6DB00>],\n",
       "       [<matplotlib.axes._subplots.AxesSubplot object at 0x0000000031AE3EF0>,\n",
       "        <matplotlib.axes._subplots.AxesSubplot object at 0x0000000031B6B320>,\n",
       "        <matplotlib.axes._subplots.AxesSubplot object at 0x0000000031C24710>,\n",
       "        <matplotlib.axes._subplots.AxesSubplot object at 0x0000000031C9CB00>]],\n",
       "      dtype=object)"
      ]
     },
     "execution_count": 178,
     "metadata": {},
     "output_type": "execute_result"
    },
    {
     "data": {
      "image/png": "[encoded data removed]",
      "text/plain": [
       "<Figure size 864x864 with 16 Axes>"
      ]
     },
     "metadata": {},
     "output_type": "display_data"
    }
   ],
   "source": [
    "FEEDER.hist(figsize=(12,12))"
   ]
  },
  {
   "cell_type": "markdown",
   "metadata": {},
   "source": [
    "### VAC"
   ]
  },
  {
   "cell_type": "code",
   "execution_count": 179,
   "metadata": {},
   "outputs": [
    {
     "data": {
      "text/plain": [
       "VAC\n",
       "0    19841\n",
       "1     4021\n",
       "dtype: int64"
      ]
     },
     "execution_count": 179,
     "metadata": {},
     "output_type": "execute_result"
    }
   ],
   "source": [
    "# value count but using describe \n",
    "FEEDER.groupby('VAC').size()"
   ]
  },
  {
   "cell_type": "markdown",
   "metadata": {},
   "source": [
    "### FRAME"
   ]
  },
  {
   "cell_type": "code",
   "execution_count": 180,
   "metadata": {},
   "outputs": [
    {
     "data": {
      "text/plain": [
       "FRAME\n",
       "1       13\n",
       "2      149\n",
       "3     7890\n",
       "4    11727\n",
       "5     3549\n",
       "6      479\n",
       "7       55\n",
       "dtype: int64"
      ]
     },
     "execution_count": 180,
     "metadata": {},
     "output_type": "execute_result"
    }
   ],
   "source": [
    "# value count but using describe \n",
    "FEEDER.groupby('FRAME').size()"
   ]
  },
  {
   "cell_type": "code",
   "execution_count": 181,
   "metadata": {},
   "outputs": [],
   "source": [
    "FEEDER = FEEDER.replace({'FRAME': 1}, {'FRAME': 3})"
   ]
  },
  {
   "cell_type": "code",
   "execution_count": 182,
   "metadata": {},
   "outputs": [],
   "source": [
    "FEEDER = FEEDER.replace({'FRAME': 2}, {'FRAME': 3})"
   ]
  },
  {
   "cell_type": "code",
   "execution_count": 183,
   "metadata": {},
   "outputs": [],
   "source": [
    "FEEDER = FEEDER.replace({'FRAME': 7}, {'FRAME': 5})"
   ]
  },
  {
   "cell_type": "code",
   "execution_count": 184,
   "metadata": {},
   "outputs": [],
   "source": [
    "FEEDER = FEEDER.replace({'FRAME': 6}, {'FRAME': 5})"
   ]
  },
  {
   "cell_type": "code",
   "execution_count": 185,
   "metadata": {},
   "outputs": [
    {
     "data": {
      "text/plain": [
       "FRAME\n",
       "3     8052\n",
       "4    11727\n",
       "5     4083\n",
       "dtype: int64"
      ]
     },
     "execution_count": 185,
     "metadata": {},
     "output_type": "execute_result"
    }
   ],
   "source": [
    "# value count but using describe \n",
    "FEEDER.groupby('FRAME').size()"
   ]
  },
  {
   "cell_type": "markdown",
   "metadata": {},
   "source": [
    "### FLESH"
   ]
  },
  {
   "cell_type": "code",
   "execution_count": 186,
   "metadata": {},
   "outputs": [
    {
     "data": {
      "text/plain": [
       "FLESH\n",
       "1       26\n",
       "2     1029\n",
       "3     1668\n",
       "4    19979\n",
       "5      796\n",
       "6      362\n",
       "7        2\n",
       "dtype: int64"
      ]
     },
     "execution_count": 186,
     "metadata": {},
     "output_type": "execute_result"
    }
   ],
   "source": [
    "# value count but using describe \n",
    "FEEDER.groupby('FLESH').size()"
   ]
  },
  {
   "cell_type": "code",
   "execution_count": 187,
   "metadata": {},
   "outputs": [],
   "source": [
    "FEEDER = FEEDER.replace({'FLESH': 1}, {'FLESH': 2})"
   ]
  },
  {
   "cell_type": "code",
   "execution_count": 188,
   "metadata": {},
   "outputs": [],
   "source": [
    "FEEDER = FEEDER.replace({'FLESH': 7}, {'FLESH': 5})"
   ]
  },
  {
   "cell_type": "code",
   "execution_count": 189,
   "metadata": {},
   "outputs": [],
   "source": [
    "FEEDER = FEEDER.replace({'FLESH': 6}, {'FLESH': 5})"
   ]
  },
  {
   "cell_type": "code",
   "execution_count": 190,
   "metadata": {},
   "outputs": [
    {
     "data": {
      "text/plain": [
       "FLESH\n",
       "2     1055\n",
       "3     1668\n",
       "4    19979\n",
       "5     1160\n",
       "dtype: int64"
      ]
     },
     "execution_count": 190,
     "metadata": {},
     "output_type": "execute_result"
    }
   ],
   "source": [
    "# value count but using describe \n",
    "FEEDER.groupby('FLESH').size()"
   ]
  },
  {
   "cell_type": "markdown",
   "metadata": {},
   "source": [
    "### BREED"
   ]
  },
  {
   "cell_type": "code",
   "execution_count": 191,
   "metadata": {},
   "outputs": [
    {
     "data": {
      "text/plain": [
       "BREED\n",
       "1    5263\n",
       "3    9095\n",
       "4    9504\n",
       "dtype: int64"
      ]
     },
     "execution_count": 191,
     "metadata": {},
     "output_type": "execute_result"
    }
   ],
   "source": [
    "# value count but using describe \n",
    "FEEDER.groupby('BREED').size()"
   ]
  },
  {
   "cell_type": "markdown",
   "metadata": {},
   "source": [
    "### SAREA"
   ]
  },
  {
   "cell_type": "code",
   "execution_count": 197,
   "metadata": {},
   "outputs": [],
   "source": [
    "FEEDER = FEEDER.replace({'SAREA': 4}, {'SAREA': 5})"
   ]
  },
  {
   "cell_type": "code",
   "execution_count": 198,
   "metadata": {},
   "outputs": [
    {
     "data": {
      "text/plain": [
       "SAREA\n",
       "1     3428\n",
       "2     5410\n",
       "3    12324\n",
       "5     2700\n",
       "dtype: int64"
      ]
     },
     "execution_count": 198,
     "metadata": {},
     "output_type": "execute_result"
    }
   ],
   "source": [
    "# value count but using describe \n",
    "FEEDER.groupby('SAREA').size()"
   ]
  },
  {
   "cell_type": "code",
   "execution_count": null,
   "metadata": {},
   "outputs": [],
   "source": []
  }
 ],
 "metadata": {
  "kernelspec": {
   "display_name": "Python 2",
   "language": "python",
   "name": "python2"
  },
  "language_info": {
   "codemirror_mode": {
    "name": "ipython",
    "version": 2
   },
   "file_extension": ".py",
   "mimetype": "text/x-python",
   "name": "python",
   "nbconvert_exporter": "python",
   "pygments_lexer": "ipython2",
   "version": "2.7.15"
  }
 },
 "nbformat": 4,
 "nbformat_minor": 2
}
