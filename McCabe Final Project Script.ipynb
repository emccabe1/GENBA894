{
 "cells": [
  {
   "cell_type": "markdown",
   "metadata": {},
   "source": [
    "# Esther McCabe\n",
    "### GENBA 894"
   ]
  },
  {
   "cell_type": "markdown",
   "metadata": {},
   "source": [
    "## Factors that influence the sale price of lots of beef calves and feeder cattle sold via summer video auction from 1995 through 2018"
   ]
  },
  {
   "cell_type": "code",
   "execution_count": 977,
   "metadata": {},
   "outputs": [],
   "source": [
    "# import python packages\n",
    "import pandas as pd\n",
    "import numpy as np\n",
    "import seaborn as sns\n",
    "from scipy import stats\n",
    "from pandas.tools import plotting\n",
    "import matplotlib.pyplot as plt\n",
    "%matplotlib inline\n",
    "\n",
    "#regression packages\n",
    "import sklearn.linear_model as lm\n",
    "from sklearn.metrics import mean_squared_error\n",
    "from sklearn.metrics import explained_variance_score\n",
    "\n",
    "import statsmodels.api as sm\n",
    "from statsmodels.formula.api import ols\n",
    "\n",
    "#lasso regression\n",
    "from sklearn import linear_model\n",
    "\n",
    "#f_regression (feature selection)\n",
    "from sklearn.feature_selection import f_regression\n",
    "from sklearn.feature_selection import SelectKBest\n",
    "\n",
    "# recursive feature selection (feature selection)\n",
    "from sklearn.feature_selection import RFE\n",
    "\n",
    "#import decisiontreeclassifier\n",
    "from sklearn import tree\n",
    "from sklearn.tree import DecisionTreeClassifier\n",
    "#import logisticregression classifier\n",
    "from sklearn.linear_model import LogisticRegression\n",
    "import statsmodels.api as sm\n",
    "#import knn classifier\n",
    "from sklearn.neighbors import KNeighborsClassifier\n",
    "\n",
    "#for validating your classification model\n",
    "from sklearn.model_selection import train_test_split\n",
    "from sklearn.model_selection import cross_val_score\n",
    "from sklearn import metrics\n",
    "from sklearn.metrics import roc_curve, auc\n",
    "\n",
    "# feature selection\n",
    "from sklearn.feature_selection import RFE\n",
    "from sklearn.ensemble import ExtraTreesClassifier\n",
    "from sklearn.feature_selection import chi2"
   ]
  },
  {
   "cell_type": "markdown",
   "metadata": {},
   "source": [
    "## Lots of Beef Calves"
   ]
  },
  {
   "cell_type": "code",
   "execution_count": 844,
   "metadata": {},
   "outputs": [
    {
     "data": {
      "text/html": [
       "<img src=\"https://www.beefmagazine.com/sites/beefmagazine.com/files/styles/article_featured_standard/public/baby-beef-calves-weaned20070718dab48.jpg?itok=-978nEuZ\"/>"
      ],
      "text/plain": [
       "<IPython.core.display.Image object>"
      ]
     },
     "execution_count": 844,
     "metadata": {},
     "output_type": "execute_result"
    }
   ],
   "source": [
    "from IPython.display import Image\n",
    "from IPython.core.display import HTML \n",
    "Image(url= \"https://www.beefmagazine.com/sites/beefmagazine.com/files/styles/article_featured_standard/public/baby-beef-calves-weaned20070718dab48.jpg?itok=-978nEuZ\")"
   ]
  },
  {
   "cell_type": "markdown",
   "metadata": {},
   "source": [
    "## Data Description"
   ]
  },
  {
   "cell_type": "markdown",
   "metadata": {},
   "source": [
    "#### This observational dataset has been collected since 1995 through 2018 from one video auction company. Over the last 24 years, the same person has input all data into the database. The database is currently maintained in Access and updated throughout the year. There are 241,278 lots of cattle in the database, each with numerous variables collected such as sale date, weight, breed, etc. All the lot information is provided electronically by the video auction company. These 241,278 lots represent 26,435,097 head of cattle. \n",
    "\n",
    "#### For this project, only sold lots of beef calves and feeder cattle lots from the summer sales are included."
   ]
  },
  {
   "cell_type": "markdown",
   "metadata": {},
   "source": [
    "### We will start with lots of beef calves. \n",
    "\n",
    "#### Variables:\n",
    "- SYEAR: Sale Year 1995 - 2018\n",
    "- LOTID: Count of number of lots of beef calves\n",
    "- SMONTH: Sale Month 1=January, 12=December\n",
    "- SUMMER: Sold in a summer sale, all 1=Yes\n",
    "- HEAD: Number of calves in a lot\n",
    "- SEX: Gender of lot, 1=Steer, 2=Heifer\n",
    "- ATYPE: Animal Type, 0=Unweaned, 1=Weaned\n",
    "- WT: Average weight of the lot (total lot weight/# of head in lot)\n",
    "- PRICE: Sale Price of lot ($/cwt)\n",
    "- STATE: STate of origin of lot\n",
    "- STATECODE: Code of state, alphabetical order starting with 1\n",
    "- SAREA: Sale area, the states are divided into five areas or regions, 1=West Coast, 2=Rocky Mountain/North Central, 3=South Central, 4=Northeast, 5=Southeast\n",
    "- BREED: General breed of the lot, 1=English, English crossed, 3=English-Contenintal crossed, 4=Brahman-influenced\n",
    "- FRAME: Frame score of calves in lot, 3=Small, 4=Medium, 5=Large\n",
    "- FLESH: Amount of flesh (body condition) of calves in lot, 2=Light, 3=Light/Medium, 4=Medium, 5=Heavy\n",
    "- VAC: Vaccinations of lot, 0=vaccinated but not qualified for program, 1=vaccinated and qualify for program\n"
   ]
  },
  {
   "cell_type": "code",
   "execution_count": 845,
   "metadata": {},
   "outputs": [
    {
     "data": {
      "text/html": [
       "<div>\n",
       "<style scoped>\n",
       "    .dataframe tbody tr th:only-of-type {\n",
       "        vertical-align: middle;\n",
       "    }\n",
       "\n",
       "    .dataframe tbody tr th {\n",
       "        vertical-align: top;\n",
       "    }\n",
       "\n",
       "    .dataframe thead th {\n",
       "        text-align: right;\n",
       "    }\n",
       "</style>\n",
       "<table border=\"1\" class=\"dataframe\">\n",
       "  <thead>\n",
       "    <tr style=\"text-align: right;\">\n",
       "      <th></th>\n",
       "      <th>SYEAR</th>\n",
       "      <th>LOTID</th>\n",
       "      <th>SMONTH</th>\n",
       "      <th>SUMMER</th>\n",
       "      <th>HEAD</th>\n",
       "      <th>SEX</th>\n",
       "      <th>ATYPE</th>\n",
       "      <th>WT</th>\n",
       "      <th>PRICE</th>\n",
       "      <th>STATE</th>\n",
       "      <th>STATECODE</th>\n",
       "      <th>SAREA</th>\n",
       "      <th>BREED</th>\n",
       "      <th>FRAME</th>\n",
       "      <th>FLESH</th>\n",
       "      <th>VAC</th>\n",
       "    </tr>\n",
       "  </thead>\n",
       "  <tbody>\n",
       "    <tr>\n",
       "      <th>0</th>\n",
       "      <td>1995</td>\n",
       "      <td>1</td>\n",
       "      <td>6</td>\n",
       "      <td>1</td>\n",
       "      <td>115</td>\n",
       "      <td>1</td>\n",
       "      <td>1</td>\n",
       "      <td>425</td>\n",
       "      <td>81.25</td>\n",
       "      <td>OK</td>\n",
       "      <td>25</td>\n",
       "      <td>3</td>\n",
       "      <td>3</td>\n",
       "      <td>4</td>\n",
       "      <td>4</td>\n",
       "      <td>1</td>\n",
       "    </tr>\n",
       "    <tr>\n",
       "      <th>1</th>\n",
       "      <td>1995</td>\n",
       "      <td>2</td>\n",
       "      <td>6</td>\n",
       "      <td>1</td>\n",
       "      <td>220</td>\n",
       "      <td>1</td>\n",
       "      <td>1</td>\n",
       "      <td>460</td>\n",
       "      <td>80.00</td>\n",
       "      <td>OK</td>\n",
       "      <td>25</td>\n",
       "      <td>3</td>\n",
       "      <td>3</td>\n",
       "      <td>4</td>\n",
       "      <td>4</td>\n",
       "      <td>1</td>\n",
       "    </tr>\n",
       "    <tr>\n",
       "      <th>2</th>\n",
       "      <td>1995</td>\n",
       "      <td>3</td>\n",
       "      <td>6</td>\n",
       "      <td>1</td>\n",
       "      <td>84</td>\n",
       "      <td>1</td>\n",
       "      <td>1</td>\n",
       "      <td>570</td>\n",
       "      <td>77.00</td>\n",
       "      <td>MO</td>\n",
       "      <td>23</td>\n",
       "      <td>3</td>\n",
       "      <td>1</td>\n",
       "      <td>4</td>\n",
       "      <td>4</td>\n",
       "      <td>1</td>\n",
       "    </tr>\n",
       "    <tr>\n",
       "      <th>3</th>\n",
       "      <td>1995</td>\n",
       "      <td>4</td>\n",
       "      <td>6</td>\n",
       "      <td>1</td>\n",
       "      <td>83</td>\n",
       "      <td>1</td>\n",
       "      <td>1</td>\n",
       "      <td>610</td>\n",
       "      <td>74.50</td>\n",
       "      <td>KS</td>\n",
       "      <td>22</td>\n",
       "      <td>3</td>\n",
       "      <td>3</td>\n",
       "      <td>5</td>\n",
       "      <td>4</td>\n",
       "      <td>0</td>\n",
       "    </tr>\n",
       "    <tr>\n",
       "      <th>4</th>\n",
       "      <td>1995</td>\n",
       "      <td>5</td>\n",
       "      <td>6</td>\n",
       "      <td>1</td>\n",
       "      <td>155</td>\n",
       "      <td>1</td>\n",
       "      <td>1</td>\n",
       "      <td>625</td>\n",
       "      <td>68.10</td>\n",
       "      <td>MS</td>\n",
       "      <td>46</td>\n",
       "      <td>5</td>\n",
       "      <td>4</td>\n",
       "      <td>3</td>\n",
       "      <td>4</td>\n",
       "      <td>0</td>\n",
       "    </tr>\n",
       "  </tbody>\n",
       "</table>\n",
       "</div>"
      ],
      "text/plain": [
       "   SYEAR  LOTID  SMONTH  SUMMER  HEAD  SEX  ATYPE   WT  PRICE STATE  \\\n",
       "0   1995      1       6       1   115    1      1  425  81.25    OK   \n",
       "1   1995      2       6       1   220    1      1  460  80.00    OK   \n",
       "2   1995      3       6       1    84    1      1  570  77.00    MO   \n",
       "3   1995      4       6       1    83    1      1  610  74.50    KS   \n",
       "4   1995      5       6       1   155    1      1  625  68.10    MS   \n",
       "\n",
       "   STATECODE  SAREA  BREED  FRAME  FLESH  VAC  \n",
       "0         25      3      3      4      4    1  \n",
       "1         25      3      3      4      4    1  \n",
       "2         23      3      1      4      4    1  \n",
       "3         22      3      3      5      4    0  \n",
       "4         46      5      4      3      4    0  "
      ]
     },
     "execution_count": 845,
     "metadata": {},
     "output_type": "execute_result"
    }
   ],
   "source": [
    "# import dataset\n",
    "SLA=pd.read_csv(\"DATA/DATAR.csv\")\n",
    "SLA.head()"
   ]
  },
  {
   "cell_type": "markdown",
   "metadata": {},
   "source": [
    "## Data Tranformation"
   ]
  },
  {
   "cell_type": "code",
   "execution_count": 846,
   "metadata": {},
   "outputs": [
    {
     "name": "stdout",
     "output_type": "stream",
     "text": [
      "<class 'pandas.core.frame.DataFrame'>\n",
      "RangeIndex: 94872 entries, 0 to 94871\n",
      "Data columns (total 16 columns):\n",
      "SYEAR        94872 non-null int64\n",
      "LOTID        94872 non-null int64\n",
      "SMONTH       94872 non-null int64\n",
      "SUMMER       94872 non-null int64\n",
      "HEAD         94872 non-null int64\n",
      "SEX          94872 non-null int64\n",
      "ATYPE        94872 non-null int64\n",
      "WT           94872 non-null int64\n",
      "PRICE        94872 non-null float64\n",
      "STATE        94872 non-null object\n",
      "STATECODE    94872 non-null int64\n",
      "SAREA        94872 non-null int64\n",
      "BREED        94872 non-null int64\n",
      "FRAME        94872 non-null int64\n",
      "FLESH        94872 non-null int64\n",
      "VAC          94872 non-null int64\n",
      "dtypes: float64(1), int64(14), object(1)\n",
      "memory usage: 11.6+ MB\n"
     ]
    }
   ],
   "source": [
    "#data types & missing values\n",
    "SLA.info()"
   ]
  },
  {
   "cell_type": "markdown",
   "metadata": {},
   "source": [
    "##### There are no missing data in this dataset."
   ]
  },
  {
   "cell_type": "code",
   "execution_count": 847,
   "metadata": {},
   "outputs": [
    {
     "data": {
      "text/html": [
       "<div>\n",
       "<style scoped>\n",
       "    .dataframe tbody tr th:only-of-type {\n",
       "        vertical-align: middle;\n",
       "    }\n",
       "\n",
       "    .dataframe tbody tr th {\n",
       "        vertical-align: top;\n",
       "    }\n",
       "\n",
       "    .dataframe thead th {\n",
       "        text-align: right;\n",
       "    }\n",
       "</style>\n",
       "<table border=\"1\" class=\"dataframe\">\n",
       "  <thead>\n",
       "    <tr style=\"text-align: right;\">\n",
       "      <th></th>\n",
       "      <th>SYEAR</th>\n",
       "      <th>LOTID</th>\n",
       "      <th>SMONTH</th>\n",
       "      <th>HEAD</th>\n",
       "      <th>SEX</th>\n",
       "      <th>WT</th>\n",
       "      <th>PRICE</th>\n",
       "      <th>STATE</th>\n",
       "      <th>STATECODE</th>\n",
       "      <th>SAREA</th>\n",
       "      <th>BREED</th>\n",
       "      <th>FRAME</th>\n",
       "      <th>FLESH</th>\n",
       "      <th>VAC</th>\n",
       "    </tr>\n",
       "  </thead>\n",
       "  <tbody>\n",
       "    <tr>\n",
       "      <th>0</th>\n",
       "      <td>1995</td>\n",
       "      <td>1</td>\n",
       "      <td>6</td>\n",
       "      <td>115</td>\n",
       "      <td>1</td>\n",
       "      <td>425</td>\n",
       "      <td>81.25</td>\n",
       "      <td>OK</td>\n",
       "      <td>25</td>\n",
       "      <td>3</td>\n",
       "      <td>3</td>\n",
       "      <td>4</td>\n",
       "      <td>4</td>\n",
       "      <td>1</td>\n",
       "    </tr>\n",
       "    <tr>\n",
       "      <th>1</th>\n",
       "      <td>1995</td>\n",
       "      <td>2</td>\n",
       "      <td>6</td>\n",
       "      <td>220</td>\n",
       "      <td>1</td>\n",
       "      <td>460</td>\n",
       "      <td>80.00</td>\n",
       "      <td>OK</td>\n",
       "      <td>25</td>\n",
       "      <td>3</td>\n",
       "      <td>3</td>\n",
       "      <td>4</td>\n",
       "      <td>4</td>\n",
       "      <td>1</td>\n",
       "    </tr>\n",
       "    <tr>\n",
       "      <th>2</th>\n",
       "      <td>1995</td>\n",
       "      <td>3</td>\n",
       "      <td>6</td>\n",
       "      <td>84</td>\n",
       "      <td>1</td>\n",
       "      <td>570</td>\n",
       "      <td>77.00</td>\n",
       "      <td>MO</td>\n",
       "      <td>23</td>\n",
       "      <td>3</td>\n",
       "      <td>1</td>\n",
       "      <td>4</td>\n",
       "      <td>4</td>\n",
       "      <td>1</td>\n",
       "    </tr>\n",
       "    <tr>\n",
       "      <th>3</th>\n",
       "      <td>1995</td>\n",
       "      <td>4</td>\n",
       "      <td>6</td>\n",
       "      <td>83</td>\n",
       "      <td>1</td>\n",
       "      <td>610</td>\n",
       "      <td>74.50</td>\n",
       "      <td>KS</td>\n",
       "      <td>22</td>\n",
       "      <td>3</td>\n",
       "      <td>3</td>\n",
       "      <td>5</td>\n",
       "      <td>4</td>\n",
       "      <td>0</td>\n",
       "    </tr>\n",
       "    <tr>\n",
       "      <th>4</th>\n",
       "      <td>1995</td>\n",
       "      <td>5</td>\n",
       "      <td>6</td>\n",
       "      <td>155</td>\n",
       "      <td>1</td>\n",
       "      <td>625</td>\n",
       "      <td>68.10</td>\n",
       "      <td>MS</td>\n",
       "      <td>46</td>\n",
       "      <td>5</td>\n",
       "      <td>4</td>\n",
       "      <td>3</td>\n",
       "      <td>4</td>\n",
       "      <td>0</td>\n",
       "    </tr>\n",
       "  </tbody>\n",
       "</table>\n",
       "</div>"
      ],
      "text/plain": [
       "   SYEAR  LOTID  SMONTH  HEAD  SEX   WT  PRICE STATE  STATECODE  SAREA  BREED  \\\n",
       "0   1995      1       6   115    1  425  81.25    OK         25      3      3   \n",
       "1   1995      2       6   220    1  460  80.00    OK         25      3      3   \n",
       "2   1995      3       6    84    1  570  77.00    MO         23      3      1   \n",
       "3   1995      4       6    83    1  610  74.50    KS         22      3      3   \n",
       "4   1995      5       6   155    1  625  68.10    MS         46      5      4   \n",
       "\n",
       "   FRAME  FLESH  VAC  \n",
       "0      4      4    1  \n",
       "1      4      4    1  \n",
       "2      4      4    1  \n",
       "3      5      4    0  \n",
       "4      3      4    0  "
      ]
     },
     "execution_count": 847,
     "metadata": {},
     "output_type": "execute_result"
    }
   ],
   "source": [
    "# remove unnecessary columnS\n",
    "SLA = SLA.drop(['SUMMER','ATYPE'], axis=1)\n",
    "SLA.head()"
   ]
  },
  {
   "cell_type": "code",
   "execution_count": 848,
   "metadata": {},
   "outputs": [
    {
     "data": {
      "text/plain": [
       "STATE\n",
       "AL      143\n",
       "AR      319\n",
       "AZ      863\n",
       "CA      248\n",
       "CO    10771\n",
       "FL     3491\n",
       "GA      244\n",
       "IA      460\n",
       "ID     6710\n",
       "IL      222\n",
       "IN       29\n",
       "KS     3326\n",
       "KY       25\n",
       "LA     1689\n",
       "ME        1\n",
       "MI      157\n",
       "MN      166\n",
       "MO      948\n",
       "MS      167\n",
       "MT    13267\n",
       "NC      385\n",
       "ND     2032\n",
       "NE     4940\n",
       "NM     3726\n",
       "NV     3924\n",
       "OH       20\n",
       "OK     2346\n",
       "OR     5679\n",
       "SC       12\n",
       "SD     3565\n",
       "TN       49\n",
       "TX    10116\n",
       "UT     5994\n",
       "VA       41\n",
       "WA      511\n",
       "WI       82\n",
       "WY     8204\n",
       "dtype: int64"
      ]
     },
     "execution_count": 848,
     "metadata": {},
     "output_type": "execute_result"
    }
   ],
   "source": [
    "# value count but using describe \n",
    "SLA.groupby('STATE').size()"
   ]
  },
  {
   "cell_type": "markdown",
   "metadata": {},
   "source": [
    "#### While SAREA not STATE will be included in the model, it is interesting to investiagte which states are represented in the dataset. The states of Colorado, Montana, and Texas are the three largest states represented."
   ]
  },
  {
   "cell_type": "code",
   "execution_count": 849,
   "metadata": {},
   "outputs": [
    {
     "data": {
      "text/plain": [
       "VAC\n",
       "0    25661\n",
       "1    69211\n",
       "dtype: int64"
      ]
     },
     "execution_count": 849,
     "metadata": {},
     "output_type": "execute_result"
    }
   ],
   "source": [
    "# value count but using describe \n",
    "SLA.groupby('VAC').size()"
   ]
  },
  {
   "cell_type": "markdown",
   "metadata": {},
   "source": [
    "#### There were 25,661 lots not qualifed for a vaccination program and 69,211 lots qualified for a vaccination program"
   ]
  },
  {
   "cell_type": "code",
   "execution_count": 850,
   "metadata": {},
   "outputs": [
    {
     "data": {
      "text/plain": [
       "BREED\n",
       "1    39396\n",
       "3    37558\n",
       "4    17918\n",
       "dtype: int64"
      ]
     },
     "execution_count": 850,
     "metadata": {},
     "output_type": "execute_result"
    }
   ],
   "source": [
    "# value count but using describe \n",
    "SLA.groupby('BREED').size()"
   ]
  },
  {
   "cell_type": "markdown",
   "metadata": {},
   "source": [
    "#### The breed distributions included 39,396 lots of English, English crossed, 37,558 lots of English-Continental crossed, and 17,918 lots of Brahman-influenced."
   ]
  },
  {
   "cell_type": "code",
   "execution_count": 851,
   "metadata": {},
   "outputs": [
    {
     "data": {
      "text/plain": [
       "SMONTH\n",
       "4       568\n",
       "5      1653\n",
       "6     12535\n",
       "7     33883\n",
       "8     32043\n",
       "9     12591\n",
       "10     1239\n",
       "11      360\n",
       "dtype: int64"
      ]
     },
     "execution_count": 851,
     "metadata": {},
     "output_type": "execute_result"
    }
   ],
   "source": [
    "# value count but using describe \n",
    "SLA.groupby('SMONTH').size()"
   ]
  },
  {
   "cell_type": "markdown",
   "metadata": {},
   "source": [
    "#### The \"summer\" sale months are from April through November, with the largest months being July and August."
   ]
  },
  {
   "cell_type": "code",
   "execution_count": 852,
   "metadata": {},
   "outputs": [
    {
     "data": {
      "text/plain": [
       "SEX\n",
       "1    57647\n",
       "2    37225\n",
       "dtype: int64"
      ]
     },
     "execution_count": 852,
     "metadata": {},
     "output_type": "execute_result"
    }
   ],
   "source": [
    "# value count but using describe \n",
    "SLA.groupby('SEX').size()"
   ]
  },
  {
   "cell_type": "markdown",
   "metadata": {},
   "source": [
    "#### There were 57,647 lots of steer calves and 37,225 lots of heifer calves."
   ]
  },
  {
   "cell_type": "code",
   "execution_count": 853,
   "metadata": {},
   "outputs": [
    {
     "data": {
      "text/plain": [
       "SYEAR\n",
       "1995    1823\n",
       "1996    2161\n",
       "1997    2205\n",
       "1998    2108\n",
       "1999    2985\n",
       "2000    3342\n",
       "2001    3119\n",
       "2002    3170\n",
       "2003    3904\n",
       "2004    4231\n",
       "2005    4313\n",
       "2006    3869\n",
       "2007    4605\n",
       "2008    4164\n",
       "2009    4199\n",
       "2010    5832\n",
       "2011    5512\n",
       "2012    4400\n",
       "2013    5292\n",
       "2014    4503\n",
       "2015    4572\n",
       "2016    4695\n",
       "2017    5122\n",
       "2018    4746\n",
       "dtype: int64"
      ]
     },
     "execution_count": 853,
     "metadata": {},
     "output_type": "execute_result"
    }
   ],
   "source": [
    "# value count but using describe \n",
    "SLA.groupby('SYEAR').size()"
   ]
  },
  {
   "cell_type": "markdown",
   "metadata": {},
   "source": [
    "#### The years in the dataset are 1995 through 2018. There are year to year variations in the number of lots sold."
   ]
  },
  {
   "cell_type": "markdown",
   "metadata": {},
   "source": [
    "### Combining Groups"
   ]
  },
  {
   "cell_type": "markdown",
   "metadata": {},
   "source": [
    "#### Frame"
   ]
  },
  {
   "cell_type": "code",
   "execution_count": 854,
   "metadata": {},
   "outputs": [
    {
     "data": {
      "text/plain": [
       "FRAME\n",
       "1       14\n",
       "2      191\n",
       "3    40262\n",
       "4    41811\n",
       "5    11102\n",
       "6     1349\n",
       "7      143\n",
       "dtype: int64"
      ]
     },
     "execution_count": 854,
     "metadata": {},
     "output_type": "execute_result"
    }
   ],
   "source": [
    "SLA.groupby('FRAME').size()"
   ]
  },
  {
   "cell_type": "code",
   "execution_count": 855,
   "metadata": {},
   "outputs": [],
   "source": [
    "SLA = SLA.replace({'FRAME': 1}, {'FRAME': 3})"
   ]
  },
  {
   "cell_type": "code",
   "execution_count": 856,
   "metadata": {},
   "outputs": [],
   "source": [
    "SLA = SLA.replace({'FRAME': 2}, {'FRAME': 3})"
   ]
  },
  {
   "cell_type": "code",
   "execution_count": 857,
   "metadata": {},
   "outputs": [],
   "source": [
    "SLA = SLA.replace({'FRAME': 7}, {'FRAME': 5})"
   ]
  },
  {
   "cell_type": "code",
   "execution_count": 858,
   "metadata": {},
   "outputs": [],
   "source": [
    "SLA = SLA.replace({'FRAME': 6}, {'FRAME': 5})"
   ]
  },
  {
   "cell_type": "code",
   "execution_count": 859,
   "metadata": {},
   "outputs": [
    {
     "data": {
      "text/plain": [
       "FRAME\n",
       "3    40467\n",
       "4    41811\n",
       "5    12594\n",
       "dtype: int64"
      ]
     },
     "execution_count": 859,
     "metadata": {},
     "output_type": "execute_result"
    }
   ],
   "source": [
    "SLA.groupby('FRAME').size()"
   ]
  },
  {
   "cell_type": "markdown",
   "metadata": {},
   "source": [
    "#### Frame scores 1 and 2 were small and combined with group 3. Frame score 6 and 7 were small and combined with 5. This resulted in three groups of frame scores, 3=small, 4=medium, 5=large."
   ]
  },
  {
   "cell_type": "markdown",
   "metadata": {},
   "source": [
    "#### Flesh"
   ]
  },
  {
   "cell_type": "code",
   "execution_count": 860,
   "metadata": {},
   "outputs": [
    {
     "data": {
      "text/plain": [
       "FLESH\n",
       "1      107\n",
       "2     4104\n",
       "3     6466\n",
       "4    80780\n",
       "5     2460\n",
       "6      942\n",
       "7       13\n",
       "dtype: int64"
      ]
     },
     "execution_count": 860,
     "metadata": {},
     "output_type": "execute_result"
    }
   ],
   "source": [
    "SLA.groupby('FLESH').size()"
   ]
  },
  {
   "cell_type": "code",
   "execution_count": 861,
   "metadata": {},
   "outputs": [],
   "source": [
    "SLA = SLA.replace({'FLESH': 1}, {'FLESH': 2})"
   ]
  },
  {
   "cell_type": "code",
   "execution_count": 862,
   "metadata": {},
   "outputs": [],
   "source": [
    "SLA = SLA.replace({'FLESH': 7}, {'FLESH': 5})"
   ]
  },
  {
   "cell_type": "code",
   "execution_count": 863,
   "metadata": {},
   "outputs": [],
   "source": [
    "SLA = SLA.replace({'FLESH': 6}, {'FLESH': 5})"
   ]
  },
  {
   "cell_type": "code",
   "execution_count": 864,
   "metadata": {},
   "outputs": [
    {
     "data": {
      "text/plain": [
       "FLESH\n",
       "2     4211\n",
       "3     6466\n",
       "4    80780\n",
       "5     3415\n",
       "dtype: int64"
      ]
     },
     "execution_count": 864,
     "metadata": {},
     "output_type": "execute_result"
    }
   ],
   "source": [
    "SLA.groupby('FLESH').size()"
   ]
  },
  {
   "cell_type": "markdown",
   "metadata": {},
   "source": [
    "#### Flesh score 1 was a small group and combined with score 2. Scores 6 and 7 were small groups as well and combined with group 5. The final flesh score groups are 2=light, 3=light/medium, 4=medium, and 5=heavy."
   ]
  },
  {
   "cell_type": "markdown",
   "metadata": {},
   "source": [
    "#### SAREA"
   ]
  },
  {
   "cell_type": "code",
   "execution_count": 865,
   "metadata": {},
   "outputs": [
    {
     "data": {
      "text/plain": [
       "SAREA\n",
       "1    23066\n",
       "2    43895\n",
       "3    21325\n",
       "4       21\n",
       "5     6565\n",
       "dtype: int64"
      ]
     },
     "execution_count": 865,
     "metadata": {},
     "output_type": "execute_result"
    }
   ],
   "source": [
    "SLA.groupby('SAREA').size()"
   ]
  },
  {
   "cell_type": "code",
   "execution_count": 866,
   "metadata": {},
   "outputs": [],
   "source": [
    "SLA = SLA.replace({'SAREA': 4}, {'SAREA': 5})"
   ]
  },
  {
   "cell_type": "code",
   "execution_count": 867,
   "metadata": {},
   "outputs": [
    {
     "data": {
      "text/plain": [
       "SAREA\n",
       "1    23066\n",
       "2    43895\n",
       "3    21325\n",
       "5     6586\n",
       "dtype: int64"
      ]
     },
     "execution_count": 867,
     "metadata": {},
     "output_type": "execute_result"
    }
   ],
   "source": [
    "SLA.groupby('SAREA').size()"
   ]
  },
  {
   "cell_type": "markdown",
   "metadata": {},
   "source": [
    "#### SAREA 4 was small, thus combined with SAREA 5."
   ]
  },
  {
   "cell_type": "markdown",
   "metadata": {},
   "source": [
    "## Exploratory Data Analysis and Data Visualization"
   ]
  },
  {
   "cell_type": "code",
   "execution_count": 868,
   "metadata": {},
   "outputs": [
    {
     "data": {
      "text/html": [
       "<div>\n",
       "<style scoped>\n",
       "    .dataframe tbody tr th:only-of-type {\n",
       "        vertical-align: middle;\n",
       "    }\n",
       "\n",
       "    .dataframe tbody tr th {\n",
       "        vertical-align: top;\n",
       "    }\n",
       "\n",
       "    .dataframe thead th {\n",
       "        text-align: right;\n",
       "    }\n",
       "</style>\n",
       "<table border=\"1\" class=\"dataframe\">\n",
       "  <thead>\n",
       "    <tr style=\"text-align: right;\">\n",
       "      <th></th>\n",
       "      <th>SYEAR</th>\n",
       "      <th>LOTID</th>\n",
       "      <th>SMONTH</th>\n",
       "      <th>HEAD</th>\n",
       "      <th>SEX</th>\n",
       "      <th>WT</th>\n",
       "      <th>PRICE</th>\n",
       "      <th>STATECODE</th>\n",
       "      <th>SAREA</th>\n",
       "      <th>BREED</th>\n",
       "      <th>FRAME</th>\n",
       "      <th>FLESH</th>\n",
       "      <th>VAC</th>\n",
       "    </tr>\n",
       "  </thead>\n",
       "  <tbody>\n",
       "    <tr>\n",
       "      <th>count</th>\n",
       "      <td>94872.000000</td>\n",
       "      <td>94872.000000</td>\n",
       "      <td>94872.000000</td>\n",
       "      <td>94872.000000</td>\n",
       "      <td>94872.000000</td>\n",
       "      <td>94872.000000</td>\n",
       "      <td>94872.000000</td>\n",
       "      <td>94872.000000</td>\n",
       "      <td>94872.000000</td>\n",
       "      <td>94872.000000</td>\n",
       "      <td>94872.000000</td>\n",
       "      <td>94872.000000</td>\n",
       "      <td>94872.00000</td>\n",
       "    </tr>\n",
       "    <tr>\n",
       "      <th>mean</th>\n",
       "      <td>2008.162883</td>\n",
       "      <td>115776.113606</td>\n",
       "      <td>7.472605</td>\n",
       "      <td>111.481154</td>\n",
       "      <td>1.392371</td>\n",
       "      <td>560.953021</td>\n",
       "      <td>134.750527</td>\n",
       "      <td>15.956742</td>\n",
       "      <td>2.189909</td>\n",
       "      <td>2.358357</td>\n",
       "      <td>3.706204</td>\n",
       "      <td>3.879069</td>\n",
       "      <td>0.72952</td>\n",
       "    </tr>\n",
       "    <tr>\n",
       "      <th>std</th>\n",
       "      <td>6.409211</td>\n",
       "      <td>66999.030234</td>\n",
       "      <td>1.038856</td>\n",
       "      <td>71.953652</td>\n",
       "      <td>0.488281</td>\n",
       "      <td>79.046282</td>\n",
       "      <td>48.860322</td>\n",
       "      <td>10.544034</td>\n",
       "      <td>1.027924</td>\n",
       "      <td>1.199246</td>\n",
       "      <td>0.687735</td>\n",
       "      <td>0.516792</td>\n",
       "      <td>0.44421</td>\n",
       "    </tr>\n",
       "    <tr>\n",
       "      <th>min</th>\n",
       "      <td>1995.000000</td>\n",
       "      <td>1.000000</td>\n",
       "      <td>4.000000</td>\n",
       "      <td>5.000000</td>\n",
       "      <td>1.000000</td>\n",
       "      <td>235.000000</td>\n",
       "      <td>41.250000</td>\n",
       "      <td>0.000000</td>\n",
       "      <td>1.000000</td>\n",
       "      <td>1.000000</td>\n",
       "      <td>3.000000</td>\n",
       "      <td>2.000000</td>\n",
       "      <td>0.00000</td>\n",
       "    </tr>\n",
       "    <tr>\n",
       "      <th>25%</th>\n",
       "      <td>2003.000000</td>\n",
       "      <td>63342.750000</td>\n",
       "      <td>7.000000</td>\n",
       "      <td>79.000000</td>\n",
       "      <td>1.000000</td>\n",
       "      <td>500.000000</td>\n",
       "      <td>103.000000</td>\n",
       "      <td>7.000000</td>\n",
       "      <td>2.000000</td>\n",
       "      <td>1.000000</td>\n",
       "      <td>3.000000</td>\n",
       "      <td>4.000000</td>\n",
       "      <td>0.00000</td>\n",
       "    </tr>\n",
       "    <tr>\n",
       "      <th>50%</th>\n",
       "      <td>2009.000000</td>\n",
       "      <td>104860.500000</td>\n",
       "      <td>7.000000</td>\n",
       "      <td>90.000000</td>\n",
       "      <td>1.000000</td>\n",
       "      <td>550.000000</td>\n",
       "      <td>124.000000</td>\n",
       "      <td>15.000000</td>\n",
       "      <td>2.000000</td>\n",
       "      <td>3.000000</td>\n",
       "      <td>4.000000</td>\n",
       "      <td>4.000000</td>\n",
       "      <td>1.00000</td>\n",
       "    </tr>\n",
       "    <tr>\n",
       "      <th>75%</th>\n",
       "      <td>2013.000000</td>\n",
       "      <td>172941.250000</td>\n",
       "      <td>8.000000</td>\n",
       "      <td>110.000000</td>\n",
       "      <td>2.000000</td>\n",
       "      <td>610.000000</td>\n",
       "      <td>155.000000</td>\n",
       "      <td>22.000000</td>\n",
       "      <td>3.000000</td>\n",
       "      <td>3.000000</td>\n",
       "      <td>4.000000</td>\n",
       "      <td>4.000000</td>\n",
       "      <td>1.00000</td>\n",
       "    </tr>\n",
       "    <tr>\n",
       "      <th>max</th>\n",
       "      <td>2018.000000</td>\n",
       "      <td>239006.000000</td>\n",
       "      <td>11.000000</td>\n",
       "      <td>1380.000000</td>\n",
       "      <td>2.000000</td>\n",
       "      <td>960.000000</td>\n",
       "      <td>422.000000</td>\n",
       "      <td>50.000000</td>\n",
       "      <td>5.000000</td>\n",
       "      <td>4.000000</td>\n",
       "      <td>5.000000</td>\n",
       "      <td>5.000000</td>\n",
       "      <td>1.00000</td>\n",
       "    </tr>\n",
       "  </tbody>\n",
       "</table>\n",
       "</div>"
      ],
      "text/plain": [
       "              SYEAR          LOTID        SMONTH          HEAD           SEX  \\\n",
       "count  94872.000000   94872.000000  94872.000000  94872.000000  94872.000000   \n",
       "mean    2008.162883  115776.113606      7.472605    111.481154      1.392371   \n",
       "std        6.409211   66999.030234      1.038856     71.953652      0.488281   \n",
       "min     1995.000000       1.000000      4.000000      5.000000      1.000000   \n",
       "25%     2003.000000   63342.750000      7.000000     79.000000      1.000000   \n",
       "50%     2009.000000  104860.500000      7.000000     90.000000      1.000000   \n",
       "75%     2013.000000  172941.250000      8.000000    110.000000      2.000000   \n",
       "max     2018.000000  239006.000000     11.000000   1380.000000      2.000000   \n",
       "\n",
       "                 WT         PRICE     STATECODE         SAREA         BREED  \\\n",
       "count  94872.000000  94872.000000  94872.000000  94872.000000  94872.000000   \n",
       "mean     560.953021    134.750527     15.956742      2.189909      2.358357   \n",
       "std       79.046282     48.860322     10.544034      1.027924      1.199246   \n",
       "min      235.000000     41.250000      0.000000      1.000000      1.000000   \n",
       "25%      500.000000    103.000000      7.000000      2.000000      1.000000   \n",
       "50%      550.000000    124.000000     15.000000      2.000000      3.000000   \n",
       "75%      610.000000    155.000000     22.000000      3.000000      3.000000   \n",
       "max      960.000000    422.000000     50.000000      5.000000      4.000000   \n",
       "\n",
       "              FRAME         FLESH          VAC  \n",
       "count  94872.000000  94872.000000  94872.00000  \n",
       "mean       3.706204      3.879069      0.72952  \n",
       "std        0.687735      0.516792      0.44421  \n",
       "min        3.000000      2.000000      0.00000  \n",
       "25%        3.000000      4.000000      0.00000  \n",
       "50%        4.000000      4.000000      1.00000  \n",
       "75%        4.000000      4.000000      1.00000  \n",
       "max        5.000000      5.000000      1.00000  "
      ]
     },
     "execution_count": 868,
     "metadata": {},
     "output_type": "execute_result"
    }
   ],
   "source": [
    "#Describe shows a quick statistic summary of your data\n",
    "#this is a good way to examine the numerical columns\n",
    "SLA.describe()"
   ]
  },
  {
   "cell_type": "markdown",
   "metadata": {},
   "source": [
    "#### Of all variables, the only continuous variables are price and weight. Those two variables are the focus. \n",
    "#### The average weight of these lots were 560.95 pounds, ranging from 235.0 pounds to 960.0 pounds. \n",
    "#### The average price was $134.75/cwt, ranging from 41.25/cwt to 422.00/cwt.\n"
   ]
  },
  {
   "cell_type": "code",
   "execution_count": 869,
   "metadata": {},
   "outputs": [
    {
     "data": {
      "text/plain": [
       "array([[<matplotlib.axes._subplots.AxesSubplot object at 0x00000000973D9630>,\n",
       "        <matplotlib.axes._subplots.AxesSubplot object at 0x00000000973EA860>,\n",
       "        <matplotlib.axes._subplots.AxesSubplot object at 0x000000007AB6BC50>,\n",
       "        <matplotlib.axes._subplots.AxesSubplot object at 0x0000000096556080>],\n",
       "       [<matplotlib.axes._subplots.AxesSubplot object at 0x000000009A606470>,\n",
       "        <matplotlib.axes._subplots.AxesSubplot object at 0x000000009A53D828>,\n",
       "        <matplotlib.axes._subplots.AxesSubplot object at 0x000000009A3F3C18>,\n",
       "        <matplotlib.axes._subplots.AxesSubplot object at 0x000000009A47A048>],\n",
       "       [<matplotlib.axes._subplots.AxesSubplot object at 0x000000009A4AD438>,\n",
       "        <matplotlib.axes._subplots.AxesSubplot object at 0x000000009A1AC828>,\n",
       "        <matplotlib.axes._subplots.AxesSubplot object at 0x000000009A0A4C18>,\n",
       "        <matplotlib.axes._subplots.AxesSubplot object at 0x0000000099F66048>],\n",
       "       [<matplotlib.axes._subplots.AxesSubplot object at 0x0000000099E5C438>,\n",
       "        <matplotlib.axes._subplots.AxesSubplot object at 0x000000006EA42828>,\n",
       "        <matplotlib.axes._subplots.AxesSubplot object at 0x000000006EA7AC18>,\n",
       "        <matplotlib.axes._subplots.AxesSubplot object at 0x0000000099D92048>]],\n",
       "      dtype=object)"
      ]
     },
     "execution_count": 869,
     "metadata": {},
     "output_type": "execute_result"
    },
    {
     "data": {
      "image/png": "[encoded data removed]",
      "text/plain": [
       "<Figure size 864x864 with 16 Axes>"
      ]
     },
     "metadata": {},
     "output_type": "display_data"
    }
   ],
   "source": [
    "SLA.hist(figsize=(12,12))"
   ]
  },
  {
   "cell_type": "code",
   "execution_count": 870,
   "metadata": {},
   "outputs": [
    {
     "data": {
      "text/html": [
       "<div>\n",
       "<style scoped>\n",
       "    .dataframe tbody tr th:only-of-type {\n",
       "        vertical-align: middle;\n",
       "    }\n",
       "\n",
       "    .dataframe tbody tr th {\n",
       "        vertical-align: top;\n",
       "    }\n",
       "\n",
       "    .dataframe thead th {\n",
       "        text-align: right;\n",
       "    }\n",
       "</style>\n",
       "<table border=\"1\" class=\"dataframe\">\n",
       "  <thead>\n",
       "    <tr style=\"text-align: right;\">\n",
       "      <th></th>\n",
       "      <th>SYEAR</th>\n",
       "      <th>LOTID</th>\n",
       "      <th>SMONTH</th>\n",
       "      <th>HEAD</th>\n",
       "      <th>SEX</th>\n",
       "      <th>WT</th>\n",
       "      <th>PRICE</th>\n",
       "      <th>STATECODE</th>\n",
       "      <th>SAREA</th>\n",
       "      <th>BREED</th>\n",
       "      <th>FRAME</th>\n",
       "      <th>FLESH</th>\n",
       "      <th>VAC</th>\n",
       "    </tr>\n",
       "  </thead>\n",
       "  <tbody>\n",
       "    <tr>\n",
       "      <th>SYEAR</th>\n",
       "      <td>1.000000</td>\n",
       "      <td>0.971616</td>\n",
       "      <td>-0.088036</td>\n",
       "      <td>-0.112701</td>\n",
       "      <td>-0.003453</td>\n",
       "      <td>0.125283</td>\n",
       "      <td>0.732215</td>\n",
       "      <td>-0.167889</td>\n",
       "      <td>-0.041601</td>\n",
       "      <td>-0.185266</td>\n",
       "      <td>-0.001793</td>\n",
       "      <td>-0.036868</td>\n",
       "      <td>0.432266</td>\n",
       "    </tr>\n",
       "    <tr>\n",
       "      <th>LOTID</th>\n",
       "      <td>0.971616</td>\n",
       "      <td>1.000000</td>\n",
       "      <td>-0.047674</td>\n",
       "      <td>-0.107917</td>\n",
       "      <td>-0.002026</td>\n",
       "      <td>0.116331</td>\n",
       "      <td>0.723935</td>\n",
       "      <td>-0.184238</td>\n",
       "      <td>-0.040155</td>\n",
       "      <td>-0.166417</td>\n",
       "      <td>0.007888</td>\n",
       "      <td>-0.038818</td>\n",
       "      <td>0.368652</td>\n",
       "    </tr>\n",
       "    <tr>\n",
       "      <th>SMONTH</th>\n",
       "      <td>-0.088036</td>\n",
       "      <td>-0.047674</td>\n",
       "      <td>1.000000</td>\n",
       "      <td>-0.016740</td>\n",
       "      <td>-0.001158</td>\n",
       "      <td>-0.085901</td>\n",
       "      <td>-0.083700</td>\n",
       "      <td>0.006256</td>\n",
       "      <td>-0.000927</td>\n",
       "      <td>0.042095</td>\n",
       "      <td>0.032692</td>\n",
       "      <td>-0.014937</td>\n",
       "      <td>-0.103688</td>\n",
       "    </tr>\n",
       "    <tr>\n",
       "      <th>HEAD</th>\n",
       "      <td>-0.112701</td>\n",
       "      <td>-0.107917</td>\n",
       "      <td>-0.016740</td>\n",
       "      <td>1.000000</td>\n",
       "      <td>-0.083927</td>\n",
       "      <td>-0.133153</td>\n",
       "      <td>-0.029359</td>\n",
       "      <td>-0.006816</td>\n",
       "      <td>-0.040767</td>\n",
       "      <td>-0.046834</td>\n",
       "      <td>-0.008735</td>\n",
       "      <td>-0.096600</td>\n",
       "      <td>-0.037788</td>\n",
       "    </tr>\n",
       "    <tr>\n",
       "      <th>SEX</th>\n",
       "      <td>-0.003453</td>\n",
       "      <td>-0.002026</td>\n",
       "      <td>-0.001158</td>\n",
       "      <td>-0.083927</td>\n",
       "      <td>1.000000</td>\n",
       "      <td>-0.233292</td>\n",
       "      <td>-0.089740</td>\n",
       "      <td>0.010311</td>\n",
       "      <td>0.015743</td>\n",
       "      <td>0.044483</td>\n",
       "      <td>-0.012067</td>\n",
       "      <td>-0.015052</td>\n",
       "      <td>-0.012702</td>\n",
       "    </tr>\n",
       "    <tr>\n",
       "      <th>WT</th>\n",
       "      <td>0.125283</td>\n",
       "      <td>0.116331</td>\n",
       "      <td>-0.085901</td>\n",
       "      <td>-0.133153</td>\n",
       "      <td>-0.233292</td>\n",
       "      <td>1.000000</td>\n",
       "      <td>-0.053411</td>\n",
       "      <td>-0.037952</td>\n",
       "      <td>-0.024189</td>\n",
       "      <td>-0.040775</td>\n",
       "      <td>0.216679</td>\n",
       "      <td>0.226646</td>\n",
       "      <td>0.091223</td>\n",
       "    </tr>\n",
       "    <tr>\n",
       "      <th>PRICE</th>\n",
       "      <td>0.732215</td>\n",
       "      <td>0.723935</td>\n",
       "      <td>-0.083700</td>\n",
       "      <td>-0.029359</td>\n",
       "      <td>-0.089740</td>\n",
       "      <td>-0.053411</td>\n",
       "      <td>1.000000</td>\n",
       "      <td>-0.123237</td>\n",
       "      <td>-0.075940</td>\n",
       "      <td>-0.177306</td>\n",
       "      <td>-0.017083</td>\n",
       "      <td>-0.073875</td>\n",
       "      <td>0.306816</td>\n",
       "    </tr>\n",
       "    <tr>\n",
       "      <th>STATECODE</th>\n",
       "      <td>-0.167889</td>\n",
       "      <td>-0.184238</td>\n",
       "      <td>0.006256</td>\n",
       "      <td>-0.006816</td>\n",
       "      <td>0.010311</td>\n",
       "      <td>-0.037952</td>\n",
       "      <td>-0.123237</td>\n",
       "      <td>1.000000</td>\n",
       "      <td>0.880773</td>\n",
       "      <td>0.362120</td>\n",
       "      <td>-0.138771</td>\n",
       "      <td>0.012126</td>\n",
       "      <td>-0.133954</td>\n",
       "    </tr>\n",
       "    <tr>\n",
       "      <th>SAREA</th>\n",
       "      <td>-0.041601</td>\n",
       "      <td>-0.040155</td>\n",
       "      <td>-0.000927</td>\n",
       "      <td>-0.040767</td>\n",
       "      <td>0.015743</td>\n",
       "      <td>-0.024189</td>\n",
       "      <td>-0.075940</td>\n",
       "      <td>0.880773</td>\n",
       "      <td>1.000000</td>\n",
       "      <td>0.407920</td>\n",
       "      <td>-0.161950</td>\n",
       "      <td>0.010374</td>\n",
       "      <td>-0.106852</td>\n",
       "    </tr>\n",
       "    <tr>\n",
       "      <th>BREED</th>\n",
       "      <td>-0.185266</td>\n",
       "      <td>-0.166417</td>\n",
       "      <td>0.042095</td>\n",
       "      <td>-0.046834</td>\n",
       "      <td>0.044483</td>\n",
       "      <td>-0.040775</td>\n",
       "      <td>-0.177306</td>\n",
       "      <td>0.362120</td>\n",
       "      <td>0.407920</td>\n",
       "      <td>1.000000</td>\n",
       "      <td>0.029630</td>\n",
       "      <td>-0.023344</td>\n",
       "      <td>-0.184929</td>\n",
       "    </tr>\n",
       "    <tr>\n",
       "      <th>FRAME</th>\n",
       "      <td>-0.001793</td>\n",
       "      <td>0.007888</td>\n",
       "      <td>0.032692</td>\n",
       "      <td>-0.008735</td>\n",
       "      <td>-0.012067</td>\n",
       "      <td>0.216679</td>\n",
       "      <td>-0.017083</td>\n",
       "      <td>-0.138771</td>\n",
       "      <td>-0.161950</td>\n",
       "      <td>0.029630</td>\n",
       "      <td>1.000000</td>\n",
       "      <td>0.032364</td>\n",
       "      <td>-0.008353</td>\n",
       "    </tr>\n",
       "    <tr>\n",
       "      <th>FLESH</th>\n",
       "      <td>-0.036868</td>\n",
       "      <td>-0.038818</td>\n",
       "      <td>-0.014937</td>\n",
       "      <td>-0.096600</td>\n",
       "      <td>-0.015052</td>\n",
       "      <td>0.226646</td>\n",
       "      <td>-0.073875</td>\n",
       "      <td>0.012126</td>\n",
       "      <td>0.010374</td>\n",
       "      <td>-0.023344</td>\n",
       "      <td>0.032364</td>\n",
       "      <td>1.000000</td>\n",
       "      <td>0.040442</td>\n",
       "    </tr>\n",
       "    <tr>\n",
       "      <th>VAC</th>\n",
       "      <td>0.432266</td>\n",
       "      <td>0.368652</td>\n",
       "      <td>-0.103688</td>\n",
       "      <td>-0.037788</td>\n",
       "      <td>-0.012702</td>\n",
       "      <td>0.091223</td>\n",
       "      <td>0.306816</td>\n",
       "      <td>-0.133954</td>\n",
       "      <td>-0.106852</td>\n",
       "      <td>-0.184929</td>\n",
       "      <td>-0.008353</td>\n",
       "      <td>0.040442</td>\n",
       "      <td>1.000000</td>\n",
       "    </tr>\n",
       "  </tbody>\n",
       "</table>\n",
       "</div>"
      ],
      "text/plain": [
       "              SYEAR     LOTID    SMONTH      HEAD       SEX        WT  \\\n",
       "SYEAR      1.000000  0.971616 -0.088036 -0.112701 -0.003453  0.125283   \n",
       "LOTID      0.971616  1.000000 -0.047674 -0.107917 -0.002026  0.116331   \n",
       "SMONTH    -0.088036 -0.047674  1.000000 -0.016740 -0.001158 -0.085901   \n",
       "HEAD      -0.112701 -0.107917 -0.016740  1.000000 -0.083927 -0.133153   \n",
       "SEX       -0.003453 -0.002026 -0.001158 -0.083927  1.000000 -0.233292   \n",
       "WT         0.125283  0.116331 -0.085901 -0.133153 -0.233292  1.000000   \n",
       "PRICE      0.732215  0.723935 -0.083700 -0.029359 -0.089740 -0.053411   \n",
       "STATECODE -0.167889 -0.184238  0.006256 -0.006816  0.010311 -0.037952   \n",
       "SAREA     -0.041601 -0.040155 -0.000927 -0.040767  0.015743 -0.024189   \n",
       "BREED     -0.185266 -0.166417  0.042095 -0.046834  0.044483 -0.040775   \n",
       "FRAME     -0.001793  0.007888  0.032692 -0.008735 -0.012067  0.216679   \n",
       "FLESH     -0.036868 -0.038818 -0.014937 -0.096600 -0.015052  0.226646   \n",
       "VAC        0.432266  0.368652 -0.103688 -0.037788 -0.012702  0.091223   \n",
       "\n",
       "              PRICE  STATECODE     SAREA     BREED     FRAME     FLESH  \\\n",
       "SYEAR      0.732215  -0.167889 -0.041601 -0.185266 -0.001793 -0.036868   \n",
       "LOTID      0.723935  -0.184238 -0.040155 -0.166417  0.007888 -0.038818   \n",
       "SMONTH    -0.083700   0.006256 -0.000927  0.042095  0.032692 -0.014937   \n",
       "HEAD      -0.029359  -0.006816 -0.040767 -0.046834 -0.008735 -0.096600   \n",
       "SEX       -0.089740   0.010311  0.015743  0.044483 -0.012067 -0.015052   \n",
       "WT        -0.053411  -0.037952 -0.024189 -0.040775  0.216679  0.226646   \n",
       "PRICE      1.000000  -0.123237 -0.075940 -0.177306 -0.017083 -0.073875   \n",
       "STATECODE -0.123237   1.000000  0.880773  0.362120 -0.138771  0.012126   \n",
       "SAREA     -0.075940   0.880773  1.000000  0.407920 -0.161950  0.010374   \n",
       "BREED     -0.177306   0.362120  0.407920  1.000000  0.029630 -0.023344   \n",
       "FRAME     -0.017083  -0.138771 -0.161950  0.029630  1.000000  0.032364   \n",
       "FLESH     -0.073875   0.012126  0.010374 -0.023344  0.032364  1.000000   \n",
       "VAC        0.306816  -0.133954 -0.106852 -0.184929 -0.008353  0.040442   \n",
       "\n",
       "                VAC  \n",
       "SYEAR      0.432266  \n",
       "LOTID      0.368652  \n",
       "SMONTH    -0.103688  \n",
       "HEAD      -0.037788  \n",
       "SEX       -0.012702  \n",
       "WT         0.091223  \n",
       "PRICE      0.306816  \n",
       "STATECODE -0.133954  \n",
       "SAREA     -0.106852  \n",
       "BREED     -0.184929  \n",
       "FRAME     -0.008353  \n",
       "FLESH      0.040442  \n",
       "VAC        1.000000  "
      ]
     },
     "execution_count": 870,
     "metadata": {},
     "output_type": "execute_result"
    }
   ],
   "source": [
    "SLA.corr()"
   ]
  },
  {
   "cell_type": "code",
   "execution_count": 871,
   "metadata": {},
   "outputs": [
    {
     "data": {
      "text/plain": [
       "<matplotlib.axes._subplots.AxesSubplot at 0x9b899128>"
      ]
     },
     "execution_count": 871,
     "metadata": {},
     "output_type": "execute_result"
    },
    {
     "data": {
      "image/png": "[encoded data removed]",
      "text/plain": [
       "<Figure size 864x864 with 2 Axes>"
      ]
     },
     "metadata": {},
     "output_type": "display_data"
    }
   ],
   "source": [
    "# heat map of correlation\n",
    "plt.figure(figsize=(12,12))\n",
    "sns.heatmap(SLA.corr())"
   ]
  },
  {
   "cell_type": "markdown",
   "metadata": {},
   "source": [
    "Because of the large number of categorical variables in this dataset, correctly interpreting a correlation has limitations. "
   ]
  },
  {
   "cell_type": "code",
   "execution_count": 872,
   "metadata": {},
   "outputs": [],
   "source": [
    "#Exporting Data to CSV to use in Tableau for Data Visulaization\n",
    "#Tableau charts shared in a PowerPoint File \n",
    "SLA.to_csv(\"data/SLA.csv\")"
   ]
  },
  {
   "cell_type": "markdown",
   "metadata": {},
   "source": [
    "## Model Building"
   ]
  },
  {
   "cell_type": "markdown",
   "metadata": {},
   "source": [
    "### Continuous Variables"
   ]
  },
  {
   "cell_type": "code",
   "execution_count": 873,
   "metadata": {},
   "outputs": [
    {
     "name": "stdout",
     "output_type": "stream",
     "text": [
      "The chi-square statistic is 1401.546 and the p-value is 0.000.\n"
     ]
    }
   ],
   "source": [
    "# test normality and to print three decimals only\n",
    "WT = stats.normaltest(SLA['WT'])\n",
    "\n",
    "print \"The chi-square statistic is %.3f and the p-value is %.3f.\" % WT"
   ]
  },
  {
   "cell_type": "code",
   "execution_count": 874,
   "metadata": {},
   "outputs": [
    {
     "name": "stderr",
     "output_type": "stream",
     "text": [
      "C:\\Users\\Esther\\Anaconda2\\lib\\site-packages\\matplotlib\\axes\\_axes.py:6462: UserWarning: The 'normed' kwarg is deprecated, and has been replaced by the 'density' kwarg.\n",
      "  warnings.warn(\"The 'normed' kwarg is deprecated, and has been \"\n"
     ]
    },
    {
     "data": {
      "text/plain": [
       "Text(0.5,1,'WEIGHT OF LOTS DISTRIBUTION')"
      ]
     },
     "execution_count": 874,
     "metadata": {},
     "output_type": "execute_result"
    },
    {
     "data": {
      "image/png": "[encoded data removed]",
      "text/plain": [
       "<Figure size 432x288 with 1 Axes>"
      ]
     },
     "metadata": {},
     "output_type": "display_data"
    }
   ],
   "source": [
    "# an illustration distribution\n",
    "\n",
    "WT = sorted(SLA['WT'])\n",
    "fit = stats.norm.pdf(WT, np.mean(WT), np.std(WT))  #this is a fitting indeed\n",
    "plt.plot(WT,fit,'-o')\n",
    "plt.hist(WT,normed=True)      #use this to draw histogram of your data\n",
    "\n",
    "plt.xlabel('WEIGHT OF LOTS')\n",
    "plt.ylabel('Proportion')\n",
    "plt.title(\"WEIGHT OF LOTS DISTRIBUTION\")"
   ]
  },
  {
   "cell_type": "markdown",
   "metadata": {},
   "source": [
    "#### The weight distribution of the lots appears normal."
   ]
  },
  {
   "cell_type": "code",
   "execution_count": 875,
   "metadata": {},
   "outputs": [
    {
     "name": "stdout",
     "output_type": "stream",
     "text": [
      "The chi-square statistic is 20483.094 and the p-value is 0.000.\n"
     ]
    }
   ],
   "source": [
    "# test normality and to print three decimals only\n",
    "PRICE = stats.normaltest(SLA['PRICE'])\n",
    "\n",
    "print \"The chi-square statistic is %.3f and the p-value is %.3f.\" % PRICE"
   ]
  },
  {
   "cell_type": "code",
   "execution_count": 876,
   "metadata": {},
   "outputs": [
    {
     "name": "stderr",
     "output_type": "stream",
     "text": [
      "C:\\Users\\Esther\\Anaconda2\\lib\\site-packages\\matplotlib\\axes\\_axes.py:6462: UserWarning: The 'normed' kwarg is deprecated, and has been replaced by the 'density' kwarg.\n",
      "  warnings.warn(\"The 'normed' kwarg is deprecated, and has been \"\n"
     ]
    },
    {
     "data": {
      "text/plain": [
       "Text(0.5,1,'PRICE OF LOTS DISTRIBUTION')"
      ]
     },
     "execution_count": 876,
     "metadata": {},
     "output_type": "execute_result"
    },
    {
     "data": {
      "image/png": "[encoded data removed]",
      "text/plain": [
       "<Figure size 432x288 with 1 Axes>"
      ]
     },
     "metadata": {},
     "output_type": "display_data"
    }
   ],
   "source": [
    "# an illustration distribution\n",
    "\n",
    "PRICE = sorted(SLA['PRICE'])\n",
    "fit = stats.norm.pdf(PRICE, np.mean(PRICE), np.std(PRICE))  #this is a fitting indeed\n",
    "plt.plot(PRICE,fit,'-o')\n",
    "plt.hist(PRICE,normed=True)      #use this to draw histogram of your data\n",
    "\n",
    "plt.xlabel('PRICE OF LOTS')\n",
    "plt.ylabel('Proportion')\n",
    "plt.title(\"PRICE OF LOTS DISTRIBUTION\")"
   ]
  },
  {
   "cell_type": "markdown",
   "metadata": {},
   "source": [
    "#### As expected, there is a right skew to the price distribution. "
   ]
  },
  {
   "cell_type": "code",
   "execution_count": 877,
   "metadata": {},
   "outputs": [],
   "source": [
    "SLA['PRICEN']= np.log10(SLA['PRICE'])"
   ]
  },
  {
   "cell_type": "code",
   "execution_count": 878,
   "metadata": {},
   "outputs": [
    {
     "name": "stdout",
     "output_type": "stream",
     "text": [
      "The chi-square statistic is 1087.250 and the p-value is 0.000.\n"
     ]
    }
   ],
   "source": [
    "# test normality and to print three decimals only\n",
    "PRICE = stats.normaltest(SLA['PRICEN'])\n",
    "\n",
    "print \"The chi-square statistic is %.3f and the p-value is %.3f.\" % PRICE"
   ]
  },
  {
   "cell_type": "code",
   "execution_count": 879,
   "metadata": {},
   "outputs": [
    {
     "name": "stderr",
     "output_type": "stream",
     "text": [
      "C:\\Users\\Esther\\Anaconda2\\lib\\site-packages\\matplotlib\\axes\\_axes.py:6462: UserWarning: The 'normed' kwarg is deprecated, and has been replaced by the 'density' kwarg.\n",
      "  warnings.warn(\"The 'normed' kwarg is deprecated, and has been \"\n"
     ]
    },
    {
     "data": {
      "text/plain": [
       "Text(0.5,1,'PRICE OF LOTS DISTRIBUTION')"
      ]
     },
     "execution_count": 879,
     "metadata": {},
     "output_type": "execute_result"
    },
    {
     "data": {
      "image/png": "[encoded data removed]",
      "text/plain": [
       "<Figure size 432x288 with 1 Axes>"
      ]
     },
     "metadata": {},
     "output_type": "display_data"
    }
   ],
   "source": [
    "# an illustration distribution\n",
    "\n",
    "PRICE = sorted(SLA['PRICEN'])\n",
    "fit = stats.norm.pdf(PRICE, np.mean(PRICE), np.std(PRICE))  #this is a fitting indeed\n",
    "plt.plot(PRICE,fit,'-o')\n",
    "plt.hist(PRICE,normed=True)      #use this to draw histogram of your data\n",
    "\n",
    "plt.xlabel('PRICE OF LOTS')\n",
    "plt.ylabel('Proportion')\n",
    "plt.title(\"PRICE OF LOTS DISTRIBUTION\")"
   ]
  },
  {
   "cell_type": "markdown",
   "metadata": {},
   "source": [
    "#### The transformation of the variable price resulted in a normal distribution."
   ]
  },
  {
   "cell_type": "code",
   "execution_count": 880,
   "metadata": {},
   "outputs": [
    {
     "name": "stdout",
     "output_type": "stream",
     "text": [
      "The chi-square statistic is 68028.527 and the p-value is 0.000.\n"
     ]
    }
   ],
   "source": [
    "# test normality and to print three decimals only\n",
    "HEAD = stats.normaltest(SLA['HEAD'])\n",
    "\n",
    "print \"The chi-square statistic is %.3f and the p-value is %.3f.\" % HEAD"
   ]
  },
  {
   "cell_type": "code",
   "execution_count": 881,
   "metadata": {},
   "outputs": [
    {
     "name": "stderr",
     "output_type": "stream",
     "text": [
      "C:\\Users\\Esther\\Anaconda2\\lib\\site-packages\\matplotlib\\axes\\_axes.py:6462: UserWarning: The 'normed' kwarg is deprecated, and has been replaced by the 'density' kwarg.\n",
      "  warnings.warn(\"The 'normed' kwarg is deprecated, and has been \"\n"
     ]
    },
    {
     "data": {
      "text/plain": [
       "Text(0.5,1,'SIZE OF LOT DISTRIBUTION')"
      ]
     },
     "execution_count": 881,
     "metadata": {},
     "output_type": "execute_result"
    },
    {
     "data": {
      "image/png": "[encoded data removed]",
      "text/plain": [
       "<Figure size 432x288 with 1 Axes>"
      ]
     },
     "metadata": {},
     "output_type": "display_data"
    }
   ],
   "source": [
    "# an illustration distribution\n",
    "\n",
    "HEAD = sorted(SLA['HEAD'])\n",
    "fit = stats.norm.pdf(HEAD, np.mean(HEAD), np.std(HEAD))  #this is a fitting indeed\n",
    "plt.plot(HEAD,fit,'-o')\n",
    "plt.hist(HEAD,normed=True)      #use this to draw histogram of your data\n",
    "\n",
    "plt.xlabel('SIZE OF LOT')\n",
    "plt.ylabel('Proportion')\n",
    "plt.title(\"SIZE OF LOT DISTRIBUTION\")"
   ]
  },
  {
   "cell_type": "markdown",
   "metadata": {},
   "source": [
    "#### As expected, there is a right skew to the size of lot distribution. "
   ]
  },
  {
   "cell_type": "code",
   "execution_count": 882,
   "metadata": {},
   "outputs": [],
   "source": [
    "SLA['HEADN']= np.log10(SLA['HEAD'])"
   ]
  },
  {
   "cell_type": "code",
   "execution_count": 883,
   "metadata": {},
   "outputs": [
    {
     "name": "stdout",
     "output_type": "stream",
     "text": [
      "The chi-square statistic is 5584.688 and the p-value is 0.000.\n"
     ]
    }
   ],
   "source": [
    "# test normality and to print three decimals only\n",
    "HEAD = stats.normaltest(SLA['HEADN'])\n",
    "\n",
    "print \"The chi-square statistic is %.3f and the p-value is %.3f.\" % HEAD"
   ]
  },
  {
   "cell_type": "code",
   "execution_count": 884,
   "metadata": {},
   "outputs": [
    {
     "name": "stderr",
     "output_type": "stream",
     "text": [
      "C:\\Users\\Esther\\Anaconda2\\lib\\site-packages\\matplotlib\\axes\\_axes.py:6462: UserWarning: The 'normed' kwarg is deprecated, and has been replaced by the 'density' kwarg.\n",
      "  warnings.warn(\"The 'normed' kwarg is deprecated, and has been \"\n"
     ]
    },
    {
     "data": {
      "text/plain": [
       "Text(0.5,1,'SIZE OF LOT DISTRIBUTION')"
      ]
     },
     "execution_count": 884,
     "metadata": {},
     "output_type": "execute_result"
    },
    {
     "data": {
      "image/png": "[encoded data removed]",
      "text/plain": [
       "<Figure size 432x288 with 1 Axes>"
      ]
     },
     "metadata": {},
     "output_type": "display_data"
    }
   ],
   "source": [
    "# an illustration distribution\n",
    "\n",
    "HEAD = sorted(SLA['HEADN'])\n",
    "fit = stats.norm.pdf(HEAD, np.mean(HEAD), np.std(HEAD))  #this is a fitting indeed\n",
    "plt.plot(HEAD,fit,'-o')\n",
    "plt.hist(HEAD,normed=True)      #use this to draw histogram of your data\n",
    "\n",
    "plt.xlabel('SIZE OF LOT')\n",
    "plt.ylabel('Proportion')\n",
    "plt.title(\"SIZE OF LOT DISTRIBUTION\")"
   ]
  },
  {
   "cell_type": "markdown",
   "metadata": {},
   "source": [
    "#### The transformation of the variable head resulted in a normal distribution."
   ]
  },
  {
   "cell_type": "markdown",
   "metadata": {},
   "source": [
    "### Categorical Variables"
   ]
  },
  {
   "cell_type": "code",
   "execution_count": 885,
   "metadata": {},
   "outputs": [],
   "source": [
    "SEXD = pd.get_dummies(SLA['SEX'], prefix='SEX')\n",
    "SLA = SLA.join(SEXD)"
   ]
  },
  {
   "cell_type": "code",
   "execution_count": 886,
   "metadata": {},
   "outputs": [],
   "source": [
    "SAREAD = pd.get_dummies(SLA['SAREA'], prefix='SAREA')\n",
    "SLA = SLA.join(SAREAD)"
   ]
  },
  {
   "cell_type": "code",
   "execution_count": 887,
   "metadata": {},
   "outputs": [],
   "source": [
    "BREEDD = pd.get_dummies(SLA['BREED'], prefix='BREED')\n",
    "SLA = SLA.join(BREEDD)"
   ]
  },
  {
   "cell_type": "code",
   "execution_count": 888,
   "metadata": {},
   "outputs": [],
   "source": [
    "FRAMED = pd.get_dummies(SLA['FRAME'], prefix='FRAME')\n",
    "SLA = SLA.join(FRAMED)"
   ]
  },
  {
   "cell_type": "code",
   "execution_count": 889,
   "metadata": {},
   "outputs": [],
   "source": [
    "FLESHD = pd.get_dummies(SLA['FLESH'], prefix='FLESH')\n",
    "SLA = SLA.join(FLESHD)"
   ]
  },
  {
   "cell_type": "code",
   "execution_count": 890,
   "metadata": {},
   "outputs": [],
   "source": [
    "VACD = pd.get_dummies(SLA['VAC'], prefix='VAC')\n",
    "SLA = SLA.join(VACD)"
   ]
  },
  {
   "cell_type": "code",
   "execution_count": 891,
   "metadata": {},
   "outputs": [],
   "source": [
    "YEARD = pd.get_dummies(SLA['SYEAR'], prefix='Y')\n",
    "SLA = SLA.join(YEARD)"
   ]
  },
  {
   "cell_type": "code",
   "execution_count": 892,
   "metadata": {},
   "outputs": [
    {
     "data": {
      "text/html": [
       "<div>\n",
       "<style scoped>\n",
       "    .dataframe tbody tr th:only-of-type {\n",
       "        vertical-align: middle;\n",
       "    }\n",
       "\n",
       "    .dataframe tbody tr th {\n",
       "        vertical-align: top;\n",
       "    }\n",
       "\n",
       "    .dataframe thead th {\n",
       "        text-align: right;\n",
       "    }\n",
       "</style>\n",
       "<table border=\"1\" class=\"dataframe\">\n",
       "  <thead>\n",
       "    <tr style=\"text-align: right;\">\n",
       "      <th></th>\n",
       "      <th>LOTID</th>\n",
       "      <th>SMONTH</th>\n",
       "      <th>HEAD</th>\n",
       "      <th>WT</th>\n",
       "      <th>PRICE</th>\n",
       "      <th>STATE</th>\n",
       "      <th>STATECODE</th>\n",
       "      <th>PRICEN</th>\n",
       "      <th>HEADN</th>\n",
       "      <th>SEX_1</th>\n",
       "      <th>...</th>\n",
       "      <th>Y_2009</th>\n",
       "      <th>Y_2010</th>\n",
       "      <th>Y_2011</th>\n",
       "      <th>Y_2012</th>\n",
       "      <th>Y_2013</th>\n",
       "      <th>Y_2014</th>\n",
       "      <th>Y_2015</th>\n",
       "      <th>Y_2016</th>\n",
       "      <th>Y_2017</th>\n",
       "      <th>Y_2018</th>\n",
       "    </tr>\n",
       "  </thead>\n",
       "  <tbody>\n",
       "    <tr>\n",
       "      <th>0</th>\n",
       "      <td>1</td>\n",
       "      <td>6</td>\n",
       "      <td>115</td>\n",
       "      <td>425</td>\n",
       "      <td>81.25</td>\n",
       "      <td>OK</td>\n",
       "      <td>25</td>\n",
       "      <td>1.909823</td>\n",
       "      <td>2.060698</td>\n",
       "      <td>1</td>\n",
       "      <td>...</td>\n",
       "      <td>0</td>\n",
       "      <td>0</td>\n",
       "      <td>0</td>\n",
       "      <td>0</td>\n",
       "      <td>0</td>\n",
       "      <td>0</td>\n",
       "      <td>0</td>\n",
       "      <td>0</td>\n",
       "      <td>0</td>\n",
       "      <td>0</td>\n",
       "    </tr>\n",
       "    <tr>\n",
       "      <th>1</th>\n",
       "      <td>2</td>\n",
       "      <td>6</td>\n",
       "      <td>220</td>\n",
       "      <td>460</td>\n",
       "      <td>80.00</td>\n",
       "      <td>OK</td>\n",
       "      <td>25</td>\n",
       "      <td>1.903090</td>\n",
       "      <td>2.342423</td>\n",
       "      <td>1</td>\n",
       "      <td>...</td>\n",
       "      <td>0</td>\n",
       "      <td>0</td>\n",
       "      <td>0</td>\n",
       "      <td>0</td>\n",
       "      <td>0</td>\n",
       "      <td>0</td>\n",
       "      <td>0</td>\n",
       "      <td>0</td>\n",
       "      <td>0</td>\n",
       "      <td>0</td>\n",
       "    </tr>\n",
       "    <tr>\n",
       "      <th>2</th>\n",
       "      <td>3</td>\n",
       "      <td>6</td>\n",
       "      <td>84</td>\n",
       "      <td>570</td>\n",
       "      <td>77.00</td>\n",
       "      <td>MO</td>\n",
       "      <td>23</td>\n",
       "      <td>1.886491</td>\n",
       "      <td>1.924279</td>\n",
       "      <td>1</td>\n",
       "      <td>...</td>\n",
       "      <td>0</td>\n",
       "      <td>0</td>\n",
       "      <td>0</td>\n",
       "      <td>0</td>\n",
       "      <td>0</td>\n",
       "      <td>0</td>\n",
       "      <td>0</td>\n",
       "      <td>0</td>\n",
       "      <td>0</td>\n",
       "      <td>0</td>\n",
       "    </tr>\n",
       "    <tr>\n",
       "      <th>3</th>\n",
       "      <td>4</td>\n",
       "      <td>6</td>\n",
       "      <td>83</td>\n",
       "      <td>610</td>\n",
       "      <td>74.50</td>\n",
       "      <td>KS</td>\n",
       "      <td>22</td>\n",
       "      <td>1.872156</td>\n",
       "      <td>1.919078</td>\n",
       "      <td>1</td>\n",
       "      <td>...</td>\n",
       "      <td>0</td>\n",
       "      <td>0</td>\n",
       "      <td>0</td>\n",
       "      <td>0</td>\n",
       "      <td>0</td>\n",
       "      <td>0</td>\n",
       "      <td>0</td>\n",
       "      <td>0</td>\n",
       "      <td>0</td>\n",
       "      <td>0</td>\n",
       "    </tr>\n",
       "    <tr>\n",
       "      <th>4</th>\n",
       "      <td>5</td>\n",
       "      <td>6</td>\n",
       "      <td>155</td>\n",
       "      <td>625</td>\n",
       "      <td>68.10</td>\n",
       "      <td>MS</td>\n",
       "      <td>46</td>\n",
       "      <td>1.833147</td>\n",
       "      <td>2.190332</td>\n",
       "      <td>1</td>\n",
       "      <td>...</td>\n",
       "      <td>0</td>\n",
       "      <td>0</td>\n",
       "      <td>0</td>\n",
       "      <td>0</td>\n",
       "      <td>0</td>\n",
       "      <td>0</td>\n",
       "      <td>0</td>\n",
       "      <td>0</td>\n",
       "      <td>0</td>\n",
       "      <td>0</td>\n",
       "    </tr>\n",
       "  </tbody>\n",
       "</table>\n",
       "<p>5 rows × 51 columns</p>\n",
       "</div>"
      ],
      "text/plain": [
       "   LOTID  SMONTH  HEAD   WT  PRICE STATE  STATECODE    PRICEN     HEADN  \\\n",
       "0      1       6   115  425  81.25    OK         25  1.909823  2.060698   \n",
       "1      2       6   220  460  80.00    OK         25  1.903090  2.342423   \n",
       "2      3       6    84  570  77.00    MO         23  1.886491  1.924279   \n",
       "3      4       6    83  610  74.50    KS         22  1.872156  1.919078   \n",
       "4      5       6   155  625  68.10    MS         46  1.833147  2.190332   \n",
       "\n",
       "   SEX_1   ...    Y_2009  Y_2010  Y_2011  Y_2012  Y_2013  Y_2014  Y_2015  \\\n",
       "0      1   ...         0       0       0       0       0       0       0   \n",
       "1      1   ...         0       0       0       0       0       0       0   \n",
       "2      1   ...         0       0       0       0       0       0       0   \n",
       "3      1   ...         0       0       0       0       0       0       0   \n",
       "4      1   ...         0       0       0       0       0       0       0   \n",
       "\n",
       "   Y_2016  Y_2017  Y_2018  \n",
       "0       0       0       0  \n",
       "1       0       0       0  \n",
       "2       0       0       0  \n",
       "3       0       0       0  \n",
       "4       0       0       0  \n",
       "\n",
       "[5 rows x 51 columns]"
      ]
     },
     "execution_count": 892,
     "metadata": {},
     "output_type": "execute_result"
    }
   ],
   "source": [
    "#now we can drop the orgional columns we created the dummy variables for\n",
    "SLA1 = SLA.drop(['SEX', 'SAREA', 'BREED', 'FRAME', 'FLESH', 'VAC', 'SYEAR'], axis=1)\n",
    "SLA1.head()"
   ]
  },
  {
   "cell_type": "code",
   "execution_count": 893,
   "metadata": {},
   "outputs": [
    {
     "name": "stdout",
     "output_type": "stream",
     "text": [
      "<class 'pandas.core.frame.DataFrame'>\n",
      "RangeIndex: 94872 entries, 0 to 94871\n",
      "Data columns (total 51 columns):\n",
      "LOTID        94872 non-null int64\n",
      "SMONTH       94872 non-null int64\n",
      "HEAD         94872 non-null int64\n",
      "WT           94872 non-null int64\n",
      "PRICE        94872 non-null float64\n",
      "STATE        94872 non-null object\n",
      "STATECODE    94872 non-null int64\n",
      "PRICEN       94872 non-null float64\n",
      "HEADN        94872 non-null float64\n",
      "SEX_1        94872 non-null uint8\n",
      "SEX_2        94872 non-null uint8\n",
      "SAREA_1      94872 non-null uint8\n",
      "SAREA_2      94872 non-null uint8\n",
      "SAREA_3      94872 non-null uint8\n",
      "SAREA_5      94872 non-null uint8\n",
      "BREED_1      94872 non-null uint8\n",
      "BREED_3      94872 non-null uint8\n",
      "BREED_4      94872 non-null uint8\n",
      "FRAME_3      94872 non-null uint8\n",
      "FRAME_4      94872 non-null uint8\n",
      "FRAME_5      94872 non-null uint8\n",
      "FLESH_2      94872 non-null uint8\n",
      "FLESH_3      94872 non-null uint8\n",
      "FLESH_4      94872 non-null uint8\n",
      "FLESH_5      94872 non-null uint8\n",
      "VAC_0        94872 non-null uint8\n",
      "VAC_1        94872 non-null uint8\n",
      "Y_1995       94872 non-null uint8\n",
      "Y_1996       94872 non-null uint8\n",
      "Y_1997       94872 non-null uint8\n",
      "Y_1998       94872 non-null uint8\n",
      "Y_1999       94872 non-null uint8\n",
      "Y_2000       94872 non-null uint8\n",
      "Y_2001       94872 non-null uint8\n",
      "Y_2002       94872 non-null uint8\n",
      "Y_2003       94872 non-null uint8\n",
      "Y_2004       94872 non-null uint8\n",
      "Y_2005       94872 non-null uint8\n",
      "Y_2006       94872 non-null uint8\n",
      "Y_2007       94872 non-null uint8\n",
      "Y_2008       94872 non-null uint8\n",
      "Y_2009       94872 non-null uint8\n",
      "Y_2010       94872 non-null uint8\n",
      "Y_2011       94872 non-null uint8\n",
      "Y_2012       94872 non-null uint8\n",
      "Y_2013       94872 non-null uint8\n",
      "Y_2014       94872 non-null uint8\n",
      "Y_2015       94872 non-null uint8\n",
      "Y_2016       94872 non-null uint8\n",
      "Y_2017       94872 non-null uint8\n",
      "Y_2018       94872 non-null uint8\n",
      "dtypes: float64(3), int64(5), object(1), uint8(42)\n",
      "memory usage: 10.3+ MB\n"
     ]
    }
   ],
   "source": [
    "SLA1.info()"
   ]
  },
  {
   "cell_type": "markdown",
   "metadata": {},
   "source": [
    "### With Dummy Variables"
   ]
  },
  {
   "cell_type": "code",
   "execution_count": 894,
   "metadata": {},
   "outputs": [],
   "source": [
    "#assigning columns to X and Y variables\n",
    "y = SLA['PRICEN'] \n",
    "X = SLA[['Y_1995','Y_1996','Y_1997','Y_1998','Y_1999','Y_2000','Y_2001','Y_2002','Y_2003','Y_2004','Y_2005','Y_2006','Y_2007','Y_2008','Y_2009','Y_2010','Y_2011','Y_2012','Y_2013','Y_2014','Y_2015','Y_2016','Y_2017','Y_2018','HEADN','WT','SEX_1','SEX_2','SAREA_1', 'SAREA_2', 'SAREA_3','SAREA_5','BREED_1','BREED_3','BREED_4','FRAME_3','FRAME_4','FRAME_5','FLESH_2','FLESH_3','FLESH_4','FLESH_5','VAC_0','VAC_1']]"
   ]
  },
  {
   "cell_type": "code",
   "execution_count": 895,
   "metadata": {},
   "outputs": [],
   "source": [
    "# build a multiple regression model below\n",
    "model1 = lm.LinearRegression()\n",
    "model1.fit(X, y)   \n",
    "model1_y = model1.predict(X)"
   ]
  },
  {
   "cell_type": "code",
   "execution_count": 896,
   "metadata": {},
   "outputs": [
    {
     "name": "stdout",
     "output_type": "stream",
     "text": [
      "Coefficients:  [-4.30264232e+08 -4.30264232e+08 -4.30264232e+08 -4.30264232e+08\n",
      " -4.30264232e+08 -4.30264232e+08 -4.30264232e+08 -4.30264232e+08\n",
      " -4.30264232e+08 -4.30264232e+08 -4.30264232e+08 -4.30264232e+08\n",
      " -4.30264232e+08 -4.30264232e+08 -4.30264232e+08 -4.30264232e+08\n",
      " -4.30264232e+08 -4.30264232e+08 -4.30264232e+08 -4.30264232e+08\n",
      " -4.30264232e+08 -4.30264232e+08 -4.30264232e+08 -4.30264232e+08\n",
      "  2.44926992e-02 -3.15360031e-04 -1.40679132e+06 -1.40679136e+06\n",
      "  1.08694473e+07  1.08694473e+07  1.08694473e+07  1.08694473e+07\n",
      "  1.01191998e+08  1.01191998e+08  1.01191998e+08 -5.74761115e+06\n",
      " -5.74761115e+06 -5.74761115e+06  5.54877659e+04  5.54877680e+04\n",
      "  5.54877606e+04  5.54877580e+04 -1.84914220e+06 -1.84914219e+06]\n",
      "y-intercept  327150845.4916382\n"
     ]
    }
   ],
   "source": [
    "print 'Coefficients: ', model1.coef_\n",
    "print \"y-intercept \", model1.intercept_"
   ]
  },
  {
   "cell_type": "code",
   "execution_count": 897,
   "metadata": {
    "scrolled": true
   },
   "outputs": [
    {
     "name": "stdout",
     "output_type": "stream",
     "text": [
      "mean square error:  0.0005672211104114369\n",
      "variance or r-squared:  0.9735776354563649\n"
     ]
    }
   ],
   "source": [
    "print \"mean square error: \", mean_squared_error(y, model1_y)\n",
    "print \"variance or r-squared: \", explained_variance_score(y, model1_y)"
   ]
  },
  {
   "cell_type": "code",
   "execution_count": 898,
   "metadata": {},
   "outputs": [
    {
     "data": {
      "image/png": "[encoded data removed]",
      "text/plain": [
       "<Figure size 432x288 with 2 Axes>"
      ]
     },
     "metadata": {},
     "output_type": "display_data"
    }
   ],
   "source": [
    "from yellowbrick.regressor import ResidualsPlot\n",
    "\n",
    "y = SLA['PRICEN'] \n",
    "X = SLA[['Y_1995','Y_1996','Y_1997','Y_1998','Y_1999','Y_2000','Y_2001','Y_2002','Y_2003','Y_2004','Y_2005','Y_2006','Y_2007','Y_2008','Y_2009','Y_2010','Y_2011','Y_2012','Y_2013','Y_2014','Y_2015','Y_2016','Y_2017','Y_2018','HEADN','WT','SEX_1','SEX_2','SAREA_1', 'SAREA_2', 'SAREA_3','SAREA_5','BREED_1','BREED_3','BREED_4','FRAME_3','FRAME_4','FRAME_5','FLESH_2','FLESH_3','FLESH_4','FLESH_5','VAC_0','VAC_1']]\n",
    "regre = lm.LinearRegression()\n",
    "visualizer = ResidualsPlot(regre)\n",
    "\n",
    "visualizer.fit(X, y)  # Fit the training data to the model\n",
    "#visualizer.score(X_test, y_test)  # Evaluate the model on the test data\n",
    "visualizer.poof()                 # Draw/show/poof the data"
   ]
  },
  {
   "cell_type": "code",
   "execution_count": 899,
   "metadata": {
    "scrolled": true
   },
   "outputs": [
    {
     "data": {
      "image/png": "[encoded data removed]",
      "text/plain": [
       "<Figure size 432x288 with 1 Axes>"
      ]
     },
     "metadata": {},
     "output_type": "display_data"
    }
   ],
   "source": [
    "plt.subplots()\n",
    "plt.scatter(y, model1_y)\n",
    "plt.plot([y.min(), y.max()], [y.min(), y.max()], 'k--', lw=4)   #dotted line represents perfect prediction (actual = predicted)\n",
    "plt.xlabel('Actual')\n",
    "plt.ylabel('Predicted')\n",
    "plt.show()"
   ]
  },
  {
   "cell_type": "code",
   "execution_count": 900,
   "metadata": {},
   "outputs": [],
   "source": [
    "#First Model\n",
    "runs_reg_model1 = ols(\"PRICEN~Y_1995+Y_1996+Y_1997+Y_1998+Y_1999+Y_2000+Y_2001+Y_2002+Y_2003+Y_2004+Y_2005+Y_2006+Y_2007+Y_2008+Y_2009+Y_2010+Y_2011+Y_2012+Y_2013+Y_2014+Y_2015+Y_2016+Y_2017+Y_2018+HEADN+WT+SEX_1+SEX_2+SAREA_1+SAREA_2+SAREA_3+SAREA_5+BREED_1+BREED_3+BREED_4+FRAME_3+FRAME_4+FRAME_5+FLESH_2+FLESH_3+FLESH_4+FLESH_5+VAC_0+VAC_1\", SLA)\n",
    "runs_reg1 = runs_reg_model1.fit()"
   ]
  },
  {
   "cell_type": "code",
   "execution_count": 901,
   "metadata": {
    "scrolled": false
   },
   "outputs": [
    {
     "name": "stdout",
     "output_type": "stream",
     "text": [
      "                            OLS Regression Results                            \n",
      "==============================================================================\n",
      "Dep. Variable:                 PRICEN   R-squared:                       0.974\n",
      "Model:                            OLS   Adj. R-squared:                  0.974\n",
      "Method:                 Least Squares   F-statistic:                 9.444e+04\n",
      "Date:                Mon, 05 Aug 2019   Prob (F-statistic):               0.00\n",
      "Time:                        17:36:55   Log-Likelihood:             2.1996e+05\n",
      "No. Observations:               94872   AIC:                        -4.398e+05\n",
      "Df Residuals:                   94834   BIC:                        -4.395e+05\n",
      "Df Model:                          37                                         \n",
      "Covariance Type:            nonrobust                                         \n",
      "==============================================================================\n",
      "                 coef    std err          t      P>|t|      [0.025      0.975]\n",
      "------------------------------------------------------------------------------\n",
      "Intercept      0.6823      0.000   2091.149      0.000       0.682       0.683\n",
      "Y_1995        -0.2244      0.001   -405.269      0.000      -0.226      -0.223\n",
      "Y_1996        -0.2579      0.001   -509.861      0.000      -0.259      -0.257\n",
      "Y_1997        -0.0887      0.001   -176.947      0.000      -0.090      -0.088\n",
      "Y_1998        -0.1818      0.001   -356.744      0.000      -0.183      -0.181\n",
      "Y_1999        -0.1118      0.000   -259.205      0.000      -0.113      -0.111\n",
      "Y_2000        -0.0478      0.000   -116.146      0.000      -0.049      -0.047\n",
      "Y_2001        -0.0388      0.000    -92.581      0.000      -0.040      -0.038\n",
      "Y_2002        -0.1222      0.000   -294.602      0.000      -0.123      -0.121\n",
      "Y_2003        -0.0476      0.000   -126.718      0.000      -0.048      -0.047\n",
      "Y_2004         0.0492      0.000    136.215      0.000       0.049       0.050\n",
      "Y_2005         0.0421      0.000    117.380      0.000       0.041       0.043\n",
      "Y_2006         0.0491      0.000    130.075      0.000       0.048       0.050\n",
      "Y_2007         0.0372      0.000    107.010      0.000       0.037       0.038\n",
      "Y_2008         0.0066      0.000     17.948      0.000       0.006       0.007\n",
      "Y_2009        -0.0315      0.000    -86.286      0.000      -0.032      -0.031\n",
      "Y_2010         0.0328      0.000    104.506      0.000       0.032       0.033\n",
      "Y_2011         0.1093      0.000    340.468      0.000       0.109       0.110\n",
      "Y_2012         0.1626      0.000    455.545      0.000       0.162       0.163\n",
      "Y_2013         0.1749      0.000    532.484      0.000       0.174       0.176\n",
      "Y_2014         0.3599      0.000   1019.175      0.000       0.359       0.361\n",
      "Y_2015         0.3538      0.000   1006.352      0.000       0.353       0.355\n",
      "Y_2016         0.1215      0.000    349.228      0.000       0.121       0.122\n",
      "Y_2017         0.1588      0.000    475.339      0.000       0.158       0.159\n",
      "Y_2018         0.1769      0.000    510.941      0.000       0.176       0.178\n",
      "HEADN          0.0245      0.000     65.269      0.000       0.024       0.025\n",
      "WT            -0.0003    1.1e-06   -286.793      0.000      -0.000      -0.000\n",
      "SEX_1          0.3599      0.000   1803.757      0.000       0.360       0.360\n",
      "SEX_2          0.3223      0.000   1959.618      0.000       0.322       0.323\n",
      "SAREA_1        0.1729      0.000    921.308      0.000       0.173       0.173\n",
      "SAREA_2        0.1819      0.000   1007.614      0.000       0.182       0.182\n",
      "SAREA_3        0.1770      0.000    992.040      0.000       0.177       0.177\n",
      "SAREA_5        0.1504      0.000    520.787      0.000       0.150       0.151\n",
      "BREED_1        0.2339      0.000   1341.220      0.000       0.234       0.234\n",
      "BREED_3        0.2298      0.000   1371.694      0.000       0.229       0.230\n",
      "BREED_4        0.2186      0.000   1054.062      0.000       0.218       0.219\n",
      "FRAME_3        0.2263      0.000   1520.895      0.000       0.226       0.227\n",
      "FRAME_4        0.2276      0.000   1466.840      0.000       0.227       0.228\n",
      "FRAME_5        0.2284      0.000   1129.258      0.000       0.228       0.229\n",
      "FLESH_2        0.1733      0.000    543.135      0.000       0.173       0.174\n",
      "FLESH_3        0.1754      0.000    637.400      0.000       0.175       0.176\n",
      "FLESH_4        0.1680      0.000    918.999      0.000       0.168       0.168\n",
      "FLESH_5        0.1654      0.000    465.487      0.000       0.165       0.166\n",
      "VAC_0          0.3392      0.000   1757.890      0.000       0.339       0.340\n",
      "VAC_1          0.3431      0.000   1791.308      0.000       0.343       0.343\n",
      "==============================================================================\n",
      "Omnibus:                     4143.575   Durbin-Watson:                   0.719\n",
      "Prob(Omnibus):                  0.000   Jarque-Bera (JB):            14300.203\n",
      "Skew:                           0.008   Prob(JB):                         0.00\n",
      "Kurtosis:                       4.902   Cond. No.                     1.44e+16\n",
      "==============================================================================\n",
      "\n",
      "Warnings:\n",
      "[1] Standard Errors assume that the covariance matrix of the errors is correctly specified.\n",
      "[2] The smallest eigenvalue is 1.48e-22. This might indicate that there are\n",
      "strong multicollinearity problems or that the design matrix is singular.\n"
     ]
    }
   ],
   "source": [
    "print runs_reg1.summary()"
   ]
  },
  {
   "cell_type": "code",
   "execution_count": 902,
   "metadata": {},
   "outputs": [
    {
     "name": "stdout",
     "output_type": "stream",
     "text": [
      "2.1053492349930898e+18\n"
     ]
    }
   ],
   "source": [
    "# high values indicate multicollinearity\n",
    "print np.linalg.cond(runs_reg1.model.exog)"
   ]
  },
  {
   "cell_type": "markdown",
   "metadata": {},
   "source": [
    "### Without Dummy Variables"
   ]
  },
  {
   "cell_type": "code",
   "execution_count": 903,
   "metadata": {},
   "outputs": [],
   "source": [
    "y = SLA['PRICEN']\n",
    "X = SLA[['HEADN', 'WT', 'SEX', 'SYEAR', 'SAREA', 'BREED', 'FRAME', 'FLESH', 'VAC']]"
   ]
  },
  {
   "cell_type": "code",
   "execution_count": 904,
   "metadata": {},
   "outputs": [],
   "source": [
    "# build a multiple regression model below\n",
    "model1 = lm.LinearRegression()\n",
    "model1.fit(X, y)   \n",
    "model1_y = model1.predict(X)"
   ]
  },
  {
   "cell_type": "code",
   "execution_count": 905,
   "metadata": {},
   "outputs": [
    {
     "name": "stdout",
     "output_type": "stream",
     "text": [
      "mean square error:  0.006342825375604559\n",
      "variance or r-squared:  0.7045377168877381\n"
     ]
    }
   ],
   "source": [
    "print \"mean square error: \", mean_squared_error(y, model1_y)\n",
    "print \"variance or r-squared: \", explained_variance_score(y, model1_y)"
   ]
  },
  {
   "cell_type": "code",
   "execution_count": 906,
   "metadata": {},
   "outputs": [
    {
     "name": "stdout",
     "output_type": "stream",
     "text": [
      "                            OLS Regression Results                            \n",
      "==============================================================================\n",
      "Dep. Variable:                 PRICEN   R-squared:                       0.705\n",
      "Model:                            OLS   Adj. R-squared:                  0.705\n",
      "Method:                 Least Squares   F-statistic:                 2.513e+04\n",
      "Date:                Mon, 05 Aug 2019   Prob (F-statistic):               0.00\n",
      "Time:                        17:36:58   Log-Likelihood:             1.0543e+05\n",
      "No. Observations:               94872   AIC:                        -2.108e+05\n",
      "Df Residuals:                   94862   BIC:                        -2.107e+05\n",
      "Df Model:                           9                                         \n",
      "Covariance Type:            nonrobust                                         \n",
      "==============================================================================\n",
      "                 coef    std err          t      P>|t|      [0.025      0.975]\n",
      "------------------------------------------------------------------------------\n",
      "Intercept    -35.6512      0.094   -380.902      0.000     -35.835     -35.468\n",
      "SYEAR          0.0189   4.64e-05    407.737      0.000       0.019       0.019\n",
      "SAREA         -0.0051      0.000    -17.973      0.000      -0.006      -0.005\n",
      "BREED         -0.0038      0.000    -15.533      0.000      -0.004      -0.003\n",
      "WT            -0.0003   3.63e-06    -84.383      0.000      -0.000      -0.000\n",
      "HEADN          0.0154      0.001     12.456      0.000       0.013       0.018\n",
      "FRAME          0.0019      0.000      4.847      0.000       0.001       0.003\n",
      "FLESH         -0.0038      0.001     -7.303      0.000      -0.005      -0.003\n",
      "VAC            0.0039      0.001      6.042      0.000       0.003       0.005\n",
      "SEX           -0.0385      0.001    -69.820      0.000      -0.040      -0.037\n",
      "==============================================================================\n",
      "Omnibus:                     8118.291   Durbin-Watson:                   0.065\n",
      "Prob(Omnibus):                  0.000   Jarque-Bera (JB):            10392.969\n",
      "Skew:                           0.774   Prob(JB):                         0.00\n",
      "Kurtosis:                       3.482   Cond. No.                     7.55e+05\n",
      "==============================================================================\n",
      "\n",
      "Warnings:\n",
      "[1] Standard Errors assume that the covariance matrix of the errors is correctly specified.\n",
      "[2] The condition number is large, 7.55e+05. This might indicate that there are\n",
      "strong multicollinearity or other numerical problems.\n"
     ]
    }
   ],
   "source": [
    "model = ols('PRICEN~SYEAR+SAREA+BREED+WT+HEADN+FRAME+FLESH+VAC+SEX', SLA).fit()\n",
    "print(model.summary()) "
   ]
  },
  {
   "cell_type": "markdown",
   "metadata": {},
   "source": [
    "## Model Evaluation and Refinement"
   ]
  },
  {
   "cell_type": "code",
   "execution_count": 907,
   "metadata": {},
   "outputs": [],
   "source": [
    "runs_reg_model1 = ols(\"PRICE~Y_1995+Y_1996+Y_1997+Y_1998+Y_1999+Y_2000+Y_2001+Y_2002+Y_2003+Y_2004+Y_2005+Y_2006+Y_2007+Y_2008+Y_2009+Y_2010+Y_2011+Y_2012+Y_2013+Y_2014+Y_2015+Y_2016+Y_2017+Y_2018+HEAD+WT+SEX_1+SEX_2+SAREA_1+SAREA_2+SAREA_3+SAREA_5+BREED_1+BREED_3+BREED_4+FRAME_3+FRAME_4+FRAME_5+FLESH_2+FLESH_3+FLESH_4+FLESH_5+VAC_0+VAC_1\", SLA)\n",
    "runs_reg1 = runs_reg_model1.fit()"
   ]
  },
  {
   "cell_type": "code",
   "execution_count": 908,
   "metadata": {},
   "outputs": [
    {
     "name": "stdout",
     "output_type": "stream",
     "text": [
      "                            OLS Regression Results                            \n",
      "==============================================================================\n",
      "Dep. Variable:                  PRICE   R-squared:                       0.958\n",
      "Model:                            OLS   Adj. R-squared:                  0.958\n",
      "Method:                 Least Squares   F-statistic:                 5.779e+04\n",
      "Date:                Mon, 05 Aug 2019   Prob (F-statistic):               0.00\n",
      "Time:                        17:36:59   Log-Likelihood:            -3.5372e+05\n",
      "No. Observations:               94872   AIC:                         7.075e+05\n",
      "Df Residuals:                   94834   BIC:                         7.079e+05\n",
      "Df Model:                          37                                         \n",
      "Covariance Type:            nonrobust                                         \n",
      "==============================================================================\n",
      "                 coef    std err          t      P>|t|      [0.025      0.975]\n",
      "------------------------------------------------------------------------------\n",
      "Intercept     56.7564      0.086    658.321      0.000      56.587      56.925\n",
      "Y_1995       -59.2421      0.234   -253.319      0.000     -59.700     -58.784\n",
      "Y_1996       -63.2443      0.214   -296.087      0.000     -63.663     -62.826\n",
      "Y_1997       -33.8385      0.212   -159.816      0.000     -34.253     -33.423\n",
      "Y_1998       -51.6702      0.215   -240.143      0.000     -52.092     -51.248\n",
      "Y_1999       -38.2902      0.182   -210.278      0.000     -38.647     -37.933\n",
      "Y_2000       -24.6914      0.174   -142.112      0.000     -25.032     -24.351\n",
      "Y_2001       -22.8961      0.177   -129.341      0.000     -23.243     -22.549\n",
      "Y_2002       -40.8324      0.175   -233.124      0.000     -41.176     -40.489\n",
      "Y_2003       -24.7394      0.158   -156.193      0.000     -25.050     -24.429\n",
      "Y_2004         0.4964      0.152      3.256      0.001       0.198       0.795\n",
      "Y_2005        -1.2844      0.152     -8.477      0.000      -1.581      -0.987\n",
      "Y_2006         0.5603      0.159      3.514      0.000       0.248       0.873\n",
      "Y_2007        -2.8137      0.147    -19.158      0.000      -3.102      -2.526\n",
      "Y_2008       -11.0191      0.154    -71.399      0.000     -11.322     -10.717\n",
      "Y_2009       -20.4341      0.154   -132.661      0.000     -20.736     -20.132\n",
      "Y_2010        -4.3318      0.132    -32.701      0.000      -4.591      -4.072\n",
      "Y_2011        18.5277      0.136    136.579      0.000      18.262      18.794\n",
      "Y_2012        37.4094      0.151    247.940      0.000      37.114      37.705\n",
      "Y_2013        41.8208      0.139    301.227      0.000      41.549      42.093\n",
      "Y_2014       129.7724      0.149    869.700      0.000     129.480     130.065\n",
      "Y_2015       126.1079      0.149    848.504      0.000     125.817     126.399\n",
      "Y_2016        22.7921      0.147    154.981      0.000      22.504      23.080\n",
      "Y_2017        35.8671      0.141    254.017      0.000      35.590      36.144\n",
      "Y_2018        42.7300      0.146    291.919      0.000      42.443      43.017\n",
      "HEAD           0.0199      0.000     42.374      0.000       0.019       0.021\n",
      "WT            -0.1096      0.000   -236.838      0.000      -0.111      -0.109\n",
      "SEX_1         34.3653      0.061    560.127      0.000      34.245      34.486\n",
      "SEX_2         22.3911      0.049    459.576      0.000      22.296      22.487\n",
      "SAREA_1       15.0012      0.074    202.126      0.000      14.856      15.147\n",
      "SAREA_2       17.8567      0.069    257.073      0.000      17.721      17.993\n",
      "SAREA_3       15.9765      0.070    227.593      0.000      15.839      16.114\n",
      "SAREA_5        7.9221      0.120     65.769      0.000       7.686       8.158\n",
      "BREED_1       20.9516      0.063    331.439      0.000      20.828      21.076\n",
      "BREED_3       19.4621      0.062    315.153      0.000      19.341      19.583\n",
      "BREED_4       16.3427      0.080    203.333      0.000      16.185      16.500\n",
      "FRAME_3       18.4577      0.052    355.290      0.000      18.356      18.560\n",
      "FRAME_4       18.9684      0.055    346.857      0.000      18.861      19.076\n",
      "FRAME_5       19.3303      0.078    249.171      0.000      19.178      19.482\n",
      "FLESH_2       15.2154      0.131    116.066      0.000      14.958      15.472\n",
      "FLESH_3       15.7497      0.113    139.832      0.000      15.529      15.970\n",
      "FLESH_4       13.3445      0.073    182.990      0.000      13.202      13.487\n",
      "FLESH_5       12.4469      0.149     83.549      0.000      12.155      12.739\n",
      "VAC_0         27.8156      0.061    452.834      0.000      27.695      27.936\n",
      "VAC_1         28.9408      0.060    479.629      0.000      28.823      29.059\n",
      "==============================================================================\n",
      "Omnibus:                    30026.901   Durbin-Watson:                   0.660\n",
      "Prob(Omnibus):                  0.000   Jarque-Bera (JB):           564205.193\n",
      "Skew:                           1.048   Prob(JB):                         0.00\n",
      "Kurtosis:                      14.761   Cond. No.                     1.46e+16\n",
      "==============================================================================\n",
      "\n",
      "Warnings:\n",
      "[1] Standard Errors assume that the covariance matrix of the errors is correctly specified.\n",
      "[2] The smallest eigenvalue is 1.48e-22. This might indicate that there are\n",
      "strong multicollinearity problems or that the design matrix is singular.\n"
     ]
    }
   ],
   "source": [
    "print runs_reg1.summary()"
   ]
  },
  {
   "cell_type": "code",
   "execution_count": 909,
   "metadata": {},
   "outputs": [],
   "source": [
    "runs_reg_model1 = ols(\"PRICE~Y_1995+Y_1996+Y_1997+Y_1998+Y_1999+Y_2000+Y_2001+Y_2002+Y_2003+Y_2004+Y_2005+Y_2006+Y_2007+Y_2008+Y_2009+Y_2010+Y_2011+Y_2012+Y_2013+Y_2014+Y_2015+Y_2016+Y_2017+Y_2018+HEADN+WT+SEX_1+SEX_2+SAREA_1+SAREA_2+SAREA_3+SAREA_5+BREED_1+BREED_3+BREED_4+FRAME_3+FRAME_4+FRAME_5+FLESH_2+FLESH_3+FLESH_4+FLESH_5+VAC_0+VAC_1\", SLA)\n",
    "runs_reg1 = runs_reg_model1.fit()"
   ]
  },
  {
   "cell_type": "code",
   "execution_count": 910,
   "metadata": {},
   "outputs": [
    {
     "name": "stdout",
     "output_type": "stream",
     "text": [
      "                            OLS Regression Results                            \n",
      "==============================================================================\n",
      "Dep. Variable:                  PRICE   R-squared:                       0.958\n",
      "Model:                            OLS   Adj. R-squared:                  0.958\n",
      "Method:                 Least Squares   F-statistic:                 5.872e+04\n",
      "Date:                Mon, 05 Aug 2019   Prob (F-statistic):               0.00\n",
      "Time:                        17:37:00   Log-Likelihood:            -3.5300e+05\n",
      "No. Observations:               94872   AIC:                         7.061e+05\n",
      "Df Residuals:                   94834   BIC:                         7.064e+05\n",
      "Df Model:                          37                                         \n",
      "Covariance Type:            nonrobust                                         \n",
      "==============================================================================\n",
      "                 coef    std err          t      P>|t|      [0.025      0.975]\n",
      "------------------------------------------------------------------------------\n",
      "Intercept     51.5872      0.137    376.862      0.000      51.319      51.855\n",
      "Y_1995       -59.7114      0.232   -256.979      0.000     -60.167     -59.256\n",
      "Y_1996       -63.6803      0.212   -300.074      0.000     -64.096     -63.264\n",
      "Y_1997       -34.2806      0.210   -162.982      0.000     -34.693     -33.868\n",
      "Y_1998       -52.1093      0.214   -243.773      0.000     -52.528     -51.690\n",
      "Y_1999       -38.7202      0.181   -213.971      0.000     -39.075     -38.365\n",
      "Y_2000       -25.1026      0.173   -145.351      0.000     -25.441     -24.764\n",
      "Y_2001       -23.3209      0.176   -132.544      0.000     -23.666     -22.976\n",
      "Y_2002       -41.2614      0.174   -236.995      0.000     -41.603     -40.920\n",
      "Y_2003       -25.1632      0.157   -159.777      0.000     -25.472     -24.854\n",
      "Y_2004         0.0939      0.152      0.620      0.536      -0.203       0.391\n",
      "Y_2005        -1.6708      0.151    -11.093      0.000      -1.966      -1.376\n",
      "Y_2006         0.1462      0.159      0.922      0.357      -0.165       0.457\n",
      "Y_2007        -3.1969      0.146    -21.895      0.000      -3.483      -2.911\n",
      "Y_2008       -11.4052      0.153    -74.327      0.000     -11.706     -11.104\n",
      "Y_2009       -20.8272      0.153   -136.009      0.000     -21.127     -20.527\n",
      "Y_2010        -4.1977      0.132    -31.920      0.000      -4.455      -3.940\n",
      "Y_2011        18.6674      0.135    138.614      0.000      18.403      18.931\n",
      "Y_2012        37.5589      0.150    250.753      0.000      37.265      37.853\n",
      "Y_2013        41.9597      0.138    304.439      0.000      41.690      42.230\n",
      "Y_2014       129.9409      0.148    877.119      0.000     129.651     130.231\n",
      "Y_2015       126.2157      0.148    855.580      0.000     125.927     126.505\n",
      "Y_2016        22.9183      0.146    156.992      0.000      22.632      23.204\n",
      "Y_2017        35.9553      0.140    256.559      0.000      35.681      36.230\n",
      "Y_2018        42.7785      0.145    294.484      0.000      42.494      43.063\n",
      "HEADN          9.0174      0.157     57.289      0.000       8.709       9.326\n",
      "WT            -0.1079      0.000   -233.951      0.000      -0.109      -0.107\n",
      "SEX_1         31.6646      0.084    378.200      0.000      31.500      31.829\n",
      "SEX_2         19.9226      0.069    288.696      0.000      19.787      20.058\n",
      "SAREA_1       13.6378      0.079    173.210      0.000      13.483      13.792\n",
      "SAREA_2       16.4067      0.076    216.580      0.000      16.258      16.555\n",
      "SAREA_3       14.6699      0.075    195.952      0.000      14.523      14.817\n",
      "SAREA_5        6.8728      0.121     56.714      0.000       6.635       7.110\n",
      "BREED_1       19.1706      0.073    262.006      0.000      19.027      19.314\n",
      "BREED_3       17.7819      0.070    252.989      0.000      17.644      17.920\n",
      "BREED_4       14.6346      0.087    168.217      0.000      14.464      14.805\n",
      "FRAME_3       16.7268      0.062    267.968      0.000      16.604      16.849\n",
      "FRAME_4       17.2372      0.065    264.810      0.000      17.110      17.365\n",
      "FRAME_5       17.6232      0.085    207.664      0.000      17.457      17.790\n",
      "FLESH_2       13.8248      0.134    103.251      0.000      13.562      14.087\n",
      "FLESH_3       14.3825      0.115    124.536      0.000      14.156      14.609\n",
      "FLESH_4       12.0594      0.077    157.194      0.000      11.909      12.210\n",
      "FLESH_5       11.3205      0.149     75.918      0.000      11.028      11.613\n",
      "VAC_0         25.2377      0.081    311.748      0.000      25.079      25.396\n",
      "VAC_1         26.3495      0.080    327.918      0.000      26.192      26.507\n",
      "==============================================================================\n",
      "Omnibus:                    30431.324   Durbin-Watson:                   0.664\n",
      "Prob(Omnibus):                  0.000   Jarque-Bera (JB):           576076.429\n",
      "Skew:                           1.067   Prob(JB):                         0.00\n",
      "Kurtosis:                      14.882   Cond. No.                     1.44e+16\n",
      "==============================================================================\n",
      "\n",
      "Warnings:\n",
      "[1] Standard Errors assume that the covariance matrix of the errors is correctly specified.\n",
      "[2] The smallest eigenvalue is 1.48e-22. This might indicate that there are\n",
      "strong multicollinearity problems or that the design matrix is singular.\n"
     ]
    }
   ],
   "source": [
    "print runs_reg1.summary()"
   ]
  },
  {
   "cell_type": "markdown",
   "metadata": {},
   "source": [
    "#### Remove sale year 2004"
   ]
  },
  {
   "cell_type": "code",
   "execution_count": 911,
   "metadata": {},
   "outputs": [
    {
     "name": "stdout",
     "output_type": "stream",
     "text": [
      "                            OLS Regression Results                            \n",
      "==============================================================================\n",
      "Dep. Variable:                  PRICE   R-squared:                       0.958\n",
      "Model:                            OLS   Adj. R-squared:                  0.958\n",
      "Method:                 Least Squares   F-statistic:                 5.872e+04\n",
      "Date:                Mon, 05 Aug 2019   Prob (F-statistic):               0.00\n",
      "Time:                        17:37:01   Log-Likelihood:            -3.5300e+05\n",
      "No. Observations:               94872   AIC:                         7.061e+05\n",
      "Df Residuals:                   94834   BIC:                         7.064e+05\n",
      "Df Model:                          37                                         \n",
      "Covariance Type:            nonrobust                                         \n",
      "==============================================================================\n",
      "                 coef    std err          t      P>|t|      [0.025      0.975]\n",
      "------------------------------------------------------------------------------\n",
      "Intercept     51.6168      0.148    348.479      0.000      51.327      51.907\n",
      "Y_1995       -59.8053      0.285   -209.736      0.000     -60.364     -59.246\n",
      "Y_1996       -63.7742      0.267   -238.504      0.000     -64.298     -63.250\n",
      "Y_1997       -34.3745      0.266   -129.332      0.000     -34.895     -33.854\n",
      "Y_1998       -52.2032      0.269   -194.203      0.000     -52.730     -51.676\n",
      "Y_1999       -38.8141      0.241   -161.013      0.000     -39.287     -38.342\n",
      "Y_2000       -25.1965      0.234   -107.515      0.000     -25.656     -24.737\n",
      "Y_2001       -23.4148      0.237    -98.836      0.000     -23.879     -22.950\n",
      "Y_2002       -41.3553      0.235   -175.674      0.000     -41.817     -40.894\n",
      "Y_2003       -25.2571      0.222   -113.797      0.000     -25.692     -24.822\n",
      "Y_2005        -1.7647      0.216     -8.155      0.000      -2.189      -1.341\n",
      "Y_2006         0.0522      0.223      0.235      0.814      -0.384       0.488\n",
      "Y_2007        -3.2909      0.213    -15.442      0.000      -3.709      -2.873\n",
      "Y_2008       -11.4991      0.219    -52.596      0.000     -11.928     -11.071\n",
      "Y_2009       -20.9211      0.218    -95.804      0.000     -21.349     -20.493\n",
      "Y_2010        -4.2916      0.203    -21.124      0.000      -4.690      -3.893\n",
      "Y_2011        18.5734      0.206     90.323      0.000      18.170      18.976\n",
      "Y_2012        37.4650      0.217    172.844      0.000      37.040      37.890\n",
      "Y_2013        41.8657      0.208    201.343      0.000      41.458      42.273\n",
      "Y_2014       129.8470      0.215    602.674      0.000     129.425     130.269\n",
      "Y_2015       126.1218      0.215    587.412      0.000     125.701     126.543\n",
      "Y_2016        22.8244      0.214    106.855      0.000      22.406      23.243\n",
      "Y_2017        35.8614      0.209    171.383      0.000      35.451      36.272\n",
      "Y_2018        42.6846      0.213    200.364      0.000      42.267      43.102\n",
      "HEADN          9.0174      0.157     57.289      0.000       8.709       9.326\n",
      "WT            -0.1079      0.000   -233.951      0.000      -0.109      -0.107\n",
      "SEX_1         31.6794      0.089    357.700      0.000      31.506      31.853\n",
      "SEX_2         19.9374      0.074    268.122      0.000      19.792      20.083\n",
      "SAREA_1       13.6452      0.080    170.533      0.000      13.488      13.802\n",
      "SAREA_2       16.4141      0.077    213.540      0.000      16.263      16.565\n",
      "SAREA_3       14.6773      0.076    193.249      0.000      14.528      14.826\n",
      "SAREA_5        6.8802      0.122     56.273      0.000       6.641       7.120\n",
      "BREED_1       19.1805      0.076    252.943      0.000      19.032      19.329\n",
      "BREED_3       17.7918      0.073    244.629      0.000      17.649      17.934\n",
      "BREED_4       14.6445      0.089    164.865      0.000      14.470      14.819\n",
      "FRAME_3       16.7367      0.065    257.205      0.000      16.609      16.864\n",
      "FRAME_4       17.2470      0.068    255.018      0.000      17.114      17.380\n",
      "FRAME_5       17.6331      0.087    202.340      0.000      17.462      17.804\n",
      "FLESH_2       13.8322      0.135    102.831      0.000      13.569      14.096\n",
      "FLESH_3       14.3899      0.116    123.744      0.000      14.162      14.618\n",
      "FLESH_4       12.0668      0.078    154.648      0.000      11.914      12.220\n",
      "FLESH_5       11.3280      0.150     75.550      0.000      11.034      11.622\n",
      "VAC_0         25.2525      0.086    293.556      0.000      25.084      25.421\n",
      "VAC_1         26.3643      0.085    310.458      0.000      26.198      26.531\n",
      "==============================================================================\n",
      "Omnibus:                    30431.324   Durbin-Watson:                   0.664\n",
      "Prob(Omnibus):                  0.000   Jarque-Bera (JB):           576076.429\n",
      "Skew:                           1.067   Prob(JB):                         0.00\n",
      "Kurtosis:                      14.882   Cond. No.                     1.39e+16\n",
      "==============================================================================\n",
      "\n",
      "Warnings:\n",
      "[1] Standard Errors assume that the covariance matrix of the errors is correctly specified.\n",
      "[2] The smallest eigenvalue is 1.57e-22. This might indicate that there are\n",
      "strong multicollinearity problems or that the design matrix is singular.\n"
     ]
    }
   ],
   "source": [
    "runs_reg_model1 = ols(\"PRICE~Y_1995+Y_1996+Y_1997+Y_1998+Y_1999+Y_2000+Y_2001+Y_2002+Y_2003+Y_2005+Y_2006+Y_2007+Y_2008+Y_2009+Y_2010+Y_2011+Y_2012+Y_2013+Y_2014+Y_2015+Y_2016+Y_2017+Y_2018+HEADN+WT+SEX_1+SEX_2+SAREA_1+SAREA_2+SAREA_3+SAREA_5+BREED_1+BREED_3+BREED_4+FRAME_3+FRAME_4+FRAME_5+FLESH_2+FLESH_3+FLESH_4+FLESH_5+VAC_0+VAC_1\", SLA)\n",
    "runs_reg1 = runs_reg_model1.fit()\n",
    "print runs_reg1.summary()"
   ]
  },
  {
   "cell_type": "markdown",
   "metadata": {},
   "source": [
    "#### Remove sale year 2006"
   ]
  },
  {
   "cell_type": "code",
   "execution_count": 912,
   "metadata": {},
   "outputs": [
    {
     "name": "stdout",
     "output_type": "stream",
     "text": [
      "                            OLS Regression Results                            \n",
      "==============================================================================\n",
      "Dep. Variable:                  PRICE   R-squared:                       0.958\n",
      "Model:                            OLS   Adj. R-squared:                  0.958\n",
      "Method:                 Least Squares   F-statistic:                 6.035e+04\n",
      "Date:                Mon, 05 Aug 2019   Prob (F-statistic):               0.00\n",
      "Time:                        17:37:02   Log-Likelihood:            -3.5300e+05\n",
      "No. Observations:               94872   AIC:                         7.061e+05\n",
      "Df Residuals:                   94835   BIC:                         7.064e+05\n",
      "Df Model:                          36                                         \n",
      "Covariance Type:            nonrobust                                         \n",
      "==============================================================================\n",
      "                 coef    std err          t      P>|t|      [0.025      0.975]\n",
      "------------------------------------------------------------------------------\n",
      "Intercept     51.6246      0.144    357.530      0.000      51.342      51.908\n",
      "Y_1995       -59.8298      0.265   -225.446      0.000     -60.350     -59.310\n",
      "Y_1996       -63.7988      0.246   -259.296      0.000     -64.281     -63.317\n",
      "Y_1997       -34.3991      0.244   -140.782      0.000     -34.878     -33.920\n",
      "Y_1998       -52.2278      0.247   -211.026      0.000     -52.713     -51.743\n",
      "Y_1999       -38.8387      0.217   -178.978      0.000     -39.264     -38.413\n",
      "Y_2000       -25.2211      0.210   -120.326      0.000     -25.632     -24.810\n",
      "Y_2001       -23.4395      0.212   -110.462      0.000     -23.855     -23.024\n",
      "Y_2002       -41.3801      0.210   -196.704      0.000     -41.792     -40.968\n",
      "Y_2003       -25.2819      0.195   -129.597      0.000     -25.664     -24.900\n",
      "Y_2005        -1.7897      0.188     -9.495      0.000      -2.159      -1.420\n",
      "Y_2007        -3.3159      0.185    -17.963      0.000      -3.678      -2.954\n",
      "Y_2008       -11.5242      0.191    -60.376      0.000     -11.898     -11.150\n",
      "Y_2009       -20.9462      0.191   -109.945      0.000     -21.320     -20.573\n",
      "Y_2010        -4.3167      0.173    -24.967      0.000      -4.656      -3.978\n",
      "Y_2011        18.5484      0.176    105.518      0.000      18.204      18.893\n",
      "Y_2012        37.4399      0.189    198.482      0.000      37.070      37.810\n",
      "Y_2013        41.8406      0.178    234.580      0.000      41.491      42.190\n",
      "Y_2014       129.8219      0.187    693.634      0.000     129.455     130.189\n",
      "Y_2015       126.0967      0.186    677.002      0.000     125.732     126.462\n",
      "Y_2016        22.7993      0.185    123.279      0.000      22.437      23.162\n",
      "Y_2017        35.8364      0.180    199.127      0.000      35.484      36.189\n",
      "Y_2018        42.6595      0.184    231.502      0.000      42.298      43.021\n",
      "HEADN          9.0176      0.157     57.291      0.000       8.709       9.326\n",
      "WT            -0.1079      0.000   -233.952      0.000      -0.109      -0.107\n",
      "SEX_1         31.6833      0.087    364.254      0.000      31.513      31.854\n",
      "SEX_2         19.9413      0.073    274.907      0.000      19.799      20.083\n",
      "SAREA_1       13.6469      0.080    171.293      0.000      13.491      13.803\n",
      "SAREA_2       16.4158      0.077    214.475      0.000      16.266      16.566\n",
      "SAREA_3       14.6793      0.075    194.478      0.000      14.531      14.827\n",
      "SAREA_5        6.8826      0.122     56.485      0.000       6.644       7.121\n",
      "BREED_1       19.1832      0.075    256.096      0.000      19.036      19.330\n",
      "BREED_3       17.7943      0.072    247.270      0.000      17.653      17.935\n",
      "BREED_4       14.6470      0.088    166.104      0.000      14.474      14.820\n",
      "FRAME_3       16.7393      0.064    261.004      0.000      16.614      16.865\n",
      "FRAME_4       17.2497      0.067    258.612      0.000      17.119      17.380\n",
      "FRAME_5       17.6356      0.086    203.956      0.000      17.466      17.805\n",
      "FLESH_2       13.8340      0.134    103.010      0.000      13.571      14.097\n",
      "FLESH_3       14.3919      0.116    124.102      0.000      14.165      14.619\n",
      "FLESH_4       12.0687      0.078    155.517      0.000      11.917      12.221\n",
      "FLESH_5       11.3300      0.150     75.691      0.000      11.037      11.623\n",
      "VAC_0         25.2560      0.085    298.135      0.000      25.090      25.422\n",
      "VAC_1         26.3686      0.083    317.787      0.000      26.206      26.531\n",
      "==============================================================================\n",
      "Omnibus:                    30431.360   Durbin-Watson:                   0.664\n",
      "Prob(Omnibus):                  0.000   Jarque-Bera (JB):           576079.268\n",
      "Skew:                           1.067   Prob(JB):                         0.00\n",
      "Kurtosis:                      14.882   Cond. No.                     1.39e+16\n",
      "==============================================================================\n",
      "\n",
      "Warnings:\n",
      "[1] Standard Errors assume that the covariance matrix of the errors is correctly specified.\n",
      "[2] The smallest eigenvalue is 1.57e-22. This might indicate that there are\n",
      "strong multicollinearity problems or that the design matrix is singular.\n"
     ]
    }
   ],
   "source": [
    "runs_reg_model1 = ols(\"PRICE~Y_1995+Y_1996+Y_1997+Y_1998+Y_1999+Y_2000+Y_2001+Y_2002+Y_2003+Y_2005+Y_2007+Y_2008+Y_2009+Y_2010+Y_2011+Y_2012+Y_2013+Y_2014+Y_2015+Y_2016+Y_2017+Y_2018+HEADN+WT+SEX_1+SEX_2+SAREA_1+SAREA_2+SAREA_3+SAREA_5+BREED_1+BREED_3+BREED_4+FRAME_3+FRAME_4+FRAME_5+FLESH_2+FLESH_3+FLESH_4+FLESH_5+VAC_0+VAC_1\", SLA)\n",
    "runs_reg1 = runs_reg_model1.fit()\n",
    "print runs_reg1.summary()"
   ]
  },
  {
   "cell_type": "markdown",
   "metadata": {},
   "source": [
    "## Final Model"
   ]
  },
  {
   "cell_type": "markdown",
   "metadata": {},
   "source": [
    "### In SAS 9.4\n",
    "data SLA;\n",
    "infile 'C:\\Users\\Esther\\Documents\\K-State Graduate School\\Classes\\PhD\\GENBA 894\\DATA\\SLA.txt' firstobs=2 dlm='09'X;\n",
    "input SYEAR LOTID SMONTH HEAD SEX WT PRICE STATE $ STATECODE SAREA BREED FRAME FLESH VAC;\n",
    "run;\n",
    "\n",
    "proc print data=SLA (obs=15);\n",
    "run;\n",
    "\n",
    "proc freq;\n",
    "tables SYEAR SAREA BREED FRAME FLESH VAC;\n",
    "QUIT;\n",
    "\n",
    "proc MEANS N MEAN STD MEDIAM MIN MAX;\n",
    "var HEAD WT PRICE;\n",
    "quit;\n",
    "\n",
    "proc mixed;\n",
    "class SYEAR SEX SAREA BREED FRAME FLESH VAC;\n",
    "model price = SYEAR WT SEX SAREA BREED FRAME FLESH VAC HEAD/solution ddfm=BETWITHIN;\n",
    "RANDOM SMONTH(SYEAR)/SOLUTION;\n",
    "lsmeans SYEAR SEX SAREA BREED FRAME FLESH VAC/adjust=tukey;\n",
    "quit;\n",
    "\n",
    "run;"
   ]
  },
  {
   "cell_type": "markdown",
   "metadata": {},
   "source": [
    "## Model Validation"
   ]
  },
  {
   "cell_type": "code",
   "execution_count": 913,
   "metadata": {
    "scrolled": true
   },
   "outputs": [
    {
     "data": {
      "text/html": [
       "<div>\n",
       "<style scoped>\n",
       "    .dataframe tbody tr th:only-of-type {\n",
       "        vertical-align: middle;\n",
       "    }\n",
       "\n",
       "    .dataframe tbody tr th {\n",
       "        vertical-align: top;\n",
       "    }\n",
       "\n",
       "    .dataframe thead th {\n",
       "        text-align: right;\n",
       "    }\n",
       "</style>\n",
       "<table border=\"1\" class=\"dataframe\">\n",
       "  <thead>\n",
       "    <tr style=\"text-align: right;\">\n",
       "      <th></th>\n",
       "      <th>Unnamed: 0</th>\n",
       "      <th>SYEAR</th>\n",
       "      <th>LOTID</th>\n",
       "      <th>SMONTH</th>\n",
       "      <th>HEAD</th>\n",
       "      <th>SEX</th>\n",
       "      <th>WT</th>\n",
       "      <th>PRICE</th>\n",
       "      <th>STATE</th>\n",
       "      <th>STATECODE</th>\n",
       "      <th>SAREA</th>\n",
       "      <th>BREED</th>\n",
       "      <th>FRAME</th>\n",
       "      <th>FLESH</th>\n",
       "      <th>VAC</th>\n",
       "    </tr>\n",
       "  </thead>\n",
       "  <tbody>\n",
       "    <tr>\n",
       "      <th>0</th>\n",
       "      <td>0</td>\n",
       "      <td>1995</td>\n",
       "      <td>1</td>\n",
       "      <td>6</td>\n",
       "      <td>115</td>\n",
       "      <td>1</td>\n",
       "      <td>425</td>\n",
       "      <td>81.25</td>\n",
       "      <td>OK</td>\n",
       "      <td>25</td>\n",
       "      <td>3</td>\n",
       "      <td>3</td>\n",
       "      <td>4</td>\n",
       "      <td>4</td>\n",
       "      <td>1</td>\n",
       "    </tr>\n",
       "    <tr>\n",
       "      <th>1</th>\n",
       "      <td>1</td>\n",
       "      <td>1995</td>\n",
       "      <td>2</td>\n",
       "      <td>6</td>\n",
       "      <td>220</td>\n",
       "      <td>1</td>\n",
       "      <td>460</td>\n",
       "      <td>80.00</td>\n",
       "      <td>OK</td>\n",
       "      <td>25</td>\n",
       "      <td>3</td>\n",
       "      <td>3</td>\n",
       "      <td>4</td>\n",
       "      <td>4</td>\n",
       "      <td>1</td>\n",
       "    </tr>\n",
       "    <tr>\n",
       "      <th>2</th>\n",
       "      <td>2</td>\n",
       "      <td>1995</td>\n",
       "      <td>3</td>\n",
       "      <td>6</td>\n",
       "      <td>84</td>\n",
       "      <td>1</td>\n",
       "      <td>570</td>\n",
       "      <td>77.00</td>\n",
       "      <td>MO</td>\n",
       "      <td>23</td>\n",
       "      <td>3</td>\n",
       "      <td>1</td>\n",
       "      <td>4</td>\n",
       "      <td>4</td>\n",
       "      <td>1</td>\n",
       "    </tr>\n",
       "    <tr>\n",
       "      <th>3</th>\n",
       "      <td>3</td>\n",
       "      <td>1995</td>\n",
       "      <td>4</td>\n",
       "      <td>6</td>\n",
       "      <td>83</td>\n",
       "      <td>1</td>\n",
       "      <td>610</td>\n",
       "      <td>74.50</td>\n",
       "      <td>KS</td>\n",
       "      <td>22</td>\n",
       "      <td>3</td>\n",
       "      <td>3</td>\n",
       "      <td>5</td>\n",
       "      <td>4</td>\n",
       "      <td>0</td>\n",
       "    </tr>\n",
       "    <tr>\n",
       "      <th>4</th>\n",
       "      <td>4</td>\n",
       "      <td>1995</td>\n",
       "      <td>5</td>\n",
       "      <td>6</td>\n",
       "      <td>155</td>\n",
       "      <td>1</td>\n",
       "      <td>625</td>\n",
       "      <td>68.10</td>\n",
       "      <td>MS</td>\n",
       "      <td>46</td>\n",
       "      <td>5</td>\n",
       "      <td>4</td>\n",
       "      <td>3</td>\n",
       "      <td>4</td>\n",
       "      <td>0</td>\n",
       "    </tr>\n",
       "  </tbody>\n",
       "</table>\n",
       "</div>"
      ],
      "text/plain": [
       "   Unnamed: 0  SYEAR  LOTID  SMONTH  HEAD  SEX   WT  PRICE STATE  STATECODE  \\\n",
       "0           0   1995      1       6   115    1  425  81.25    OK         25   \n",
       "1           1   1995      2       6   220    1  460  80.00    OK         25   \n",
       "2           2   1995      3       6    84    1  570  77.00    MO         23   \n",
       "3           3   1995      4       6    83    1  610  74.50    KS         22   \n",
       "4           4   1995      5       6   155    1  625  68.10    MS         46   \n",
       "\n",
       "   SAREA  BREED  FRAME  FLESH  VAC  \n",
       "0      3      3      4      4    1  \n",
       "1      3      3      4      4    1  \n",
       "2      3      1      4      4    1  \n",
       "3      3      3      5      4    0  \n",
       "4      5      4      3      4    0  "
      ]
     },
     "execution_count": 913,
     "metadata": {},
     "output_type": "execute_result"
    }
   ],
   "source": [
    "# import dataset\n",
    "SLA1=pd.read_csv(\"DATA/SLA.csv\")\n",
    "SLA1.head()"
   ]
  },
  {
   "cell_type": "code",
   "execution_count": 914,
   "metadata": {},
   "outputs": [
    {
     "data": {
      "text/html": [
       "<div>\n",
       "<style scoped>\n",
       "    .dataframe tbody tr th:only-of-type {\n",
       "        vertical-align: middle;\n",
       "    }\n",
       "\n",
       "    .dataframe tbody tr th {\n",
       "        vertical-align: top;\n",
       "    }\n",
       "\n",
       "    .dataframe thead th {\n",
       "        text-align: right;\n",
       "    }\n",
       "</style>\n",
       "<table border=\"1\" class=\"dataframe\">\n",
       "  <thead>\n",
       "    <tr style=\"text-align: right;\">\n",
       "      <th></th>\n",
       "      <th>SYEAR</th>\n",
       "      <th>SMONTH</th>\n",
       "      <th>HEAD</th>\n",
       "      <th>SEX</th>\n",
       "      <th>WT</th>\n",
       "      <th>PRICE</th>\n",
       "      <th>SAREA</th>\n",
       "      <th>BREED</th>\n",
       "      <th>FRAME</th>\n",
       "      <th>FLESH</th>\n",
       "      <th>VAC</th>\n",
       "    </tr>\n",
       "  </thead>\n",
       "  <tbody>\n",
       "    <tr>\n",
       "      <th>0</th>\n",
       "      <td>1995</td>\n",
       "      <td>6</td>\n",
       "      <td>115</td>\n",
       "      <td>1</td>\n",
       "      <td>425</td>\n",
       "      <td>81.25</td>\n",
       "      <td>3</td>\n",
       "      <td>3</td>\n",
       "      <td>4</td>\n",
       "      <td>4</td>\n",
       "      <td>1</td>\n",
       "    </tr>\n",
       "    <tr>\n",
       "      <th>1</th>\n",
       "      <td>1995</td>\n",
       "      <td>6</td>\n",
       "      <td>220</td>\n",
       "      <td>1</td>\n",
       "      <td>460</td>\n",
       "      <td>80.00</td>\n",
       "      <td>3</td>\n",
       "      <td>3</td>\n",
       "      <td>4</td>\n",
       "      <td>4</td>\n",
       "      <td>1</td>\n",
       "    </tr>\n",
       "    <tr>\n",
       "      <th>2</th>\n",
       "      <td>1995</td>\n",
       "      <td>6</td>\n",
       "      <td>84</td>\n",
       "      <td>1</td>\n",
       "      <td>570</td>\n",
       "      <td>77.00</td>\n",
       "      <td>3</td>\n",
       "      <td>1</td>\n",
       "      <td>4</td>\n",
       "      <td>4</td>\n",
       "      <td>1</td>\n",
       "    </tr>\n",
       "    <tr>\n",
       "      <th>3</th>\n",
       "      <td>1995</td>\n",
       "      <td>6</td>\n",
       "      <td>83</td>\n",
       "      <td>1</td>\n",
       "      <td>610</td>\n",
       "      <td>74.50</td>\n",
       "      <td>3</td>\n",
       "      <td>3</td>\n",
       "      <td>5</td>\n",
       "      <td>4</td>\n",
       "      <td>0</td>\n",
       "    </tr>\n",
       "    <tr>\n",
       "      <th>4</th>\n",
       "      <td>1995</td>\n",
       "      <td>6</td>\n",
       "      <td>155</td>\n",
       "      <td>1</td>\n",
       "      <td>625</td>\n",
       "      <td>68.10</td>\n",
       "      <td>5</td>\n",
       "      <td>4</td>\n",
       "      <td>3</td>\n",
       "      <td>4</td>\n",
       "      <td>0</td>\n",
       "    </tr>\n",
       "  </tbody>\n",
       "</table>\n",
       "</div>"
      ],
      "text/plain": [
       "   SYEAR  SMONTH  HEAD  SEX   WT  PRICE  SAREA  BREED  FRAME  FLESH  VAC\n",
       "0   1995       6   115    1  425  81.25      3      3      4      4    1\n",
       "1   1995       6   220    1  460  80.00      3      3      4      4    1\n",
       "2   1995       6    84    1  570  77.00      3      1      4      4    1\n",
       "3   1995       6    83    1  610  74.50      3      3      5      4    0\n",
       "4   1995       6   155    1  625  68.10      5      4      3      4    0"
      ]
     },
     "execution_count": 914,
     "metadata": {},
     "output_type": "execute_result"
    }
   ],
   "source": [
    "SLA1 = SLA1.drop(['Unnamed: 0', 'LOTID', 'STATE', 'STATECODE'], axis=1)\n",
    "SLA1.head()"
   ]
  },
  {
   "cell_type": "code",
   "execution_count": 915,
   "metadata": {},
   "outputs": [],
   "source": [
    "SLA1 = SLA1.astype({\"PRICE\": int, \"WT\": int, \"HEAD\":int})"
   ]
  },
  {
   "cell_type": "code",
   "execution_count": 916,
   "metadata": {},
   "outputs": [],
   "source": [
    "y = SLA1['PRICE'] \n",
    "X = SLA1[['SYEAR','SAREA','BREED','WT','HEAD','FRAME','SEX', 'VAC']]"
   ]
  },
  {
   "cell_type": "code",
   "execution_count": 917,
   "metadata": {},
   "outputs": [
    {
     "name": "stdout",
     "output_type": "stream",
     "text": [
      "(66410, 11) (66410L,)\n",
      "(28462, 11) (28462L,)\n"
     ]
    }
   ],
   "source": [
    "# create training and testing vars\n",
    "X_train, X_test, y_train, y_test = train_test_split(SLA1, y, test_size=0.3)\n",
    "print X_train.shape, y_train.shape\n",
    "print X_test.shape, y_test.shape"
   ]
  },
  {
   "cell_type": "code",
   "execution_count": 918,
   "metadata": {},
   "outputs": [],
   "source": [
    "# fit a model\n",
    "lm = linear_model.LinearRegression()\n",
    "model = lm.fit(X_train, y_train)\n",
    "predictions = lm.predict(X_test)"
   ]
  },
  {
   "cell_type": "code",
   "execution_count": 919,
   "metadata": {},
   "outputs": [
    {
     "data": {
      "text/plain": [
       "array([ 74., 125., 173., 158., 226.])"
      ]
     },
     "execution_count": 919,
     "metadata": {},
     "output_type": "execute_result"
    }
   ],
   "source": [
    "predictions[0:5]"
   ]
  },
  {
   "cell_type": "code",
   "execution_count": 920,
   "metadata": {},
   "outputs": [
    {
     "data": {
      "text/plain": [
       "Text(0,0.5,'Predictions')"
      ]
     },
     "execution_count": 920,
     "metadata": {},
     "output_type": "execute_result"
    },
    {
     "data": {
      "image/png": "[encoded data removed]",
      "text/plain": [
       "<Figure size 432x288 with 1 Axes>"
      ]
     },
     "metadata": {},
     "output_type": "display_data"
    }
   ],
   "source": [
    "## The line / model\n",
    "plt.scatter(y_test, predictions)\n",
    "plt.xlabel('True Values')\n",
    "plt.ylabel('Predictions')"
   ]
  },
  {
   "cell_type": "code",
   "execution_count": 921,
   "metadata": {},
   "outputs": [
    {
     "name": "stdout",
     "output_type": "stream",
     "text": [
      "Score: 1.0\n"
     ]
    }
   ],
   "source": [
    "print 'Score:', model.score(X_test, y_test)"
   ]
  },
  {
   "cell_type": "code",
   "execution_count": 922,
   "metadata": {},
   "outputs": [
    {
     "name": "stdout",
     "output_type": "stream",
     "text": [
      "[0.03292266 0.04167969 0.04877028 0.04546886 0.04213187 0.03835182\n",
      " 0.04071247 0.04526618 0.04626372 0.04061999]\n",
      "0.042218755176322675\n"
     ]
    }
   ],
   "source": [
    "# evaluate the decision tree model using 10-fold cross-validation\n",
    "scores = cross_val_score(dt, X, y, scoring='accuracy', cv=10)\n",
    "print scores\n",
    "print scores.mean()"
   ]
  },
  {
   "cell_type": "code",
   "execution_count": 923,
   "metadata": {},
   "outputs": [
    {
     "data": {
      "text/plain": [
       "DecisionTreeClassifier(class_weight=None, criterion='gini', max_depth=None,\n",
       "            max_features=None, max_leaf_nodes=None,\n",
       "            min_impurity_decrease=0.0, min_impurity_split=None,\n",
       "            min_samples_leaf=1, min_samples_split=2,\n",
       "            min_weight_fraction_leaf=0.0, presort=False, random_state=None,\n",
       "            splitter='best')"
      ]
     },
     "execution_count": 923,
     "metadata": {},
     "output_type": "execute_result"
    }
   ],
   "source": [
    "# split validation\n",
    "X_train, X_test, y_train, y_test = train_test_split(X, y, test_size=0.2, random_state=0)\n",
    "\n",
    "# Initialize DecisionTreeClassifier()\n",
    "dt = DecisionTreeClassifier()\n",
    "\n",
    "# Train a decision tree model\n",
    "dt.fit(X_train, y_train)"
   ]
  },
  {
   "cell_type": "code",
   "execution_count": 924,
   "metadata": {
    "scrolled": true
   },
   "outputs": [
    {
     "name": "stdout",
     "output_type": "stream",
     "text": [
      "0.0730961791831357\n",
      "--------------------------------------------------------\n",
      "[[0 0 0 ... 0 0 0]\n",
      " [0 2 0 ... 0 0 0]\n",
      " [0 0 0 ... 0 0 0]\n",
      " ...\n",
      " [0 0 0 ... 0 0 0]\n",
      " [0 0 0 ... 0 0 0]\n",
      " [0 0 0 ... 0 0 0]]\n",
      "--------------------------------------------------------\n",
      "             precision    recall  f1-score   support\n",
      "\n",
      "         41       0.00      0.00      0.00         0\n",
      "         44       0.67      0.67      0.67         3\n",
      "         46       0.00      0.00      0.00         0\n",
      "         47       0.00      0.00      0.00         1\n",
      "         48       0.20      0.33      0.25         3\n",
      "         49       0.00      0.00      0.00         0\n",
      "         50       0.00      0.00      0.00         7\n",
      "         51       0.67      0.25      0.36         8\n",
      "         52       0.00      0.00      0.00         4\n",
      "         53       0.08      0.11      0.10         9\n",
      "         54       0.06      0.07      0.06        14\n",
      "         55       0.00      0.00      0.00        14\n",
      "         56       0.03      0.06      0.04        18\n",
      "         57       0.05      0.06      0.06        32\n",
      "         58       0.13      0.10      0.11        51\n",
      "         59       0.12      0.13      0.12        39\n",
      "         60       0.09      0.09      0.09        44\n",
      "         61       0.10      0.08      0.09        49\n",
      "         62       0.11      0.12      0.12        40\n",
      "         63       0.13      0.10      0.12        68\n",
      "         64       0.15      0.17      0.16        65\n",
      "         65       0.08      0.12      0.09        51\n",
      "         66       0.14      0.12      0.13        69\n",
      "         67       0.27      0.23      0.25        71\n",
      "         68       0.10      0.09      0.10        66\n",
      "         69       0.21      0.19      0.20        64\n",
      "         70       0.12      0.16      0.14        57\n",
      "         71       0.17      0.26      0.20        39\n",
      "         72       0.11      0.09      0.10        57\n",
      "         73       0.18      0.21      0.20        52\n",
      "         74       0.13      0.11      0.12        76\n",
      "         75       0.14      0.17      0.15        60\n",
      "         76       0.12      0.12      0.12        72\n",
      "         77       0.10      0.09      0.09        94\n",
      "         78       0.10      0.11      0.10        74\n",
      "         79       0.12      0.09      0.10        89\n",
      "         80       0.14      0.14      0.14       102\n",
      "         81       0.15      0.20      0.17        82\n",
      "         82       0.13      0.12      0.13       114\n",
      "         83       0.09      0.08      0.09       112\n",
      "         84       0.11      0.12      0.11       128\n",
      "         85       0.11      0.11      0.11       131\n",
      "         86       0.08      0.09      0.09       118\n",
      "         87       0.06      0.07      0.06       107\n",
      "         88       0.06      0.07      0.06       120\n",
      "         89       0.10      0.11      0.10       116\n",
      "         90       0.09      0.08      0.09       154\n",
      "         91       0.06      0.05      0.05       143\n",
      "         92       0.07      0.06      0.07       156\n",
      "         93       0.11      0.11      0.11       157\n",
      "         94       0.11      0.11      0.11       196\n",
      "         95       0.10      0.10      0.10       209\n",
      "         96       0.10      0.11      0.11       158\n",
      "         97       0.10      0.11      0.11       172\n",
      "         98       0.14      0.13      0.14       166\n",
      "         99       0.05      0.06      0.06       140\n",
      "        100       0.13      0.10      0.11       204\n",
      "        101       0.10      0.10      0.10       147\n",
      "        102       0.09      0.09      0.09       161\n",
      "        103       0.09      0.08      0.09       193\n",
      "        104       0.07      0.08      0.07       161\n",
      "        105       0.12      0.11      0.12       227\n",
      "        106       0.06      0.06      0.06       200\n",
      "        107       0.04      0.04      0.04       186\n",
      "        108       0.04      0.05      0.04       196\n",
      "        109       0.07      0.07      0.07       214\n",
      "        110       0.10      0.10      0.10       233\n",
      "        111       0.09      0.10      0.09       194\n",
      "        112       0.07      0.07      0.07       220\n",
      "        113       0.05      0.05      0.05       233\n",
      "        114       0.09      0.08      0.09       261\n",
      "        115       0.07      0.06      0.06       282\n",
      "        116       0.07      0.07      0.07       257\n",
      "        117       0.10      0.12      0.11       258\n",
      "        118       0.08      0.08      0.08       266\n",
      "        119       0.09      0.10      0.10       245\n",
      "        120       0.06      0.06      0.06       282\n",
      "        121       0.06      0.06      0.06       213\n",
      "        122       0.05      0.04      0.04       205\n",
      "        123       0.09      0.10      0.10       196\n",
      "        124       0.06      0.07      0.06       192\n",
      "        125       0.11      0.09      0.10       234\n",
      "        126       0.06      0.07      0.06       181\n",
      "        127       0.04      0.04      0.04       169\n",
      "        128       0.04      0.05      0.04       149\n",
      "        129       0.08      0.09      0.08       133\n",
      "        130       0.05      0.05      0.05       152\n",
      "        131       0.06      0.05      0.06       147\n",
      "        132       0.07      0.05      0.06       149\n",
      "        133       0.07      0.08      0.08       128\n",
      "        134       0.06      0.06      0.06       145\n",
      "        135       0.10      0.11      0.10       138\n",
      "        136       0.07      0.06      0.07       144\n",
      "        137       0.06      0.05      0.06       149\n",
      "        138       0.08      0.07      0.07       144\n",
      "        139       0.06      0.07      0.07       148\n",
      "        140       0.06      0.06      0.06       173\n",
      "        141       0.05      0.04      0.05       167\n",
      "        142       0.05      0.05      0.05       133\n",
      "        143       0.03      0.03      0.03       134\n",
      "        144       0.09      0.09      0.09       146\n",
      "        145       0.03      0.03      0.03       153\n",
      "        146       0.07      0.08      0.08       129\n",
      "        147       0.10      0.11      0.11       156\n",
      "        148       0.04      0.03      0.04       152\n",
      "        149       0.04      0.05      0.05       129\n",
      "        150       0.04      0.03      0.04       178\n",
      "        151       0.06      0.06      0.06       143\n",
      "        152       0.07      0.07      0.07       145\n",
      "        153       0.03      0.03      0.03       148\n",
      "        154       0.03      0.03      0.03       132\n",
      "        155       0.07      0.06      0.06       141\n",
      "        156       0.02      0.02      0.02       127\n",
      "        157       0.09      0.09      0.09       127\n",
      "        158       0.04      0.03      0.03       133\n",
      "        159       0.03      0.03      0.03       115\n",
      "        160       0.10      0.09      0.10       149\n",
      "        161       0.09      0.09      0.09       129\n",
      "        162       0.06      0.06      0.06       123\n",
      "        163       0.05      0.06      0.05       104\n",
      "        164       0.10      0.09      0.09       122\n",
      "        165       0.06      0.05      0.05       118\n",
      "        166       0.06      0.06      0.06       109\n",
      "        167       0.01      0.01      0.01        97\n",
      "        168       0.10      0.10      0.10        92\n",
      "        169       0.05      0.04      0.05        94\n",
      "        170       0.05      0.06      0.06       101\n",
      "        171       0.04      0.05      0.04        66\n",
      "        172       0.03      0.03      0.03        73\n",
      "        173       0.03      0.04      0.03        57\n",
      "        174       0.03      0.03      0.03        61\n",
      "        175       0.03      0.04      0.03        55\n",
      "        176       0.02      0.01      0.02        70\n",
      "        177       0.04      0.05      0.04        43\n",
      "        178       0.03      0.03      0.03        39\n",
      "        179       0.07      0.05      0.05        44\n",
      "        180       0.00      0.00      0.00        47\n",
      "        181       0.06      0.06      0.06        35\n",
      "        182       0.00      0.00      0.00        26\n",
      "        183       0.09      0.12      0.11        32\n",
      "        184       0.06      0.06      0.06        35\n",
      "        185       0.10      0.10      0.10        40\n",
      "        186       0.03      0.03      0.03        35\n",
      "        187       0.05      0.04      0.04        28\n",
      "        188       0.04      0.04      0.04        28\n",
      "        189       0.06      0.07      0.06        29\n",
      "        190       0.00      0.00      0.00        24\n",
      "        191       0.05      0.06      0.05        18\n",
      "        192       0.09      0.05      0.06        22\n",
      "        193       0.12      0.12      0.12        17\n",
      "        194       0.00      0.00      0.00        22\n",
      "        195       0.06      0.04      0.05        25\n",
      "        196       0.00      0.00      0.00        13\n",
      "        197       0.00      0.00      0.00        11\n",
      "        198       0.10      0.07      0.08        14\n",
      "        199       0.06      0.09      0.07        11\n",
      "        200       0.06      0.06      0.06        17\n",
      "        201       0.00      0.00      0.00        19\n",
      "        202       0.11      0.09      0.10        11\n",
      "        203       0.00      0.00      0.00         4\n",
      "        204       0.00      0.00      0.00        10\n",
      "        205       0.14      0.10      0.12        10\n",
      "        206       0.00      0.00      0.00        16\n",
      "        207       0.08      0.10      0.09        10\n",
      "        208       0.07      0.05      0.06        21\n",
      "        209       0.00      0.00      0.00        15\n",
      "        210       0.00      0.00      0.00         7\n",
      "        211       0.05      0.05      0.05        20\n",
      "        212       0.00      0.00      0.00        19\n",
      "        213       0.08      0.08      0.08        13\n",
      "        214       0.00      0.00      0.00        18\n",
      "        215       0.11      0.12      0.12        16\n",
      "        216       0.00      0.00      0.00        11\n",
      "        217       0.00      0.00      0.00        18\n",
      "        218       0.00      0.00      0.00        18\n",
      "        219       0.00      0.00      0.00        14\n",
      "        220       0.10      0.12      0.11        24\n",
      "        221       0.12      0.14      0.12        22\n",
      "        222       0.05      0.06      0.06        16\n",
      "        223       0.00      0.00      0.00        19\n",
      "        224       0.09      0.06      0.07        31\n",
      "        225       0.04      0.05      0.04        22\n",
      "        226       0.00      0.00      0.00        21\n",
      "        227       0.00      0.00      0.00        18\n",
      "        228       0.00      0.00      0.00        25\n",
      "        229       0.04      0.08      0.05        13\n",
      "        230       0.06      0.07      0.06        29\n",
      "        231       0.09      0.07      0.08        27\n",
      "        232       0.04      0.06      0.05        16\n",
      "        233       0.04      0.05      0.04        21\n",
      "        234       0.04      0.03      0.04        31\n",
      "        235       0.15      0.12      0.13        26\n",
      "        236       0.00      0.00      0.00        19\n",
      "        237       0.06      0.08      0.07        26\n",
      "        238       0.00      0.00      0.00        33\n",
      "        239       0.06      0.07      0.06        30\n",
      "        240       0.07      0.07      0.07        41\n",
      "        241       0.03      0.04      0.03        27\n",
      "        242       0.00      0.00      0.00        31\n",
      "        243       0.03      0.03      0.03        29\n",
      "        244       0.00      0.00      0.00        19\n",
      "        245       0.00      0.00      0.00        28\n",
      "        246       0.12      0.15      0.14        26\n",
      "        247       0.05      0.04      0.05        23\n",
      "        248       0.03      0.04      0.03        28\n",
      "        249       0.04      0.03      0.04        31\n",
      "        250       0.00      0.00      0.00        23\n",
      "        251       0.17      0.20      0.19        20\n",
      "        252       0.03      0.03      0.03        35\n",
      "        253       0.00      0.00      0.00        22\n",
      "        254       0.05      0.04      0.04        26\n",
      "        255       0.06      0.04      0.05        24\n",
      "        256       0.00      0.00      0.00        25\n",
      "        257       0.04      0.04      0.04        24\n",
      "        258       0.11      0.10      0.11        29\n",
      "        259       0.05      0.05      0.05        22\n",
      "        260       0.00      0.00      0.00        22\n",
      "        261       0.04      0.04      0.04        24\n",
      "        262       0.07      0.13      0.10        15\n",
      "        263       0.00      0.00      0.00        12\n",
      "        264       0.09      0.15      0.11        13\n",
      "        265       0.00      0.00      0.00        13\n",
      "        266       0.07      0.05      0.06        21\n",
      "        267       0.00      0.00      0.00        13\n",
      "        268       0.06      0.05      0.05        21\n",
      "        269       0.00      0.00      0.00        14\n",
      "        270       0.08      0.05      0.06        22\n",
      "        271       0.00      0.00      0.00        13\n",
      "        272       0.09      0.08      0.09        12\n",
      "        273       0.00      0.00      0.00        17\n",
      "        274       0.00      0.00      0.00        14\n",
      "        275       0.25      0.22      0.24        18\n",
      "        276       0.06      0.06      0.06        17\n",
      "        277       0.00      0.00      0.00        12\n",
      "        278       0.00      0.00      0.00         9\n",
      "        279       0.00      0.00      0.00        10\n",
      "        280       0.00      0.00      0.00        10\n",
      "        281       0.33      0.22      0.27         9\n",
      "        282       0.00      0.00      0.00        11\n",
      "        283       0.00      0.00      0.00         6\n",
      "        284       0.11      0.09      0.10        11\n",
      "        285       0.10      0.06      0.08        16\n",
      "        286       0.00      0.00      0.00        15\n",
      "        287       0.00      0.00      0.00         7\n",
      "        288       0.00      0.00      0.00         6\n",
      "        289       0.00      0.00      0.00         7\n",
      "        290       0.00      0.00      0.00         8\n",
      "        291       0.00      0.00      0.00        10\n",
      "        292       0.00      0.00      0.00        14\n",
      "        293       0.00      0.00      0.00         5\n",
      "        294       0.00      0.00      0.00         5\n",
      "        295       0.00      0.00      0.00         5\n",
      "        296       0.00      0.00      0.00         8\n",
      "        297       0.00      0.00      0.00         6\n",
      "        298       0.00      0.00      0.00         2\n",
      "        299       0.00      0.00      0.00         2\n",
      "        300       0.00      0.00      0.00        12\n",
      "        301       0.12      0.10      0.11        10\n",
      "        302       0.00      0.00      0.00         7\n",
      "        303       0.00      0.00      0.00         5\n",
      "        304       0.00      0.00      0.00         6\n",
      "        305       0.00      0.00      0.00         0\n",
      "        306       0.00      0.00      0.00         4\n",
      "        307       0.00      0.00      0.00         6\n",
      "        308       0.00      0.00      0.00         3\n",
      "        309       0.00      0.00      0.00         3\n",
      "        310       0.00      0.00      0.00         4\n",
      "        311       0.14      0.25      0.18         4\n",
      "        312       0.00      0.00      0.00         1\n",
      "        313       0.00      0.00      0.00         1\n",
      "        314       0.10      0.25      0.14         4\n",
      "        315       0.00      0.00      0.00         1\n",
      "        316       0.33      0.33      0.33         3\n",
      "        317       0.00      0.00      0.00         2\n",
      "        318       0.00      0.00      0.00         4\n",
      "        319       0.00      0.00      0.00         3\n",
      "        320       0.00      0.00      0.00         3\n",
      "        321       0.00      0.00      0.00         4\n",
      "        322       0.00      0.00      0.00         3\n",
      "        323       0.00      0.00      0.00         2\n",
      "        324       0.00      0.00      0.00         1\n",
      "        325       0.00      0.00      0.00         1\n",
      "        326       0.00      0.00      0.00         1\n",
      "        327       0.00      0.00      0.00         1\n",
      "        328       0.00      0.00      0.00         1\n",
      "        329       0.00      0.00      0.00         3\n",
      "        330       0.00      0.00      0.00         1\n",
      "        331       0.50      1.00      0.67         1\n",
      "        332       0.00      0.00      0.00         1\n",
      "        333       0.00      0.00      0.00         0\n",
      "        334       0.00      0.00      0.00         1\n",
      "        335       0.00      0.00      0.00         0\n",
      "        336       0.00      0.00      0.00         1\n",
      "        338       0.00      0.00      0.00         0\n",
      "        340       0.00      0.00      0.00         0\n",
      "        341       0.00      0.00      0.00         1\n",
      "        343       0.00      0.00      0.00         1\n",
      "        344       0.00      0.00      0.00         0\n",
      "        352       0.00      0.00      0.00         0\n",
      "        353       0.00      0.00      0.00         0\n",
      "        354       0.00      0.00      0.00         1\n",
      "        356       0.00      0.00      0.00         0\n",
      "        361       0.00      0.00      0.00         1\n",
      "        367       0.00      0.00      0.00         0\n",
      "        373       0.00      0.00      0.00         1\n",
      "        384       0.00      0.00      0.00         0\n",
      "        387       0.00      0.00      0.00         1\n",
      "        401       0.00      0.00      0.00         1\n",
      "\n",
      "avg / total       0.07      0.07      0.07     18975\n",
      "\n",
      "--------------------------------------------------------\n"
     ]
    },
    {
     "name": "stderr",
     "output_type": "stream",
     "text": [
      "C:\\Users\\Esther\\Anaconda2\\lib\\site-packages\\sklearn\\metrics\\classification.py:1135: UndefinedMetricWarning: Precision and F-score are ill-defined and being set to 0.0 in labels with no predicted samples.\n",
      "  'precision', 'predicted', average, warn_for)\n",
      "C:\\Users\\Esther\\Anaconda2\\lib\\site-packages\\sklearn\\metrics\\classification.py:1137: UndefinedMetricWarning: Recall and F-score are ill-defined and being set to 0.0 in labels with no true samples.\n",
      "  'recall', 'true', average, warn_for)\n"
     ]
    }
   ],
   "source": [
    "#Model evaluation\n",
    "# http://scikit-learn.org/stable/modules/model_evaluation.html\n",
    "print metrics.accuracy_score(y_test, dt.predict(X_test))\n",
    "print \"--------------------------------------------------------\"\n",
    "print metrics.confusion_matrix(y_test, dt.predict(X_test)) \n",
    "print \"--------------------------------------------------------\"\n",
    "print metrics.classification_report(y_test, dt.predict(X_test))\n",
    "print \"--------------------------------------------------------\"\n",
    "#print metrics.roc_auc_score(y_test, dt.predict(X_test))\n",
    "\n",
    "# y-test is the acual y value in the testing dataset\n",
    "# dt.predict(X_test) is the predicted y value generated by your model\n",
    "# If they are same, we can say your model is accurate."
   ]
  },
  {
   "cell_type": "markdown",
   "metadata": {},
   "source": [
    "# Lots of Feeder Cattle"
   ]
  },
  {
   "cell_type": "markdown",
   "metadata": {},
   "source": [
    "Lots of feeder cattle are included in the dataset as well, however, feeder cattle lots are not as frequent and do not appear every year (present 1996 - 2018).  \n",
    "\n",
    "#### Variables:\n",
    "- SYEAR: Sale Year 1995 - 2018\n",
    "- LOTID: Count of number of lots of beef calves\n",
    "- SMONTH: Sale Month 1=January, 12=December\n",
    "- SUMMER: Sold in a summer sale, all 1=Yes (Will remove, all are summer)\n",
    "- HEAD: Number of calves in a lot\n",
    "- SEX: Gender of lot, 1=Steer, 2=Heifer\n",
    "- ATYPE: Animal Type, 2 = Feeder (Will removed column, all are feeders)\n",
    "- WT: Average weight of the lot (total lot weight/# of head in lot)\n",
    "- PRICE: Sale Price of lot ($/cwt)\n",
    "- STATE: STate of origin of lot\n",
    "- STATECODE: Code of state, alphabetical order starting with 1\n",
    "- SAREA: Sale area, the states are divided into five areas or regions, 1=West Coast, 2=Rocky Mountain/North Central, 3=South Central, 4=Northeast, 5=Southeast\n",
    "- BREED: General breed of the lot, 1=English, English crossed, 3=English-Contenintal crossed, 4=Brahman-influenced\n",
    "- FRAME: Frame score of calves in lot, 3=Small, 4=Medium, 5=Large\n",
    "- FLESH: Amount of flesh (body condition) of calves in lot, 2=Light, 3=Light/Medium, 4=Medium, 5=Heavy\n",
    "- VAC: Vaccinations of lot, 0=vaccinated but not qualified for program, 1=vaccinated and qualify for program"
   ]
  },
  {
   "cell_type": "code",
   "execution_count": 925,
   "metadata": {},
   "outputs": [
    {
     "data": {
      "text/html": [
       "<img src=\"http://www.amscattle.com/wp-content/uploads/2013/02/DSCN7633.jpg\"/>"
      ],
      "text/plain": [
       "<IPython.core.display.Image object>"
      ]
     },
     "execution_count": 925,
     "metadata": {},
     "output_type": "execute_result"
    }
   ],
   "source": [
    "from IPython.display import Image\n",
    "from IPython.core.display import HTML \n",
    "Image(url= \"http://www.amscattle.com/wp-content/uploads/2013/02/DSCN7633.jpg\")"
   ]
  },
  {
   "cell_type": "code",
   "execution_count": 926,
   "metadata": {},
   "outputs": [
    {
     "data": {
      "text/html": [
       "<div>\n",
       "<style scoped>\n",
       "    .dataframe tbody tr th:only-of-type {\n",
       "        vertical-align: middle;\n",
       "    }\n",
       "\n",
       "    .dataframe tbody tr th {\n",
       "        vertical-align: top;\n",
       "    }\n",
       "\n",
       "    .dataframe thead th {\n",
       "        text-align: right;\n",
       "    }\n",
       "</style>\n",
       "<table border=\"1\" class=\"dataframe\">\n",
       "  <thead>\n",
       "    <tr style=\"text-align: right;\">\n",
       "      <th></th>\n",
       "      <th>SYEAR</th>\n",
       "      <th>LOTID</th>\n",
       "      <th>SUMMER</th>\n",
       "      <th>SMONTH</th>\n",
       "      <th>HEAD</th>\n",
       "      <th>SEX</th>\n",
       "      <th>ATYPE</th>\n",
       "      <th>WT</th>\n",
       "      <th>PRICE</th>\n",
       "      <th>STATE</th>\n",
       "      <th>STATECODE</th>\n",
       "      <th>SAREA</th>\n",
       "      <th>BREED</th>\n",
       "      <th>FRAME</th>\n",
       "      <th>FLESH</th>\n",
       "      <th>VAC</th>\n",
       "    </tr>\n",
       "  </thead>\n",
       "  <tbody>\n",
       "    <tr>\n",
       "      <th>0</th>\n",
       "      <td>2010</td>\n",
       "      <td>111922</td>\n",
       "      <td>1</td>\n",
       "      <td>6</td>\n",
       "      <td>39</td>\n",
       "      <td>1</td>\n",
       "      <td>2</td>\n",
       "      <td>640</td>\n",
       "      <td>105.25</td>\n",
       "      <td>TX</td>\n",
       "      <td>26</td>\n",
       "      <td>3</td>\n",
       "      <td>4</td>\n",
       "      <td>4</td>\n",
       "      <td>4</td>\n",
       "      <td>0</td>\n",
       "    </tr>\n",
       "    <tr>\n",
       "      <th>1</th>\n",
       "      <td>2010</td>\n",
       "      <td>111923</td>\n",
       "      <td>1</td>\n",
       "      <td>6</td>\n",
       "      <td>39</td>\n",
       "      <td>2</td>\n",
       "      <td>2</td>\n",
       "      <td>640</td>\n",
       "      <td>98.25</td>\n",
       "      <td>TX</td>\n",
       "      <td>26</td>\n",
       "      <td>3</td>\n",
       "      <td>4</td>\n",
       "      <td>4</td>\n",
       "      <td>4</td>\n",
       "      <td>0</td>\n",
       "    </tr>\n",
       "    <tr>\n",
       "      <th>2</th>\n",
       "      <td>2010</td>\n",
       "      <td>111924</td>\n",
       "      <td>1</td>\n",
       "      <td>6</td>\n",
       "      <td>35</td>\n",
       "      <td>1</td>\n",
       "      <td>2</td>\n",
       "      <td>700</td>\n",
       "      <td>105.50</td>\n",
       "      <td>LA</td>\n",
       "      <td>45</td>\n",
       "      <td>5</td>\n",
       "      <td>4</td>\n",
       "      <td>3</td>\n",
       "      <td>2</td>\n",
       "      <td>0</td>\n",
       "    </tr>\n",
       "    <tr>\n",
       "      <th>3</th>\n",
       "      <td>2010</td>\n",
       "      <td>111925</td>\n",
       "      <td>1</td>\n",
       "      <td>6</td>\n",
       "      <td>35</td>\n",
       "      <td>2</td>\n",
       "      <td>2</td>\n",
       "      <td>700</td>\n",
       "      <td>99.50</td>\n",
       "      <td>LA</td>\n",
       "      <td>45</td>\n",
       "      <td>5</td>\n",
       "      <td>4</td>\n",
       "      <td>3</td>\n",
       "      <td>2</td>\n",
       "      <td>0</td>\n",
       "    </tr>\n",
       "    <tr>\n",
       "      <th>4</th>\n",
       "      <td>2010</td>\n",
       "      <td>111926</td>\n",
       "      <td>1</td>\n",
       "      <td>6</td>\n",
       "      <td>32</td>\n",
       "      <td>1</td>\n",
       "      <td>2</td>\n",
       "      <td>735</td>\n",
       "      <td>105.25</td>\n",
       "      <td>TX</td>\n",
       "      <td>26</td>\n",
       "      <td>3</td>\n",
       "      <td>4</td>\n",
       "      <td>4</td>\n",
       "      <td>4</td>\n",
       "      <td>1</td>\n",
       "    </tr>\n",
       "  </tbody>\n",
       "</table>\n",
       "</div>"
      ],
      "text/plain": [
       "   SYEAR   LOTID  SUMMER  SMONTH  HEAD  SEX  ATYPE   WT   PRICE STATE  \\\n",
       "0   2010  111922       1       6    39    1      2  640  105.25    TX   \n",
       "1   2010  111923       1       6    39    2      2  640   98.25    TX   \n",
       "2   2010  111924       1       6    35    1      2  700  105.50    LA   \n",
       "3   2010  111925       1       6    35    2      2  700   99.50    LA   \n",
       "4   2010  111926       1       6    32    1      2  735  105.25    TX   \n",
       "\n",
       "   STATECODE  SAREA  BREED  FRAME  FLESH  VAC  \n",
       "0         26      3      4      4      4    0  \n",
       "1         26      3      4      4      4    0  \n",
       "2         45      5      4      3      2    0  \n",
       "3         45      5      4      3      2    0  \n",
       "4         26      3      4      4      4    1  "
      ]
     },
     "execution_count": 926,
     "metadata": {},
     "output_type": "execute_result"
    }
   ],
   "source": [
    "# import dataset\n",
    "FEEDER=pd.read_csv(\"DATA/FEEDER.csv\")\n",
    "FEEDER.head()"
   ]
  },
  {
   "cell_type": "markdown",
   "metadata": {},
   "source": [
    "## Data Transformation"
   ]
  },
  {
   "cell_type": "code",
   "execution_count": 927,
   "metadata": {},
   "outputs": [
    {
     "name": "stdout",
     "output_type": "stream",
     "text": [
      "<class 'pandas.core.frame.DataFrame'>\n",
      "RangeIndex: 23862 entries, 0 to 23861\n",
      "Data columns (total 16 columns):\n",
      "SYEAR        23862 non-null int64\n",
      "LOTID        23862 non-null int64\n",
      "SUMMER       23862 non-null int64\n",
      "SMONTH       23862 non-null int64\n",
      "HEAD         23862 non-null int64\n",
      "SEX          23862 non-null int64\n",
      "ATYPE        23862 non-null int64\n",
      "WT           23862 non-null int64\n",
      "PRICE        23862 non-null float64\n",
      "STATE        23862 non-null object\n",
      "STATECODE    23862 non-null int64\n",
      "SAREA        23862 non-null int64\n",
      "BREED        23862 non-null int64\n",
      "FRAME        23862 non-null int64\n",
      "FLESH        23862 non-null int64\n",
      "VAC          23862 non-null int64\n",
      "dtypes: float64(1), int64(14), object(1)\n",
      "memory usage: 2.9+ MB\n"
     ]
    }
   ],
   "source": [
    "#data types & missing values\n",
    "FEEDER.info()"
   ]
  },
  {
   "cell_type": "markdown",
   "metadata": {},
   "source": [
    "#### There are no missing values."
   ]
  },
  {
   "cell_type": "code",
   "execution_count": 928,
   "metadata": {},
   "outputs": [
    {
     "data": {
      "text/html": [
       "<div>\n",
       "<style scoped>\n",
       "    .dataframe tbody tr th:only-of-type {\n",
       "        vertical-align: middle;\n",
       "    }\n",
       "\n",
       "    .dataframe tbody tr th {\n",
       "        vertical-align: top;\n",
       "    }\n",
       "\n",
       "    .dataframe thead th {\n",
       "        text-align: right;\n",
       "    }\n",
       "</style>\n",
       "<table border=\"1\" class=\"dataframe\">\n",
       "  <thead>\n",
       "    <tr style=\"text-align: right;\">\n",
       "      <th></th>\n",
       "      <th>SYEAR</th>\n",
       "      <th>LOTID</th>\n",
       "      <th>SMONTH</th>\n",
       "      <th>HEAD</th>\n",
       "      <th>SEX</th>\n",
       "      <th>WT</th>\n",
       "      <th>PRICE</th>\n",
       "      <th>STATE</th>\n",
       "      <th>STATECODE</th>\n",
       "      <th>SAREA</th>\n",
       "      <th>BREED</th>\n",
       "      <th>FRAME</th>\n",
       "      <th>FLESH</th>\n",
       "      <th>VAC</th>\n",
       "    </tr>\n",
       "  </thead>\n",
       "  <tbody>\n",
       "    <tr>\n",
       "      <th>0</th>\n",
       "      <td>2010</td>\n",
       "      <td>111922</td>\n",
       "      <td>6</td>\n",
       "      <td>39</td>\n",
       "      <td>1</td>\n",
       "      <td>640</td>\n",
       "      <td>105.25</td>\n",
       "      <td>TX</td>\n",
       "      <td>26</td>\n",
       "      <td>3</td>\n",
       "      <td>4</td>\n",
       "      <td>4</td>\n",
       "      <td>4</td>\n",
       "      <td>0</td>\n",
       "    </tr>\n",
       "    <tr>\n",
       "      <th>1</th>\n",
       "      <td>2010</td>\n",
       "      <td>111923</td>\n",
       "      <td>6</td>\n",
       "      <td>39</td>\n",
       "      <td>2</td>\n",
       "      <td>640</td>\n",
       "      <td>98.25</td>\n",
       "      <td>TX</td>\n",
       "      <td>26</td>\n",
       "      <td>3</td>\n",
       "      <td>4</td>\n",
       "      <td>4</td>\n",
       "      <td>4</td>\n",
       "      <td>0</td>\n",
       "    </tr>\n",
       "    <tr>\n",
       "      <th>2</th>\n",
       "      <td>2010</td>\n",
       "      <td>111924</td>\n",
       "      <td>6</td>\n",
       "      <td>35</td>\n",
       "      <td>1</td>\n",
       "      <td>700</td>\n",
       "      <td>105.50</td>\n",
       "      <td>LA</td>\n",
       "      <td>45</td>\n",
       "      <td>5</td>\n",
       "      <td>4</td>\n",
       "      <td>3</td>\n",
       "      <td>2</td>\n",
       "      <td>0</td>\n",
       "    </tr>\n",
       "    <tr>\n",
       "      <th>3</th>\n",
       "      <td>2010</td>\n",
       "      <td>111925</td>\n",
       "      <td>6</td>\n",
       "      <td>35</td>\n",
       "      <td>2</td>\n",
       "      <td>700</td>\n",
       "      <td>99.50</td>\n",
       "      <td>LA</td>\n",
       "      <td>45</td>\n",
       "      <td>5</td>\n",
       "      <td>4</td>\n",
       "      <td>3</td>\n",
       "      <td>2</td>\n",
       "      <td>0</td>\n",
       "    </tr>\n",
       "    <tr>\n",
       "      <th>4</th>\n",
       "      <td>2010</td>\n",
       "      <td>111926</td>\n",
       "      <td>6</td>\n",
       "      <td>32</td>\n",
       "      <td>1</td>\n",
       "      <td>735</td>\n",
       "      <td>105.25</td>\n",
       "      <td>TX</td>\n",
       "      <td>26</td>\n",
       "      <td>3</td>\n",
       "      <td>4</td>\n",
       "      <td>4</td>\n",
       "      <td>4</td>\n",
       "      <td>1</td>\n",
       "    </tr>\n",
       "  </tbody>\n",
       "</table>\n",
       "</div>"
      ],
      "text/plain": [
       "   SYEAR   LOTID  SMONTH  HEAD  SEX   WT   PRICE STATE  STATECODE  SAREA  \\\n",
       "0   2010  111922       6    39    1  640  105.25    TX         26      3   \n",
       "1   2010  111923       6    39    2  640   98.25    TX         26      3   \n",
       "2   2010  111924       6    35    1  700  105.50    LA         45      5   \n",
       "3   2010  111925       6    35    2  700   99.50    LA         45      5   \n",
       "4   2010  111926       6    32    1  735  105.25    TX         26      3   \n",
       "\n",
       "   BREED  FRAME  FLESH  VAC  \n",
       "0      4      4      4    0  \n",
       "1      4      4      4    0  \n",
       "2      4      3      2    0  \n",
       "3      4      3      2    0  \n",
       "4      4      4      4    1  "
      ]
     },
     "execution_count": 928,
     "metadata": {},
     "output_type": "execute_result"
    }
   ],
   "source": [
    "# remove unnecessary columnS\n",
    "FEEDER = FEEDER.drop(['SUMMER','ATYPE'], axis=1)\n",
    "FEEDER.head()"
   ]
  },
  {
   "cell_type": "code",
   "execution_count": 929,
   "metadata": {},
   "outputs": [
    {
     "data": {
      "text/plain": [
       "STATE\n",
       "AL     176\n",
       "AR    1401\n",
       "AZ     231\n",
       "CA     219\n",
       "CO    1657\n",
       "FL      76\n",
       "GA     245\n",
       "IA     433\n",
       "ID     671\n",
       "IL      91\n",
       "IN       6\n",
       "KS    4203\n",
       "KY      61\n",
       "LA     294\n",
       "ME       1\n",
       "MI      74\n",
       "MN      37\n",
       "MO     745\n",
       "MS     120\n",
       "MT     740\n",
       "NC     180\n",
       "ND     136\n",
       "NE    1025\n",
       "NM     509\n",
       "NV     882\n",
       "NY       6\n",
       "OH       7\n",
       "OK    2232\n",
       "OR    1053\n",
       "PA       1\n",
       "SC      23\n",
       "SD     251\n",
       "TN      59\n",
       "TX    4389\n",
       "UT     520\n",
       "VA      26\n",
       "WA      83\n",
       "WI      89\n",
       "WV      22\n",
       "WY     871\n",
       "ar       2\n",
       "ok       5\n",
       "tx      10\n",
       "dtype: int64"
      ]
     },
     "execution_count": 929,
     "metadata": {},
     "output_type": "execute_result"
    }
   ],
   "source": [
    "# value count but using describe \n",
    "FEEDER.groupby('STATE').size()"
   ]
  },
  {
   "cell_type": "code",
   "execution_count": 930,
   "metadata": {},
   "outputs": [],
   "source": [
    "FEEDER = FEEDER.replace({'STATE': 'ar'}, {'STATE': 'AR'})"
   ]
  },
  {
   "cell_type": "code",
   "execution_count": 931,
   "metadata": {},
   "outputs": [],
   "source": [
    "FEEDER = FEEDER.replace({'STATE': 'ok'}, {'STATE': 'OK'})"
   ]
  },
  {
   "cell_type": "code",
   "execution_count": 932,
   "metadata": {},
   "outputs": [],
   "source": [
    "FEEDER = FEEDER.replace({'STATE': 'tx'}, {'STATE': 'TX'})"
   ]
  },
  {
   "cell_type": "markdown",
   "metadata": {},
   "source": [
    "### Combining Groups"
   ]
  },
  {
   "cell_type": "markdown",
   "metadata": {},
   "source": [
    "#### VAC"
   ]
  },
  {
   "cell_type": "code",
   "execution_count": 933,
   "metadata": {},
   "outputs": [
    {
     "data": {
      "text/plain": [
       "VAC\n",
       "0    19841\n",
       "1     4021\n",
       "dtype: int64"
      ]
     },
     "execution_count": 933,
     "metadata": {},
     "output_type": "execute_result"
    }
   ],
   "source": [
    "# value count but using describe \n",
    "FEEDER.groupby('VAC').size()"
   ]
  },
  {
   "cell_type": "markdown",
   "metadata": {},
   "source": [
    "#### There were 19,841 lots not qualifed for a vaccination program and 4,021 lots qualifed for a vaccination program."
   ]
  },
  {
   "cell_type": "markdown",
   "metadata": {},
   "source": [
    "#### FRAME"
   ]
  },
  {
   "cell_type": "code",
   "execution_count": 934,
   "metadata": {},
   "outputs": [
    {
     "data": {
      "text/plain": [
       "FRAME\n",
       "1       13\n",
       "2      149\n",
       "3     7890\n",
       "4    11727\n",
       "5     3549\n",
       "6      479\n",
       "7       55\n",
       "dtype: int64"
      ]
     },
     "execution_count": 934,
     "metadata": {},
     "output_type": "execute_result"
    }
   ],
   "source": [
    "# value count but using describe \n",
    "FEEDER.groupby('FRAME').size()"
   ]
  },
  {
   "cell_type": "code",
   "execution_count": 935,
   "metadata": {},
   "outputs": [],
   "source": [
    "FEEDER = FEEDER.replace({'FRAME': 1}, {'FRAME': 3})"
   ]
  },
  {
   "cell_type": "code",
   "execution_count": 936,
   "metadata": {},
   "outputs": [],
   "source": [
    "FEEDER = FEEDER.replace({'FRAME': 2}, {'FRAME': 3})"
   ]
  },
  {
   "cell_type": "code",
   "execution_count": 937,
   "metadata": {},
   "outputs": [],
   "source": [
    "FEEDER = FEEDER.replace({'FRAME': 7}, {'FRAME': 5})"
   ]
  },
  {
   "cell_type": "code",
   "execution_count": 938,
   "metadata": {},
   "outputs": [],
   "source": [
    "FEEDER = FEEDER.replace({'FRAME': 6}, {'FRAME': 5})"
   ]
  },
  {
   "cell_type": "code",
   "execution_count": 939,
   "metadata": {},
   "outputs": [
    {
     "data": {
      "text/plain": [
       "FRAME\n",
       "3     8052\n",
       "4    11727\n",
       "5     4083\n",
       "dtype: int64"
      ]
     },
     "execution_count": 939,
     "metadata": {},
     "output_type": "execute_result"
    }
   ],
   "source": [
    "# value count but using describe \n",
    "FEEDER.groupby('FRAME').size()"
   ]
  },
  {
   "cell_type": "markdown",
   "metadata": {},
   "source": [
    "#### Frame scores 1 and two were small and combined with group 3. Frame scores 6 and 7 were small and combined with 5. This leaves group 3=small, 4=medium, and 5=large."
   ]
  },
  {
   "cell_type": "markdown",
   "metadata": {},
   "source": [
    "#### FLESH"
   ]
  },
  {
   "cell_type": "code",
   "execution_count": 940,
   "metadata": {},
   "outputs": [
    {
     "data": {
      "text/plain": [
       "FLESH\n",
       "1       26\n",
       "2     1029\n",
       "3     1668\n",
       "4    19979\n",
       "5      796\n",
       "6      362\n",
       "7        2\n",
       "dtype: int64"
      ]
     },
     "execution_count": 940,
     "metadata": {},
     "output_type": "execute_result"
    }
   ],
   "source": [
    "# value count but using describe \n",
    "FEEDER.groupby('FLESH').size()"
   ]
  },
  {
   "cell_type": "code",
   "execution_count": 941,
   "metadata": {},
   "outputs": [],
   "source": [
    "FEEDER = FEEDER.replace({'FLESH': 1}, {'FLESH': 2})"
   ]
  },
  {
   "cell_type": "code",
   "execution_count": 942,
   "metadata": {},
   "outputs": [],
   "source": [
    "FEEDER = FEEDER.replace({'FLESH': 7}, {'FLESH': 5})"
   ]
  },
  {
   "cell_type": "code",
   "execution_count": 943,
   "metadata": {},
   "outputs": [],
   "source": [
    "FEEDER = FEEDER.replace({'FLESH': 6}, {'FLESH': 5})"
   ]
  },
  {
   "cell_type": "code",
   "execution_count": 944,
   "metadata": {},
   "outputs": [
    {
     "data": {
      "text/plain": [
       "FLESH\n",
       "2     1055\n",
       "3     1668\n",
       "4    19979\n",
       "5     1160\n",
       "dtype: int64"
      ]
     },
     "execution_count": 944,
     "metadata": {},
     "output_type": "execute_result"
    }
   ],
   "source": [
    "# value count but using describe \n",
    "FEEDER.groupby('FLESH').size()"
   ]
  },
  {
   "cell_type": "markdown",
   "metadata": {},
   "source": [
    "#### Flesh score 1 was small and combined with group 2. Flesh scores 6 and 7 were small and combined with 5. This leaves the final groups of 2=light, 3=light/medium, 4=medium, and 5=heavy."
   ]
  },
  {
   "cell_type": "markdown",
   "metadata": {},
   "source": [
    "#### BREED"
   ]
  },
  {
   "cell_type": "code",
   "execution_count": 945,
   "metadata": {},
   "outputs": [
    {
     "data": {
      "text/plain": [
       "BREED\n",
       "1    5263\n",
       "3    9095\n",
       "4    9504\n",
       "dtype: int64"
      ]
     },
     "execution_count": 945,
     "metadata": {},
     "output_type": "execute_result"
    }
   ],
   "source": [
    "# value count but using describe \n",
    "FEEDER.groupby('BREED').size()"
   ]
  },
  {
   "cell_type": "markdown",
   "metadata": {},
   "source": [
    "#### The breed composition of lots of feeder cattle were 5,263 lots of English, English crossed, 9,095 lots of English-Continental crossed, and 9,504 lots of Brahman-influenced."
   ]
  },
  {
   "cell_type": "markdown",
   "metadata": {},
   "source": [
    "#### SAREA"
   ]
  },
  {
   "cell_type": "code",
   "execution_count": 946,
   "metadata": {},
   "outputs": [
    {
     "data": {
      "text/plain": [
       "SAREA\n",
       "1     3428\n",
       "2     5410\n",
       "3    12324\n",
       "4       37\n",
       "5     2663\n",
       "dtype: int64"
      ]
     },
     "execution_count": 946,
     "metadata": {},
     "output_type": "execute_result"
    }
   ],
   "source": [
    "FEEDER.groupby('SAREA').size()"
   ]
  },
  {
   "cell_type": "code",
   "execution_count": 947,
   "metadata": {},
   "outputs": [],
   "source": [
    "FEEDER = FEEDER.replace({'SAREA': 4}, {'SAREA': 5})"
   ]
  },
  {
   "cell_type": "code",
   "execution_count": 948,
   "metadata": {},
   "outputs": [
    {
     "data": {
      "text/plain": [
       "SAREA\n",
       "1     3428\n",
       "2     5410\n",
       "3    12324\n",
       "5     2700\n",
       "dtype: int64"
      ]
     },
     "execution_count": 948,
     "metadata": {},
     "output_type": "execute_result"
    }
   ],
   "source": [
    "# value count but using describe \n",
    "FEEDER.groupby('SAREA').size()"
   ]
  },
  {
   "cell_type": "markdown",
   "metadata": {},
   "source": [
    "#### SAREA 4 was small and combined with SAREA 5."
   ]
  },
  {
   "cell_type": "markdown",
   "metadata": {},
   "source": [
    "## Exploratory Data Analysis"
   ]
  },
  {
   "cell_type": "code",
   "execution_count": 949,
   "metadata": {},
   "outputs": [
    {
     "data": {
      "text/html": [
       "<div>\n",
       "<style scoped>\n",
       "    .dataframe tbody tr th:only-of-type {\n",
       "        vertical-align: middle;\n",
       "    }\n",
       "\n",
       "    .dataframe tbody tr th {\n",
       "        vertical-align: top;\n",
       "    }\n",
       "\n",
       "    .dataframe thead th {\n",
       "        text-align: right;\n",
       "    }\n",
       "</style>\n",
       "<table border=\"1\" class=\"dataframe\">\n",
       "  <thead>\n",
       "    <tr style=\"text-align: right;\">\n",
       "      <th></th>\n",
       "      <th>SYEAR</th>\n",
       "      <th>LOTID</th>\n",
       "      <th>SMONTH</th>\n",
       "      <th>HEAD</th>\n",
       "      <th>SEX</th>\n",
       "      <th>WT</th>\n",
       "      <th>PRICE</th>\n",
       "      <th>STATECODE</th>\n",
       "      <th>SAREA</th>\n",
       "      <th>BREED</th>\n",
       "      <th>FRAME</th>\n",
       "      <th>FLESH</th>\n",
       "      <th>VAC</th>\n",
       "    </tr>\n",
       "  </thead>\n",
       "  <tbody>\n",
       "    <tr>\n",
       "      <th>count</th>\n",
       "      <td>23862.000000</td>\n",
       "      <td>23862.000000</td>\n",
       "      <td>23862.000000</td>\n",
       "      <td>23862.000000</td>\n",
       "      <td>23862.000000</td>\n",
       "      <td>23862.000000</td>\n",
       "      <td>23862.000000</td>\n",
       "      <td>23862.000000</td>\n",
       "      <td>23862.000000</td>\n",
       "      <td>23862.000000</td>\n",
       "      <td>23862.000000</td>\n",
       "      <td>23862.000000</td>\n",
       "      <td>23862.000000</td>\n",
       "    </tr>\n",
       "    <tr>\n",
       "      <th>mean</th>\n",
       "      <td>2006.862794</td>\n",
       "      <td>102383.966181</td>\n",
       "      <td>7.381779</td>\n",
       "      <td>125.887646</td>\n",
       "      <td>1.387436</td>\n",
       "      <td>783.060096</td>\n",
       "      <td>114.905306</td>\n",
       "      <td>20.295658</td>\n",
       "      <td>2.712262</td>\n",
       "      <td>2.957170</td>\n",
       "      <td>3.833669</td>\n",
       "      <td>3.890286</td>\n",
       "      <td>0.168511</td>\n",
       "    </tr>\n",
       "    <tr>\n",
       "      <th>std</th>\n",
       "      <td>6.809251</td>\n",
       "      <td>68804.910226</td>\n",
       "      <td>1.265613</td>\n",
       "      <td>115.485876</td>\n",
       "      <td>0.487175</td>\n",
       "      <td>84.878691</td>\n",
       "      <td>40.284065</td>\n",
       "      <td>11.163846</td>\n",
       "      <td>1.082227</td>\n",
       "      <td>1.130818</td>\n",
       "      <td>0.693472</td>\n",
       "      <td>0.532297</td>\n",
       "      <td>0.374327</td>\n",
       "    </tr>\n",
       "    <tr>\n",
       "      <th>min</th>\n",
       "      <td>1996.000000</td>\n",
       "      <td>2935.000000</td>\n",
       "      <td>4.000000</td>\n",
       "      <td>4.000000</td>\n",
       "      <td>1.000000</td>\n",
       "      <td>420.000000</td>\n",
       "      <td>45.000000</td>\n",
       "      <td>0.000000</td>\n",
       "      <td>1.000000</td>\n",
       "      <td>1.000000</td>\n",
       "      <td>3.000000</td>\n",
       "      <td>2.000000</td>\n",
       "      <td>0.000000</td>\n",
       "    </tr>\n",
       "    <tr>\n",
       "      <th>25%</th>\n",
       "      <td>2001.000000</td>\n",
       "      <td>41040.500000</td>\n",
       "      <td>7.000000</td>\n",
       "      <td>63.000000</td>\n",
       "      <td>1.000000</td>\n",
       "      <td>725.000000</td>\n",
       "      <td>82.500000</td>\n",
       "      <td>10.000000</td>\n",
       "      <td>2.000000</td>\n",
       "      <td>3.000000</td>\n",
       "      <td>3.000000</td>\n",
       "      <td>4.000000</td>\n",
       "      <td>0.000000</td>\n",
       "    </tr>\n",
       "    <tr>\n",
       "      <th>50%</th>\n",
       "      <td>2005.000000</td>\n",
       "      <td>85380.500000</td>\n",
       "      <td>7.000000</td>\n",
       "      <td>74.000000</td>\n",
       "      <td>1.000000</td>\n",
       "      <td>780.000000</td>\n",
       "      <td>108.000000</td>\n",
       "      <td>22.000000</td>\n",
       "      <td>3.000000</td>\n",
       "      <td>3.000000</td>\n",
       "      <td>4.000000</td>\n",
       "      <td>4.000000</td>\n",
       "      <td>0.000000</td>\n",
       "    </tr>\n",
       "    <tr>\n",
       "      <th>75%</th>\n",
       "      <td>2013.000000</td>\n",
       "      <td>159297.750000</td>\n",
       "      <td>8.000000</td>\n",
       "      <td>140.000000</td>\n",
       "      <td>2.000000</td>\n",
       "      <td>840.000000</td>\n",
       "      <td>137.825000</td>\n",
       "      <td>26.000000</td>\n",
       "      <td>3.000000</td>\n",
       "      <td>4.000000</td>\n",
       "      <td>4.000000</td>\n",
       "      <td>4.000000</td>\n",
       "      <td>0.000000</td>\n",
       "    </tr>\n",
       "    <tr>\n",
       "      <th>max</th>\n",
       "      <td>2018.000000</td>\n",
       "      <td>238997.000000</td>\n",
       "      <td>11.000000</td>\n",
       "      <td>1800.000000</td>\n",
       "      <td>2.000000</td>\n",
       "      <td>1125.000000</td>\n",
       "      <td>267.000000</td>\n",
       "      <td>50.000000</td>\n",
       "      <td>5.000000</td>\n",
       "      <td>4.000000</td>\n",
       "      <td>5.000000</td>\n",
       "      <td>5.000000</td>\n",
       "      <td>1.000000</td>\n",
       "    </tr>\n",
       "  </tbody>\n",
       "</table>\n",
       "</div>"
      ],
      "text/plain": [
       "              SYEAR          LOTID        SMONTH          HEAD           SEX  \\\n",
       "count  23862.000000   23862.000000  23862.000000  23862.000000  23862.000000   \n",
       "mean    2006.862794  102383.966181      7.381779    125.887646      1.387436   \n",
       "std        6.809251   68804.910226      1.265613    115.485876      0.487175   \n",
       "min     1996.000000    2935.000000      4.000000      4.000000      1.000000   \n",
       "25%     2001.000000   41040.500000      7.000000     63.000000      1.000000   \n",
       "50%     2005.000000   85380.500000      7.000000     74.000000      1.000000   \n",
       "75%     2013.000000  159297.750000      8.000000    140.000000      2.000000   \n",
       "max     2018.000000  238997.000000     11.000000   1800.000000      2.000000   \n",
       "\n",
       "                 WT         PRICE     STATECODE         SAREA         BREED  \\\n",
       "count  23862.000000  23862.000000  23862.000000  23862.000000  23862.000000   \n",
       "mean     783.060096    114.905306     20.295658      2.712262      2.957170   \n",
       "std       84.878691     40.284065     11.163846      1.082227      1.130818   \n",
       "min      420.000000     45.000000      0.000000      1.000000      1.000000   \n",
       "25%      725.000000     82.500000     10.000000      2.000000      3.000000   \n",
       "50%      780.000000    108.000000     22.000000      3.000000      3.000000   \n",
       "75%      840.000000    137.825000     26.000000      3.000000      4.000000   \n",
       "max     1125.000000    267.000000     50.000000      5.000000      4.000000   \n",
       "\n",
       "              FRAME         FLESH           VAC  \n",
       "count  23862.000000  23862.000000  23862.000000  \n",
       "mean       3.833669      3.890286      0.168511  \n",
       "std        0.693472      0.532297      0.374327  \n",
       "min        3.000000      2.000000      0.000000  \n",
       "25%        3.000000      4.000000      0.000000  \n",
       "50%        4.000000      4.000000      0.000000  \n",
       "75%        4.000000      4.000000      0.000000  \n",
       "max        5.000000      5.000000      1.000000  "
      ]
     },
     "execution_count": 949,
     "metadata": {},
     "output_type": "execute_result"
    }
   ],
   "source": [
    "#Describe shows a quick statistic summary of your data\n",
    "#this is a good way to examine the numerical columns\n",
    "FEEDER.describe()"
   ]
  },
  {
   "cell_type": "code",
   "execution_count": 950,
   "metadata": {
    "scrolled": false
   },
   "outputs": [
    {
     "data": {
      "text/plain": [
       "array([[<matplotlib.axes._subplots.AxesSubplot object at 0x0000000054539CF8>,\n",
       "        <matplotlib.axes._subplots.AxesSubplot object at 0x000000005454EC18>,\n",
       "        <matplotlib.axes._subplots.AxesSubplot object at 0x000000009E36B048>,\n",
       "        <matplotlib.axes._subplots.AxesSubplot object at 0x00000000B8BDC438>],\n",
       "       [<matplotlib.axes._subplots.AxesSubplot object at 0x00000000B889D828>,\n",
       "        <matplotlib.axes._subplots.AxesSubplot object at 0x000000009D59DC18>,\n",
       "        <matplotlib.axes._subplots.AxesSubplot object at 0x00000000B822D048>,\n",
       "        <matplotlib.axes._subplots.AxesSubplot object at 0x000000007A996438>],\n",
       "       [<matplotlib.axes._subplots.AxesSubplot object at 0x000000007AA0D828>,\n",
       "        <matplotlib.axes._subplots.AxesSubplot object at 0x000000007AA43C18>,\n",
       "        <matplotlib.axes._subplots.AxesSubplot object at 0x000000009DF61048>,\n",
       "        <matplotlib.axes._subplots.AxesSubplot object at 0x00000000B8142438>],\n",
       "       [<matplotlib.axes._subplots.AxesSubplot object at 0x00000000B8179828>,\n",
       "        <matplotlib.axes._subplots.AxesSubplot object at 0x00000000B8072C18>,\n",
       "        <matplotlib.axes._subplots.AxesSubplot object at 0x00000000B89FC048>,\n",
       "        <matplotlib.axes._subplots.AxesSubplot object at 0x00000000B7EEA438>]],\n",
       "      dtype=object)"
      ]
     },
     "execution_count": 950,
     "metadata": {},
     "output_type": "execute_result"
    },
    {
     "data": {
      "image/png": "[encoded data removed]",
      "text/plain": [
       "<Figure size 864x864 with 16 Axes>"
      ]
     },
     "metadata": {},
     "output_type": "display_data"
    }
   ],
   "source": [
    "FEEDER.hist(figsize=(12,12))"
   ]
  },
  {
   "cell_type": "code",
   "execution_count": 951,
   "metadata": {},
   "outputs": [
    {
     "data": {
      "text/html": [
       "<div>\n",
       "<style scoped>\n",
       "    .dataframe tbody tr th:only-of-type {\n",
       "        vertical-align: middle;\n",
       "    }\n",
       "\n",
       "    .dataframe tbody tr th {\n",
       "        vertical-align: top;\n",
       "    }\n",
       "\n",
       "    .dataframe thead th {\n",
       "        text-align: right;\n",
       "    }\n",
       "</style>\n",
       "<table border=\"1\" class=\"dataframe\">\n",
       "  <thead>\n",
       "    <tr style=\"text-align: right;\">\n",
       "      <th></th>\n",
       "      <th>SYEAR</th>\n",
       "      <th>LOTID</th>\n",
       "      <th>SMONTH</th>\n",
       "      <th>HEAD</th>\n",
       "      <th>SEX</th>\n",
       "      <th>WT</th>\n",
       "      <th>PRICE</th>\n",
       "      <th>STATECODE</th>\n",
       "      <th>SAREA</th>\n",
       "      <th>BREED</th>\n",
       "      <th>FRAME</th>\n",
       "      <th>FLESH</th>\n",
       "      <th>VAC</th>\n",
       "    </tr>\n",
       "  </thead>\n",
       "  <tbody>\n",
       "    <tr>\n",
       "      <th>SYEAR</th>\n",
       "      <td>1.000000</td>\n",
       "      <td>0.990944</td>\n",
       "      <td>-0.103676</td>\n",
       "      <td>-0.041727</td>\n",
       "      <td>-0.057300</td>\n",
       "      <td>0.246894</td>\n",
       "      <td>0.835596</td>\n",
       "      <td>-0.168724</td>\n",
       "      <td>-0.039077</td>\n",
       "      <td>-0.225968</td>\n",
       "      <td>0.138352</td>\n",
       "      <td>-0.035072</td>\n",
       "      <td>0.365210</td>\n",
       "    </tr>\n",
       "    <tr>\n",
       "      <th>LOTID</th>\n",
       "      <td>0.990944</td>\n",
       "      <td>1.000000</td>\n",
       "      <td>-0.064766</td>\n",
       "      <td>-0.042079</td>\n",
       "      <td>-0.053624</td>\n",
       "      <td>0.241405</td>\n",
       "      <td>0.832601</td>\n",
       "      <td>-0.193013</td>\n",
       "      <td>-0.040503</td>\n",
       "      <td>-0.226524</td>\n",
       "      <td>0.145319</td>\n",
       "      <td>-0.032461</td>\n",
       "      <td>0.366607</td>\n",
       "    </tr>\n",
       "    <tr>\n",
       "      <th>SMONTH</th>\n",
       "      <td>-0.103676</td>\n",
       "      <td>-0.064766</td>\n",
       "      <td>1.000000</td>\n",
       "      <td>-0.023245</td>\n",
       "      <td>0.002478</td>\n",
       "      <td>-0.106987</td>\n",
       "      <td>-0.081078</td>\n",
       "      <td>-0.005845</td>\n",
       "      <td>-0.012720</td>\n",
       "      <td>0.013944</td>\n",
       "      <td>-0.029735</td>\n",
       "      <td>-0.007994</td>\n",
       "      <td>-0.009123</td>\n",
       "    </tr>\n",
       "    <tr>\n",
       "      <th>HEAD</th>\n",
       "      <td>-0.041727</td>\n",
       "      <td>-0.042079</td>\n",
       "      <td>-0.023245</td>\n",
       "      <td>1.000000</td>\n",
       "      <td>-0.067081</td>\n",
       "      <td>0.083327</td>\n",
       "      <td>-0.025014</td>\n",
       "      <td>-0.087257</td>\n",
       "      <td>-0.105415</td>\n",
       "      <td>0.022269</td>\n",
       "      <td>-0.000113</td>\n",
       "      <td>-0.005740</td>\n",
       "      <td>-0.067963</td>\n",
       "    </tr>\n",
       "    <tr>\n",
       "      <th>SEX</th>\n",
       "      <td>-0.057300</td>\n",
       "      <td>-0.053624</td>\n",
       "      <td>0.002478</td>\n",
       "      <td>-0.067081</td>\n",
       "      <td>1.000000</td>\n",
       "      <td>-0.369070</td>\n",
       "      <td>-0.100595</td>\n",
       "      <td>0.060387</td>\n",
       "      <td>0.069802</td>\n",
       "      <td>0.043131</td>\n",
       "      <td>-0.078557</td>\n",
       "      <td>0.001504</td>\n",
       "      <td>-0.012612</td>\n",
       "    </tr>\n",
       "    <tr>\n",
       "      <th>WT</th>\n",
       "      <td>0.246894</td>\n",
       "      <td>0.241405</td>\n",
       "      <td>-0.106987</td>\n",
       "      <td>0.083327</td>\n",
       "      <td>-0.369070</td>\n",
       "      <td>1.000000</td>\n",
       "      <td>0.181884</td>\n",
       "      <td>-0.250077</td>\n",
       "      <td>-0.256010</td>\n",
       "      <td>-0.318067</td>\n",
       "      <td>0.179771</td>\n",
       "      <td>0.172594</td>\n",
       "      <td>0.032489</td>\n",
       "    </tr>\n",
       "    <tr>\n",
       "      <th>PRICE</th>\n",
       "      <td>0.835596</td>\n",
       "      <td>0.832601</td>\n",
       "      <td>-0.081078</td>\n",
       "      <td>-0.025014</td>\n",
       "      <td>-0.100595</td>\n",
       "      <td>0.181884</td>\n",
       "      <td>1.000000</td>\n",
       "      <td>-0.106882</td>\n",
       "      <td>-0.050853</td>\n",
       "      <td>-0.206481</td>\n",
       "      <td>0.129784</td>\n",
       "      <td>-0.039477</td>\n",
       "      <td>0.302515</td>\n",
       "    </tr>\n",
       "    <tr>\n",
       "      <th>STATECODE</th>\n",
       "      <td>-0.168724</td>\n",
       "      <td>-0.193013</td>\n",
       "      <td>-0.005845</td>\n",
       "      <td>-0.087257</td>\n",
       "      <td>0.060387</td>\n",
       "      <td>-0.250077</td>\n",
       "      <td>-0.106882</td>\n",
       "      <td>1.000000</td>\n",
       "      <td>0.876676</td>\n",
       "      <td>0.392879</td>\n",
       "      <td>-0.058890</td>\n",
       "      <td>-0.087592</td>\n",
       "      <td>-0.013126</td>\n",
       "    </tr>\n",
       "    <tr>\n",
       "      <th>SAREA</th>\n",
       "      <td>-0.039077</td>\n",
       "      <td>-0.040503</td>\n",
       "      <td>-0.012720</td>\n",
       "      <td>-0.105415</td>\n",
       "      <td>0.069802</td>\n",
       "      <td>-0.256010</td>\n",
       "      <td>-0.050853</td>\n",
       "      <td>0.876676</td>\n",
       "      <td>1.000000</td>\n",
       "      <td>0.406660</td>\n",
       "      <td>-0.021669</td>\n",
       "      <td>-0.082012</td>\n",
       "      <td>0.040139</td>\n",
       "    </tr>\n",
       "    <tr>\n",
       "      <th>BREED</th>\n",
       "      <td>-0.225968</td>\n",
       "      <td>-0.226524</td>\n",
       "      <td>0.013944</td>\n",
       "      <td>0.022269</td>\n",
       "      <td>0.043131</td>\n",
       "      <td>-0.318067</td>\n",
       "      <td>-0.206481</td>\n",
       "      <td>0.392879</td>\n",
       "      <td>0.406660</td>\n",
       "      <td>1.000000</td>\n",
       "      <td>0.009941</td>\n",
       "      <td>-0.059608</td>\n",
       "      <td>-0.113540</td>\n",
       "    </tr>\n",
       "    <tr>\n",
       "      <th>FRAME</th>\n",
       "      <td>0.138352</td>\n",
       "      <td>0.145319</td>\n",
       "      <td>-0.029735</td>\n",
       "      <td>-0.000113</td>\n",
       "      <td>-0.078557</td>\n",
       "      <td>0.179771</td>\n",
       "      <td>0.129784</td>\n",
       "      <td>-0.058890</td>\n",
       "      <td>-0.021669</td>\n",
       "      <td>0.009941</td>\n",
       "      <td>1.000000</td>\n",
       "      <td>0.019022</td>\n",
       "      <td>0.041786</td>\n",
       "    </tr>\n",
       "    <tr>\n",
       "      <th>FLESH</th>\n",
       "      <td>-0.035072</td>\n",
       "      <td>-0.032461</td>\n",
       "      <td>-0.007994</td>\n",
       "      <td>-0.005740</td>\n",
       "      <td>0.001504</td>\n",
       "      <td>0.172594</td>\n",
       "      <td>-0.039477</td>\n",
       "      <td>-0.087592</td>\n",
       "      <td>-0.082012</td>\n",
       "      <td>-0.059608</td>\n",
       "      <td>0.019022</td>\n",
       "      <td>1.000000</td>\n",
       "      <td>0.026325</td>\n",
       "    </tr>\n",
       "    <tr>\n",
       "      <th>VAC</th>\n",
       "      <td>0.365210</td>\n",
       "      <td>0.366607</td>\n",
       "      <td>-0.009123</td>\n",
       "      <td>-0.067963</td>\n",
       "      <td>-0.012612</td>\n",
       "      <td>0.032489</td>\n",
       "      <td>0.302515</td>\n",
       "      <td>-0.013126</td>\n",
       "      <td>0.040139</td>\n",
       "      <td>-0.113540</td>\n",
       "      <td>0.041786</td>\n",
       "      <td>0.026325</td>\n",
       "      <td>1.000000</td>\n",
       "    </tr>\n",
       "  </tbody>\n",
       "</table>\n",
       "</div>"
      ],
      "text/plain": [
       "              SYEAR     LOTID    SMONTH      HEAD       SEX        WT  \\\n",
       "SYEAR      1.000000  0.990944 -0.103676 -0.041727 -0.057300  0.246894   \n",
       "LOTID      0.990944  1.000000 -0.064766 -0.042079 -0.053624  0.241405   \n",
       "SMONTH    -0.103676 -0.064766  1.000000 -0.023245  0.002478 -0.106987   \n",
       "HEAD      -0.041727 -0.042079 -0.023245  1.000000 -0.067081  0.083327   \n",
       "SEX       -0.057300 -0.053624  0.002478 -0.067081  1.000000 -0.369070   \n",
       "WT         0.246894  0.241405 -0.106987  0.083327 -0.369070  1.000000   \n",
       "PRICE      0.835596  0.832601 -0.081078 -0.025014 -0.100595  0.181884   \n",
       "STATECODE -0.168724 -0.193013 -0.005845 -0.087257  0.060387 -0.250077   \n",
       "SAREA     -0.039077 -0.040503 -0.012720 -0.105415  0.069802 -0.256010   \n",
       "BREED     -0.225968 -0.226524  0.013944  0.022269  0.043131 -0.318067   \n",
       "FRAME      0.138352  0.145319 -0.029735 -0.000113 -0.078557  0.179771   \n",
       "FLESH     -0.035072 -0.032461 -0.007994 -0.005740  0.001504  0.172594   \n",
       "VAC        0.365210  0.366607 -0.009123 -0.067963 -0.012612  0.032489   \n",
       "\n",
       "              PRICE  STATECODE     SAREA     BREED     FRAME     FLESH  \\\n",
       "SYEAR      0.835596  -0.168724 -0.039077 -0.225968  0.138352 -0.035072   \n",
       "LOTID      0.832601  -0.193013 -0.040503 -0.226524  0.145319 -0.032461   \n",
       "SMONTH    -0.081078  -0.005845 -0.012720  0.013944 -0.029735 -0.007994   \n",
       "HEAD      -0.025014  -0.087257 -0.105415  0.022269 -0.000113 -0.005740   \n",
       "SEX       -0.100595   0.060387  0.069802  0.043131 -0.078557  0.001504   \n",
       "WT         0.181884  -0.250077 -0.256010 -0.318067  0.179771  0.172594   \n",
       "PRICE      1.000000  -0.106882 -0.050853 -0.206481  0.129784 -0.039477   \n",
       "STATECODE -0.106882   1.000000  0.876676  0.392879 -0.058890 -0.087592   \n",
       "SAREA     -0.050853   0.876676  1.000000  0.406660 -0.021669 -0.082012   \n",
       "BREED     -0.206481   0.392879  0.406660  1.000000  0.009941 -0.059608   \n",
       "FRAME      0.129784  -0.058890 -0.021669  0.009941  1.000000  0.019022   \n",
       "FLESH     -0.039477  -0.087592 -0.082012 -0.059608  0.019022  1.000000   \n",
       "VAC        0.302515  -0.013126  0.040139 -0.113540  0.041786  0.026325   \n",
       "\n",
       "                VAC  \n",
       "SYEAR      0.365210  \n",
       "LOTID      0.366607  \n",
       "SMONTH    -0.009123  \n",
       "HEAD      -0.067963  \n",
       "SEX       -0.012612  \n",
       "WT         0.032489  \n",
       "PRICE      0.302515  \n",
       "STATECODE -0.013126  \n",
       "SAREA      0.040139  \n",
       "BREED     -0.113540  \n",
       "FRAME      0.041786  \n",
       "FLESH      0.026325  \n",
       "VAC        1.000000  "
      ]
     },
     "execution_count": 951,
     "metadata": {},
     "output_type": "execute_result"
    }
   ],
   "source": [
    "FEEDER.corr()"
   ]
  },
  {
   "cell_type": "code",
   "execution_count": 952,
   "metadata": {},
   "outputs": [
    {
     "data": {
      "text/plain": [
       "<matplotlib.axes._subplots.AxesSubplot at 0xb82ce7f0>"
      ]
     },
     "execution_count": 952,
     "metadata": {},
     "output_type": "execute_result"
    },
    {
     "data": {
      "image/png": "[encoded data removed]",
      "text/plain": [
       "<Figure size 864x864 with 2 Axes>"
      ]
     },
     "metadata": {},
     "output_type": "display_data"
    }
   ],
   "source": [
    "# heat map of correlation\n",
    "plt.figure(figsize=(12,12))\n",
    "sns.heatmap(FEEDER.corr())"
   ]
  },
  {
   "cell_type": "markdown",
   "metadata": {},
   "source": [
    "Because of the large number of categorical variables in this dataset, correctly interpreting a correlation has limitations. "
   ]
  },
  {
   "cell_type": "code",
   "execution_count": 953,
   "metadata": {},
   "outputs": [],
   "source": [
    "#Exporting Data to CSV to use in Tableau for Data Visulaization \n",
    "#Tableau charts shared in a PowerPoint File \n",
    "FEEDER.to_csv(\"data/FEEDER1.csv\")"
   ]
  },
  {
   "cell_type": "markdown",
   "metadata": {},
   "source": [
    "## Model Building"
   ]
  },
  {
   "cell_type": "code",
   "execution_count": 954,
   "metadata": {},
   "outputs": [
    {
     "name": "stdout",
     "output_type": "stream",
     "text": [
      "The chi-square statistic is 99.626 and the p-value is 0.000.\n"
     ]
    }
   ],
   "source": [
    "# test normality and to print three decimals only\n",
    "WT = stats.normaltest(FEEDER['WT'])\n",
    "\n",
    "print \"The chi-square statistic is %.3f and the p-value is %.3f.\" % WT"
   ]
  },
  {
   "cell_type": "code",
   "execution_count": 955,
   "metadata": {},
   "outputs": [
    {
     "name": "stderr",
     "output_type": "stream",
     "text": [
      "C:\\Users\\Esther\\Anaconda2\\lib\\site-packages\\matplotlib\\axes\\_axes.py:6462: UserWarning: The 'normed' kwarg is deprecated, and has been replaced by the 'density' kwarg.\n",
      "  warnings.warn(\"The 'normed' kwarg is deprecated, and has been \"\n"
     ]
    },
    {
     "data": {
      "text/plain": [
       "Text(0.5,1,'WEIGHT OF LOTS DISTRIBUTION')"
      ]
     },
     "execution_count": 955,
     "metadata": {},
     "output_type": "execute_result"
    },
    {
     "data": {
      "image/png": "[encoded data removed]",
      "text/plain": [
       "<Figure size 432x288 with 1 Axes>"
      ]
     },
     "metadata": {},
     "output_type": "display_data"
    }
   ],
   "source": [
    "# an illustration distribution\n",
    "\n",
    "WT = sorted(FEEDER['WT'])\n",
    "fit = stats.norm.pdf(WT, np.mean(WT), np.std(WT))  #this is a fitting indeed\n",
    "plt.plot(WT,fit,'-o')\n",
    "plt.hist(WT,normed=True)      #use this to draw histogram of your data\n",
    "\n",
    "plt.xlabel('WEIGHT OF LOTS')\n",
    "plt.ylabel('Proportion')\n",
    "plt.title(\"WEIGHT OF LOTS DISTRIBUTION\")"
   ]
  },
  {
   "cell_type": "markdown",
   "metadata": {},
   "source": [
    "#### The weight distribution of the lots appears normal."
   ]
  },
  {
   "cell_type": "code",
   "execution_count": 956,
   "metadata": {},
   "outputs": [
    {
     "name": "stdout",
     "output_type": "stream",
     "text": [
      "The chi-square statistic is 2992.237 and the p-value is 0.000.\n"
     ]
    }
   ],
   "source": [
    "# test normality and to print three decimals only\n",
    "PRICE = stats.normaltest(FEEDER['PRICE'])\n",
    "\n",
    "print \"The chi-square statistic is %.3f and the p-value is %.3f.\" % PRICE"
   ]
  },
  {
   "cell_type": "code",
   "execution_count": 957,
   "metadata": {},
   "outputs": [
    {
     "name": "stderr",
     "output_type": "stream",
     "text": [
      "C:\\Users\\Esther\\Anaconda2\\lib\\site-packages\\matplotlib\\axes\\_axes.py:6462: UserWarning: The 'normed' kwarg is deprecated, and has been replaced by the 'density' kwarg.\n",
      "  warnings.warn(\"The 'normed' kwarg is deprecated, and has been \"\n"
     ]
    },
    {
     "data": {
      "text/plain": [
       "Text(0.5,1,'PRICE OF LOTS DISTRIBUTION')"
      ]
     },
     "execution_count": 957,
     "metadata": {},
     "output_type": "execute_result"
    },
    {
     "data": {
      "image/png": "[encoded data removed]",
      "text/plain": [
       "<Figure size 432x288 with 1 Axes>"
      ]
     },
     "metadata": {},
     "output_type": "display_data"
    }
   ],
   "source": [
    "# an illustration distribution\n",
    "\n",
    "PRICE = sorted(FEEDER['PRICE'])\n",
    "fit = stats.norm.pdf(PRICE, np.mean(PRICE), np.std(PRICE))  #this is a fitting indeed\n",
    "plt.plot(PRICE,fit,'-o')\n",
    "plt.hist(PRICE,normed=True)      #use this to draw histogram of your data\n",
    "\n",
    "plt.xlabel('PRICE OF LOTS')\n",
    "plt.ylabel('Proportion')\n",
    "plt.title(\"PRICE OF LOTS DISTRIBUTION\")"
   ]
  },
  {
   "cell_type": "markdown",
   "metadata": {},
   "source": [
    "#### As expected, there is a right skew to the price distribution. "
   ]
  },
  {
   "cell_type": "code",
   "execution_count": 958,
   "metadata": {},
   "outputs": [],
   "source": [
    "FEEDER['PRICEN']= np.log10(FEEDER['PRICE'])"
   ]
  },
  {
   "cell_type": "code",
   "execution_count": 959,
   "metadata": {},
   "outputs": [
    {
     "name": "stdout",
     "output_type": "stream",
     "text": [
      "The chi-square statistic is 795.993 and the p-value is 0.000.\n"
     ]
    }
   ],
   "source": [
    "# test normality and to print three decimals only\n",
    "PRICE = stats.normaltest(FEEDER['PRICEN'])\n",
    "\n",
    "print \"The chi-square statistic is %.3f and the p-value is %.3f.\" % PRICE\n"
   ]
  },
  {
   "cell_type": "code",
   "execution_count": 960,
   "metadata": {},
   "outputs": [
    {
     "name": "stderr",
     "output_type": "stream",
     "text": [
      "C:\\Users\\Esther\\Anaconda2\\lib\\site-packages\\matplotlib\\axes\\_axes.py:6462: UserWarning: The 'normed' kwarg is deprecated, and has been replaced by the 'density' kwarg.\n",
      "  warnings.warn(\"The 'normed' kwarg is deprecated, and has been \"\n"
     ]
    },
    {
     "data": {
      "text/plain": [
       "Text(0.5,1,'PRICE OF LOTS DISTRIBUTION')"
      ]
     },
     "execution_count": 960,
     "metadata": {},
     "output_type": "execute_result"
    },
    {
     "data": {
      "image/png": "[encoded data removed]",
      "text/plain": [
       "<Figure size 432x288 with 1 Axes>"
      ]
     },
     "metadata": {},
     "output_type": "display_data"
    }
   ],
   "source": [
    "# an illustration distribution\n",
    "\n",
    "PRICE = sorted(FEEDER['PRICEN'])\n",
    "fit = stats.norm.pdf(PRICE, np.mean(PRICE), np.std(PRICE))  #this is a fitting indeed\n",
    "plt.plot(PRICE,fit,'-o')\n",
    "plt.hist(PRICE,normed=True)      #use this to draw histogram of your data\n",
    "\n",
    "plt.xlabel('PRICE OF LOTS')\n",
    "plt.ylabel('Proportion')\n",
    "plt.title(\"PRICE OF LOTS DISTRIBUTION\")"
   ]
  },
  {
   "cell_type": "markdown",
   "metadata": {},
   "source": [
    "#### The transformation of the variable price resulted in a near normal distribution."
   ]
  },
  {
   "cell_type": "code",
   "execution_count": 961,
   "metadata": {},
   "outputs": [
    {
     "name": "stdout",
     "output_type": "stream",
     "text": [
      "The chi-square statistic is 19084.236 and the p-value is 0.000.\n"
     ]
    }
   ],
   "source": [
    "# test normality and to print three decimals only\n",
    "HEAD = stats.normaltest(FEEDER['HEAD'])\n",
    "\n",
    "print \"The chi-square statistic is %.3f and the p-value is %.3f.\" % HEAD"
   ]
  },
  {
   "cell_type": "code",
   "execution_count": 962,
   "metadata": {},
   "outputs": [
    {
     "name": "stderr",
     "output_type": "stream",
     "text": [
      "C:\\Users\\Esther\\Anaconda2\\lib\\site-packages\\matplotlib\\axes\\_axes.py:6462: UserWarning: The 'normed' kwarg is deprecated, and has been replaced by the 'density' kwarg.\n",
      "  warnings.warn(\"The 'normed' kwarg is deprecated, and has been \"\n"
     ]
    },
    {
     "data": {
      "text/plain": [
       "Text(0.5,1,'SIZE OF LOT DISTRIBUTION')"
      ]
     },
     "execution_count": 962,
     "metadata": {},
     "output_type": "execute_result"
    },
    {
     "data": {
      "image/png": "[encoded data removed]",
      "text/plain": [
       "<Figure size 432x288 with 1 Axes>"
      ]
     },
     "metadata": {},
     "output_type": "display_data"
    }
   ],
   "source": [
    "# an illustration distribution\n",
    "\n",
    "HEAD = sorted(FEEDER['HEAD'])\n",
    "fit = stats.norm.pdf(HEAD, np.mean(HEAD), np.std(HEAD))  #this is a fitting indeed\n",
    "plt.plot(HEAD,fit,'-o')\n",
    "plt.hist(HEAD,normed=True)      #use this to draw histogram of your data\n",
    "\n",
    "plt.xlabel('SIZE OF LOT')\n",
    "plt.ylabel('Proportion')\n",
    "plt.title(\"SIZE OF LOT DISTRIBUTION\")"
   ]
  },
  {
   "cell_type": "markdown",
   "metadata": {},
   "source": [
    "#### As expected, there is a right skew to the size of lot distribution. "
   ]
  },
  {
   "cell_type": "code",
   "execution_count": 963,
   "metadata": {},
   "outputs": [],
   "source": [
    "FEEDER['HEADN']= np.log10(FEEDER['HEAD'])"
   ]
  },
  {
   "cell_type": "code",
   "execution_count": 964,
   "metadata": {},
   "outputs": [
    {
     "name": "stdout",
     "output_type": "stream",
     "text": [
      "The chi-square statistic is 2180.056 and the p-value is 0.000.\n"
     ]
    }
   ],
   "source": [
    "# test normality and to print three decimals only\n",
    "HEAD = stats.normaltest(FEEDER['HEADN'])\n",
    "\n",
    "print \"The chi-square statistic is %.3f and the p-value is %.3f.\" % HEAD"
   ]
  },
  {
   "cell_type": "code",
   "execution_count": 965,
   "metadata": {},
   "outputs": [
    {
     "name": "stderr",
     "output_type": "stream",
     "text": [
      "C:\\Users\\Esther\\Anaconda2\\lib\\site-packages\\matplotlib\\axes\\_axes.py:6462: UserWarning: The 'normed' kwarg is deprecated, and has been replaced by the 'density' kwarg.\n",
      "  warnings.warn(\"The 'normed' kwarg is deprecated, and has been \"\n"
     ]
    },
    {
     "data": {
      "text/plain": [
       "Text(0.5,1,'SIZE OF LOT DISTRIBUTION')"
      ]
     },
     "execution_count": 965,
     "metadata": {},
     "output_type": "execute_result"
    },
    {
     "data": {
      "image/png": "[encoded data removed]",
      "text/plain": [
       "<Figure size 432x288 with 1 Axes>"
      ]
     },
     "metadata": {},
     "output_type": "display_data"
    }
   ],
   "source": [
    "# an illustration distribution\n",
    "\n",
    "HEAD = sorted(FEEDER['HEADN'])\n",
    "fit = stats.norm.pdf(HEAD, np.mean(HEAD), np.std(HEAD))  #this is a fitting indeed\n",
    "plt.plot(HEAD,fit,'-o')\n",
    "plt.hist(HEAD,normed=True)      #use this to draw histogram of your data\n",
    "\n",
    "plt.xlabel('SIZE OF LOT')\n",
    "plt.ylabel('Proportion')\n",
    "plt.title(\"SIZE OF LOT DISTRIBUTION\")"
   ]
  },
  {
   "cell_type": "markdown",
   "metadata": {},
   "source": [
    "#### The transformation of the variable head resulted in a normal distribution."
   ]
  },
  {
   "cell_type": "markdown",
   "metadata": {},
   "source": [
    "### Categorical Variables"
   ]
  },
  {
   "cell_type": "code",
   "execution_count": 966,
   "metadata": {},
   "outputs": [],
   "source": [
    "SEXD = pd.get_dummies(FEEDER['SEX'], prefix='SEX')\n",
    "FEEDER = FEEDER.join(SEXD)"
   ]
  },
  {
   "cell_type": "code",
   "execution_count": 967,
   "metadata": {},
   "outputs": [],
   "source": [
    "SAREAD = pd.get_dummies(FEEDER['SAREA'], prefix='SAREA')\n",
    "FEEDER = FEEDER.join(SAREAD)"
   ]
  },
  {
   "cell_type": "code",
   "execution_count": 968,
   "metadata": {},
   "outputs": [],
   "source": [
    "BREEDD = pd.get_dummies(FEEDER['BREED'], prefix='BREED')\n",
    "FEEDER = FEEDER.join(BREEDD)"
   ]
  },
  {
   "cell_type": "code",
   "execution_count": 969,
   "metadata": {},
   "outputs": [],
   "source": [
    "FRAMED = pd.get_dummies(FEEDER['FRAME'], prefix='FRAME')\n",
    "FEEDER = FEEDER.join(FRAMED)"
   ]
  },
  {
   "cell_type": "code",
   "execution_count": 970,
   "metadata": {},
   "outputs": [],
   "source": [
    "FLESHD = pd.get_dummies(FEEDER['FLESH'], prefix='FLESH')\n",
    "FEEDER = FEEDER.join(FLESHD)"
   ]
  },
  {
   "cell_type": "code",
   "execution_count": 971,
   "metadata": {},
   "outputs": [],
   "source": [
    "VACD = pd.get_dummies(FEEDER['VAC'], prefix='VAC')\n",
    "FEEDER = FEEDER.join(VACD)"
   ]
  },
  {
   "cell_type": "code",
   "execution_count": 972,
   "metadata": {},
   "outputs": [],
   "source": [
    "YEARD = pd.get_dummies(FEEDER['SYEAR'], prefix='Y')\n",
    "FEEDER = FEEDER.join(YEARD)"
   ]
  },
  {
   "cell_type": "code",
   "execution_count": 973,
   "metadata": {},
   "outputs": [
    {
     "data": {
      "text/html": [
       "<div>\n",
       "<style scoped>\n",
       "    .dataframe tbody tr th:only-of-type {\n",
       "        vertical-align: middle;\n",
       "    }\n",
       "\n",
       "    .dataframe tbody tr th {\n",
       "        vertical-align: top;\n",
       "    }\n",
       "\n",
       "    .dataframe thead th {\n",
       "        text-align: right;\n",
       "    }\n",
       "</style>\n",
       "<table border=\"1\" class=\"dataframe\">\n",
       "  <thead>\n",
       "    <tr style=\"text-align: right;\">\n",
       "      <th></th>\n",
       "      <th>LOTID</th>\n",
       "      <th>SMONTH</th>\n",
       "      <th>HEAD</th>\n",
       "      <th>WT</th>\n",
       "      <th>PRICE</th>\n",
       "      <th>STATE</th>\n",
       "      <th>STATECODE</th>\n",
       "      <th>PRICEN</th>\n",
       "      <th>HEADN</th>\n",
       "      <th>SEX_1</th>\n",
       "      <th>...</th>\n",
       "      <th>Y_2005</th>\n",
       "      <th>Y_2010</th>\n",
       "      <th>Y_2011</th>\n",
       "      <th>Y_2012</th>\n",
       "      <th>Y_2013</th>\n",
       "      <th>Y_2014</th>\n",
       "      <th>Y_2015</th>\n",
       "      <th>Y_2016</th>\n",
       "      <th>Y_2017</th>\n",
       "      <th>Y_2018</th>\n",
       "    </tr>\n",
       "  </thead>\n",
       "  <tbody>\n",
       "    <tr>\n",
       "      <th>0</th>\n",
       "      <td>111922</td>\n",
       "      <td>6</td>\n",
       "      <td>39</td>\n",
       "      <td>640</td>\n",
       "      <td>105.25</td>\n",
       "      <td>TX</td>\n",
       "      <td>26</td>\n",
       "      <td>2.022222</td>\n",
       "      <td>1.591065</td>\n",
       "      <td>1</td>\n",
       "      <td>...</td>\n",
       "      <td>0</td>\n",
       "      <td>1</td>\n",
       "      <td>0</td>\n",
       "      <td>0</td>\n",
       "      <td>0</td>\n",
       "      <td>0</td>\n",
       "      <td>0</td>\n",
       "      <td>0</td>\n",
       "      <td>0</td>\n",
       "      <td>0</td>\n",
       "    </tr>\n",
       "    <tr>\n",
       "      <th>1</th>\n",
       "      <td>111923</td>\n",
       "      <td>6</td>\n",
       "      <td>39</td>\n",
       "      <td>640</td>\n",
       "      <td>98.25</td>\n",
       "      <td>TX</td>\n",
       "      <td>26</td>\n",
       "      <td>1.992333</td>\n",
       "      <td>1.591065</td>\n",
       "      <td>0</td>\n",
       "      <td>...</td>\n",
       "      <td>0</td>\n",
       "      <td>1</td>\n",
       "      <td>0</td>\n",
       "      <td>0</td>\n",
       "      <td>0</td>\n",
       "      <td>0</td>\n",
       "      <td>0</td>\n",
       "      <td>0</td>\n",
       "      <td>0</td>\n",
       "      <td>0</td>\n",
       "    </tr>\n",
       "    <tr>\n",
       "      <th>2</th>\n",
       "      <td>111924</td>\n",
       "      <td>6</td>\n",
       "      <td>35</td>\n",
       "      <td>700</td>\n",
       "      <td>105.50</td>\n",
       "      <td>LA</td>\n",
       "      <td>45</td>\n",
       "      <td>2.023252</td>\n",
       "      <td>1.544068</td>\n",
       "      <td>1</td>\n",
       "      <td>...</td>\n",
       "      <td>0</td>\n",
       "      <td>1</td>\n",
       "      <td>0</td>\n",
       "      <td>0</td>\n",
       "      <td>0</td>\n",
       "      <td>0</td>\n",
       "      <td>0</td>\n",
       "      <td>0</td>\n",
       "      <td>0</td>\n",
       "      <td>0</td>\n",
       "    </tr>\n",
       "    <tr>\n",
       "      <th>3</th>\n",
       "      <td>111925</td>\n",
       "      <td>6</td>\n",
       "      <td>35</td>\n",
       "      <td>700</td>\n",
       "      <td>99.50</td>\n",
       "      <td>LA</td>\n",
       "      <td>45</td>\n",
       "      <td>1.997823</td>\n",
       "      <td>1.544068</td>\n",
       "      <td>0</td>\n",
       "      <td>...</td>\n",
       "      <td>0</td>\n",
       "      <td>1</td>\n",
       "      <td>0</td>\n",
       "      <td>0</td>\n",
       "      <td>0</td>\n",
       "      <td>0</td>\n",
       "      <td>0</td>\n",
       "      <td>0</td>\n",
       "      <td>0</td>\n",
       "      <td>0</td>\n",
       "    </tr>\n",
       "    <tr>\n",
       "      <th>4</th>\n",
       "      <td>111926</td>\n",
       "      <td>6</td>\n",
       "      <td>32</td>\n",
       "      <td>735</td>\n",
       "      <td>105.25</td>\n",
       "      <td>TX</td>\n",
       "      <td>26</td>\n",
       "      <td>2.022222</td>\n",
       "      <td>1.505150</td>\n",
       "      <td>1</td>\n",
       "      <td>...</td>\n",
       "      <td>0</td>\n",
       "      <td>1</td>\n",
       "      <td>0</td>\n",
       "      <td>0</td>\n",
       "      <td>0</td>\n",
       "      <td>0</td>\n",
       "      <td>0</td>\n",
       "      <td>0</td>\n",
       "      <td>0</td>\n",
       "      <td>0</td>\n",
       "    </tr>\n",
       "  </tbody>\n",
       "</table>\n",
       "<p>5 rows × 46 columns</p>\n",
       "</div>"
      ],
      "text/plain": [
       "    LOTID  SMONTH  HEAD   WT   PRICE STATE  STATECODE    PRICEN     HEADN  \\\n",
       "0  111922       6    39  640  105.25    TX         26  2.022222  1.591065   \n",
       "1  111923       6    39  640   98.25    TX         26  1.992333  1.591065   \n",
       "2  111924       6    35  700  105.50    LA         45  2.023252  1.544068   \n",
       "3  111925       6    35  700   99.50    LA         45  1.997823  1.544068   \n",
       "4  111926       6    32  735  105.25    TX         26  2.022222  1.505150   \n",
       "\n",
       "   SEX_1   ...    Y_2005  Y_2010  Y_2011  Y_2012  Y_2013  Y_2014  Y_2015  \\\n",
       "0      1   ...         0       1       0       0       0       0       0   \n",
       "1      0   ...         0       1       0       0       0       0       0   \n",
       "2      1   ...         0       1       0       0       0       0       0   \n",
       "3      0   ...         0       1       0       0       0       0       0   \n",
       "4      1   ...         0       1       0       0       0       0       0   \n",
       "\n",
       "   Y_2016  Y_2017  Y_2018  \n",
       "0       0       0       0  \n",
       "1       0       0       0  \n",
       "2       0       0       0  \n",
       "3       0       0       0  \n",
       "4       0       0       0  \n",
       "\n",
       "[5 rows x 46 columns]"
      ]
     },
     "execution_count": 973,
     "metadata": {},
     "output_type": "execute_result"
    }
   ],
   "source": [
    "#now we can drop the orgional columns we created the dummy variables for\n",
    "FEEDER1 = FEEDER.drop(['SEX', 'SAREA', 'BREED', 'FRAME', 'FLESH', 'VAC', 'SYEAR'], axis=1)\n",
    "FEEDER1.head()"
   ]
  },
  {
   "cell_type": "markdown",
   "metadata": {},
   "source": [
    "### With Dummy Variables"
   ]
  },
  {
   "cell_type": "code",
   "execution_count": 974,
   "metadata": {},
   "outputs": [],
   "source": [
    "y = FEEDER['PRICEN'] \n",
    "X = FEEDER[['Y_1996','Y_1997','Y_1998','Y_1999','Y_2000','Y_2001','Y_2002','Y_2003','Y_2004','Y_2005','Y_2010','Y_2011','Y_2012','Y_2013','Y_2014','Y_2015','Y_2016','Y_2017','Y_2018','HEADN','WT','SEX_1','SEX_2','SAREA_1', 'SAREA_2', 'SAREA_3','SAREA_5','BREED_1','BREED_3','BREED_4','FRAME_3','FRAME_4','FRAME_5','FLESH_2','FLESH_3','FLESH_4','FLESH_5','VAC_0','VAC_1']]"
   ]
  },
  {
   "cell_type": "code",
   "execution_count": 978,
   "metadata": {},
   "outputs": [],
   "source": [
    "model1 = lm.LinearRegression()\n",
    "model1.fit(X, y)   \n",
    "model1_y = model1.predict(X)"
   ]
  },
  {
   "cell_type": "code",
   "execution_count": 979,
   "metadata": {},
   "outputs": [
    {
     "name": "stdout",
     "output_type": "stream",
     "text": [
      "mean square error:  0.0003914292850825234\n",
      "variance or r-squared:  0.9813259282761732\n"
     ]
    }
   ],
   "source": [
    "print \"mean square error: \", mean_squared_error(y, model1_y)\n",
    "print \"variance or r-squared: \", explained_variance_score(y, model1_y)"
   ]
  },
  {
   "cell_type": "code",
   "execution_count": 980,
   "metadata": {},
   "outputs": [
    {
     "name": "stdout",
     "output_type": "stream",
     "text": [
      "Coefficients:  [-6.76580161e+02 -6.76462822e+02 -6.76543999e+02 -6.76482817e+02\n",
      " -6.76434212e+02 -6.76413564e+02 -6.76477821e+02 -6.76402866e+02\n",
      " -6.76320384e+02 -6.76325593e+02 -6.76323381e+02 -6.76249343e+02\n",
      " -6.76216045e+02 -6.76197998e+02 -6.76032709e+02 -6.76037001e+02\n",
      " -6.76220170e+02 -6.76200245e+02 -6.76191594e+02  1.08948870e-02\n",
      " -1.72206165e-04  7.36567139e+06  7.36567137e+06  3.80111412e+07\n",
      "  3.80111412e+07  3.80111412e+07  3.80111412e+07  1.98565992e+08\n",
      "  1.98565992e+08  1.98565992e+08 -9.94044909e+06 -9.94044909e+06\n",
      " -9.94044909e+06 -1.87179436e+07 -1.87179436e+07 -1.87179436e+07\n",
      " -1.87179436e+07  2.45473760e+07  2.45473760e+07]\n",
      "y-intercept  -239831109.69693306\n"
     ]
    }
   ],
   "source": [
    "print 'Coefficients: ', model1.coef_\n",
    "print \"y-intercept \", model1.intercept_"
   ]
  },
  {
   "cell_type": "code",
   "execution_count": 981,
   "metadata": {},
   "outputs": [],
   "source": [
    "#First Model\n",
    "runs_reg_model1 = ols(\"PRICEN~Y_1996+Y_1997+Y_1998+Y_1999+Y_2000+Y_2001+Y_2002+Y_2003+Y_2004+Y_2005+Y_2010+Y_2011+Y_2012+Y_2013+Y_2014+Y_2015+Y_2016+Y_2017+Y_2018+HEADN+WT+SEX_1+SEX_2+SAREA_1+SAREA_2+SAREA_3+SAREA_5+BREED_1+BREED_3+BREED_4+FRAME_3+FRAME_4+FRAME_5+FLESH_2+FLESH_3+FLESH_4+FLESH_5+VAC_0+VAC_1\", FEEDER)\n",
    "runs_reg1 = runs_reg_model1.fit()"
   ]
  },
  {
   "cell_type": "code",
   "execution_count": 982,
   "metadata": {},
   "outputs": [
    {
     "name": "stdout",
     "output_type": "stream",
     "text": [
      "                            OLS Regression Results                            \n",
      "==============================================================================\n",
      "Dep. Variable:                 PRICEN   R-squared:                       0.981\n",
      "Model:                            OLS   Adj. R-squared:                  0.981\n",
      "Method:                 Least Squares   F-statistic:                 3.913e+04\n",
      "Date:                Mon, 05 Aug 2019   Prob (F-statistic):               0.00\n",
      "Time:                        17:39:05   Log-Likelihood:                 59748.\n",
      "No. Observations:               23862   AIC:                        -1.194e+05\n",
      "Df Residuals:                   23829   BIC:                        -1.192e+05\n",
      "Df Model:                          32                                         \n",
      "Covariance Type:            nonrobust                                         \n",
      "==============================================================================\n",
      "                 coef    std err          t      P>|t|      [0.025      0.975]\n",
      "------------------------------------------------------------------------------\n",
      "Intercept      0.6650      0.001   1245.561      0.000       0.664       0.666\n",
      "Y_1996        -0.2234      0.001   -333.295      0.000      -0.225      -0.222\n",
      "Y_1997        -0.1061      0.001   -182.961      0.000      -0.107      -0.105\n",
      "Y_1998        -0.1873      0.001   -290.647      0.000      -0.189      -0.186\n",
      "Y_1999        -0.1261      0.001   -246.305      0.000      -0.127      -0.125\n",
      "Y_2000        -0.0775      0.001   -152.482      0.000      -0.078      -0.076\n",
      "Y_2001        -0.0568      0.001    -94.980      0.000      -0.058      -0.056\n",
      "Y_2002        -0.1211      0.001   -209.106      0.000      -0.122      -0.120\n",
      "Y_2003        -0.0461      0.001    -86.162      0.000      -0.047      -0.045\n",
      "Y_2004         0.0363      0.000     78.265      0.000       0.035       0.037\n",
      "Y_2005         0.0311      0.001     60.068      0.000       0.030       0.032\n",
      "Y_2010         0.0333      0.000     71.079      0.000       0.032       0.034\n",
      "Y_2011         0.1074      0.000    224.892      0.000       0.106       0.108\n",
      "Y_2012         0.1407      0.001    249.579      0.000       0.140       0.142\n",
      "Y_2013         0.1587      0.000    323.468      0.000       0.158       0.160\n",
      "Y_2014         0.3240      0.001    582.156      0.000       0.323       0.325\n",
      "Y_2015         0.3197      0.001    523.321      0.000       0.319       0.321\n",
      "Y_2016         0.1365      0.001    209.693      0.000       0.135       0.138\n",
      "Y_2017         0.1565      0.001    239.400      0.000       0.155       0.158\n",
      "Y_2018         0.1651      0.001    272.816      0.000       0.164       0.166\n",
      "HEADN          0.0109      0.000     23.004      0.000       0.010       0.012\n",
      "WT            -0.0002    1.9e-06    -90.465      0.000      -0.000      -0.000\n",
      "SEX_1          0.3457      0.000   1012.984      0.000       0.345       0.346\n",
      "SEX_2          0.3193      0.000   1232.013      0.000       0.319       0.320\n",
      "SAREA_1        0.1649      0.000    508.604      0.000       0.164       0.166\n",
      "SAREA_2        0.1760      0.000    518.757      0.000       0.175       0.177\n",
      "SAREA_3        0.1673      0.000    701.667      0.000       0.167       0.168\n",
      "SAREA_5        0.1567      0.000    447.237      0.000       0.156       0.157\n",
      "BREED_1        0.2276      0.000    742.772      0.000       0.227       0.228\n",
      "BREED_3        0.2226      0.000    869.969      0.000       0.222       0.223\n",
      "BREED_4        0.2147      0.000    806.496      0.000       0.214       0.215\n",
      "FRAME_3        0.2204      0.000    884.923      0.000       0.220       0.221\n",
      "FRAME_4        0.2222      0.000    864.408      0.000       0.222       0.223\n",
      "FRAME_5        0.2223      0.000    717.722      0.000       0.222       0.223\n",
      "FLESH_2        0.1660      0.001    322.734      0.000       0.165       0.167\n",
      "FLESH_3        0.1680      0.000    384.142      0.000       0.167       0.169\n",
      "FLESH_4        0.1687      0.000    557.437      0.000       0.168       0.169\n",
      "FLESH_5        0.1622      0.001    311.471      0.000       0.161       0.163\n",
      "VAC_0          0.3326      0.000   1003.992      0.000       0.332       0.333\n",
      "VAC_1          0.3323      0.000   1035.639      0.000       0.332       0.333\n",
      "==============================================================================\n",
      "Omnibus:                     1678.180   Durbin-Watson:                   0.655\n",
      "Prob(Omnibus):                  0.000   Jarque-Bera (JB):             3548.527\n",
      "Skew:                          -0.472   Prob(JB):                         0.00\n",
      "Kurtosis:                       4.637   Cond. No.                     7.19e+16\n",
      "==============================================================================\n",
      "\n",
      "Warnings:\n",
      "[1] Standard Errors assume that the covariance matrix of the errors is correctly specified.\n",
      "[2] The smallest eigenvalue is 2.86e-24. This might indicate that there are\n",
      "strong multicollinearity problems or that the design matrix is singular.\n"
     ]
    }
   ],
   "source": [
    "print runs_reg1.summary()"
   ]
  },
  {
   "cell_type": "code",
   "execution_count": 983,
   "metadata": {},
   "outputs": [
    {
     "data": {
      "image/png": "[encoded data removed]",
      "text/plain": [
       "<Figure size 432x288 with 2 Axes>"
      ]
     },
     "metadata": {},
     "output_type": "display_data"
    }
   ],
   "source": [
    "y = FEEDER['PRICEN'] \n",
    "X = FEEDER[['Y_1996','Y_1997','Y_1998','Y_1999','Y_2000','Y_2001','Y_2002','Y_2003','Y_2004','Y_2005','Y_2010','Y_2011','Y_2012','Y_2013','Y_2014','Y_2015','Y_2016','Y_2017','Y_2018','HEADN','WT','SEX_1','SEX_2','SAREA_1', 'SAREA_2', 'SAREA_3','SAREA_5','BREED_1','BREED_3','BREED_4','FRAME_3','FRAME_4','FRAME_5','FLESH_2','FLESH_3','FLESH_4','FLESH_5','VAC_0','VAC_1']]\n",
    "regre = lm.LinearRegression()\n",
    "visualizer = ResidualsPlot(regre)\n",
    "\n",
    "visualizer.fit(X, y)  # Fit the training data to the model\n",
    "#visualizer.score(X_test, y_test)  # Evaluate the model on the test data\n",
    "visualizer.poof()                 # Draw/show/poof the data\n"
   ]
  },
  {
   "cell_type": "code",
   "execution_count": 984,
   "metadata": {},
   "outputs": [
    {
     "name": "stdout",
     "output_type": "stream",
     "text": [
      "4.768354513118901e+18\n"
     ]
    }
   ],
   "source": [
    "# high values indicate multicollinearity\n",
    "print np.linalg.cond(runs_reg1.model.exog)"
   ]
  },
  {
   "cell_type": "code",
   "execution_count": 985,
   "metadata": {},
   "outputs": [
    {
     "name": "stdout",
     "output_type": "stream",
     "text": [
      "mean square error:  8.527963384756628e-05\n",
      "variance or r-squared:  0.9959315348290748\n"
     ]
    }
   ],
   "source": [
    "from sklearn.ensemble import RandomForestRegressor\n",
    "from sklearn.datasets import make_regression\n",
    "\n",
    "regr = RandomForestRegressor(random_state=0)\n",
    "regr.fit(X, y)\n",
    "regr_predicted = regr.predict(X)\n",
    "\n",
    "print \"mean square error: \", mean_squared_error(y, regr_predicted)\n",
    "print \"variance or r-squared: \", explained_variance_score(y, regr_predicted)"
   ]
  },
  {
   "cell_type": "markdown",
   "metadata": {},
   "source": [
    "### Without Dummy Variables"
   ]
  },
  {
   "cell_type": "code",
   "execution_count": 986,
   "metadata": {},
   "outputs": [],
   "source": [
    "y = FEEDER['PRICEN']\n",
    "X = FEEDER[['HEADN', 'WT', 'SEX', 'SYEAR', 'SAREA', 'BREED', 'FRAME', 'FLESH', 'VAC']]"
   ]
  },
  {
   "cell_type": "code",
   "execution_count": 987,
   "metadata": {},
   "outputs": [],
   "source": [
    "# build a multiple regression model below\n",
    "model1 = lm.LinearRegression()\n",
    "model1.fit(X, y)   \n",
    "model1_y = model1.predict(X)"
   ]
  },
  {
   "cell_type": "code",
   "execution_count": 988,
   "metadata": {
    "scrolled": true
   },
   "outputs": [
    {
     "name": "stdout",
     "output_type": "stream",
     "text": [
      "mean square error:  0.004146734547736711\n",
      "variance or r-squared:  0.8021700947904458\n"
     ]
    }
   ],
   "source": [
    "print \"mean square error: \", mean_squared_error(y, model1_y)\n",
    "print \"variance or r-squared: \", explained_variance_score(y, model1_y)"
   ]
  },
  {
   "cell_type": "code",
   "execution_count": 989,
   "metadata": {
    "scrolled": false
   },
   "outputs": [
    {
     "name": "stdout",
     "output_type": "stream",
     "text": [
      "                            OLS Regression Results                            \n",
      "==============================================================================\n",
      "Dep. Variable:                 PRICEN   R-squared:                       0.802\n",
      "Model:                            OLS   Adj. R-squared:                  0.802\n",
      "Method:                 Least Squares   F-statistic:                 1.075e+04\n",
      "Date:                Mon, 05 Aug 2019   Prob (F-statistic):               0.00\n",
      "Time:                        17:39:10   Log-Likelihood:                 31588.\n",
      "No. Observations:               23862   AIC:                        -6.316e+04\n",
      "Df Residuals:                   23852   BIC:                        -6.308e+04\n",
      "Df Model:                           9                                         \n",
      "Covariance Type:            nonrobust                                         \n",
      "==============================================================================\n",
      "                 coef    std err          t      P>|t|      [0.025      0.975]\n",
      "------------------------------------------------------------------------------\n",
      "Intercept    -36.3152      0.139   -260.875      0.000     -36.588     -36.042\n",
      "SYEAR          0.0192   6.96e-05    275.412      0.000       0.019       0.019\n",
      "SAREA         -0.0024      0.000     -5.506      0.000      -0.003      -0.002\n",
      "BREED         -0.0033      0.000     -7.816      0.000      -0.004      -0.003\n",
      "WT            -0.0001   5.94e-06    -22.117      0.000      -0.000      -0.000\n",
      "HEADN          0.0108      0.002      7.113      0.000       0.008       0.014\n",
      "FRAME          0.0031      0.001      5.000      0.000       0.002       0.004\n",
      "FLESH      -8.493e-05      0.001     -0.106      0.916      -0.002       0.001\n",
      "VAC           -0.0030      0.001     -2.448      0.014      -0.005      -0.001\n",
      "SEX           -0.0241      0.001    -25.925      0.000      -0.026      -0.022\n",
      "==============================================================================\n",
      "Omnibus:                     1626.981   Durbin-Watson:                   0.068\n",
      "Prob(Omnibus):                  0.000   Jarque-Bera (JB):             1979.671\n",
      "Skew:                           0.682   Prob(JB):                         0.00\n",
      "Kurtosis:                       3.362   Cond. No.                     7.19e+05\n",
      "==============================================================================\n",
      "\n",
      "Warnings:\n",
      "[1] Standard Errors assume that the covariance matrix of the errors is correctly specified.\n",
      "[2] The condition number is large, 7.19e+05. This might indicate that there are\n",
      "strong multicollinearity or other numerical problems.\n"
     ]
    }
   ],
   "source": [
    "model = ols('PRICEN~SYEAR+SAREA+BREED+WT+HEADN+FRAME+FLESH+VAC+SEX', FEEDER).fit()\n",
    "print(model.summary()) "
   ]
  },
  {
   "cell_type": "markdown",
   "metadata": {},
   "source": [
    "#### Remove flesh, not a siginificant varible."
   ]
  },
  {
   "cell_type": "code",
   "execution_count": 990,
   "metadata": {
    "scrolled": false
   },
   "outputs": [
    {
     "name": "stdout",
     "output_type": "stream",
     "text": [
      "                            OLS Regression Results                            \n",
      "==============================================================================\n",
      "Dep. Variable:                 PRICEN   R-squared:                       0.802\n",
      "Model:                            OLS   Adj. R-squared:                  0.802\n",
      "Method:                 Least Squares   F-statistic:                 1.209e+04\n",
      "Date:                Mon, 05 Aug 2019   Prob (F-statistic):               0.00\n",
      "Time:                        17:39:10   Log-Likelihood:                 31588.\n",
      "No. Observations:               23862   AIC:                        -6.316e+04\n",
      "Df Residuals:                   23853   BIC:                        -6.309e+04\n",
      "Df Model:                           8                                         \n",
      "Covariance Type:            nonrobust                                         \n",
      "==============================================================================\n",
      "                 coef    std err          t      P>|t|      [0.025      0.975]\n",
      "------------------------------------------------------------------------------\n",
      "Intercept    -36.3169      0.138   -262.657      0.000     -36.588     -36.046\n",
      "SYEAR          0.0192   6.93e-05    276.783      0.000       0.019       0.019\n",
      "SAREA         -0.0024      0.000     -5.507      0.000      -0.003      -0.002\n",
      "BREED         -0.0033      0.000     -7.817      0.000      -0.004      -0.003\n",
      "WT            -0.0001   5.84e-06    -22.533      0.000      -0.000      -0.000\n",
      "HEADN          0.0108      0.002      7.122      0.000       0.008       0.014\n",
      "FRAME          0.0031      0.001      5.000      0.000       0.002       0.004\n",
      "VAC           -0.0030      0.001     -2.458      0.014      -0.005      -0.001\n",
      "SEX           -0.0241      0.001    -26.003      0.000      -0.026      -0.022\n",
      "==============================================================================\n",
      "Omnibus:                     1626.958   Durbin-Watson:                   0.068\n",
      "Prob(Omnibus):                  0.000   Jarque-Bera (JB):             1979.635\n",
      "Skew:                           0.682   Prob(JB):                         0.00\n",
      "Kurtosis:                       3.362   Cond. No.                     7.14e+05\n",
      "==============================================================================\n",
      "\n",
      "Warnings:\n",
      "[1] Standard Errors assume that the covariance matrix of the errors is correctly specified.\n",
      "[2] The condition number is large, 7.14e+05. This might indicate that there are\n",
      "strong multicollinearity or other numerical problems.\n"
     ]
    }
   ],
   "source": [
    "model = ols('PRICEN~SYEAR+SAREA+BREED+WT+HEADN+FRAME+VAC+SEX', FEEDER).fit()\n",
    "print(model.summary()) "
   ]
  },
  {
   "cell_type": "code",
   "execution_count": 991,
   "metadata": {},
   "outputs": [
    {
     "data": {
      "image/png": "[encoded data removed]",
      "text/plain": [
       "<Figure size 432x288 with 2 Axes>"
      ]
     },
     "metadata": {},
     "output_type": "display_data"
    }
   ],
   "source": [
    "y = FEEDER['PRICEN'] \n",
    "X = FEEDER[['SYEAR','SAREA','BREED','WT','HEADN','FRAME','VAC','SEX']]\n",
    "regre = lm.LinearRegression()\n",
    "visualizer = ResidualsPlot(regre)\n",
    "\n",
    "visualizer.fit(X, y)  # Fit the training data to the model\n",
    "#visualizer.score(X_test, y_test)  # Evaluate the model on the test data\n",
    "visualizer.poof()                 # Draw/show/poof the data\n"
   ]
  },
  {
   "cell_type": "code",
   "execution_count": 992,
   "metadata": {},
   "outputs": [
    {
     "data": {
      "image/png": "[encoded data removed]",
      "text/plain": [
       "<Figure size 432x288 with 1 Axes>"
      ]
     },
     "metadata": {},
     "output_type": "display_data"
    }
   ],
   "source": [
    "plt.subplots()\n",
    "plt.scatter(y, model1_y)\n",
    "plt.plot([y.min(), y.max()], [y.min(), y.max()], 'k--', lw=4)   #dotted line represents perfect prediction (actual = predicted)\n",
    "plt.xlabel('Actual')\n",
    "plt.ylabel('Predicted')\n",
    "plt.show()"
   ]
  },
  {
   "cell_type": "markdown",
   "metadata": {},
   "source": [
    "## Model Evaluation and Refinement"
   ]
  },
  {
   "cell_type": "code",
   "execution_count": 993,
   "metadata": {},
   "outputs": [],
   "source": [
    "runs_reg_model1 = ols(\"PRICE~Y_1996+Y_1997+Y_1998+Y_1999+Y_2000+Y_2001+Y_2002+Y_2003+Y_2004+Y_2005+Y_2010+Y_2011+Y_2012+Y_2013+Y_2014+Y_2015+Y_2016+Y_2017+Y_2018+HEAD+WT+SEX_1+SEX_2+SAREA_1+SAREA_2+SAREA_3+SAREA_5+BREED_1+BREED_3+BREED_4+FRAME_3+FRAME_4+FRAME_5+FLESH_2+FLESH_3+FLESH_4+FLESH_5+VAC_0+VAC_1\", FEEDER)\n",
    "runs_reg1 = runs_reg_model1.fit()"
   ]
  },
  {
   "cell_type": "code",
   "execution_count": 994,
   "metadata": {},
   "outputs": [
    {
     "name": "stdout",
     "output_type": "stream",
     "text": [
      "                            OLS Regression Results                            \n",
      "==============================================================================\n",
      "Dep. Variable:                  PRICE   R-squared:                       0.975\n",
      "Model:                            OLS   Adj. R-squared:                  0.975\n",
      "Method:                 Least Squares   F-statistic:                 2.935e+04\n",
      "Date:                Mon, 05 Aug 2019   Prob (F-statistic):               0.00\n",
      "Time:                        17:39:12   Log-Likelihood:                -77916.\n",
      "No. Observations:               23862   AIC:                         1.559e+05\n",
      "Df Residuals:                   23829   BIC:                         1.562e+05\n",
      "Df Model:                          32                                         \n",
      "Covariance Type:            nonrobust                                         \n",
      "==============================================================================\n",
      "                 coef    std err          t      P>|t|      [0.025      0.975]\n",
      "------------------------------------------------------------------------------\n",
      "Intercept     46.5508      0.147    315.613      0.000      46.262      46.840\n",
      "Y_1996       -53.0626      0.215   -247.280      0.000     -53.483     -52.642\n",
      "Y_1997       -34.7569      0.186   -187.311      0.000     -35.121     -34.393\n",
      "Y_1998       -48.0771      0.206   -233.212      0.000     -48.481     -47.673\n",
      "Y_1999       -38.2056      0.164   -233.334      0.000     -38.527     -37.885\n",
      "Y_2000       -29.3542      0.163   -180.509      0.000     -29.673     -29.035\n",
      "Y_2001       -25.3523      0.191   -132.439      0.000     -25.728     -24.977\n",
      "Y_2002       -37.4491      0.185   -201.993      0.000     -37.812     -37.086\n",
      "Y_2003       -23.0693      0.171   -134.616      0.000     -23.405     -22.733\n",
      "Y_2004        -4.1385      0.149    -27.868      0.000      -4.430      -3.847\n",
      "Y_2005        -5.4768      0.166    -33.023      0.000      -5.802      -5.152\n",
      "Y_2010        -5.0461      0.150    -33.601      0.000      -5.340      -4.752\n",
      "Y_2011        14.9924      0.153     98.043      0.000      14.693      15.292\n",
      "Y_2012        25.2131      0.181    139.666      0.000      24.859      25.567\n",
      "Y_2013        30.9939      0.157    197.154      0.000      30.686      31.302\n",
      "Y_2014        97.3137      0.178    545.880      0.000      96.964      97.663\n",
      "Y_2015        94.9581      0.196    485.357      0.000      94.575      95.342\n",
      "Y_2016        23.7576      0.209    113.910      0.000      23.349      24.166\n",
      "Y_2017        30.1495      0.209    144.046      0.000      29.739      30.560\n",
      "Y_2018        33.1611      0.194    171.065      0.000      32.781      33.541\n",
      "HEAD           0.0054      0.000     14.757      0.000       0.005       0.006\n",
      "WT            -0.0474      0.001    -77.652      0.000      -0.049      -0.046\n",
      "SEX_1         26.7739      0.100    268.609      0.000      26.579      26.969\n",
      "SEX_2         19.7769      0.072    275.387      0.000      19.636      19.918\n",
      "SAREA_1       11.3005      0.102    110.754      0.000      11.100      11.500\n",
      "SAREA_2       14.4049      0.103    139.873      0.000      14.203      14.607\n",
      "SAREA_3       11.9067      0.072    164.743      0.000      11.765      12.048\n",
      "SAREA_5        8.9388      0.113     79.090      0.000       8.717       9.160\n",
      "BREED_1       17.1815      0.095    180.286      0.000      16.995      17.368\n",
      "BREED_3       15.7447      0.077    205.448      0.000      15.594      15.895\n",
      "BREED_4       13.6246      0.079    173.090      0.000      13.470      13.779\n",
      "FRAME_3       15.2903      0.074    206.485      0.000      15.145      15.435\n",
      "FRAME_4       15.7184      0.077    204.085      0.000      15.567      15.869\n",
      "FRAME_5       15.5422      0.095    163.119      0.000      15.355      15.729\n",
      "FLESH_2       11.5629      0.163     70.920      0.000      11.243      11.883\n",
      "FLESH_3       12.1502      0.138     88.020      0.000      11.880      12.421\n",
      "FLESH_4       12.4563      0.094    132.669      0.000      12.272      12.640\n",
      "FLESH_5       10.3815      0.166     62.466      0.000      10.056      10.707\n",
      "VAC_0         23.3175      0.096    243.210      0.000      23.130      23.505\n",
      "VAC_1         23.2334      0.094    246.473      0.000      23.049      23.418\n",
      "==============================================================================\n",
      "Omnibus:                     3231.402   Durbin-Watson:                   0.566\n",
      "Prob(Omnibus):                  0.000   Jarque-Bera (JB):            32925.280\n",
      "Skew:                          -0.295   Prob(JB):                         0.00\n",
      "Kurtosis:                       8.724   Cond. No.                     7.28e+16\n",
      "==============================================================================\n",
      "\n",
      "Warnings:\n",
      "[1] Standard Errors assume that the covariance matrix of the errors is correctly specified.\n",
      "[2] The smallest eigenvalue is 2.86e-24. This might indicate that there are\n",
      "strong multicollinearity problems or that the design matrix is singular.\n"
     ]
    }
   ],
   "source": [
    "print runs_reg1.summary()"
   ]
  },
  {
   "cell_type": "code",
   "execution_count": 995,
   "metadata": {},
   "outputs": [],
   "source": [
    "runs_reg_model1 = ols(\"PRICE~Y_1996+Y_1997+Y_1998+Y_1999+Y_2000+Y_2001+Y_2002+Y_2003+Y_2004+Y_2005+Y_2010+Y_2011+Y_2012+Y_2013+Y_2014+Y_2015+Y_2016+Y_2017+Y_2018+HEADN+WT+SEX_1+SEX_2+SAREA_1+SAREA_2+SAREA_3+SAREA_5+BREED_1+BREED_3+BREED_4+FRAME_3+FRAME_4+FRAME_5+FLESH_2+FLESH_3+FLESH_4+FLESH_5+VAC_0+VAC_1\", FEEDER)\n",
    "runs_reg1 = runs_reg_model1.fit()"
   ]
  },
  {
   "cell_type": "code",
   "execution_count": 996,
   "metadata": {},
   "outputs": [
    {
     "name": "stdout",
     "output_type": "stream",
     "text": [
      "                            OLS Regression Results                            \n",
      "==============================================================================\n",
      "Dep. Variable:                  PRICE   R-squared:                       0.975\n",
      "Model:                            OLS   Adj. R-squared:                  0.975\n",
      "Method:                 Least Squares   F-statistic:                 2.963e+04\n",
      "Date:                Mon, 05 Aug 2019   Prob (F-statistic):               0.00\n",
      "Time:                        17:39:12   Log-Likelihood:                -77807.\n",
      "No. Observations:               23862   AIC:                         1.557e+05\n",
      "Df Residuals:                   23829   BIC:                         1.559e+05\n",
      "Df Model:                          32                                         \n",
      "Covariance Type:            nonrobust                                         \n",
      "==============================================================================\n",
      "                 coef    std err          t      P>|t|      [0.025      0.975]\n",
      "------------------------------------------------------------------------------\n",
      "Intercept     44.8272      0.170    263.374      0.000      44.494      45.161\n",
      "Y_1996       -53.2037      0.214   -248.922      0.000     -53.623     -52.785\n",
      "Y_1997       -34.8968      0.185   -188.746      0.000     -35.259     -34.534\n",
      "Y_1998       -48.2432      0.205   -234.838      0.000     -48.646     -47.841\n",
      "Y_1999       -38.3519      0.163   -234.969      0.000     -38.672     -38.032\n",
      "Y_2000       -29.4911      0.162   -182.016      0.000     -29.809     -29.174\n",
      "Y_2001       -25.5112      0.191   -133.701      0.000     -25.885     -25.137\n",
      "Y_2002       -37.5808      0.185   -203.534      0.000     -37.943     -37.219\n",
      "Y_2003       -23.2082      0.171   -135.917      0.000     -23.543     -22.874\n",
      "Y_2004        -4.2978      0.148    -29.036      0.000      -4.588      -4.008\n",
      "Y_2005        -5.5917      0.165    -33.846      0.000      -5.916      -5.268\n",
      "Y_2010        -5.1066      0.150    -34.149      0.000      -5.400      -4.813\n",
      "Y_2011        14.9637      0.152     98.302      0.000      14.665      15.262\n",
      "Y_2012        25.1761      0.180    140.099      0.000      24.824      25.528\n",
      "Y_2013        30.9637      0.156    197.926      0.000      30.657      31.270\n",
      "Y_2014        97.3334      0.177    548.526      0.000      96.986      97.681\n",
      "Y_2015        94.8938      0.195    487.184      0.000      94.512      95.276\n",
      "Y_2016        23.7168      0.208    114.236      0.000      23.310      24.124\n",
      "Y_2017        30.0982      0.208    144.436      0.000      29.690      30.507\n",
      "Y_2018        33.1647      0.193    171.864      0.000      32.786      33.543\n",
      "HEADN          3.1577      0.151     20.912      0.000       2.862       3.454\n",
      "WT            -0.0474      0.001    -78.041      0.000      -0.049      -0.046\n",
      "SEX_1         25.9009      0.109    238.078      0.000      25.688      26.114\n",
      "SEX_2         18.9263      0.083    229.063      0.000      18.764      19.088\n",
      "SAREA_1       10.9117      0.103    105.536      0.000      10.709      11.114\n",
      "SAREA_2       13.8488      0.108    128.064      0.000      13.637      14.061\n",
      "SAREA_3       11.4234      0.076    150.248      0.000      11.274      11.572\n",
      "SAREA_5        8.6434      0.112     77.364      0.000       8.424       8.862\n",
      "BREED_1       16.6212      0.098    170.105      0.000      16.430      16.813\n",
      "BREED_3       15.1669      0.082    185.881      0.000      15.007      15.327\n",
      "BREED_4       13.0391      0.085    153.660      0.000      12.873      13.205\n",
      "FRAME_3       14.7125      0.079    185.241      0.000      14.557      14.868\n",
      "FRAME_4       15.1484      0.082    184.860      0.000      14.988      15.309\n",
      "FRAME_5       14.9663      0.099    151.544      0.000      14.773      15.160\n",
      "FLESH_2       11.1008      0.164     67.689      0.000      10.779      11.422\n",
      "FLESH_3       11.6938      0.139     83.846      0.000      11.420      11.967\n",
      "FLESH_4       12.0040      0.096    124.412      0.000      11.815      12.193\n",
      "FLESH_5       10.0287      0.166     60.405      0.000       9.703      10.354\n",
      "VAC_0         22.4355      0.106    212.419      0.000      22.229      22.643\n",
      "VAC_1         22.3917      0.102    218.857      0.000      22.191      22.592\n",
      "==============================================================================\n",
      "Omnibus:                     3214.286   Durbin-Watson:                   0.563\n",
      "Prob(Omnibus):                  0.000   Jarque-Bera (JB):            33379.575\n",
      "Skew:                          -0.280   Prob(JB):                         0.00\n",
      "Kurtosis:                       8.767   Cond. No.                     7.19e+16\n",
      "==============================================================================\n",
      "\n",
      "Warnings:\n",
      "[1] Standard Errors assume that the covariance matrix of the errors is correctly specified.\n",
      "[2] The smallest eigenvalue is 2.86e-24. This might indicate that there are\n",
      "strong multicollinearity problems or that the design matrix is singular.\n"
     ]
    }
   ],
   "source": [
    "print runs_reg1.summary()"
   ]
  },
  {
   "cell_type": "markdown",
   "metadata": {},
   "source": [
    "## Final Model"
   ]
  },
  {
   "cell_type": "markdown",
   "metadata": {},
   "source": [
    "### In SAS 9.4\n",
    "data FEEDER;\n",
    "infile 'C:\\Users\\Esther\\Documents\\K-State Graduate School\\Classes\\PhD\\GENBA 894\\DATA\\FEEDER.txt' firstobs=2 dlm='09'X;\n",
    "input SYEAR LOTID SMONTH HEAD SEX WT PRICE STATE $ STATECODE SAREA BREED FRAME FLESH VAC;\n",
    "run;\n",
    "\n",
    "proc print data=FEEDER (obs=15);\n",
    "run;\n",
    "\n",
    "\n",
    "proc freq;\n",
    "tables SYEAR SAREA BREED FRAME FLESH VAC;\n",
    "QUIT;\n",
    "\n",
    "proc MEANS N MEAN STD MEDIAM MIN MAX;\n",
    "var HEAD WT PRICE;\n",
    "quit;\n",
    "\n",
    "proc mixed;\n",
    "class SYEAR SEX SAREA BREED FRAME FLESH;\n",
    "model price = SYEAR WT SEX SAREA BREED FRAME FLESH WT HEAD/solution ddfm=BETWITHIN;\n",
    "RANDOM SMONTH(SYEAR)/SOLUTION;\n",
    "lsmeans SYEAR SEX SAREA BREED FRAME FLESH/adjust=tukey;\n",
    "quit;\n",
    "\n",
    "run;"
   ]
  },
  {
   "cell_type": "markdown",
   "metadata": {},
   "source": [
    "## Model Validation"
   ]
  },
  {
   "cell_type": "code",
   "execution_count": 997,
   "metadata": {},
   "outputs": [
    {
     "data": {
      "text/html": [
       "<div>\n",
       "<style scoped>\n",
       "    .dataframe tbody tr th:only-of-type {\n",
       "        vertical-align: middle;\n",
       "    }\n",
       "\n",
       "    .dataframe tbody tr th {\n",
       "        vertical-align: top;\n",
       "    }\n",
       "\n",
       "    .dataframe thead th {\n",
       "        text-align: right;\n",
       "    }\n",
       "</style>\n",
       "<table border=\"1\" class=\"dataframe\">\n",
       "  <thead>\n",
       "    <tr style=\"text-align: right;\">\n",
       "      <th></th>\n",
       "      <th>Unnamed: 0</th>\n",
       "      <th>SYEAR</th>\n",
       "      <th>LOTID</th>\n",
       "      <th>SMONTH</th>\n",
       "      <th>HEAD</th>\n",
       "      <th>SEX</th>\n",
       "      <th>WT</th>\n",
       "      <th>PRICE</th>\n",
       "      <th>STATE</th>\n",
       "      <th>STATECODE</th>\n",
       "      <th>SAREA</th>\n",
       "      <th>BREED</th>\n",
       "      <th>FRAME</th>\n",
       "      <th>FLESH</th>\n",
       "      <th>VAC</th>\n",
       "    </tr>\n",
       "  </thead>\n",
       "  <tbody>\n",
       "    <tr>\n",
       "      <th>0</th>\n",
       "      <td>0</td>\n",
       "      <td>2010</td>\n",
       "      <td>111922</td>\n",
       "      <td>6</td>\n",
       "      <td>39</td>\n",
       "      <td>1</td>\n",
       "      <td>640</td>\n",
       "      <td>105.25</td>\n",
       "      <td>TX</td>\n",
       "      <td>26</td>\n",
       "      <td>3</td>\n",
       "      <td>4</td>\n",
       "      <td>4</td>\n",
       "      <td>4</td>\n",
       "      <td>0</td>\n",
       "    </tr>\n",
       "    <tr>\n",
       "      <th>1</th>\n",
       "      <td>1</td>\n",
       "      <td>2010</td>\n",
       "      <td>111923</td>\n",
       "      <td>6</td>\n",
       "      <td>39</td>\n",
       "      <td>2</td>\n",
       "      <td>640</td>\n",
       "      <td>98.25</td>\n",
       "      <td>TX</td>\n",
       "      <td>26</td>\n",
       "      <td>3</td>\n",
       "      <td>4</td>\n",
       "      <td>4</td>\n",
       "      <td>4</td>\n",
       "      <td>0</td>\n",
       "    </tr>\n",
       "    <tr>\n",
       "      <th>2</th>\n",
       "      <td>2</td>\n",
       "      <td>2010</td>\n",
       "      <td>111924</td>\n",
       "      <td>6</td>\n",
       "      <td>35</td>\n",
       "      <td>1</td>\n",
       "      <td>700</td>\n",
       "      <td>105.50</td>\n",
       "      <td>LA</td>\n",
       "      <td>45</td>\n",
       "      <td>5</td>\n",
       "      <td>4</td>\n",
       "      <td>3</td>\n",
       "      <td>2</td>\n",
       "      <td>0</td>\n",
       "    </tr>\n",
       "    <tr>\n",
       "      <th>3</th>\n",
       "      <td>3</td>\n",
       "      <td>2010</td>\n",
       "      <td>111925</td>\n",
       "      <td>6</td>\n",
       "      <td>35</td>\n",
       "      <td>2</td>\n",
       "      <td>700</td>\n",
       "      <td>99.50</td>\n",
       "      <td>LA</td>\n",
       "      <td>45</td>\n",
       "      <td>5</td>\n",
       "      <td>4</td>\n",
       "      <td>3</td>\n",
       "      <td>2</td>\n",
       "      <td>0</td>\n",
       "    </tr>\n",
       "    <tr>\n",
       "      <th>4</th>\n",
       "      <td>4</td>\n",
       "      <td>2010</td>\n",
       "      <td>111926</td>\n",
       "      <td>6</td>\n",
       "      <td>32</td>\n",
       "      <td>1</td>\n",
       "      <td>735</td>\n",
       "      <td>105.25</td>\n",
       "      <td>TX</td>\n",
       "      <td>26</td>\n",
       "      <td>3</td>\n",
       "      <td>4</td>\n",
       "      <td>4</td>\n",
       "      <td>4</td>\n",
       "      <td>1</td>\n",
       "    </tr>\n",
       "  </tbody>\n",
       "</table>\n",
       "</div>"
      ],
      "text/plain": [
       "   Unnamed: 0  SYEAR   LOTID  SMONTH  HEAD  SEX   WT   PRICE STATE  STATECODE  \\\n",
       "0           0   2010  111922       6    39    1  640  105.25    TX         26   \n",
       "1           1   2010  111923       6    39    2  640   98.25    TX         26   \n",
       "2           2   2010  111924       6    35    1  700  105.50    LA         45   \n",
       "3           3   2010  111925       6    35    2  700   99.50    LA         45   \n",
       "4           4   2010  111926       6    32    1  735  105.25    TX         26   \n",
       "\n",
       "   SAREA  BREED  FRAME  FLESH  VAC  \n",
       "0      3      4      4      4    0  \n",
       "1      3      4      4      4    0  \n",
       "2      5      4      3      2    0  \n",
       "3      5      4      3      2    0  \n",
       "4      3      4      4      4    1  "
      ]
     },
     "execution_count": 997,
     "metadata": {},
     "output_type": "execute_result"
    }
   ],
   "source": [
    "# import dataset\n",
    "FEEDER1=pd.read_csv(\"DATA/FEEDER1.csv\")\n",
    "FEEDER1.head()"
   ]
  },
  {
   "cell_type": "code",
   "execution_count": 998,
   "metadata": {},
   "outputs": [
    {
     "data": {
      "text/html": [
       "<div>\n",
       "<style scoped>\n",
       "    .dataframe tbody tr th:only-of-type {\n",
       "        vertical-align: middle;\n",
       "    }\n",
       "\n",
       "    .dataframe tbody tr th {\n",
       "        vertical-align: top;\n",
       "    }\n",
       "\n",
       "    .dataframe thead th {\n",
       "        text-align: right;\n",
       "    }\n",
       "</style>\n",
       "<table border=\"1\" class=\"dataframe\">\n",
       "  <thead>\n",
       "    <tr style=\"text-align: right;\">\n",
       "      <th></th>\n",
       "      <th>SYEAR</th>\n",
       "      <th>SMONTH</th>\n",
       "      <th>HEAD</th>\n",
       "      <th>SEX</th>\n",
       "      <th>WT</th>\n",
       "      <th>PRICE</th>\n",
       "      <th>SAREA</th>\n",
       "      <th>BREED</th>\n",
       "      <th>FRAME</th>\n",
       "      <th>FLESH</th>\n",
       "    </tr>\n",
       "  </thead>\n",
       "  <tbody>\n",
       "    <tr>\n",
       "      <th>0</th>\n",
       "      <td>2010</td>\n",
       "      <td>6</td>\n",
       "      <td>39</td>\n",
       "      <td>1</td>\n",
       "      <td>640</td>\n",
       "      <td>105.25</td>\n",
       "      <td>3</td>\n",
       "      <td>4</td>\n",
       "      <td>4</td>\n",
       "      <td>4</td>\n",
       "    </tr>\n",
       "    <tr>\n",
       "      <th>1</th>\n",
       "      <td>2010</td>\n",
       "      <td>6</td>\n",
       "      <td>39</td>\n",
       "      <td>2</td>\n",
       "      <td>640</td>\n",
       "      <td>98.25</td>\n",
       "      <td>3</td>\n",
       "      <td>4</td>\n",
       "      <td>4</td>\n",
       "      <td>4</td>\n",
       "    </tr>\n",
       "    <tr>\n",
       "      <th>2</th>\n",
       "      <td>2010</td>\n",
       "      <td>6</td>\n",
       "      <td>35</td>\n",
       "      <td>1</td>\n",
       "      <td>700</td>\n",
       "      <td>105.50</td>\n",
       "      <td>5</td>\n",
       "      <td>4</td>\n",
       "      <td>3</td>\n",
       "      <td>2</td>\n",
       "    </tr>\n",
       "    <tr>\n",
       "      <th>3</th>\n",
       "      <td>2010</td>\n",
       "      <td>6</td>\n",
       "      <td>35</td>\n",
       "      <td>2</td>\n",
       "      <td>700</td>\n",
       "      <td>99.50</td>\n",
       "      <td>5</td>\n",
       "      <td>4</td>\n",
       "      <td>3</td>\n",
       "      <td>2</td>\n",
       "    </tr>\n",
       "    <tr>\n",
       "      <th>4</th>\n",
       "      <td>2010</td>\n",
       "      <td>6</td>\n",
       "      <td>32</td>\n",
       "      <td>1</td>\n",
       "      <td>735</td>\n",
       "      <td>105.25</td>\n",
       "      <td>3</td>\n",
       "      <td>4</td>\n",
       "      <td>4</td>\n",
       "      <td>4</td>\n",
       "    </tr>\n",
       "  </tbody>\n",
       "</table>\n",
       "</div>"
      ],
      "text/plain": [
       "   SYEAR  SMONTH  HEAD  SEX   WT   PRICE  SAREA  BREED  FRAME  FLESH\n",
       "0   2010       6    39    1  640  105.25      3      4      4      4\n",
       "1   2010       6    39    2  640   98.25      3      4      4      4\n",
       "2   2010       6    35    1  700  105.50      5      4      3      2\n",
       "3   2010       6    35    2  700   99.50      5      4      3      2\n",
       "4   2010       6    32    1  735  105.25      3      4      4      4"
      ]
     },
     "execution_count": 998,
     "metadata": {},
     "output_type": "execute_result"
    }
   ],
   "source": [
    "#now we can drop the orgional columns we created the dummy variables for\n",
    "FEEDER1 = FEEDER1.drop(['Unnamed: 0', 'LOTID', 'STATE', 'STATECODE', 'VAC'], axis=1)\n",
    "FEEDER1.head()"
   ]
  },
  {
   "cell_type": "code",
   "execution_count": 999,
   "metadata": {},
   "outputs": [],
   "source": [
    "FEEDER1 = FEEDER1.astype({\"PRICE\": int, \"WT\": int, \"HEAD\":int})"
   ]
  },
  {
   "cell_type": "code",
   "execution_count": 1000,
   "metadata": {},
   "outputs": [],
   "source": [
    "y = FEEDER1['PRICE'] \n",
    "X = FEEDER1[['SYEAR','SAREA','BREED','WT','HEAD','FRAME','SEX']]"
   ]
  },
  {
   "cell_type": "code",
   "execution_count": 1001,
   "metadata": {},
   "outputs": [
    {
     "name": "stdout",
     "output_type": "stream",
     "text": [
      "(16703, 10) (16703L,)\n",
      "(7159, 10) (7159L,)\n"
     ]
    }
   ],
   "source": [
    "# create training and testing vars\n",
    "X_train, X_test, y_train, y_test = train_test_split(FEEDER1, y, test_size=0.3)\n",
    "print X_train.shape, y_train.shape\n",
    "print X_test.shape, y_test.shape"
   ]
  },
  {
   "cell_type": "code",
   "execution_count": 1002,
   "metadata": {},
   "outputs": [],
   "source": [
    "# fit a model\n",
    "lm = linear_model.LinearRegression()\n",
    "model = lm.fit(X_train, y_train)\n",
    "predictions = lm.predict(X_test)"
   ]
  },
  {
   "cell_type": "code",
   "execution_count": 1003,
   "metadata": {},
   "outputs": [
    {
     "data": {
      "text/plain": [
       "array([139.,  74., 131., 110.,  62.])"
      ]
     },
     "execution_count": 1003,
     "metadata": {},
     "output_type": "execute_result"
    }
   ],
   "source": [
    "predictions[0:5]"
   ]
  },
  {
   "cell_type": "code",
   "execution_count": 1004,
   "metadata": {},
   "outputs": [
    {
     "data": {
      "text/plain": [
       "Text(0,0.5,'Predictions')"
      ]
     },
     "execution_count": 1004,
     "metadata": {},
     "output_type": "execute_result"
    },
    {
     "data": {
      "image/png": "[encoded data removed]",
      "text/plain": [
       "<Figure size 432x288 with 1 Axes>"
      ]
     },
     "metadata": {},
     "output_type": "display_data"
    }
   ],
   "source": [
    "## The line / model\n",
    "plt.scatter(y_test, predictions)\n",
    "plt.xlabel('True Values')\n",
    "plt.ylabel('Predictions')"
   ]
  },
  {
   "cell_type": "code",
   "execution_count": 1005,
   "metadata": {
    "scrolled": true
   },
   "outputs": [
    {
     "name": "stdout",
     "output_type": "stream",
     "text": [
      "Score: 1.0\n"
     ]
    }
   ],
   "source": [
    "print 'Score:', model.score(X_test, y_test)"
   ]
  },
  {
   "cell_type": "code",
   "execution_count": 1006,
   "metadata": {},
   "outputs": [
    {
     "name": "stdout",
     "output_type": "stream",
     "text": [
      "[0.07157218 0.07832792 0.07216072 0.07281754 0.06892231 0.08185654\n",
      " 0.0625     0.07596567 0.06358131 0.05790161]\n",
      "0.07056057981651372\n"
     ]
    }
   ],
   "source": [
    "# evaluate the decision tree model using 10-fold cross-validation\n",
    "scores = cross_val_score(dt, X, y, scoring='accuracy', cv=10)\n",
    "print scores\n",
    "print scores.mean()"
   ]
  },
  {
   "cell_type": "code",
   "execution_count": null,
   "metadata": {},
   "outputs": [],
   "source": []
  },
  {
   "cell_type": "code",
   "execution_count": 1007,
   "metadata": {},
   "outputs": [
    {
     "data": {
      "text/plain": [
       "DecisionTreeClassifier(class_weight=None, criterion='gini', max_depth=None,\n",
       "            max_features=None, max_leaf_nodes=None,\n",
       "            min_impurity_decrease=0.0, min_impurity_split=None,\n",
       "            min_samples_leaf=1, min_samples_split=2,\n",
       "            min_weight_fraction_leaf=0.0, presort=False, random_state=None,\n",
       "            splitter='best')"
      ]
     },
     "execution_count": 1007,
     "metadata": {},
     "output_type": "execute_result"
    }
   ],
   "source": [
    "# split validation\n",
    "X_train, X_test, y_train, y_test = train_test_split(X, y, test_size=0.2, random_state=0)\n",
    "\n",
    "# Initialize DecisionTreeClassifier()\n",
    "dt = DecisionTreeClassifier()\n",
    "\n",
    "# Train a decision tree model\n",
    "dt.fit(X_train, y_train)"
   ]
  },
  {
   "cell_type": "code",
   "execution_count": 1008,
   "metadata": {
    "scrolled": false
   },
   "outputs": [
    {
     "name": "stdout",
     "output_type": "stream",
     "text": [
      "0.1169076052796983\n",
      "--------------------------------------------------------\n",
      "[[0 0 0 ... 0 0 0]\n",
      " [0 0 0 ... 0 0 0]\n",
      " [0 0 0 ... 0 0 0]\n",
      " ...\n",
      " [0 0 0 ... 0 0 0]\n",
      " [0 0 0 ... 0 0 0]\n",
      " [0 0 0 ... 0 0 0]]\n",
      "--------------------------------------------------------\n",
      "             precision    recall  f1-score   support\n",
      "\n",
      "         48       0.00      0.00      0.00         1\n",
      "         49       0.00      0.00      0.00         2\n",
      "         50       0.00      0.00      0.00         2\n",
      "         51       0.00      0.00      0.00         0\n",
      "         52       0.00      0.00      0.00         4\n",
      "         53       0.00      0.00      0.00         6\n",
      "         54       0.08      0.25      0.12         4\n",
      "         55       0.25      0.40      0.31         5\n",
      "         56       0.25      0.17      0.20         6\n",
      "         57       0.23      0.16      0.19        19\n",
      "         58       0.17      0.18      0.17        17\n",
      "         59       0.23      0.21      0.22        28\n",
      "         60       0.19      0.15      0.17        33\n",
      "         61       0.16      0.25      0.20        24\n",
      "         62       0.19      0.20      0.20        30\n",
      "         63       0.23      0.26      0.25        34\n",
      "         64       0.22      0.23      0.22        22\n",
      "         65       0.12      0.12      0.12        24\n",
      "         66       0.00      0.00      0.00        18\n",
      "         67       0.06      0.04      0.05        24\n",
      "         68       0.15      0.15      0.15        27\n",
      "         69       0.20      0.12      0.15        32\n",
      "         70       0.16      0.29      0.21        24\n",
      "         71       0.18      0.19      0.18        43\n",
      "         72       0.20      0.17      0.19        58\n",
      "         73       0.29      0.25      0.27        71\n",
      "         74       0.13      0.18      0.15        65\n",
      "         75       0.15      0.17      0.16        71\n",
      "         76       0.15      0.12      0.13        81\n",
      "         77       0.13      0.16      0.14        70\n",
      "         78       0.16      0.13      0.14        78\n",
      "         79       0.13      0.14      0.13        74\n",
      "         80       0.13      0.14      0.13        81\n",
      "         81       0.15      0.14      0.14        66\n",
      "         82       0.14      0.14      0.14        69\n",
      "         83       0.18      0.18      0.18        71\n",
      "         84       0.07      0.08      0.07        66\n",
      "         85       0.11      0.09      0.10        69\n",
      "         86       0.08      0.08      0.08        72\n",
      "         87       0.19      0.17      0.18        60\n",
      "         88       0.17      0.21      0.19        58\n",
      "         89       0.19      0.18      0.18        57\n",
      "         90       0.17      0.19      0.18        36\n",
      "         91       0.04      0.03      0.03        40\n",
      "         92       0.14      0.17      0.15        30\n",
      "         93       0.07      0.10      0.08        21\n",
      "         94       0.12      0.12      0.12        25\n",
      "         95       0.04      0.04      0.04        27\n",
      "         96       0.06      0.04      0.05        27\n",
      "         97       0.16      0.19      0.18        26\n",
      "         98       0.08      0.04      0.06        23\n",
      "         99       0.06      0.04      0.05        25\n",
      "        100       0.06      0.08      0.07        38\n",
      "        101       0.05      0.03      0.04        34\n",
      "        102       0.12      0.13      0.13        54\n",
      "        103       0.12      0.12      0.12        50\n",
      "        104       0.16      0.14      0.15        66\n",
      "        105       0.14      0.10      0.12        77\n",
      "        106       0.12      0.13      0.12        63\n",
      "        107       0.17      0.18      0.18        71\n",
      "        108       0.15      0.15      0.15        78\n",
      "        109       0.11      0.10      0.11        58\n",
      "        110       0.13      0.16      0.14        57\n",
      "        111       0.16      0.19      0.17        48\n",
      "        112       0.10      0.12      0.11        43\n",
      "        113       0.10      0.09      0.09        47\n",
      "        114       0.18      0.13      0.15        46\n",
      "        115       0.10      0.11      0.10        28\n",
      "        116       0.19      0.24      0.21        34\n",
      "        117       0.12      0.08      0.10        26\n",
      "        118       0.19      0.15      0.17        27\n",
      "        119       0.05      0.04      0.04        25\n",
      "        120       0.00      0.00      0.00        18\n",
      "        121       0.06      0.25      0.10         8\n",
      "        122       0.04      0.06      0.05        18\n",
      "        123       0.03      0.04      0.03        25\n",
      "        124       0.08      0.08      0.08        24\n",
      "        125       0.12      0.10      0.11        42\n",
      "        126       0.07      0.08      0.08        37\n",
      "        127       0.00      0.00      0.00        41\n",
      "        128       0.12      0.10      0.11        40\n",
      "        129       0.13      0.16      0.15        37\n",
      "        130       0.10      0.07      0.08        54\n",
      "        131       0.06      0.05      0.06        40\n",
      "        132       0.12      0.09      0.10        56\n",
      "        133       0.13      0.14      0.14        51\n",
      "        134       0.10      0.10      0.10        48\n",
      "        135       0.08      0.11      0.09        46\n",
      "        136       0.05      0.07      0.06        44\n",
      "        137       0.10      0.09      0.09        47\n",
      "        138       0.07      0.08      0.08        48\n",
      "        139       0.04      0.05      0.05        40\n",
      "        140       0.05      0.04      0.04        50\n",
      "        141       0.06      0.05      0.05        43\n",
      "        142       0.03      0.03      0.03        39\n",
      "        143       0.03      0.03      0.03        39\n",
      "        144       0.09      0.07      0.08        60\n",
      "        145       0.15      0.15      0.15        53\n",
      "        146       0.25      0.22      0.23        55\n",
      "        147       0.04      0.05      0.05        42\n",
      "        148       0.12      0.11      0.12        35\n",
      "        149       0.13      0.19      0.15        21\n",
      "        150       0.04      0.05      0.04        19\n",
      "        151       0.00      0.00      0.00        20\n",
      "        152       0.08      0.09      0.09        23\n",
      "        153       0.07      0.12      0.09        16\n",
      "        154       0.00      0.00      0.00        18\n",
      "        155       0.08      0.07      0.07        14\n",
      "        156       0.00      0.00      0.00        10\n",
      "        157       0.13      0.18      0.15        11\n",
      "        158       0.00      0.00      0.00        10\n",
      "        159       0.00      0.00      0.00         8\n",
      "        160       0.11      0.33      0.17         3\n",
      "        161       0.00      0.00      0.00         6\n",
      "        162       0.00      0.00      0.00         3\n",
      "        163       0.00      0.00      0.00         7\n",
      "        164       0.00      0.00      0.00         4\n",
      "        165       0.00      0.00      0.00         4\n",
      "        166       0.00      0.00      0.00         3\n",
      "        167       0.00      0.00      0.00         6\n",
      "        168       0.00      0.00      0.00         2\n",
      "        170       0.00      0.00      0.00         1\n",
      "        172       0.00      0.00      0.00         0\n",
      "        173       0.00      0.00      0.00         0\n",
      "        174       0.00      0.00      0.00         0\n",
      "        175       0.00      0.00      0.00         3\n",
      "        176       0.00      0.00      0.00         2\n",
      "        177       0.00      0.00      0.00         3\n",
      "        178       0.00      0.00      0.00         1\n",
      "        179       0.00      0.00      0.00         4\n",
      "        180       0.00      0.00      0.00         5\n",
      "        181       0.00      0.00      0.00         2\n",
      "        182       0.00      0.00      0.00         1\n",
      "        183       0.00      0.00      0.00         3\n",
      "        184       0.00      0.00      0.00         1\n",
      "        185       0.00      0.00      0.00         4\n",
      "        186       0.33      0.25      0.29         4\n",
      "        187       0.00      0.00      0.00         2\n",
      "        188       0.00      0.00      0.00         1\n",
      "        189       0.00      0.00      0.00         4\n",
      "        190       0.00      0.00      0.00         5\n",
      "        191       0.11      0.50      0.18         2\n",
      "        192       0.00      0.00      0.00         6\n",
      "        193       0.00      0.00      0.00         7\n",
      "        194       0.17      0.17      0.17         6\n",
      "        195       0.00      0.00      0.00         9\n",
      "        196       0.00      0.00      0.00         6\n",
      "        197       0.18      0.33      0.24         6\n",
      "        198       0.00      0.00      0.00         2\n",
      "        199       0.00      0.00      0.00        11\n",
      "        200       0.14      0.20      0.17        10\n",
      "        201       0.50      0.14      0.22         7\n",
      "        202       0.07      0.14      0.10         7\n",
      "        203       0.00      0.00      0.00        13\n",
      "        204       0.00      0.00      0.00        13\n",
      "        205       0.06      0.08      0.07        12\n",
      "        206       0.00      0.00      0.00        19\n",
      "        207       0.14      0.12      0.13        17\n",
      "        208       0.00      0.00      0.00        19\n",
      "        209       0.00      0.00      0.00        15\n",
      "        210       0.08      0.09      0.09        23\n",
      "        211       0.09      0.06      0.07        17\n",
      "        212       0.11      0.10      0.10        20\n",
      "        213       0.22      0.15      0.18        13\n",
      "        214       0.09      0.15      0.11        13\n",
      "        215       0.07      0.06      0.06        17\n",
      "        216       0.10      0.08      0.09        12\n",
      "        217       0.06      0.11      0.08         9\n",
      "        218       0.14      0.08      0.10        13\n",
      "        219       0.00      0.00      0.00        11\n",
      "        220       0.21      0.40      0.28        10\n",
      "        221       0.29      0.17      0.21        12\n",
      "        222       0.00      0.00      0.00         6\n",
      "        223       0.00      0.00      0.00         4\n",
      "        224       0.00      0.00      0.00         6\n",
      "        225       0.33      0.14      0.20         7\n",
      "        226       0.00      0.00      0.00         4\n",
      "        227       0.00      0.00      0.00         4\n",
      "        228       0.00      0.00      0.00         2\n",
      "        229       0.00      0.00      0.00         3\n",
      "        230       0.25      0.33      0.29         3\n",
      "        231       0.00      0.00      0.00         1\n",
      "        232       0.00      0.00      0.00         3\n",
      "        233       0.50      0.67      0.57         3\n",
      "        234       0.00      0.00      0.00         2\n",
      "        235       0.00      0.00      0.00         2\n",
      "        236       0.00      0.00      0.00         3\n",
      "        237       0.00      0.00      0.00         2\n",
      "        238       0.00      0.00      0.00         2\n",
      "        239       0.00      0.00      0.00         1\n",
      "        240       0.00      0.00      0.00         0\n",
      "        241       0.00      0.00      0.00         3\n",
      "        242       0.00      0.00      0.00         2\n",
      "        243       0.00      0.00      0.00         0\n",
      "        244       0.00      0.00      0.00         1\n",
      "        247       0.00      0.00      0.00         0\n",
      "        249       0.00      0.00      0.00         0\n",
      "        250       0.00      0.00      0.00         0\n",
      "        259       0.00      0.00      0.00         1\n",
      "        262       0.00      0.00      0.00         1\n",
      "        267       0.00      0.00      0.00         0\n",
      "\n",
      "avg / total       0.12      0.12      0.12      4773\n",
      "\n",
      "--------------------------------------------------------\n"
     ]
    },
    {
     "name": "stderr",
     "output_type": "stream",
     "text": [
      "C:\\Users\\Esther\\Anaconda2\\lib\\site-packages\\sklearn\\metrics\\classification.py:1135: UndefinedMetricWarning: Precision and F-score are ill-defined and being set to 0.0 in labels with no predicted samples.\n",
      "  'precision', 'predicted', average, warn_for)\n",
      "C:\\Users\\Esther\\Anaconda2\\lib\\site-packages\\sklearn\\metrics\\classification.py:1137: UndefinedMetricWarning: Recall and F-score are ill-defined and being set to 0.0 in labels with no true samples.\n",
      "  'recall', 'true', average, warn_for)\n"
     ]
    }
   ],
   "source": [
    "#Model evaluation\n",
    "# http://scikit-learn.org/stable/modules/model_evaluation.html\n",
    "print metrics.accuracy_score(y_test, dt.predict(X_test))\n",
    "print \"--------------------------------------------------------\"\n",
    "print metrics.confusion_matrix(y_test, dt.predict(X_test)) \n",
    "print \"--------------------------------------------------------\"\n",
    "print metrics.classification_report(y_test, dt.predict(X_test))\n",
    "print \"--------------------------------------------------------\"\n",
    "#print metrics.roc_auc_score(y_test, dt.predict(X_test))\n",
    "\n",
    "# y-test is the acual y value in the testing dataset\n",
    "# dt.predict(X_test) is the predicted y value generated by your model\n",
    "# If they are same, we can say your model is accurate."
   ]
  }
 ],
 "metadata": {
  "kernelspec": {
   "display_name": "Python 2",
   "language": "python",
   "name": "python2"
  },
  "language_info": {
   "codemirror_mode": {
    "name": "ipython",
    "version": 2
   },
   "file_extension": ".py",
   "mimetype": "text/x-python",
   "name": "python",
   "nbconvert_exporter": "python",
   "pygments_lexer": "ipython2",
   "version": "2.7.15"
  }
 },
 "nbformat": 4,
 "nbformat_minor": 2
}
